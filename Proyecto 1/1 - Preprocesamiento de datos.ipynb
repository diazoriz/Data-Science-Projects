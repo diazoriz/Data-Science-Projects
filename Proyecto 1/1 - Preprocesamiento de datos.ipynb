{
 "cells": [
  {
   "cell_type": "markdown",
   "metadata": {},
   "source": [
    "# Análisis del riesgo de incumplimiento de los prestatarios\n",
    "\n",
    "Tu proyecto consiste en preparar un informe para la división de préstamos de un banco. Deberás averiguar si el estado civil y el número de hijos de un cliente tienen un impacto en el incumplimiento de pago de un préstamo. El banco ya tiene algunos datos sobre la solvencia crediticia de los clientes.\n",
    "\n",
    "Tu informe se tendrá en cuenta al crear una **puntuación de crédito** para un cliente potencial. La **puntuación de crédito** se utiliza para evaluar la capacidad de un prestatario potencial para pagar su préstamo."
   ]
  },
  {
   "cell_type": "markdown",
   "metadata": {},
   "source": [
    "## Abre el archivo de datos y mira la información general. "
   ]
  },
  {
   "cell_type": "code",
   "execution_count": 1,
   "metadata": {
    "scrolled": true
   },
   "outputs": [],
   "source": [
    "# Cargar todas las librerías\n",
    "import pandas as pd\n",
    "# Carga los datos\n",
    "data_bank = pd.read_csv('/datasets/credit_scoring_eng.csv')"
   ]
  },
  {
   "cell_type": "markdown",
   "metadata": {},
   "source": [
    "## Ejercicio 1. Exploración de datos\n",
    "\n",
    "**Descripción de los datos**\n",
    "- `children` - el número de hijos en la familia\n",
    "- `days_employed` - experiencia laboral en días\n",
    "- `dob_years` - la edad del cliente en años\n",
    "- `education` - la educación del cliente\n",
    "- `education_id` - identificador de educación\n",
    "- `family_status` - estado civil\n",
    "- `family_status_id` - identificador de estado civil\n",
    "- `gender` - género del cliente\n",
    "- `income_type` - tipo de empleo\n",
    "- `debt` - ¿había alguna deuda en el pago de un préstamo?\n",
    "- `total_income` - ingreso mensual\n",
    "- `purpose` - el propósito de obtener un préstamo\n",
    "\n",
    "[Ahora vamos a explorar nuestros datos. Querrás ver cuántas columnas y filas hay, observa algunas filas para identificar posibles problemas con los datos.]"
   ]
  },
  {
   "cell_type": "code",
   "execution_count": 98,
   "metadata": {},
   "outputs": [
    {
     "data": {
      "text/plain": [
       "(21525, 12)"
      ]
     },
     "execution_count": 98,
     "metadata": {},
     "output_type": "execute_result"
    }
   ],
   "source": [
    "# Vamos a ver cuántas filas y columnas tiene nuestro conjunto de datos\n",
    "data_bank.shape"
   ]
  },
  {
   "cell_type": "code",
   "execution_count": 99,
   "metadata": {
    "scrolled": true
   },
   "outputs": [
    {
     "data": {
      "text/html": [
       "<div>\n",
       "<style scoped>\n",
       "    .dataframe tbody tr th:only-of-type {\n",
       "        vertical-align: middle;\n",
       "    }\n",
       "\n",
       "    .dataframe tbody tr th {\n",
       "        vertical-align: top;\n",
       "    }\n",
       "\n",
       "    .dataframe thead th {\n",
       "        text-align: right;\n",
       "    }\n",
       "</style>\n",
       "<table border=\"1\" class=\"dataframe\">\n",
       "  <thead>\n",
       "    <tr style=\"text-align: right;\">\n",
       "      <th></th>\n",
       "      <th>children</th>\n",
       "      <th>days_employed</th>\n",
       "      <th>dob_years</th>\n",
       "      <th>education</th>\n",
       "      <th>education_id</th>\n",
       "      <th>family_status</th>\n",
       "      <th>family_status_id</th>\n",
       "      <th>gender</th>\n",
       "      <th>income_type</th>\n",
       "      <th>debt</th>\n",
       "      <th>total_income</th>\n",
       "      <th>purpose</th>\n",
       "    </tr>\n",
       "  </thead>\n",
       "  <tbody>\n",
       "    <tr>\n",
       "      <th>0</th>\n",
       "      <td>1</td>\n",
       "      <td>-8437.673028</td>\n",
       "      <td>42</td>\n",
       "      <td>bachelor's degree</td>\n",
       "      <td>0</td>\n",
       "      <td>married</td>\n",
       "      <td>0</td>\n",
       "      <td>F</td>\n",
       "      <td>employee</td>\n",
       "      <td>0</td>\n",
       "      <td>40620.102</td>\n",
       "      <td>purchase of the house</td>\n",
       "    </tr>\n",
       "    <tr>\n",
       "      <th>1</th>\n",
       "      <td>1</td>\n",
       "      <td>-4024.803754</td>\n",
       "      <td>36</td>\n",
       "      <td>secondary education</td>\n",
       "      <td>1</td>\n",
       "      <td>married</td>\n",
       "      <td>0</td>\n",
       "      <td>F</td>\n",
       "      <td>employee</td>\n",
       "      <td>0</td>\n",
       "      <td>17932.802</td>\n",
       "      <td>car purchase</td>\n",
       "    </tr>\n",
       "    <tr>\n",
       "      <th>2</th>\n",
       "      <td>0</td>\n",
       "      <td>-5623.422610</td>\n",
       "      <td>33</td>\n",
       "      <td>Secondary Education</td>\n",
       "      <td>1</td>\n",
       "      <td>married</td>\n",
       "      <td>0</td>\n",
       "      <td>M</td>\n",
       "      <td>employee</td>\n",
       "      <td>0</td>\n",
       "      <td>23341.752</td>\n",
       "      <td>purchase of the house</td>\n",
       "    </tr>\n",
       "    <tr>\n",
       "      <th>3</th>\n",
       "      <td>3</td>\n",
       "      <td>-4124.747207</td>\n",
       "      <td>32</td>\n",
       "      <td>secondary education</td>\n",
       "      <td>1</td>\n",
       "      <td>married</td>\n",
       "      <td>0</td>\n",
       "      <td>M</td>\n",
       "      <td>employee</td>\n",
       "      <td>0</td>\n",
       "      <td>42820.568</td>\n",
       "      <td>supplementary education</td>\n",
       "    </tr>\n",
       "    <tr>\n",
       "      <th>4</th>\n",
       "      <td>0</td>\n",
       "      <td>340266.072047</td>\n",
       "      <td>53</td>\n",
       "      <td>secondary education</td>\n",
       "      <td>1</td>\n",
       "      <td>civil partnership</td>\n",
       "      <td>1</td>\n",
       "      <td>F</td>\n",
       "      <td>retiree</td>\n",
       "      <td>0</td>\n",
       "      <td>25378.572</td>\n",
       "      <td>to have a wedding</td>\n",
       "    </tr>\n",
       "    <tr>\n",
       "      <th>5</th>\n",
       "      <td>0</td>\n",
       "      <td>-926.185831</td>\n",
       "      <td>27</td>\n",
       "      <td>bachelor's degree</td>\n",
       "      <td>0</td>\n",
       "      <td>civil partnership</td>\n",
       "      <td>1</td>\n",
       "      <td>M</td>\n",
       "      <td>business</td>\n",
       "      <td>0</td>\n",
       "      <td>40922.170</td>\n",
       "      <td>purchase of the house</td>\n",
       "    </tr>\n",
       "    <tr>\n",
       "      <th>6</th>\n",
       "      <td>0</td>\n",
       "      <td>-2879.202052</td>\n",
       "      <td>43</td>\n",
       "      <td>bachelor's degree</td>\n",
       "      <td>0</td>\n",
       "      <td>married</td>\n",
       "      <td>0</td>\n",
       "      <td>F</td>\n",
       "      <td>business</td>\n",
       "      <td>0</td>\n",
       "      <td>38484.156</td>\n",
       "      <td>housing transactions</td>\n",
       "    </tr>\n",
       "    <tr>\n",
       "      <th>7</th>\n",
       "      <td>0</td>\n",
       "      <td>-152.779569</td>\n",
       "      <td>50</td>\n",
       "      <td>SECONDARY EDUCATION</td>\n",
       "      <td>1</td>\n",
       "      <td>married</td>\n",
       "      <td>0</td>\n",
       "      <td>M</td>\n",
       "      <td>employee</td>\n",
       "      <td>0</td>\n",
       "      <td>21731.829</td>\n",
       "      <td>education</td>\n",
       "    </tr>\n",
       "    <tr>\n",
       "      <th>8</th>\n",
       "      <td>2</td>\n",
       "      <td>-6929.865299</td>\n",
       "      <td>35</td>\n",
       "      <td>BACHELOR'S DEGREE</td>\n",
       "      <td>0</td>\n",
       "      <td>civil partnership</td>\n",
       "      <td>1</td>\n",
       "      <td>F</td>\n",
       "      <td>employee</td>\n",
       "      <td>0</td>\n",
       "      <td>15337.093</td>\n",
       "      <td>having a wedding</td>\n",
       "    </tr>\n",
       "    <tr>\n",
       "      <th>9</th>\n",
       "      <td>0</td>\n",
       "      <td>-2188.756445</td>\n",
       "      <td>41</td>\n",
       "      <td>secondary education</td>\n",
       "      <td>1</td>\n",
       "      <td>married</td>\n",
       "      <td>0</td>\n",
       "      <td>M</td>\n",
       "      <td>employee</td>\n",
       "      <td>0</td>\n",
       "      <td>23108.150</td>\n",
       "      <td>purchase of the house for my family</td>\n",
       "    </tr>\n",
       "    <tr>\n",
       "      <th>10</th>\n",
       "      <td>2</td>\n",
       "      <td>-4171.483647</td>\n",
       "      <td>36</td>\n",
       "      <td>bachelor's degree</td>\n",
       "      <td>0</td>\n",
       "      <td>married</td>\n",
       "      <td>0</td>\n",
       "      <td>M</td>\n",
       "      <td>business</td>\n",
       "      <td>0</td>\n",
       "      <td>18230.959</td>\n",
       "      <td>buy real estate</td>\n",
       "    </tr>\n",
       "    <tr>\n",
       "      <th>11</th>\n",
       "      <td>0</td>\n",
       "      <td>-792.701887</td>\n",
       "      <td>40</td>\n",
       "      <td>secondary education</td>\n",
       "      <td>1</td>\n",
       "      <td>married</td>\n",
       "      <td>0</td>\n",
       "      <td>F</td>\n",
       "      <td>employee</td>\n",
       "      <td>0</td>\n",
       "      <td>12331.077</td>\n",
       "      <td>buy commercial real estate</td>\n",
       "    </tr>\n",
       "    <tr>\n",
       "      <th>12</th>\n",
       "      <td>0</td>\n",
       "      <td>NaN</td>\n",
       "      <td>65</td>\n",
       "      <td>secondary education</td>\n",
       "      <td>1</td>\n",
       "      <td>civil partnership</td>\n",
       "      <td>1</td>\n",
       "      <td>M</td>\n",
       "      <td>retiree</td>\n",
       "      <td>0</td>\n",
       "      <td>NaN</td>\n",
       "      <td>to have a wedding</td>\n",
       "    </tr>\n",
       "    <tr>\n",
       "      <th>13</th>\n",
       "      <td>0</td>\n",
       "      <td>-1846.641941</td>\n",
       "      <td>54</td>\n",
       "      <td>some college</td>\n",
       "      <td>2</td>\n",
       "      <td>married</td>\n",
       "      <td>0</td>\n",
       "      <td>F</td>\n",
       "      <td>employee</td>\n",
       "      <td>0</td>\n",
       "      <td>20873.317</td>\n",
       "      <td>car purchase</td>\n",
       "    </tr>\n",
       "    <tr>\n",
       "      <th>14</th>\n",
       "      <td>0</td>\n",
       "      <td>-1844.956182</td>\n",
       "      <td>56</td>\n",
       "      <td>bachelor's degree</td>\n",
       "      <td>0</td>\n",
       "      <td>civil partnership</td>\n",
       "      <td>1</td>\n",
       "      <td>F</td>\n",
       "      <td>business</td>\n",
       "      <td>1</td>\n",
       "      <td>26420.466</td>\n",
       "      <td>buy residential real estate</td>\n",
       "    </tr>\n",
       "  </tbody>\n",
       "</table>\n",
       "</div>"
      ],
      "text/plain": [
       "    children  days_employed  dob_years            education  education_id  \\\n",
       "0          1   -8437.673028         42    bachelor's degree             0   \n",
       "1          1   -4024.803754         36  secondary education             1   \n",
       "2          0   -5623.422610         33  Secondary Education             1   \n",
       "3          3   -4124.747207         32  secondary education             1   \n",
       "4          0  340266.072047         53  secondary education             1   \n",
       "5          0    -926.185831         27    bachelor's degree             0   \n",
       "6          0   -2879.202052         43    bachelor's degree             0   \n",
       "7          0    -152.779569         50  SECONDARY EDUCATION             1   \n",
       "8          2   -6929.865299         35    BACHELOR'S DEGREE             0   \n",
       "9          0   -2188.756445         41  secondary education             1   \n",
       "10         2   -4171.483647         36    bachelor's degree             0   \n",
       "11         0    -792.701887         40  secondary education             1   \n",
       "12         0            NaN         65  secondary education             1   \n",
       "13         0   -1846.641941         54         some college             2   \n",
       "14         0   -1844.956182         56    bachelor's degree             0   \n",
       "\n",
       "        family_status  family_status_id gender income_type  debt  \\\n",
       "0             married                 0      F    employee     0   \n",
       "1             married                 0      F    employee     0   \n",
       "2             married                 0      M    employee     0   \n",
       "3             married                 0      M    employee     0   \n",
       "4   civil partnership                 1      F     retiree     0   \n",
       "5   civil partnership                 1      M    business     0   \n",
       "6             married                 0      F    business     0   \n",
       "7             married                 0      M    employee     0   \n",
       "8   civil partnership                 1      F    employee     0   \n",
       "9             married                 0      M    employee     0   \n",
       "10            married                 0      M    business     0   \n",
       "11            married                 0      F    employee     0   \n",
       "12  civil partnership                 1      M     retiree     0   \n",
       "13            married                 0      F    employee     0   \n",
       "14  civil partnership                 1      F    business     1   \n",
       "\n",
       "    total_income                              purpose  \n",
       "0      40620.102                purchase of the house  \n",
       "1      17932.802                         car purchase  \n",
       "2      23341.752                purchase of the house  \n",
       "3      42820.568              supplementary education  \n",
       "4      25378.572                    to have a wedding  \n",
       "5      40922.170                purchase of the house  \n",
       "6      38484.156                 housing transactions  \n",
       "7      21731.829                            education  \n",
       "8      15337.093                     having a wedding  \n",
       "9      23108.150  purchase of the house for my family  \n",
       "10     18230.959                      buy real estate  \n",
       "11     12331.077           buy commercial real estate  \n",
       "12           NaN                    to have a wedding  \n",
       "13     20873.317                         car purchase  \n",
       "14     26420.466          buy residential real estate  "
      ]
     },
     "execution_count": 99,
     "metadata": {},
     "output_type": "execute_result"
    }
   ],
   "source": [
    "# vamos a mostrar las primeras filas N\n",
    "data_bank.head(15)"
   ]
  },
  {
   "cell_type": "markdown",
   "metadata": {},
   "source": [
    "Existen números negativos en cuanto a la cantidad de días trabajados, puede que haya existido errores tipográficos al momento de ingresar los datos a nuestra base de datos, además de que se encuentran en formato \"float\" cuando deberían estar en formato \"int\". También se puede apreciar que en la columna \"education\" existen datos ingresados con mayúsculas y minúsculas."
   ]
  },
  {
   "cell_type": "code",
   "execution_count": 100,
   "metadata": {
    "scrolled": false
   },
   "outputs": [
    {
     "name": "stdout",
     "output_type": "stream",
     "text": [
      "<class 'pandas.core.frame.DataFrame'>\n",
      "RangeIndex: 21525 entries, 0 to 21524\n",
      "Data columns (total 12 columns):\n",
      " #   Column            Non-Null Count  Dtype  \n",
      "---  ------            --------------  -----  \n",
      " 0   children          21525 non-null  int64  \n",
      " 1   days_employed     19351 non-null  float64\n",
      " 2   dob_years         21525 non-null  int64  \n",
      " 3   education         21525 non-null  object \n",
      " 4   education_id      21525 non-null  int64  \n",
      " 5   family_status     21525 non-null  object \n",
      " 6   family_status_id  21525 non-null  int64  \n",
      " 7   gender            21525 non-null  object \n",
      " 8   income_type       21525 non-null  object \n",
      " 9   debt              21525 non-null  int64  \n",
      " 10  total_income      19351 non-null  float64\n",
      " 11  purpose           21525 non-null  object \n",
      "dtypes: float64(2), int64(5), object(5)\n",
      "memory usage: 2.0+ MB\n"
     ]
    }
   ],
   "source": [
    "# Obtener información sobre los datos\n",
    "data_bank.info()"
   ]
  },
  {
   "cell_type": "markdown",
   "metadata": {},
   "source": [
    "Podemos apreciar que existen valores austentes en las columnas de \"days_employed\" y \"total_income\"."
   ]
  },
  {
   "cell_type": "code",
   "execution_count": 101,
   "metadata": {
    "scrolled": false
   },
   "outputs": [
    {
     "data": {
      "text/plain": [
       "children               0\n",
       "days_employed       2174\n",
       "dob_years              0\n",
       "education              0\n",
       "education_id           0\n",
       "family_status          0\n",
       "family_status_id       0\n",
       "gender                 0\n",
       "income_type            0\n",
       "debt                   0\n",
       "total_income        2174\n",
       "purpose                0\n",
       "dtype: int64"
      ]
     },
     "execution_count": 101,
     "metadata": {},
     "output_type": "execute_result"
    }
   ],
   "source": [
    "# Veamos la tabla filtrada con valores ausentes de la primera columna donde faltan datos\n",
    "data_bank.isna().sum()"
   ]
  },
  {
   "cell_type": "markdown",
   "metadata": {},
   "source": [
    "En la tabla filtrada podemos observar que hay valores ausentes en las columnas \"days_employed\" y \"total_income\". Además podemos apreciar que en ambas columnas el número de datos faltantes es de 2174. Dicho esto, podemos concluir que los valores ausentes en ambas columnas son simétricos. Sin embargo, para estar completamente seguros de esto debemos investigar un poco más. Necesitamos realizar exploraciones adicionales para contar todos los valores ausentes presentados en las filas con el fin de poder confirmarlos. Realizando esta tarea podremos determinar si es que existe algún tipo de patrón o razones las cuales confirmen el por qué la falta de datos y la manera la cual debemos manejarlos."
   ]
  },
  {
   "cell_type": "code",
   "execution_count": 102,
   "metadata": {},
   "outputs": [
    {
     "name": "stdout",
     "output_type": "stream",
     "text": [
      "Número de filas con valores ausentes en 'days_employed': 2174\n",
      "Número de filas con valores ausentes en 'total_income': 2174\n"
     ]
    },
    {
     "data": {
      "text/html": [
       "<div>\n",
       "<style scoped>\n",
       "    .dataframe tbody tr th:only-of-type {\n",
       "        vertical-align: middle;\n",
       "    }\n",
       "\n",
       "    .dataframe tbody tr th {\n",
       "        vertical-align: top;\n",
       "    }\n",
       "\n",
       "    .dataframe thead th {\n",
       "        text-align: right;\n",
       "    }\n",
       "</style>\n",
       "<table border=\"1\" class=\"dataframe\">\n",
       "  <thead>\n",
       "    <tr style=\"text-align: right;\">\n",
       "      <th></th>\n",
       "      <th>children</th>\n",
       "      <th>days_employed</th>\n",
       "      <th>dob_years</th>\n",
       "      <th>education</th>\n",
       "      <th>education_id</th>\n",
       "      <th>family_status</th>\n",
       "      <th>family_status_id</th>\n",
       "      <th>gender</th>\n",
       "      <th>income_type</th>\n",
       "      <th>debt</th>\n",
       "      <th>total_income</th>\n",
       "      <th>purpose</th>\n",
       "    </tr>\n",
       "  </thead>\n",
       "  <tbody>\n",
       "    <tr>\n",
       "      <th>12</th>\n",
       "      <td>0</td>\n",
       "      <td>NaN</td>\n",
       "      <td>65</td>\n",
       "      <td>secondary education</td>\n",
       "      <td>1</td>\n",
       "      <td>civil partnership</td>\n",
       "      <td>1</td>\n",
       "      <td>M</td>\n",
       "      <td>retiree</td>\n",
       "      <td>0</td>\n",
       "      <td>NaN</td>\n",
       "      <td>to have a wedding</td>\n",
       "    </tr>\n",
       "    <tr>\n",
       "      <th>26</th>\n",
       "      <td>0</td>\n",
       "      <td>NaN</td>\n",
       "      <td>41</td>\n",
       "      <td>secondary education</td>\n",
       "      <td>1</td>\n",
       "      <td>married</td>\n",
       "      <td>0</td>\n",
       "      <td>M</td>\n",
       "      <td>civil servant</td>\n",
       "      <td>0</td>\n",
       "      <td>NaN</td>\n",
       "      <td>education</td>\n",
       "    </tr>\n",
       "    <tr>\n",
       "      <th>29</th>\n",
       "      <td>0</td>\n",
       "      <td>NaN</td>\n",
       "      <td>63</td>\n",
       "      <td>secondary education</td>\n",
       "      <td>1</td>\n",
       "      <td>unmarried</td>\n",
       "      <td>4</td>\n",
       "      <td>F</td>\n",
       "      <td>retiree</td>\n",
       "      <td>0</td>\n",
       "      <td>NaN</td>\n",
       "      <td>building a real estate</td>\n",
       "    </tr>\n",
       "    <tr>\n",
       "      <th>41</th>\n",
       "      <td>0</td>\n",
       "      <td>NaN</td>\n",
       "      <td>50</td>\n",
       "      <td>secondary education</td>\n",
       "      <td>1</td>\n",
       "      <td>married</td>\n",
       "      <td>0</td>\n",
       "      <td>F</td>\n",
       "      <td>civil servant</td>\n",
       "      <td>0</td>\n",
       "      <td>NaN</td>\n",
       "      <td>second-hand car purchase</td>\n",
       "    </tr>\n",
       "    <tr>\n",
       "      <th>55</th>\n",
       "      <td>0</td>\n",
       "      <td>NaN</td>\n",
       "      <td>54</td>\n",
       "      <td>secondary education</td>\n",
       "      <td>1</td>\n",
       "      <td>civil partnership</td>\n",
       "      <td>1</td>\n",
       "      <td>F</td>\n",
       "      <td>retiree</td>\n",
       "      <td>1</td>\n",
       "      <td>NaN</td>\n",
       "      <td>to have a wedding</td>\n",
       "    </tr>\n",
       "    <tr>\n",
       "      <th>65</th>\n",
       "      <td>0</td>\n",
       "      <td>NaN</td>\n",
       "      <td>21</td>\n",
       "      <td>secondary education</td>\n",
       "      <td>1</td>\n",
       "      <td>unmarried</td>\n",
       "      <td>4</td>\n",
       "      <td>M</td>\n",
       "      <td>business</td>\n",
       "      <td>0</td>\n",
       "      <td>NaN</td>\n",
       "      <td>transactions with commercial real estate</td>\n",
       "    </tr>\n",
       "    <tr>\n",
       "      <th>67</th>\n",
       "      <td>0</td>\n",
       "      <td>NaN</td>\n",
       "      <td>52</td>\n",
       "      <td>bachelor's degree</td>\n",
       "      <td>0</td>\n",
       "      <td>married</td>\n",
       "      <td>0</td>\n",
       "      <td>F</td>\n",
       "      <td>retiree</td>\n",
       "      <td>0</td>\n",
       "      <td>NaN</td>\n",
       "      <td>purchase of the house for my family</td>\n",
       "    </tr>\n",
       "    <tr>\n",
       "      <th>72</th>\n",
       "      <td>1</td>\n",
       "      <td>NaN</td>\n",
       "      <td>32</td>\n",
       "      <td>bachelor's degree</td>\n",
       "      <td>0</td>\n",
       "      <td>married</td>\n",
       "      <td>0</td>\n",
       "      <td>M</td>\n",
       "      <td>civil servant</td>\n",
       "      <td>0</td>\n",
       "      <td>NaN</td>\n",
       "      <td>transactions with commercial real estate</td>\n",
       "    </tr>\n",
       "    <tr>\n",
       "      <th>82</th>\n",
       "      <td>2</td>\n",
       "      <td>NaN</td>\n",
       "      <td>50</td>\n",
       "      <td>bachelor's degree</td>\n",
       "      <td>0</td>\n",
       "      <td>married</td>\n",
       "      <td>0</td>\n",
       "      <td>F</td>\n",
       "      <td>employee</td>\n",
       "      <td>0</td>\n",
       "      <td>NaN</td>\n",
       "      <td>housing</td>\n",
       "    </tr>\n",
       "    <tr>\n",
       "      <th>83</th>\n",
       "      <td>0</td>\n",
       "      <td>NaN</td>\n",
       "      <td>52</td>\n",
       "      <td>secondary education</td>\n",
       "      <td>1</td>\n",
       "      <td>married</td>\n",
       "      <td>0</td>\n",
       "      <td>M</td>\n",
       "      <td>employee</td>\n",
       "      <td>0</td>\n",
       "      <td>NaN</td>\n",
       "      <td>housing</td>\n",
       "    </tr>\n",
       "  </tbody>\n",
       "</table>\n",
       "</div>"
      ],
      "text/plain": [
       "    children  days_employed  dob_years            education  education_id  \\\n",
       "12         0            NaN         65  secondary education             1   \n",
       "26         0            NaN         41  secondary education             1   \n",
       "29         0            NaN         63  secondary education             1   \n",
       "41         0            NaN         50  secondary education             1   \n",
       "55         0            NaN         54  secondary education             1   \n",
       "65         0            NaN         21  secondary education             1   \n",
       "67         0            NaN         52    bachelor's degree             0   \n",
       "72         1            NaN         32    bachelor's degree             0   \n",
       "82         2            NaN         50    bachelor's degree             0   \n",
       "83         0            NaN         52  secondary education             1   \n",
       "\n",
       "        family_status  family_status_id gender    income_type  debt  \\\n",
       "12  civil partnership                 1      M        retiree     0   \n",
       "26            married                 0      M  civil servant     0   \n",
       "29          unmarried                 4      F        retiree     0   \n",
       "41            married                 0      F  civil servant     0   \n",
       "55  civil partnership                 1      F        retiree     1   \n",
       "65          unmarried                 4      M       business     0   \n",
       "67            married                 0      F        retiree     0   \n",
       "72            married                 0      M  civil servant     0   \n",
       "82            married                 0      F       employee     0   \n",
       "83            married                 0      M       employee     0   \n",
       "\n",
       "    total_income                                   purpose  \n",
       "12           NaN                         to have a wedding  \n",
       "26           NaN                                 education  \n",
       "29           NaN                    building a real estate  \n",
       "41           NaN                  second-hand car purchase  \n",
       "55           NaN                         to have a wedding  \n",
       "65           NaN  transactions with commercial real estate  \n",
       "67           NaN       purchase of the house for my family  \n",
       "72           NaN  transactions with commercial real estate  \n",
       "82           NaN                                   housing  \n",
       "83           NaN                                   housing  "
      ]
     },
     "execution_count": 102,
     "metadata": {},
     "output_type": "execute_result"
    }
   ],
   "source": [
    "# Apliquemos múltiples condiciones para filtrar datos y veamos el número de filas en la tabla filtrada.\n",
    "filtered_days_employed = data_bank[data_bank['days_employed'].isna()]\n",
    "filtered_total_income = data_bank[data_bank['total_income'].isna()]\n",
    "print(\"Número de filas con valores ausentes en 'days_employed':\", len(filtered_days_employed))\n",
    "print(\"Número de filas con valores ausentes en 'total_income':\", len(filtered_total_income))\n",
    "filtered_total_income.head(10)\n",
    "filtered_days_employed.head(10)"
   ]
  },
  {
   "cell_type": "code",
   "execution_count": 103,
   "metadata": {},
   "outputs": [
    {
     "data": {
      "text/html": [
       "<div>\n",
       "<style scoped>\n",
       "    .dataframe tbody tr th:only-of-type {\n",
       "        vertical-align: middle;\n",
       "    }\n",
       "\n",
       "    .dataframe tbody tr th {\n",
       "        vertical-align: top;\n",
       "    }\n",
       "\n",
       "    .dataframe thead th {\n",
       "        text-align: right;\n",
       "    }\n",
       "</style>\n",
       "<table border=\"1\" class=\"dataframe\">\n",
       "  <thead>\n",
       "    <tr style=\"text-align: right;\">\n",
       "      <th></th>\n",
       "      <th>children</th>\n",
       "      <th>days_employed</th>\n",
       "      <th>dob_years</th>\n",
       "      <th>education</th>\n",
       "      <th>education_id</th>\n",
       "      <th>family_status</th>\n",
       "      <th>family_status_id</th>\n",
       "      <th>gender</th>\n",
       "      <th>income_type</th>\n",
       "      <th>debt</th>\n",
       "      <th>total_income</th>\n",
       "      <th>purpose</th>\n",
       "    </tr>\n",
       "  </thead>\n",
       "  <tbody>\n",
       "    <tr>\n",
       "      <th>12</th>\n",
       "      <td>0</td>\n",
       "      <td>NaN</td>\n",
       "      <td>65</td>\n",
       "      <td>secondary education</td>\n",
       "      <td>1</td>\n",
       "      <td>civil partnership</td>\n",
       "      <td>1</td>\n",
       "      <td>M</td>\n",
       "      <td>retiree</td>\n",
       "      <td>0</td>\n",
       "      <td>NaN</td>\n",
       "      <td>to have a wedding</td>\n",
       "    </tr>\n",
       "    <tr>\n",
       "      <th>26</th>\n",
       "      <td>0</td>\n",
       "      <td>NaN</td>\n",
       "      <td>41</td>\n",
       "      <td>secondary education</td>\n",
       "      <td>1</td>\n",
       "      <td>married</td>\n",
       "      <td>0</td>\n",
       "      <td>M</td>\n",
       "      <td>civil servant</td>\n",
       "      <td>0</td>\n",
       "      <td>NaN</td>\n",
       "      <td>education</td>\n",
       "    </tr>\n",
       "    <tr>\n",
       "      <th>29</th>\n",
       "      <td>0</td>\n",
       "      <td>NaN</td>\n",
       "      <td>63</td>\n",
       "      <td>secondary education</td>\n",
       "      <td>1</td>\n",
       "      <td>unmarried</td>\n",
       "      <td>4</td>\n",
       "      <td>F</td>\n",
       "      <td>retiree</td>\n",
       "      <td>0</td>\n",
       "      <td>NaN</td>\n",
       "      <td>building a real estate</td>\n",
       "    </tr>\n",
       "    <tr>\n",
       "      <th>41</th>\n",
       "      <td>0</td>\n",
       "      <td>NaN</td>\n",
       "      <td>50</td>\n",
       "      <td>secondary education</td>\n",
       "      <td>1</td>\n",
       "      <td>married</td>\n",
       "      <td>0</td>\n",
       "      <td>F</td>\n",
       "      <td>civil servant</td>\n",
       "      <td>0</td>\n",
       "      <td>NaN</td>\n",
       "      <td>second-hand car purchase</td>\n",
       "    </tr>\n",
       "    <tr>\n",
       "      <th>55</th>\n",
       "      <td>0</td>\n",
       "      <td>NaN</td>\n",
       "      <td>54</td>\n",
       "      <td>secondary education</td>\n",
       "      <td>1</td>\n",
       "      <td>civil partnership</td>\n",
       "      <td>1</td>\n",
       "      <td>F</td>\n",
       "      <td>retiree</td>\n",
       "      <td>1</td>\n",
       "      <td>NaN</td>\n",
       "      <td>to have a wedding</td>\n",
       "    </tr>\n",
       "  </tbody>\n",
       "</table>\n",
       "</div>"
      ],
      "text/plain": [
       "    children  days_employed  dob_years            education  education_id  \\\n",
       "12         0            NaN         65  secondary education             1   \n",
       "26         0            NaN         41  secondary education             1   \n",
       "29         0            NaN         63  secondary education             1   \n",
       "41         0            NaN         50  secondary education             1   \n",
       "55         0            NaN         54  secondary education             1   \n",
       "\n",
       "        family_status  family_status_id gender    income_type  debt  \\\n",
       "12  civil partnership                 1      M        retiree     0   \n",
       "26            married                 0      M  civil servant     0   \n",
       "29          unmarried                 4      F        retiree     0   \n",
       "41            married                 0      F  civil servant     0   \n",
       "55  civil partnership                 1      F        retiree     1   \n",
       "\n",
       "    total_income                   purpose  \n",
       "12           NaN         to have a wedding  \n",
       "26           NaN                 education  \n",
       "29           NaN    building a real estate  \n",
       "41           NaN  second-hand car purchase  \n",
       "55           NaN         to have a wedding  "
      ]
     },
     "execution_count": 103,
     "metadata": {},
     "output_type": "execute_result"
    }
   ],
   "source": [
    "# Vamos a investigar a los clientes que no tienen datos sobre la característica identificada y la columna con los valores ausentes\n",
    "\n",
    "missing_total_income = data_bank.loc[data_bank['total_income'].isna()]\n",
    "missing_days_employed = data_bank.loc[data_bank['days_employed'].isna()]\n",
    "\n",
    "missing_total_income.head()\n",
    "missing_days_employed.head()"
   ]
  },
  {
   "cell_type": "code",
   "execution_count": 8,
   "metadata": {},
   "outputs": [
    {
     "data": {
      "text/html": [
       "<div>\n",
       "<style scoped>\n",
       "    .dataframe tbody tr th:only-of-type {\n",
       "        vertical-align: middle;\n",
       "    }\n",
       "\n",
       "    .dataframe tbody tr th {\n",
       "        vertical-align: top;\n",
       "    }\n",
       "\n",
       "    .dataframe thead th {\n",
       "        text-align: right;\n",
       "    }\n",
       "</style>\n",
       "<table border=\"1\" class=\"dataframe\">\n",
       "  <thead>\n",
       "    <tr style=\"text-align: right;\">\n",
       "      <th></th>\n",
       "      <th>days_employed</th>\n",
       "      <th>total_income</th>\n",
       "    </tr>\n",
       "  </thead>\n",
       "  <tbody>\n",
       "    <tr>\n",
       "      <th>count</th>\n",
       "      <td>19351.000000</td>\n",
       "      <td>19351.000000</td>\n",
       "    </tr>\n",
       "    <tr>\n",
       "      <th>mean</th>\n",
       "      <td>63046.497661</td>\n",
       "      <td>26787.568355</td>\n",
       "    </tr>\n",
       "    <tr>\n",
       "      <th>std</th>\n",
       "      <td>140827.311974</td>\n",
       "      <td>16475.450632</td>\n",
       "    </tr>\n",
       "    <tr>\n",
       "      <th>min</th>\n",
       "      <td>-18388.949901</td>\n",
       "      <td>3306.762000</td>\n",
       "    </tr>\n",
       "    <tr>\n",
       "      <th>25%</th>\n",
       "      <td>-2747.423625</td>\n",
       "      <td>16488.504500</td>\n",
       "    </tr>\n",
       "    <tr>\n",
       "      <th>50%</th>\n",
       "      <td>-1203.369529</td>\n",
       "      <td>23202.870000</td>\n",
       "    </tr>\n",
       "    <tr>\n",
       "      <th>75%</th>\n",
       "      <td>-291.095954</td>\n",
       "      <td>32549.611000</td>\n",
       "    </tr>\n",
       "    <tr>\n",
       "      <th>max</th>\n",
       "      <td>401755.400475</td>\n",
       "      <td>362496.645000</td>\n",
       "    </tr>\n",
       "  </tbody>\n",
       "</table>\n",
       "</div>"
      ],
      "text/plain": [
       "       days_employed   total_income\n",
       "count   19351.000000   19351.000000\n",
       "mean    63046.497661   26787.568355\n",
       "std    140827.311974   16475.450632\n",
       "min    -18388.949901    3306.762000\n",
       "25%     -2747.423625   16488.504500\n",
       "50%     -1203.369529   23202.870000\n",
       "75%      -291.095954   32549.611000\n",
       "max    401755.400475  362496.645000"
      ]
     },
     "execution_count": 8,
     "metadata": {},
     "output_type": "execute_result"
    }
   ],
   "source": [
    "# Comprobación de la distribución\n",
    "data_bank[['days_employed', 'total_income']].describe()"
   ]
  },
  {
   "cell_type": "markdown",
   "metadata": {},
   "source": [
    "**Posibles razones por las que hay valores ausentes en los datos**\n",
    "\n",
    "Una de las posibilidades a las cuales podríamos asignar que existan valores ausentes en las tablas de \"days_employed\" y \"total_income\" es que algunos clientes hayan tenido trabajos informales, lo que podría relacionar los valores nulos en ambas columnas, sin embargo, es muy pronto para poder hacer esa declaración a falta de información.\n",
    "\n",
    "No podemos definir si existe o no un patrón muy claro el cual declaremos que existe una relación entre ambas columnas sobre los valores ausentes."
   ]
  },
  {
   "cell_type": "code",
   "execution_count": 14,
   "metadata": {
    "scrolled": true
   },
   "outputs": [
    {
     "name": "stdout",
     "output_type": "stream",
     "text": [
      "Distribución de variables categóricas en missing_total_income:\n",
      "Education:\n",
      "secondary education    1408\n",
      "bachelor's degree       496\n",
      "SECONDARY EDUCATION      67\n",
      "Secondary Education      65\n",
      "some college             55\n",
      "Bachelor's Degree        25\n",
      "BACHELOR'S DEGREE        23\n",
      "primary education        19\n",
      "Some College              7\n",
      "SOME COLLEGE              7\n",
      "PRIMARY EDUCATION         1\n",
      "Primary Education         1\n",
      "Name: education, dtype: int64\n",
      "\n",
      "Family Status:\n",
      "married              1237\n",
      "civil partnership     442\n",
      "unmarried             288\n",
      "divorced              112\n",
      "widow / widower        95\n",
      "Name: family_status, dtype: int64\n",
      "\n",
      "Distribución de variables categóricas en missing_days_employed:\n",
      "Education:\n",
      "secondary education    1408\n",
      "bachelor's degree       496\n",
      "SECONDARY EDUCATION      67\n",
      "Secondary Education      65\n",
      "some college             55\n",
      "Bachelor's Degree        25\n",
      "BACHELOR'S DEGREE        23\n",
      "primary education        19\n",
      "Some College              7\n",
      "SOME COLLEGE              7\n",
      "PRIMARY EDUCATION         1\n",
      "Primary Education         1\n",
      "Name: education, dtype: int64\n",
      "\n",
      "Family Status:\n",
      "married              1237\n",
      "civil partnership     442\n",
      "unmarried             288\n",
      "divorced              112\n",
      "widow / widower        95\n",
      "Name: family_status, dtype: int64\n"
     ]
    }
   ],
   "source": [
    "# Comprobando la distribución en el conjunto de datos entero\n",
    "missing_total_income = data_bank[data_bank['total_income'].isnull()]\n",
    "income_education_distribution = missing_total_income['education'].value_counts()\n",
    "income_family_status_distribution = missing_total_income['family_status'].value_counts()\n",
    "missing_days_employed = data_bank[data_bank['days_employed'].isnull()]\n",
    "employed_education_distribution = missing_days_employed['education'].value_counts()\n",
    "employed_family_status_distribution = missing_days_employed['family_status'].value_counts()\n",
    "\n",
    "print(\"Distribución de variables categóricas en missing_total_income:\")\n",
    "print(\"Education:\")\n",
    "print(income_education_distribution)\n",
    "print()\n",
    "print(\"Family Status:\")\n",
    "print(income_family_status_distribution)\n",
    "print()\n",
    "print(\"Distribución de variables categóricas en missing_days_employed:\")\n",
    "print(\"Education:\")\n",
    "print(employed_education_distribution)\n",
    "print()\n",
    "print(\"Family Status:\")\n",
    "print(employed_family_status_distribution)"
   ]
  },
  {
   "cell_type": "markdown",
   "metadata": {},
   "source": [
    "## Transformación de datos"
   ]
  },
  {
   "cell_type": "code",
   "execution_count": 106,
   "metadata": {},
   "outputs": [
    {
     "name": "stdout",
     "output_type": "stream",
     "text": [
      "[\"bachelor's degree\" 'secondary education' 'Secondary Education'\n",
      " 'SECONDARY EDUCATION' \"BACHELOR'S DEGREE\" 'some college'\n",
      " 'primary education' \"Bachelor's Degree\" 'SOME COLLEGE' 'Some College'\n",
      " 'PRIMARY EDUCATION' 'Primary Education' 'Graduate Degree'\n",
      " 'GRADUATE DEGREE' 'graduate degree']\n"
     ]
    }
   ],
   "source": [
    "# Veamos todos los valores en la columna de educación para verificar si será necesario corregir la ortografía y qué habrá que corregir exactamente\n",
    "unique_education = data_bank['education'].unique()\n",
    "print(unique_education)"
   ]
  },
  {
   "cell_type": "code",
   "execution_count": 107,
   "metadata": {
    "scrolled": true
   },
   "outputs": [],
   "source": [
    "# Arregla los registros si es necesario\n",
    "data_bank['education'] = data_bank['education'].str.lower()"
   ]
  },
  {
   "cell_type": "code",
   "execution_count": 108,
   "metadata": {},
   "outputs": [
    {
     "name": "stdout",
     "output_type": "stream",
     "text": [
      "[\"bachelor's degree\" 'secondary education' 'some college'\n",
      " 'primary education' 'graduate degree']\n"
     ]
    }
   ],
   "source": [
    "# Comprobar todos los valores en la columna para asegurarnos de que los hayamos corregido\n",
    "unique_education = data_bank['education'].unique()\n",
    "print(unique_education)"
   ]
  },
  {
   "cell_type": "code",
   "execution_count": 109,
   "metadata": {},
   "outputs": [
    {
     "name": "stdout",
     "output_type": "stream",
     "text": [
      " 0     14149\n",
      " 1      4818\n",
      " 2      2055\n",
      " 3       330\n",
      " 20       76\n",
      "-1        47\n",
      " 4        41\n",
      " 5         9\n",
      "Name: children, dtype: int64\n"
     ]
    }
   ],
   "source": [
    "# Veamos la distribución de los valores en la columna `children`\n",
    "children_counts = data_bank['children'].value_counts()\n",
    "print(children_counts)"
   ]
  },
  {
   "cell_type": "markdown",
   "metadata": {},
   "source": [
    "El porcentaje de datos problemáticos es del 0,5%, estos errores puede que hayan ocurrido al momento de ingresar los datos, por ejemplo por error de tipeo. En este caso lo que haría sería reemplazar estos datos por valores que sean más acordes a lo que sería una respuesta verdadera, es imposible tener -1 hijo, lo cual deduzco que el valor original haya sido 1, además de que es casi imposible el tener 20 hijos o no es muy cómun como para el valor que está asignado en la tabla (76), por lo cual infiero que a través de un error de tipeo el valor debiese ser 2 en lugar de 20."
   ]
  },
  {
   "cell_type": "code",
   "execution_count": 110,
   "metadata": {},
   "outputs": [],
   "source": [
    "# [arregla los datos según tu decisión]\n",
    "data_bank['children'] = data_bank['children'].replace(-1, 1)\n",
    "data_bank['children'] = data_bank['children'].replace(20, 2)"
   ]
  },
  {
   "cell_type": "code",
   "execution_count": 111,
   "metadata": {},
   "outputs": [
    {
     "name": "stdout",
     "output_type": "stream",
     "text": [
      "0    14149\n",
      "1     4865\n",
      "2     2131\n",
      "3      330\n",
      "4       41\n",
      "5        9\n",
      "Name: children, dtype: int64\n"
     ]
    }
   ],
   "source": [
    "# Comprobar la columna `children` de nuevo para asegurarnos de que todo está arreglado\n",
    "children_counts = data_bank['children'].value_counts()\n",
    "print(children_counts)"
   ]
  },
  {
   "cell_type": "code",
   "execution_count": 112,
   "metadata": {},
   "outputs": [
    {
     "name": "stdout",
     "output_type": "stream",
     "text": [
      "15906\n",
      "21525\n",
      "74\n"
     ]
    }
   ],
   "source": [
    "# Encuentra datos problemáticos en `days_employed`, si existen, y calcula el porcentaje\n",
    "negative_days_employed = data_bank[data_bank['days_employed'] < 0]\n",
    "negative_days_employed_counted = len(negative_days_employed)\n",
    "print(negative_days_employed_counted)\n",
    "\n",
    "total_employes = len(data_bank)\n",
    "print(total_employes)\n",
    "\n",
    "negative_employes_porcent = (negative_days_employed_counted / total_employes) * 100\n",
    "print(round(negative_employes_porcent))"
   ]
  },
  {
   "cell_type": "code",
   "execution_count": 11,
   "metadata": {},
   "outputs": [
    {
     "name": "stdout",
     "output_type": "stream",
     "text": [
      "0         8438.0\n",
      "1         4025.0\n",
      "2         5623.0\n",
      "3         4125.0\n",
      "4        14178.0\n",
      "          ...   \n",
      "21520     4529.0\n",
      "21521    14331.0\n",
      "21522     2113.0\n",
      "21523     3112.0\n",
      "21524     1985.0\n",
      "Name: days_employed, Length: 21525, dtype: float64\n"
     ]
    }
   ],
   "source": [
    "# Aborda los valores problemáticos, si existen.\n",
    "# Existe un 74% de datos problematicos. Esto sucede debido a que contiene errores de tipeo al ingresar los numeros, ya que se encuentran actualmente en negativos y deberian ser positivos.\n",
    "# A continuacion se mostraran los resultados de la manera esperada.\n",
    "# Esto se logra utilizando la funcion de valor absoluto sobre el dataframe que se ejemplifica a continuacion:\n",
    "\n",
    "data_bank['days_employed'] = data_bank['days_employed'].abs().round()\n",
    "data_bank.loc[data_bank['days_employed'] > 36500, 'days_employed'] /= 24\n",
    "print(data_bank['days_employed'].round())"
   ]
  },
  {
   "cell_type": "code",
   "execution_count": 12,
   "metadata": {},
   "outputs": [
    {
     "name": "stdout",
     "output_type": "stream",
     "text": [
      "0     8438.0\n",
      "1     4025.0\n",
      "2     5623.0\n",
      "3     4125.0\n",
      "4    14178.0\n",
      "5      926.0\n",
      "6     2879.0\n",
      "7      153.0\n",
      "8     6930.0\n",
      "9     2189.0\n",
      "Name: days_employed, dtype: float64\n",
      "\n"
     ]
    },
    {
     "data": {
      "text/plain": [
       "count    19351.000000\n",
       "mean      4641.640484\n",
       "std       5355.963693\n",
       "min         24.000000\n",
       "25%        927.000000\n",
       "50%       2194.000000\n",
       "75%       5538.000000\n",
       "max      18389.000000\n",
       "Name: days_employed, dtype: float64"
      ]
     },
     "execution_count": 12,
     "metadata": {},
     "output_type": "execute_result"
    }
   ],
   "source": [
    "# Comprueba el resultado - asegúrate de que esté arreglado\n",
    "#print(data_bank['days_employed'].abs().round().head(10))\n",
    "#print()\n",
    "#data_bank['days_employed'].describe()\n",
    "\n",
    "print(data_bank['days_employed'].round().head(10))\n",
    "print()\n",
    "data_bank['days_employed'].describe()"
   ]
  },
  {
   "cell_type": "code",
   "execution_count": 115,
   "metadata": {
    "scrolled": true
   },
   "outputs": [
    {
     "name": "stdout",
     "output_type": "stream",
     "text": [
      "Cantidad de valores sospechosos en 'dob_years': 101\n",
      "Porcentaje de valores sospechosos en 'dob_years': 0.4692218350754936 %\n"
     ]
    }
   ],
   "source": [
    "# Revisa `dob_years` en busca de valores sospechosos y cuenta el porcentaje\n",
    "\n",
    "suspicious_age_count = data_bank[(data_bank['dob_years'] < 18) | (data_bank['dob_years'] > 100)]['dob_years'].count()\n",
    "total_rows = data_bank.shape[0]\n",
    "percentage_suspicious = (suspicious_age_count / total_rows) * 100\n",
    "print(\"Cantidad de valores sospechosos en 'dob_years':\", suspicious_age_count)\n",
    "print(\"Porcentaje de valores sospechosos en 'dob_years':\", percentage_suspicious, \"%\")"
   ]
  },
  {
   "cell_type": "markdown",
   "metadata": {},
   "source": [
    "Con respecto a los valores sospechosos en la columna 'dob_years' los reemplazaría por NaN utilizando el método replace() ya que no se pueden apreciar como edades válidas."
   ]
  },
  {
   "cell_type": "code",
   "execution_count": 116,
   "metadata": {},
   "outputs": [],
   "source": [
    "# Resuelve los problemas en la columna `dob_years`, si existen\n",
    "data_bank.loc[data_bank['dob_years'] < 0, 'dob_years'] = pd.NA"
   ]
  },
  {
   "cell_type": "code",
   "execution_count": 117,
   "metadata": {},
   "outputs": [
    {
     "name": "stdout",
     "output_type": "stream",
     "text": [
      "[42 36 33 32 53 27 43 50 35 41 40 65 54 56 26 48 24 21 57 67 28 63 62 47\n",
      " 34 68 25 31 30 20 49 37 45 61 64 44 52 46 23 38 39 51 0 59 29 60 55 58 71\n",
      " 22 73 66 69 19 72 70 74 75]\n"
     ]
    }
   ],
   "source": [
    "# Comprueba el resultado - asegúrate de que esté arreglado\n",
    "unique_ages = data_bank['dob_years'].unique()\n",
    "print(unique_ages)"
   ]
  },
  {
   "cell_type": "code",
   "execution_count": 118,
   "metadata": {},
   "outputs": [
    {
     "name": "stdout",
     "output_type": "stream",
     "text": [
      "['married' 'civil partnership' 'widow / widower' 'divorced' 'unmarried']\n"
     ]
    }
   ],
   "source": [
    "# Veamos los valores de la columna\n",
    "unique_family_status = data_bank['family_status'].unique()\n",
    "print(unique_family_status)"
   ]
  },
  {
   "cell_type": "code",
   "execution_count": 119,
   "metadata": {},
   "outputs": [],
   "source": [
    "# Aborda los valores problemáticos en `family_status`, si existen\n",
    "data_bank['family_status'] = data_bank['family_status'].replace('widow / widower', 'widow/widower')"
   ]
  },
  {
   "cell_type": "code",
   "execution_count": 120,
   "metadata": {},
   "outputs": [
    {
     "name": "stdout",
     "output_type": "stream",
     "text": [
      "['married' 'civil partnership' 'widow/widower' 'divorced' 'unmarried']\n"
     ]
    }
   ],
   "source": [
    "# Comprueba el resultado - asegúrate de que esté arreglado\n",
    "unique_family_status = data_bank['family_status'].unique()\n",
    "print(unique_family_status)"
   ]
  },
  {
   "cell_type": "code",
   "execution_count": 121,
   "metadata": {},
   "outputs": [
    {
     "name": "stdout",
     "output_type": "stream",
     "text": [
      "['F' 'M' 'XNA']\n"
     ]
    }
   ],
   "source": [
    "# Veamos los valores en la columna\n",
    "unique_genders = data_bank['gender'].unique()\n",
    "print(unique_genders)"
   ]
  },
  {
   "cell_type": "code",
   "execution_count": 122,
   "metadata": {},
   "outputs": [],
   "source": [
    "# Aborda los valores problemáticos, si existen\n",
    "data_bank['gender'] = data_bank['gender'].replace('XNA', 'Other')"
   ]
  },
  {
   "cell_type": "code",
   "execution_count": 123,
   "metadata": {},
   "outputs": [
    {
     "name": "stdout",
     "output_type": "stream",
     "text": [
      "['F' 'M' 'Other']\n"
     ]
    }
   ],
   "source": [
    "# Comprueba el resultado - asegúrate de que esté arreglado\n",
    "unique_genders = data_bank['gender'].unique()\n",
    "print(unique_genders)"
   ]
  },
  {
   "cell_type": "markdown",
   "metadata": {},
   "source": [
    "Ahora vamos a revisar la columna `income_type`. Mira qué tipo de valores hay y qué problemas puedes tener que abordar."
   ]
  },
  {
   "cell_type": "code",
   "execution_count": 9,
   "metadata": {
    "scrolled": true
   },
   "outputs": [
    {
     "name": "stdout",
     "output_type": "stream",
     "text": [
      "['employee' 'retiree' 'business' 'civil servant' 'unemployed'\n",
      " 'entrepreneur' 'student' 'paternity / maternity leave']\n",
      "\n",
      "employee                       11119\n",
      "business                        5085\n",
      "retiree                         3856\n",
      "civil servant                   1459\n",
      "entrepreneur                       2\n",
      "unemployed                         2\n",
      "student                            1\n",
      "paternity / maternity leave        1\n",
      "Name: income_type, dtype: int64\n"
     ]
    }
   ],
   "source": [
    "# Veamos los valores en la columna\n",
    "#unique_income_types = data_bank['income_type'].unique()\n",
    "#print(unique_income_types)\n",
    "#print()\n",
    "#data_bank['income_type'].value_counts()\n",
    "\n",
    "unique_income_types = data_bank['income_type'].unique()\n",
    "print(unique_income_types)\n",
    "print()\n",
    "income_type_counts = data_bank['income_type'].value_counts()\n",
    "print(income_type_counts)"
   ]
  },
  {
   "cell_type": "markdown",
   "metadata": {},
   "source": [
    "Analizando los resultados, no existen valores problemáticos."
   ]
  },
  {
   "cell_type": "code",
   "execution_count": 125,
   "metadata": {},
   "outputs": [
    {
     "name": "stdout",
     "output_type": "stream",
     "text": [
      "['employee' 'retiree' 'business' 'civil servant' 'unemployed'\n",
      " 'entrepreneur' 'student' 'paternity / maternity leave']\n"
     ]
    }
   ],
   "source": [
    "# Comprueba el resultado - asegúrate de que esté arreglado\n",
    "unique_income_types = data_bank['income_type'].unique()\n",
    "print(unique_income_types)"
   ]
  },
  {
   "cell_type": "code",
   "execution_count": 126,
   "metadata": {},
   "outputs": [
    {
     "name": "stdout",
     "output_type": "stream",
     "text": [
      "[False  True]\n",
      "\n",
      "71\n"
     ]
    }
   ],
   "source": [
    "# Comprobar los duplicados\n",
    "unique_duplicated = data_bank.duplicated().unique()\n",
    "print(unique_duplicated)\n",
    "print()\n",
    "print(data_bank.duplicated().sum())"
   ]
  },
  {
   "cell_type": "code",
   "execution_count": 128,
   "metadata": {},
   "outputs": [
    {
     "name": "stdout",
     "output_type": "stream",
     "text": [
      "0\n"
     ]
    }
   ],
   "source": [
    "# Aborda los duplicados, si existen\n",
    "data_bank.drop_duplicates(inplace=True)\n",
    "data_bank.reset_index(drop=True, inplace=True)\n",
    "print(data_bank.duplicated().sum())"
   ]
  },
  {
   "cell_type": "code",
   "execution_count": 129,
   "metadata": {},
   "outputs": [
    {
     "name": "stdout",
     "output_type": "stream",
     "text": [
      "[False]\n"
     ]
    }
   ],
   "source": [
    "# Última comprobación para ver si tenemos duplicados\n",
    "unique_duplicated = data_bank.duplicated().unique()\n",
    "print(unique_duplicated)"
   ]
  },
  {
   "cell_type": "code",
   "execution_count": 130,
   "metadata": {},
   "outputs": [
    {
     "name": "stdout",
     "output_type": "stream",
     "text": [
      "21454\n"
     ]
    }
   ],
   "source": [
    "# Comprueba el tamaño del conjunto de datos que tienes ahora, después de haber ejecutado estas primeras manipulaciones\n",
    "print(len(data_bank))"
   ]
  },
  {
   "cell_type": "markdown",
   "metadata": {},
   "source": [
    "Con los cambios que hemos realizado a través de esta sección podemos decir que tenemos una diferencia de 54 filas menos respecto a cuando comenzamos a trabajar con nuestros datos."
   ]
  },
  {
   "cell_type": "markdown",
   "metadata": {},
   "source": [
    "# Trabajar con valores ausentes"
   ]
  },
  {
   "cell_type": "code",
   "execution_count": null,
   "metadata": {},
   "outputs": [],
   "source": [
    "# Encuentra los diccionarios\n",
    "data_bank_ref_ed_dict = {}\n",
    "for index, row in data_bank_ref_ed.iterrows():\n",
    "    education = row['education'].lower()\n",
    "    education_id = row['education_id']\n",
    "    data_bank_ref_ed_dict[education] = education_id\n",
    "\n",
    "data_bank_ref_fam_dict = {}\n",
    "for index, row in data_bank_ref_fam.iterrows():\n",
    "    family_status = row['family_status'].lower()\n",
    "    family_status_id = row['family_status_id']\n",
    "    data_bank_ref_fam_dict[family_status] = family_status_id\n",
    "    \n",
    "print(data_bank_ref_ed_dict)\n",
    "print()\n",
    "print(data_bank_ref_fam_dict)"
   ]
  },
  {
   "cell_type": "markdown",
   "metadata": {},
   "source": [
    "### Restaurar valores ausentes en `total_income`"
   ]
  },
  {
   "cell_type": "code",
   "execution_count": 132,
   "metadata": {},
   "outputs": [],
   "source": [
    "# Vamos a escribir una función que calcule la categoría de edad\n",
    "def calculate_age_category(age):\n",
    "    if age < 30:\n",
    "        return 0\n",
    "    elif age < 40:\n",
    "        return 1\n",
    "    elif age < 50:\n",
    "        return 2\n",
    "    elif age < 60:\n",
    "        return 3\n",
    "    else:\n",
    "        return 4\n",
    "\n",
    "data_bank['age_category'] = data_bank['dob_years'].apply(calculate_age_category)"
   ]
  },
  {
   "cell_type": "code",
   "execution_count": 133,
   "metadata": {},
   "outputs": [
    {
     "name": "stdout",
     "output_type": "stream",
     "text": [
      "0\n",
      "1\n",
      "2\n",
      "3\n",
      "4\n"
     ]
    }
   ],
   "source": [
    "# Prueba si la función funciona bien\n",
    "print(calculate_age_category(25))\n",
    "print(calculate_age_category(35))\n",
    "print(calculate_age_category(45))\n",
    "print(calculate_age_category(55))\n",
    "print(calculate_age_category(65))"
   ]
  },
  {
   "cell_type": "code",
   "execution_count": 134,
   "metadata": {},
   "outputs": [],
   "source": [
    "# Crear una nueva columna basada en la función\n",
    "data_bank['age_category'] = data_bank['dob_years'].apply(calculate_age_category)"
   ]
  },
  {
   "cell_type": "code",
   "execution_count": 135,
   "metadata": {},
   "outputs": [
    {
     "name": "stdout",
     "output_type": "stream",
     "text": [
      "1    5662\n",
      "2    5354\n",
      "3    4657\n",
      "0    3281\n",
      "4    2500\n",
      "Name: age_category, dtype: int64\n"
     ]
    }
   ],
   "source": [
    "# Comprobar cómo los valores en la nueva columna\n",
    "age_category_counts = data_bank['age_category'].value_counts()\n",
    "print(age_category_counts)"
   ]
  },
  {
   "cell_type": "code",
   "execution_count": 136,
   "metadata": {},
   "outputs": [
    {
     "name": "stdout",
     "output_type": "stream",
     "text": [
      "   children  days_employed dob_years            education  education_id  \\\n",
      "0         1         8438.0        42    bachelor's degree             0   \n",
      "1         1         4025.0        36  secondary education             1   \n",
      "2         0         5623.0        33  secondary education             1   \n",
      "3         3         4125.0        32  secondary education             1   \n",
      "4         0       340266.0        53  secondary education             1   \n",
      "\n",
      "       family_status  family_status_id gender income_type  debt  total_income  \\\n",
      "0            married                 0      F    employee     0     40620.102   \n",
      "1            married                 0      F    employee     0     17932.802   \n",
      "2            married                 0      M    employee     0     23341.752   \n",
      "3            married                 0      M    employee     0     42820.568   \n",
      "4  civil partnership                 1      F     retiree     0     25378.572   \n",
      "\n",
      "                   purpose  age_category  \n",
      "0    purchase of the house             2  \n",
      "1             car purchase             1  \n",
      "2    purchase of the house             1  \n",
      "3  supplementary education             1  \n",
      "4        to have a wedding             3  \n"
     ]
    }
   ],
   "source": [
    "# Crea una tabla sin valores ausentes y muestra algunas de sus filas para asegurarte de que se ve bien\n",
    "data_no_missing = data_bank.dropna()\n",
    "print(data_no_missing.head())"
   ]
  },
  {
   "cell_type": "code",
   "execution_count": 137,
   "metadata": {},
   "outputs": [
    {
     "name": "stdout",
     "output_type": "stream",
     "text": [
      "26787.568354658677\n",
      "\n",
      "age_category\n",
      "0    25527.846428\n",
      "1    28312.479963\n",
      "2    28551.375635\n",
      "3    25811.700327\n",
      "4    23021.639994\n",
      "Name: total_income, dtype: float64\n"
     ]
    }
   ],
   "source": [
    "# Examina los valores medios de los ingresos en función de los factores que identificaste\n",
    "print(data_bank['total_income'].mean())\n",
    "print()\n",
    "mean_income_by_age_group = data_no_missing.groupby('age_category')['total_income'].mean()\n",
    "print(mean_income_by_age_group)"
   ]
  },
  {
   "cell_type": "code",
   "execution_count": 138,
   "metadata": {
    "scrolled": true
   },
   "outputs": [
    {
     "name": "stdout",
     "output_type": "stream",
     "text": [
      "23202.87\n",
      "\n",
      "income_type\n",
      "business                       27577.0\n",
      "civil servant                  24072.0\n",
      "employee                       22815.0\n",
      "entrepreneur                   79866.0\n",
      "paternity / maternity leave     8613.0\n",
      "retiree                        18962.0\n",
      "student                        15712.0\n",
      "unemployed                     21014.0\n",
      "Name: total_income, dtype: float64\n"
     ]
    }
   ],
   "source": [
    "# Examina los valores medianos de los ingresos en función de los factores que identificaste\n",
    "print(data_bank['total_income'].median())\n",
    "print()\n",
    "median_total_income = data_bank.groupby(by='income_type')['total_income'].median().round()\n",
    "print(median_total_income)"
   ]
  },
  {
   "cell_type": "markdown",
   "metadata": {},
   "source": [
    "Dado que los ingresos mensuales de cada persona varian mucho, es más seguro utilizar la mediana porque es más apropiado cuando hay un valor atípico significativo o cuando los datos varían significativamente."
   ]
  },
  {
   "cell_type": "code",
   "execution_count": 140,
   "metadata": {},
   "outputs": [
    {
     "name": "stdout",
     "output_type": "stream",
     "text": [
      "2103\n",
      "21454\n"
     ]
    }
   ],
   "source": [
    "# Comprueba si funciona\n",
    "print(data_bank['total_income'].isnull().sum())\n",
    "print(len(data_bank['total_income']))"
   ]
  },
  {
   "cell_type": "code",
   "execution_count": 143,
   "metadata": {},
   "outputs": [],
   "source": [
    "# Aplícalo a cada fila\n",
    "#data_bank['total_income'] = data_bank['total_income'].fillna(data_bank.groupby('age_category')['total_income'].transform('median'))\n",
    "\n",
    "data_bank['total_income'] = data_bank['total_income'].fillna(data_bank.groupby('income_type')['total_income'].transform('median'))\n",
    "data_bank['total_income'] = data_bank['total_income'].fillna(data_bank.groupby('education')['total_income'].transform('median'))"
   ]
  },
  {
   "cell_type": "code",
   "execution_count": 144,
   "metadata": {
    "scrolled": true
   },
   "outputs": [
    {
     "name": "stdout",
     "output_type": "stream",
     "text": [
      "0\n",
      "21454\n"
     ]
    }
   ],
   "source": [
    "# Comprueba si tenemos algún error\n",
    "print(data_bank['children'].isnull().sum())\n",
    "print(len(data_bank['children']))"
   ]
  },
  {
   "cell_type": "markdown",
   "metadata": {},
   "source": [
    "No se presentan errores."
   ]
  },
  {
   "cell_type": "code",
   "execution_count": 4,
   "metadata": {},
   "outputs": [
    {
     "name": "stdout",
     "output_type": "stream",
     "text": [
      "21525\n"
     ]
    }
   ],
   "source": [
    "# Comprobar el número de entradas en las columnas\n",
    "num_total_income = len(data_bank['total_income'])\n",
    "print(num_total_income)"
   ]
  },
  {
   "cell_type": "markdown",
   "metadata": {},
   "source": [
    "###  Restaurar valores en `days_employed`"
   ]
  },
  {
   "cell_type": "code",
   "execution_count": 146,
   "metadata": {
    "pycharm": {
     "name": "#%%\n"
    }
   },
   "outputs": [
    {
     "data": {
      "text/html": [
       "<div>\n",
       "<style scoped>\n",
       "    .dataframe tbody tr th:only-of-type {\n",
       "        vertical-align: middle;\n",
       "    }\n",
       "\n",
       "    .dataframe tbody tr th {\n",
       "        vertical-align: top;\n",
       "    }\n",
       "\n",
       "    .dataframe thead th {\n",
       "        text-align: right;\n",
       "    }\n",
       "</style>\n",
       "<table border=\"1\" class=\"dataframe\">\n",
       "  <thead>\n",
       "    <tr style=\"text-align: right;\">\n",
       "      <th></th>\n",
       "      <th>income_type</th>\n",
       "      <th>business</th>\n",
       "      <th>civil servant</th>\n",
       "      <th>employee</th>\n",
       "      <th>entrepreneur</th>\n",
       "      <th>paternity / maternity leave</th>\n",
       "      <th>retiree</th>\n",
       "      <th>student</th>\n",
       "      <th>unemployed</th>\n",
       "    </tr>\n",
       "    <tr>\n",
       "      <th>education</th>\n",
       "      <th>age_category</th>\n",
       "      <th></th>\n",
       "      <th></th>\n",
       "      <th></th>\n",
       "      <th></th>\n",
       "      <th></th>\n",
       "      <th></th>\n",
       "      <th></th>\n",
       "      <th></th>\n",
       "    </tr>\n",
       "  </thead>\n",
       "  <tbody>\n",
       "    <tr>\n",
       "      <th rowspan=\"5\" valign=\"top\">bachelor's degree</th>\n",
       "      <th>0</th>\n",
       "      <td>922.0</td>\n",
       "      <td>1408.0</td>\n",
       "      <td>1028.0</td>\n",
       "      <td>521.0</td>\n",
       "      <td>NaN</td>\n",
       "      <td>366068.0</td>\n",
       "      <td>579.0</td>\n",
       "      <td>NaN</td>\n",
       "    </tr>\n",
       "    <tr>\n",
       "      <th>1</th>\n",
       "      <td>1424.5</td>\n",
       "      <td>2717.0</td>\n",
       "      <td>1493.5</td>\n",
       "      <td>NaN</td>\n",
       "      <td>NaN</td>\n",
       "      <td>383832.0</td>\n",
       "      <td>NaN</td>\n",
       "      <td>NaN</td>\n",
       "    </tr>\n",
       "    <tr>\n",
       "      <th>2</th>\n",
       "      <td>1904.0</td>\n",
       "      <td>3866.5</td>\n",
       "      <td>1895.0</td>\n",
       "      <td>NaN</td>\n",
       "      <td>NaN</td>\n",
       "      <td>363926.5</td>\n",
       "      <td>NaN</td>\n",
       "      <td>395303.0</td>\n",
       "    </tr>\n",
       "    <tr>\n",
       "      <th>3</th>\n",
       "      <td>1948.5</td>\n",
       "      <td>4153.0</td>\n",
       "      <td>2599.0</td>\n",
       "      <td>NaN</td>\n",
       "      <td>NaN</td>\n",
       "      <td>365132.0</td>\n",
       "      <td>NaN</td>\n",
       "      <td>NaN</td>\n",
       "    </tr>\n",
       "    <tr>\n",
       "      <th>4</th>\n",
       "      <td>2707.0</td>\n",
       "      <td>4798.5</td>\n",
       "      <td>3059.5</td>\n",
       "      <td>NaN</td>\n",
       "      <td>NaN</td>\n",
       "      <td>366679.0</td>\n",
       "      <td>NaN</td>\n",
       "      <td>NaN</td>\n",
       "    </tr>\n",
       "    <tr>\n",
       "      <th rowspan=\"4\" valign=\"top\">graduate degree</th>\n",
       "      <th>1</th>\n",
       "      <td>NaN</td>\n",
       "      <td>5968.0</td>\n",
       "      <td>2351.0</td>\n",
       "      <td>NaN</td>\n",
       "      <td>NaN</td>\n",
       "      <td>NaN</td>\n",
       "      <td>NaN</td>\n",
       "      <td>NaN</td>\n",
       "    </tr>\n",
       "    <tr>\n",
       "      <th>2</th>\n",
       "      <td>NaN</td>\n",
       "      <td>NaN</td>\n",
       "      <td>409.0</td>\n",
       "      <td>NaN</td>\n",
       "      <td>NaN</td>\n",
       "      <td>NaN</td>\n",
       "      <td>NaN</td>\n",
       "      <td>NaN</td>\n",
       "    </tr>\n",
       "    <tr>\n",
       "      <th>3</th>\n",
       "      <td>NaN</td>\n",
       "      <td>NaN</td>\n",
       "      <td>5352.0</td>\n",
       "      <td>NaN</td>\n",
       "      <td>NaN</td>\n",
       "      <td>NaN</td>\n",
       "      <td>NaN</td>\n",
       "      <td>NaN</td>\n",
       "    </tr>\n",
       "    <tr>\n",
       "      <th>4</th>\n",
       "      <td>NaN</td>\n",
       "      <td>NaN</td>\n",
       "      <td>NaN</td>\n",
       "      <td>NaN</td>\n",
       "      <td>NaN</td>\n",
       "      <td>356930.5</td>\n",
       "      <td>NaN</td>\n",
       "      <td>NaN</td>\n",
       "    </tr>\n",
       "    <tr>\n",
       "      <th>primary education</th>\n",
       "      <th>0</th>\n",
       "      <td>1170.5</td>\n",
       "      <td>761.0</td>\n",
       "      <td>1060.0</td>\n",
       "      <td>NaN</td>\n",
       "      <td>NaN</td>\n",
       "      <td>NaN</td>\n",
       "      <td>NaN</td>\n",
       "      <td>NaN</td>\n",
       "    </tr>\n",
       "  </tbody>\n",
       "</table>\n",
       "</div>"
      ],
      "text/plain": [
       "income_type                     business  civil servant  employee  \\\n",
       "education         age_category                                      \n",
       "bachelor's degree 0                922.0         1408.0    1028.0   \n",
       "                  1               1424.5         2717.0    1493.5   \n",
       "                  2               1904.0         3866.5    1895.0   \n",
       "                  3               1948.5         4153.0    2599.0   \n",
       "                  4               2707.0         4798.5    3059.5   \n",
       "graduate degree   1                  NaN         5968.0    2351.0   \n",
       "                  2                  NaN            NaN     409.0   \n",
       "                  3                  NaN            NaN    5352.0   \n",
       "                  4                  NaN            NaN       NaN   \n",
       "primary education 0               1170.5          761.0    1060.0   \n",
       "\n",
       "income_type                     entrepreneur  paternity / maternity leave  \\\n",
       "education         age_category                                              \n",
       "bachelor's degree 0                    521.0                          NaN   \n",
       "                  1                      NaN                          NaN   \n",
       "                  2                      NaN                          NaN   \n",
       "                  3                      NaN                          NaN   \n",
       "                  4                      NaN                          NaN   \n",
       "graduate degree   1                      NaN                          NaN   \n",
       "                  2                      NaN                          NaN   \n",
       "                  3                      NaN                          NaN   \n",
       "                  4                      NaN                          NaN   \n",
       "primary education 0                      NaN                          NaN   \n",
       "\n",
       "income_type                      retiree  student  unemployed  \n",
       "education         age_category                                 \n",
       "bachelor's degree 0             366068.0    579.0         NaN  \n",
       "                  1             383832.0      NaN         NaN  \n",
       "                  2             363926.5      NaN    395303.0  \n",
       "                  3             365132.0      NaN         NaN  \n",
       "                  4             366679.0      NaN         NaN  \n",
       "graduate degree   1                  NaN      NaN         NaN  \n",
       "                  2                  NaN      NaN         NaN  \n",
       "                  3                  NaN      NaN         NaN  \n",
       "                  4             356930.5      NaN         NaN  \n",
       "primary education 0                  NaN      NaN         NaN  "
      ]
     },
     "execution_count": 146,
     "metadata": {},
     "output_type": "execute_result"
    }
   ],
   "source": [
    "# Distribución de las medianas de `days_employed` en función de los parámetros identificados\n",
    "data_fill_days = data_no_missing.groupby(['education', 'age_category', 'income_type'])['days_employed'].median().unstack('income_type')\n",
    "data_fill_days.head(10)"
   ]
  },
  {
   "cell_type": "code",
   "execution_count": 147,
   "metadata": {},
   "outputs": [
    {
     "data": {
      "text/html": [
       "<div>\n",
       "<style scoped>\n",
       "    .dataframe tbody tr th:only-of-type {\n",
       "        vertical-align: middle;\n",
       "    }\n",
       "\n",
       "    .dataframe tbody tr th {\n",
       "        vertical-align: top;\n",
       "    }\n",
       "\n",
       "    .dataframe thead th {\n",
       "        text-align: right;\n",
       "    }\n",
       "</style>\n",
       "<table border=\"1\" class=\"dataframe\">\n",
       "  <thead>\n",
       "    <tr style=\"text-align: right;\">\n",
       "      <th></th>\n",
       "      <th>children</th>\n",
       "      <th>days_employed</th>\n",
       "      <th>dob_years</th>\n",
       "      <th>education</th>\n",
       "      <th>education_id</th>\n",
       "      <th>family_status</th>\n",
       "      <th>family_status_id</th>\n",
       "      <th>gender</th>\n",
       "      <th>income_type</th>\n",
       "      <th>debt</th>\n",
       "      <th>total_income</th>\n",
       "      <th>purpose</th>\n",
       "      <th>age_category</th>\n",
       "    </tr>\n",
       "  </thead>\n",
       "  <tbody>\n",
       "    <tr>\n",
       "      <th>0</th>\n",
       "      <td>1</td>\n",
       "      <td>8438.0</td>\n",
       "      <td>42</td>\n",
       "      <td>bachelor's degree</td>\n",
       "      <td>0</td>\n",
       "      <td>married</td>\n",
       "      <td>0</td>\n",
       "      <td>F</td>\n",
       "      <td>employee</td>\n",
       "      <td>0</td>\n",
       "      <td>40620.102</td>\n",
       "      <td>purchase of the house</td>\n",
       "      <td>2</td>\n",
       "    </tr>\n",
       "    <tr>\n",
       "      <th>1</th>\n",
       "      <td>1</td>\n",
       "      <td>4025.0</td>\n",
       "      <td>36</td>\n",
       "      <td>secondary education</td>\n",
       "      <td>1</td>\n",
       "      <td>married</td>\n",
       "      <td>0</td>\n",
       "      <td>F</td>\n",
       "      <td>employee</td>\n",
       "      <td>0</td>\n",
       "      <td>17932.802</td>\n",
       "      <td>car purchase</td>\n",
       "      <td>1</td>\n",
       "    </tr>\n",
       "    <tr>\n",
       "      <th>2</th>\n",
       "      <td>0</td>\n",
       "      <td>5623.0</td>\n",
       "      <td>33</td>\n",
       "      <td>secondary education</td>\n",
       "      <td>1</td>\n",
       "      <td>married</td>\n",
       "      <td>0</td>\n",
       "      <td>M</td>\n",
       "      <td>employee</td>\n",
       "      <td>0</td>\n",
       "      <td>23341.752</td>\n",
       "      <td>purchase of the house</td>\n",
       "      <td>1</td>\n",
       "    </tr>\n",
       "    <tr>\n",
       "      <th>3</th>\n",
       "      <td>3</td>\n",
       "      <td>4125.0</td>\n",
       "      <td>32</td>\n",
       "      <td>secondary education</td>\n",
       "      <td>1</td>\n",
       "      <td>married</td>\n",
       "      <td>0</td>\n",
       "      <td>M</td>\n",
       "      <td>employee</td>\n",
       "      <td>0</td>\n",
       "      <td>42820.568</td>\n",
       "      <td>supplementary education</td>\n",
       "      <td>1</td>\n",
       "    </tr>\n",
       "    <tr>\n",
       "      <th>4</th>\n",
       "      <td>0</td>\n",
       "      <td>340266.0</td>\n",
       "      <td>53</td>\n",
       "      <td>secondary education</td>\n",
       "      <td>1</td>\n",
       "      <td>civil partnership</td>\n",
       "      <td>1</td>\n",
       "      <td>F</td>\n",
       "      <td>retiree</td>\n",
       "      <td>0</td>\n",
       "      <td>25378.572</td>\n",
       "      <td>to have a wedding</td>\n",
       "      <td>3</td>\n",
       "    </tr>\n",
       "    <tr>\n",
       "      <th>5</th>\n",
       "      <td>0</td>\n",
       "      <td>926.0</td>\n",
       "      <td>27</td>\n",
       "      <td>bachelor's degree</td>\n",
       "      <td>0</td>\n",
       "      <td>civil partnership</td>\n",
       "      <td>1</td>\n",
       "      <td>M</td>\n",
       "      <td>business</td>\n",
       "      <td>0</td>\n",
       "      <td>40922.170</td>\n",
       "      <td>purchase of the house</td>\n",
       "      <td>0</td>\n",
       "    </tr>\n",
       "    <tr>\n",
       "      <th>6</th>\n",
       "      <td>0</td>\n",
       "      <td>2879.0</td>\n",
       "      <td>43</td>\n",
       "      <td>bachelor's degree</td>\n",
       "      <td>0</td>\n",
       "      <td>married</td>\n",
       "      <td>0</td>\n",
       "      <td>F</td>\n",
       "      <td>business</td>\n",
       "      <td>0</td>\n",
       "      <td>38484.156</td>\n",
       "      <td>housing transactions</td>\n",
       "      <td>2</td>\n",
       "    </tr>\n",
       "    <tr>\n",
       "      <th>7</th>\n",
       "      <td>0</td>\n",
       "      <td>153.0</td>\n",
       "      <td>50</td>\n",
       "      <td>secondary education</td>\n",
       "      <td>1</td>\n",
       "      <td>married</td>\n",
       "      <td>0</td>\n",
       "      <td>M</td>\n",
       "      <td>employee</td>\n",
       "      <td>0</td>\n",
       "      <td>21731.829</td>\n",
       "      <td>education</td>\n",
       "      <td>3</td>\n",
       "    </tr>\n",
       "    <tr>\n",
       "      <th>8</th>\n",
       "      <td>2</td>\n",
       "      <td>6930.0</td>\n",
       "      <td>35</td>\n",
       "      <td>bachelor's degree</td>\n",
       "      <td>0</td>\n",
       "      <td>civil partnership</td>\n",
       "      <td>1</td>\n",
       "      <td>F</td>\n",
       "      <td>employee</td>\n",
       "      <td>0</td>\n",
       "      <td>15337.093</td>\n",
       "      <td>having a wedding</td>\n",
       "      <td>1</td>\n",
       "    </tr>\n",
       "    <tr>\n",
       "      <th>9</th>\n",
       "      <td>0</td>\n",
       "      <td>2189.0</td>\n",
       "      <td>41</td>\n",
       "      <td>secondary education</td>\n",
       "      <td>1</td>\n",
       "      <td>married</td>\n",
       "      <td>0</td>\n",
       "      <td>M</td>\n",
       "      <td>employee</td>\n",
       "      <td>0</td>\n",
       "      <td>23108.150</td>\n",
       "      <td>purchase of the house for my family</td>\n",
       "      <td>2</td>\n",
       "    </tr>\n",
       "  </tbody>\n",
       "</table>\n",
       "</div>"
      ],
      "text/plain": [
       "   children  days_employed dob_years            education  education_id  \\\n",
       "0         1         8438.0        42    bachelor's degree             0   \n",
       "1         1         4025.0        36  secondary education             1   \n",
       "2         0         5623.0        33  secondary education             1   \n",
       "3         3         4125.0        32  secondary education             1   \n",
       "4         0       340266.0        53  secondary education             1   \n",
       "5         0          926.0        27    bachelor's degree             0   \n",
       "6         0         2879.0        43    bachelor's degree             0   \n",
       "7         0          153.0        50  secondary education             1   \n",
       "8         2         6930.0        35    bachelor's degree             0   \n",
       "9         0         2189.0        41  secondary education             1   \n",
       "\n",
       "       family_status  family_status_id gender income_type  debt  total_income  \\\n",
       "0            married                 0      F    employee     0     40620.102   \n",
       "1            married                 0      F    employee     0     17932.802   \n",
       "2            married                 0      M    employee     0     23341.752   \n",
       "3            married                 0      M    employee     0     42820.568   \n",
       "4  civil partnership                 1      F     retiree     0     25378.572   \n",
       "5  civil partnership                 1      M    business     0     40922.170   \n",
       "6            married                 0      F    business     0     38484.156   \n",
       "7            married                 0      M    employee     0     21731.829   \n",
       "8  civil partnership                 1      F    employee     0     15337.093   \n",
       "9            married                 0      M    employee     0     23108.150   \n",
       "\n",
       "                               purpose  age_category  \n",
       "0                purchase of the house             2  \n",
       "1                         car purchase             1  \n",
       "2                purchase of the house             1  \n",
       "3              supplementary education             1  \n",
       "4                    to have a wedding             3  \n",
       "5                purchase of the house             0  \n",
       "6                 housing transactions             2  \n",
       "7                            education             3  \n",
       "8                     having a wedding             1  \n",
       "9  purchase of the house for my family             2  "
      ]
     },
     "execution_count": 147,
     "metadata": {},
     "output_type": "execute_result"
    }
   ],
   "source": [
    "# Distribución de las medias de `days_employed` en función de los parámetros identificados\n",
    "data_no_missing.groupby(['education', 'age_category', 'income_type'])['days_employed'].mean().unstack('income_type')\n",
    "data_no_missing.head(10)"
   ]
  },
  {
   "cell_type": "markdown",
   "metadata": {},
   "source": [
    "Utilizaré la medias para completar los valores ausentes, ya que no se ve afectada por los valores extremos y proporciona una medida más representativa de la tendencia central de los datos."
   ]
  },
  {
   "cell_type": "code",
   "execution_count": 148,
   "metadata": {},
   "outputs": [],
   "source": [
    "# Escribamos una función que calcule medias o medianas (dependiendo de tu decisión) según el parámetro identificado\n",
    "def fill_nan_total_income(row):\n",
    "    age = row['age_category']\n",
    "    income_type = row['income_type']\n",
    "    education = row['education']\n",
    "    try:\n",
    "        return data_fill_days[income_type][education][age]\n",
    "    except:\n",
    "        return 'error'"
   ]
  },
  {
   "cell_type": "code",
   "execution_count": 149,
   "metadata": {},
   "outputs": [
    {
     "data": {
      "text/plain": [
       "0      1895.0\n",
       "1      1573.0\n",
       "2      1573.0\n",
       "3      1573.0\n",
       "4    364295.0\n",
       "5       922.0\n",
       "6      1904.0\n",
       "7      2138.5\n",
       "8      1493.5\n",
       "9      1944.0\n",
       "dtype: float64"
      ]
     },
     "execution_count": 149,
     "metadata": {},
     "output_type": "execute_result"
    }
   ],
   "source": [
    "# Comprueba que la función funciona\n",
    "df_days_prom = data_bank.apply(fill_nan_total_income, axis=1)\n",
    "df_days_prom.head(10)"
   ]
  },
  {
   "cell_type": "code",
   "execution_count": 165,
   "metadata": {},
   "outputs": [],
   "source": [
    "# Aplicar la función al income_type\n",
    "data_bank['days_employed'] = data_bank.apply(fill_nan_total_income, axis=1)"
   ]
  },
  {
   "cell_type": "code",
   "execution_count": 150,
   "metadata": {},
   "outputs": [
    {
     "data": {
      "text/html": [
       "<div>\n",
       "<style scoped>\n",
       "    .dataframe tbody tr th:only-of-type {\n",
       "        vertical-align: middle;\n",
       "    }\n",
       "\n",
       "    .dataframe tbody tr th {\n",
       "        vertical-align: top;\n",
       "    }\n",
       "\n",
       "    .dataframe thead th {\n",
       "        text-align: right;\n",
       "    }\n",
       "</style>\n",
       "<table border=\"1\" class=\"dataframe\">\n",
       "  <thead>\n",
       "    <tr style=\"text-align: right;\">\n",
       "      <th></th>\n",
       "      <th>children</th>\n",
       "      <th>days_employed</th>\n",
       "      <th>dob_years</th>\n",
       "      <th>education</th>\n",
       "      <th>education_id</th>\n",
       "      <th>family_status</th>\n",
       "      <th>family_status_id</th>\n",
       "      <th>gender</th>\n",
       "      <th>income_type</th>\n",
       "      <th>debt</th>\n",
       "      <th>total_income</th>\n",
       "      <th>purpose</th>\n",
       "      <th>age_category</th>\n",
       "    </tr>\n",
       "  </thead>\n",
       "  <tbody>\n",
       "    <tr>\n",
       "      <th>12</th>\n",
       "      <td>0</td>\n",
       "      <td>NaN</td>\n",
       "      <td>65</td>\n",
       "      <td>secondary education</td>\n",
       "      <td>1</td>\n",
       "      <td>civil partnership</td>\n",
       "      <td>1</td>\n",
       "      <td>M</td>\n",
       "      <td>retiree</td>\n",
       "      <td>0</td>\n",
       "      <td>18962.3180</td>\n",
       "      <td>to have a wedding</td>\n",
       "      <td>4</td>\n",
       "    </tr>\n",
       "    <tr>\n",
       "      <th>26</th>\n",
       "      <td>0</td>\n",
       "      <td>NaN</td>\n",
       "      <td>41</td>\n",
       "      <td>secondary education</td>\n",
       "      <td>1</td>\n",
       "      <td>married</td>\n",
       "      <td>0</td>\n",
       "      <td>M</td>\n",
       "      <td>civil servant</td>\n",
       "      <td>0</td>\n",
       "      <td>24071.6695</td>\n",
       "      <td>education</td>\n",
       "      <td>2</td>\n",
       "    </tr>\n",
       "    <tr>\n",
       "      <th>29</th>\n",
       "      <td>0</td>\n",
       "      <td>NaN</td>\n",
       "      <td>63</td>\n",
       "      <td>secondary education</td>\n",
       "      <td>1</td>\n",
       "      <td>unmarried</td>\n",
       "      <td>4</td>\n",
       "      <td>F</td>\n",
       "      <td>retiree</td>\n",
       "      <td>0</td>\n",
       "      <td>18962.3180</td>\n",
       "      <td>building a real estate</td>\n",
       "      <td>4</td>\n",
       "    </tr>\n",
       "    <tr>\n",
       "      <th>41</th>\n",
       "      <td>0</td>\n",
       "      <td>NaN</td>\n",
       "      <td>50</td>\n",
       "      <td>secondary education</td>\n",
       "      <td>1</td>\n",
       "      <td>married</td>\n",
       "      <td>0</td>\n",
       "      <td>F</td>\n",
       "      <td>civil servant</td>\n",
       "      <td>0</td>\n",
       "      <td>24071.6695</td>\n",
       "      <td>second-hand car purchase</td>\n",
       "      <td>3</td>\n",
       "    </tr>\n",
       "    <tr>\n",
       "      <th>55</th>\n",
       "      <td>0</td>\n",
       "      <td>NaN</td>\n",
       "      <td>54</td>\n",
       "      <td>secondary education</td>\n",
       "      <td>1</td>\n",
       "      <td>civil partnership</td>\n",
       "      <td>1</td>\n",
       "      <td>F</td>\n",
       "      <td>retiree</td>\n",
       "      <td>1</td>\n",
       "      <td>18962.3180</td>\n",
       "      <td>to have a wedding</td>\n",
       "      <td>3</td>\n",
       "    </tr>\n",
       "    <tr>\n",
       "      <th>...</th>\n",
       "      <td>...</td>\n",
       "      <td>...</td>\n",
       "      <td>...</td>\n",
       "      <td>...</td>\n",
       "      <td>...</td>\n",
       "      <td>...</td>\n",
       "      <td>...</td>\n",
       "      <td>...</td>\n",
       "      <td>...</td>\n",
       "      <td>...</td>\n",
       "      <td>...</td>\n",
       "      <td>...</td>\n",
       "      <td>...</td>\n",
       "    </tr>\n",
       "    <tr>\n",
       "      <th>21418</th>\n",
       "      <td>2</td>\n",
       "      <td>NaN</td>\n",
       "      <td>47</td>\n",
       "      <td>secondary education</td>\n",
       "      <td>1</td>\n",
       "      <td>married</td>\n",
       "      <td>0</td>\n",
       "      <td>M</td>\n",
       "      <td>business</td>\n",
       "      <td>0</td>\n",
       "      <td>27577.2720</td>\n",
       "      <td>purchase of a car</td>\n",
       "      <td>2</td>\n",
       "    </tr>\n",
       "    <tr>\n",
       "      <th>21424</th>\n",
       "      <td>1</td>\n",
       "      <td>NaN</td>\n",
       "      <td>50</td>\n",
       "      <td>secondary education</td>\n",
       "      <td>1</td>\n",
       "      <td>civil partnership</td>\n",
       "      <td>1</td>\n",
       "      <td>F</td>\n",
       "      <td>employee</td>\n",
       "      <td>0</td>\n",
       "      <td>22815.1035</td>\n",
       "      <td>wedding ceremony</td>\n",
       "      <td>3</td>\n",
       "    </tr>\n",
       "    <tr>\n",
       "      <th>21426</th>\n",
       "      <td>0</td>\n",
       "      <td>NaN</td>\n",
       "      <td>48</td>\n",
       "      <td>bachelor's degree</td>\n",
       "      <td>0</td>\n",
       "      <td>married</td>\n",
       "      <td>0</td>\n",
       "      <td>F</td>\n",
       "      <td>business</td>\n",
       "      <td>0</td>\n",
       "      <td>27577.2720</td>\n",
       "      <td>building a property</td>\n",
       "      <td>2</td>\n",
       "    </tr>\n",
       "    <tr>\n",
       "      <th>21431</th>\n",
       "      <td>1</td>\n",
       "      <td>NaN</td>\n",
       "      <td>42</td>\n",
       "      <td>secondary education</td>\n",
       "      <td>1</td>\n",
       "      <td>married</td>\n",
       "      <td>0</td>\n",
       "      <td>F</td>\n",
       "      <td>employee</td>\n",
       "      <td>0</td>\n",
       "      <td>22815.1035</td>\n",
       "      <td>building a real estate</td>\n",
       "      <td>2</td>\n",
       "    </tr>\n",
       "    <tr>\n",
       "      <th>21439</th>\n",
       "      <td>2</td>\n",
       "      <td>NaN</td>\n",
       "      <td>28</td>\n",
       "      <td>secondary education</td>\n",
       "      <td>1</td>\n",
       "      <td>married</td>\n",
       "      <td>0</td>\n",
       "      <td>F</td>\n",
       "      <td>employee</td>\n",
       "      <td>0</td>\n",
       "      <td>22815.1035</td>\n",
       "      <td>car purchase</td>\n",
       "      <td>0</td>\n",
       "    </tr>\n",
       "  </tbody>\n",
       "</table>\n",
       "<p>2103 rows × 13 columns</p>\n",
       "</div>"
      ],
      "text/plain": [
       "       children  days_employed dob_years            education  education_id  \\\n",
       "12            0            NaN        65  secondary education             1   \n",
       "26            0            NaN        41  secondary education             1   \n",
       "29            0            NaN        63  secondary education             1   \n",
       "41            0            NaN        50  secondary education             1   \n",
       "55            0            NaN        54  secondary education             1   \n",
       "...         ...            ...       ...                  ...           ...   \n",
       "21418         2            NaN        47  secondary education             1   \n",
       "21424         1            NaN        50  secondary education             1   \n",
       "21426         0            NaN        48    bachelor's degree             0   \n",
       "21431         1            NaN        42  secondary education             1   \n",
       "21439         2            NaN        28  secondary education             1   \n",
       "\n",
       "           family_status  family_status_id gender    income_type  debt  \\\n",
       "12     civil partnership                 1      M        retiree     0   \n",
       "26               married                 0      M  civil servant     0   \n",
       "29             unmarried                 4      F        retiree     0   \n",
       "41               married                 0      F  civil servant     0   \n",
       "55     civil partnership                 1      F        retiree     1   \n",
       "...                  ...               ...    ...            ...   ...   \n",
       "21418            married                 0      M       business     0   \n",
       "21424  civil partnership                 1      F       employee     0   \n",
       "21426            married                 0      F       business     0   \n",
       "21431            married                 0      F       employee     0   \n",
       "21439            married                 0      F       employee     0   \n",
       "\n",
       "       total_income                   purpose  age_category  \n",
       "12       18962.3180         to have a wedding             4  \n",
       "26       24071.6695                 education             2  \n",
       "29       18962.3180    building a real estate             4  \n",
       "41       24071.6695  second-hand car purchase             3  \n",
       "55       18962.3180         to have a wedding             3  \n",
       "...             ...                       ...           ...  \n",
       "21418    27577.2720         purchase of a car             2  \n",
       "21424    22815.1035          wedding ceremony             3  \n",
       "21426    27577.2720       building a property             2  \n",
       "21431    22815.1035    building a real estate             2  \n",
       "21439    22815.1035              car purchase             0  \n",
       "\n",
       "[2103 rows x 13 columns]"
      ]
     },
     "execution_count": 150,
     "metadata": {},
     "output_type": "execute_result"
    }
   ],
   "source": [
    "# Comprueba si la función funcionó\n",
    "data_bank[data_bank['days_employed'].isnull()]"
   ]
  },
  {
   "cell_type": "code",
   "execution_count": 178,
   "metadata": {},
   "outputs": [],
   "source": [
    "# Reemplazar valores ausentes\n",
    "def prom_missing_esp_days(income_type, education, age_category):\n",
    "    data_income = data_bank.loc[data_bank['income_type'] == income_type, 'days_employed'].median()\n",
    "    data_education = data_bank.loc[data_bank['education'] == education, 'days_employed'].median()\n",
    "    data_age_category = data_bank.loc[data_bank['age_category'] == age_category, 'days_employed'].median()\n",
    "    valores = pd.Series([data_income, data_education, data_age_category]).dropna()\n",
    "    return valores.sum() / len(valores)\n",
    "\n",
    "df_fill_esp = [\n",
    "    prom_missing_esp_days('employee', 'some college', '68-75'),\n",
    "    prom_missing_esp_days('entrepreneur', \"bachelor's degree\", '54-60'),\n",
    "    prom_missing_esp_days('civil servant', 'primary education', '61-67')\n",
    "]\n",
    "df_fill_esp = pd.Series(df_fill_esp, index=[3870, 5907, 8095])\n",
    "data_bank['days_employed'] = data_bank['days_employed'].fillna(df_fill_esp)"
   ]
  },
  {
   "cell_type": "code",
   "execution_count": 179,
   "metadata": {},
   "outputs": [
    {
     "data": {
      "text/plain": [
       "children                  0\n",
       "days_employed             2\n",
       "dob_years                 0\n",
       "education                 0\n",
       "education_id              0\n",
       "family_status             0\n",
       "family_status_id          0\n",
       "gender                    0\n",
       "income_type               0\n",
       "debt                      0\n",
       "total_income              0\n",
       "purpose                   0\n",
       "age_category              0\n",
       "purpose_id                0\n",
       "education_category        0\n",
       "family_status_category    0\n",
       "gender_category           0\n",
       "income_type_category      0\n",
       "purpose_category          0\n",
       "dtype: int64"
      ]
     },
     "metadata": {},
     "output_type": "display_data"
    }
   ],
   "source": [
    "# Comprueba las entradas en todas las columnas: asegúrate de que hayamos corregido todos los valores ausentes\n",
    "null_counts = data_bank.isna().sum()\n",
    "display(null_counts)"
   ]
  },
  {
   "cell_type": "markdown",
   "metadata": {},
   "source": [
    "## Clasificación de datos"
   ]
  },
  {
   "cell_type": "code",
   "execution_count": 152,
   "metadata": {
    "scrolled": true
   },
   "outputs": [
    {
     "data": {
      "text/html": [
       "<div>\n",
       "<style scoped>\n",
       "    .dataframe tbody tr th:only-of-type {\n",
       "        vertical-align: middle;\n",
       "    }\n",
       "\n",
       "    .dataframe tbody tr th {\n",
       "        vertical-align: top;\n",
       "    }\n",
       "\n",
       "    .dataframe thead th {\n",
       "        text-align: right;\n",
       "    }\n",
       "</style>\n",
       "<table border=\"1\" class=\"dataframe\">\n",
       "  <thead>\n",
       "    <tr style=\"text-align: right;\">\n",
       "      <th></th>\n",
       "      <th>children</th>\n",
       "      <th>family_status</th>\n",
       "      <th>family_status_id</th>\n",
       "      <th>debt</th>\n",
       "      <th>total_income</th>\n",
       "      <th>purpose</th>\n",
       "    </tr>\n",
       "  </thead>\n",
       "  <tbody>\n",
       "    <tr>\n",
       "      <th>0</th>\n",
       "      <td>1</td>\n",
       "      <td>married</td>\n",
       "      <td>0</td>\n",
       "      <td>0</td>\n",
       "      <td>40620.102</td>\n",
       "      <td>purchase of the house</td>\n",
       "    </tr>\n",
       "    <tr>\n",
       "      <th>1</th>\n",
       "      <td>1</td>\n",
       "      <td>married</td>\n",
       "      <td>0</td>\n",
       "      <td>0</td>\n",
       "      <td>17932.802</td>\n",
       "      <td>car purchase</td>\n",
       "    </tr>\n",
       "    <tr>\n",
       "      <th>2</th>\n",
       "      <td>0</td>\n",
       "      <td>married</td>\n",
       "      <td>0</td>\n",
       "      <td>0</td>\n",
       "      <td>23341.752</td>\n",
       "      <td>purchase of the house</td>\n",
       "    </tr>\n",
       "    <tr>\n",
       "      <th>3</th>\n",
       "      <td>3</td>\n",
       "      <td>married</td>\n",
       "      <td>0</td>\n",
       "      <td>0</td>\n",
       "      <td>42820.568</td>\n",
       "      <td>supplementary education</td>\n",
       "    </tr>\n",
       "    <tr>\n",
       "      <th>4</th>\n",
       "      <td>0</td>\n",
       "      <td>civil partnership</td>\n",
       "      <td>1</td>\n",
       "      <td>0</td>\n",
       "      <td>25378.572</td>\n",
       "      <td>to have a wedding</td>\n",
       "    </tr>\n",
       "    <tr>\n",
       "      <th>5</th>\n",
       "      <td>0</td>\n",
       "      <td>civil partnership</td>\n",
       "      <td>1</td>\n",
       "      <td>0</td>\n",
       "      <td>40922.170</td>\n",
       "      <td>purchase of the house</td>\n",
       "    </tr>\n",
       "    <tr>\n",
       "      <th>6</th>\n",
       "      <td>0</td>\n",
       "      <td>married</td>\n",
       "      <td>0</td>\n",
       "      <td>0</td>\n",
       "      <td>38484.156</td>\n",
       "      <td>housing transactions</td>\n",
       "    </tr>\n",
       "    <tr>\n",
       "      <th>7</th>\n",
       "      <td>0</td>\n",
       "      <td>married</td>\n",
       "      <td>0</td>\n",
       "      <td>0</td>\n",
       "      <td>21731.829</td>\n",
       "      <td>education</td>\n",
       "    </tr>\n",
       "    <tr>\n",
       "      <th>8</th>\n",
       "      <td>2</td>\n",
       "      <td>civil partnership</td>\n",
       "      <td>1</td>\n",
       "      <td>0</td>\n",
       "      <td>15337.093</td>\n",
       "      <td>having a wedding</td>\n",
       "    </tr>\n",
       "    <tr>\n",
       "      <th>9</th>\n",
       "      <td>0</td>\n",
       "      <td>married</td>\n",
       "      <td>0</td>\n",
       "      <td>0</td>\n",
       "      <td>23108.150</td>\n",
       "      <td>purchase of the house for my family</td>\n",
       "    </tr>\n",
       "  </tbody>\n",
       "</table>\n",
       "</div>"
      ],
      "text/plain": [
       "   children      family_status  family_status_id  debt  total_income  \\\n",
       "0         1            married                 0     0     40620.102   \n",
       "1         1            married                 0     0     17932.802   \n",
       "2         0            married                 0     0     23341.752   \n",
       "3         3            married                 0     0     42820.568   \n",
       "4         0  civil partnership                 1     0     25378.572   \n",
       "5         0  civil partnership                 1     0     40922.170   \n",
       "6         0            married                 0     0     38484.156   \n",
       "7         0            married                 0     0     21731.829   \n",
       "8         2  civil partnership                 1     0     15337.093   \n",
       "9         0            married                 0     0     23108.150   \n",
       "\n",
       "                               purpose  \n",
       "0                purchase of the house  \n",
       "1                         car purchase  \n",
       "2                purchase of the house  \n",
       "3              supplementary education  \n",
       "4                    to have a wedding  \n",
       "5                purchase of the house  \n",
       "6                 housing transactions  \n",
       "7                            education  \n",
       "8                     having a wedding  \n",
       "9  purchase of the house for my family  "
      ]
     },
     "execution_count": 152,
     "metadata": {},
     "output_type": "execute_result"
    }
   ],
   "source": [
    "# Muestra los valores de los datos seleccionados para la clasificación\n",
    "data_bank_selec = data_bank.loc[:,['children', 'family_status', 'family_status_id', 'debt', 'total_income', 'purpose']]\n",
    "data_bank_selec.head(10)"
   ]
  },
  {
   "cell_type": "code",
   "execution_count": 153,
   "metadata": {},
   "outputs": [
    {
     "name": "stdout",
     "output_type": "stream",
     "text": [
      "       family_status  family_status_id\n",
      "0            married                 0\n",
      "1  civil partnership                 1\n",
      "2      widow/widower                 2\n",
      "3           divorced                 3\n",
      "4          unmarried                 4\n",
      "\n"
     ]
    },
    {
     "data": {
      "text/plain": [
       "count     21454.000000\n",
       "mean      26451.212929\n",
       "std       15709.968189\n",
       "min        3306.762000\n",
       "25%       17219.817250\n",
       "50%       22815.103500\n",
       "75%       31331.348000\n",
       "max      362496.645000\n",
       "Name: total_income, dtype: float64"
      ]
     },
     "execution_count": 153,
     "metadata": {},
     "output_type": "execute_result"
    }
   ],
   "source": [
    "# Comprobar los valores únicos\n",
    "print(data_bank_ref_fam.sort_values(by = 'family_status_id'))\n",
    "print()\n",
    "data_bank_selec['total_income'].describe()"
   ]
  },
  {
   "cell_type": "markdown",
   "metadata": {},
   "source": [
    "Los grupos principales identificados en función de los valores únicos son el nivel educativo, el estado civil, el género, el tipo de empleo y el propósito del préstamo. Estos grupos nos permitirán clasificar los datos y realizar análisis más detallados dentro de cada grupo para responder a las preguntas planteadas.\n"
   ]
  },
  {
   "cell_type": "code",
   "execution_count": 154,
   "metadata": {},
   "outputs": [],
   "source": [
    "# Escribamos una función para clasificar los datos en función de temas comunes\n",
    "def sust_proposito(valor):\n",
    "    if 'car' in valor:\n",
    "        return 'car'\n",
    "    elif 'house' in valor:\n",
    "        return 'real estate'\n",
    "    elif 'real estate' in valor:\n",
    "        return 'real estate'\n",
    "    elif 'educat' in valor: \n",
    "        return 'education'\n",
    "    elif 'property' in valor:\n",
    "        return 'real estate'\n",
    "    elif 'housing' in valor:\n",
    "        return 'real estate'\n",
    "    elif 'wedding' in valor:\n",
    "        return 'wedding'\n",
    "    elif 'university' in valor:\n",
    "        return 'education'\n",
    "    else:\n",
    "        return valor\n",
    "\n",
    "data_bank_selec['purpose'] = data_bank_selec['purpose'].apply(sust_proposito)\n",
    "data_bank_selec['purpose'].unique()\n",
    "data_bank_selec['purpose'].value_counts(normalize=True)\n",
    "data_bank['purpose_id'] = data_bank_selec['purpose']"
   ]
  },
  {
   "cell_type": "code",
   "execution_count": 155,
   "metadata": {},
   "outputs": [
    {
     "data": {
      "text/html": [
       "<div>\n",
       "<style scoped>\n",
       "    .dataframe tbody tr th:only-of-type {\n",
       "        vertical-align: middle;\n",
       "    }\n",
       "\n",
       "    .dataframe tbody tr th {\n",
       "        vertical-align: top;\n",
       "    }\n",
       "\n",
       "    .dataframe thead th {\n",
       "        text-align: right;\n",
       "    }\n",
       "</style>\n",
       "<table border=\"1\" class=\"dataframe\">\n",
       "  <thead>\n",
       "    <tr style=\"text-align: right;\">\n",
       "      <th></th>\n",
       "      <th>purpose</th>\n",
       "      <th>car</th>\n",
       "      <th>education</th>\n",
       "      <th>real estate</th>\n",
       "      <th>wedding</th>\n",
       "    </tr>\n",
       "    <tr>\n",
       "      <th>family_status</th>\n",
       "      <th>children</th>\n",
       "      <th></th>\n",
       "      <th></th>\n",
       "      <th></th>\n",
       "      <th></th>\n",
       "    </tr>\n",
       "  </thead>\n",
       "  <tbody>\n",
       "    <tr>\n",
       "      <th rowspan=\"6\" valign=\"top\">civil partnership</th>\n",
       "      <th>0</th>\n",
       "      <td>282.0</td>\n",
       "      <td>269.0</td>\n",
       "      <td>649.0</td>\n",
       "      <td>1530.0</td>\n",
       "    </tr>\n",
       "    <tr>\n",
       "      <th>1</th>\n",
       "      <td>108.0</td>\n",
       "      <td>97.0</td>\n",
       "      <td>261.0</td>\n",
       "      <td>534.0</td>\n",
       "    </tr>\n",
       "    <tr>\n",
       "      <th>2</th>\n",
       "      <td>37.0</td>\n",
       "      <td>32.0</td>\n",
       "      <td>62.0</td>\n",
       "      <td>224.0</td>\n",
       "    </tr>\n",
       "    <tr>\n",
       "      <th>3</th>\n",
       "      <td>5.0</td>\n",
       "      <td>6.0</td>\n",
       "      <td>13.0</td>\n",
       "      <td>32.0</td>\n",
       "    </tr>\n",
       "    <tr>\n",
       "      <th>4</th>\n",
       "      <td>1.0</td>\n",
       "      <td>NaN</td>\n",
       "      <td>4.0</td>\n",
       "      <td>3.0</td>\n",
       "    </tr>\n",
       "    <tr>\n",
       "      <th>5</th>\n",
       "      <td>1.0</td>\n",
       "      <td>NaN</td>\n",
       "      <td>NaN</td>\n",
       "      <td>1.0</td>\n",
       "    </tr>\n",
       "    <tr>\n",
       "      <th rowspan=\"5\" valign=\"top\">divorced</th>\n",
       "      <th>0</th>\n",
       "      <td>195.0</td>\n",
       "      <td>158.0</td>\n",
       "      <td>431.0</td>\n",
       "      <td>NaN</td>\n",
       "    </tr>\n",
       "    <tr>\n",
       "      <th>1</th>\n",
       "      <td>70.0</td>\n",
       "      <td>61.0</td>\n",
       "      <td>185.0</td>\n",
       "      <td>NaN</td>\n",
       "    </tr>\n",
       "    <tr>\n",
       "      <th>2</th>\n",
       "      <td>14.0</td>\n",
       "      <td>19.0</td>\n",
       "      <td>50.0</td>\n",
       "      <td>NaN</td>\n",
       "    </tr>\n",
       "    <tr>\n",
       "      <th>3</th>\n",
       "      <td>1.0</td>\n",
       "      <td>NaN</td>\n",
       "      <td>10.0</td>\n",
       "      <td>NaN</td>\n",
       "    </tr>\n",
       "    <tr>\n",
       "      <th>4</th>\n",
       "      <td>1.0</td>\n",
       "      <td>NaN</td>\n",
       "      <td>NaN</td>\n",
       "      <td>NaN</td>\n",
       "    </tr>\n",
       "    <tr>\n",
       "      <th rowspan=\"6\" valign=\"top\">married</th>\n",
       "      <th>0</th>\n",
       "      <td>1649.0</td>\n",
       "      <td>1582.0</td>\n",
       "      <td>4237.0</td>\n",
       "      <td>NaN</td>\n",
       "    </tr>\n",
       "    <tr>\n",
       "      <th>1</th>\n",
       "      <td>691.0</td>\n",
       "      <td>598.0</td>\n",
       "      <td>1715.0</td>\n",
       "      <td>NaN</td>\n",
       "    </tr>\n",
       "    <tr>\n",
       "      <th>2</th>\n",
       "      <td>337.0</td>\n",
       "      <td>350.0</td>\n",
       "      <td>895.0</td>\n",
       "      <td>NaN</td>\n",
       "    </tr>\n",
       "    <tr>\n",
       "      <th>3</th>\n",
       "      <td>50.0</td>\n",
       "      <td>58.0</td>\n",
       "      <td>141.0</td>\n",
       "      <td>NaN</td>\n",
       "    </tr>\n",
       "    <tr>\n",
       "      <th>4</th>\n",
       "      <td>8.0</td>\n",
       "      <td>6.0</td>\n",
       "      <td>15.0</td>\n",
       "      <td>NaN</td>\n",
       "    </tr>\n",
       "    <tr>\n",
       "      <th>5</th>\n",
       "      <td>1.0</td>\n",
       "      <td>1.0</td>\n",
       "      <td>5.0</td>\n",
       "      <td>NaN</td>\n",
       "    </tr>\n",
       "    <tr>\n",
       "      <th rowspan=\"5\" valign=\"top\">unmarried</th>\n",
       "      <th>0</th>\n",
       "      <td>518.0</td>\n",
       "      <td>457.0</td>\n",
       "      <td>1287.0</td>\n",
       "      <td>NaN</td>\n",
       "    </tr>\n",
       "    <tr>\n",
       "      <th>1</th>\n",
       "      <td>94.0</td>\n",
       "      <td>102.0</td>\n",
       "      <td>258.0</td>\n",
       "      <td>NaN</td>\n",
       "    </tr>\n",
       "    <tr>\n",
       "      <th>2</th>\n",
       "      <td>21.0</td>\n",
       "      <td>15.0</td>\n",
       "      <td>48.0</td>\n",
       "      <td>NaN</td>\n",
       "    </tr>\n",
       "    <tr>\n",
       "      <th>3</th>\n",
       "      <td>4.0</td>\n",
       "      <td>2.0</td>\n",
       "      <td>2.0</td>\n",
       "      <td>NaN</td>\n",
       "    </tr>\n",
       "    <tr>\n",
       "      <th>4</th>\n",
       "      <td>NaN</td>\n",
       "      <td>1.0</td>\n",
       "      <td>1.0</td>\n",
       "      <td>NaN</td>\n",
       "    </tr>\n",
       "    <tr>\n",
       "      <th rowspan=\"5\" valign=\"top\">widow/widower</th>\n",
       "      <th>0</th>\n",
       "      <td>201.0</td>\n",
       "      <td>176.0</td>\n",
       "      <td>470.0</td>\n",
       "      <td>NaN</td>\n",
       "    </tr>\n",
       "    <tr>\n",
       "      <th>1</th>\n",
       "      <td>11.0</td>\n",
       "      <td>18.0</td>\n",
       "      <td>52.0</td>\n",
       "      <td>NaN</td>\n",
       "    </tr>\n",
       "    <tr>\n",
       "      <th>2</th>\n",
       "      <td>6.0</td>\n",
       "      <td>2.0</td>\n",
       "      <td>16.0</td>\n",
       "      <td>NaN</td>\n",
       "    </tr>\n",
       "    <tr>\n",
       "      <th>3</th>\n",
       "      <td>NaN</td>\n",
       "      <td>3.0</td>\n",
       "      <td>3.0</td>\n",
       "      <td>NaN</td>\n",
       "    </tr>\n",
       "    <tr>\n",
       "      <th>4</th>\n",
       "      <td>NaN</td>\n",
       "      <td>NaN</td>\n",
       "      <td>1.0</td>\n",
       "      <td>NaN</td>\n",
       "    </tr>\n",
       "  </tbody>\n",
       "</table>\n",
       "</div>"
      ],
      "text/plain": [
       "purpose                        car  education  real estate  wedding\n",
       "family_status     children                                         \n",
       "civil partnership 0          282.0      269.0        649.0   1530.0\n",
       "                  1          108.0       97.0        261.0    534.0\n",
       "                  2           37.0       32.0         62.0    224.0\n",
       "                  3            5.0        6.0         13.0     32.0\n",
       "                  4            1.0        NaN          4.0      3.0\n",
       "                  5            1.0        NaN          NaN      1.0\n",
       "divorced          0          195.0      158.0        431.0      NaN\n",
       "                  1           70.0       61.0        185.0      NaN\n",
       "                  2           14.0       19.0         50.0      NaN\n",
       "                  3            1.0        NaN         10.0      NaN\n",
       "                  4            1.0        NaN          NaN      NaN\n",
       "married           0         1649.0     1582.0       4237.0      NaN\n",
       "                  1          691.0      598.0       1715.0      NaN\n",
       "                  2          337.0      350.0        895.0      NaN\n",
       "                  3           50.0       58.0        141.0      NaN\n",
       "                  4            8.0        6.0         15.0      NaN\n",
       "                  5            1.0        1.0          5.0      NaN\n",
       "unmarried         0          518.0      457.0       1287.0      NaN\n",
       "                  1           94.0      102.0        258.0      NaN\n",
       "                  2           21.0       15.0         48.0      NaN\n",
       "                  3            4.0        2.0          2.0      NaN\n",
       "                  4            NaN        1.0          1.0      NaN\n",
       "widow/widower     0          201.0      176.0        470.0      NaN\n",
       "                  1           11.0       18.0         52.0      NaN\n",
       "                  2            6.0        2.0         16.0      NaN\n",
       "                  3            NaN        3.0          3.0      NaN\n",
       "                  4            NaN        NaN          1.0      NaN"
      ]
     },
     "execution_count": 155,
     "metadata": {},
     "output_type": "execute_result"
    }
   ],
   "source": [
    "# Crea una columna con las categorías y cuenta los valores en ellas\n",
    "data_bank_selec.groupby(['family_status', 'children', 'purpose'])['debt'].count().unstack('purpose')"
   ]
  },
  {
   "cell_type": "code",
   "execution_count": 156,
   "metadata": {},
   "outputs": [
    {
     "name": "stdout",
     "output_type": "stream",
     "text": [
      "   children  days_employed  education_id  family_status_id  debt  \\\n",
      "0         1         8438.0             0                 0     0   \n",
      "1         1         4025.0             1                 0     0   \n",
      "2         0         5623.0             1                 0     0   \n",
      "3         3         4125.0             1                 0     0   \n",
      "4         0       340266.0             1                 1     0   \n",
      "\n",
      "   total_income  age_category  \n",
      "0     40620.102             2  \n",
      "1     17932.802             1  \n",
      "2     23341.752             1  \n",
      "3     42820.568             1  \n",
      "4     25378.572             3  \n"
     ]
    }
   ],
   "source": [
    "# Revisar todos los datos numéricos en la columna seleccionada para la clasificación\n",
    "def check_numeric_data(data):\n",
    "    numeric_data = data.select_dtypes(include=['int64', 'float64'])\n",
    "    return numeric_data\n",
    "numeric_data_all = check_numeric_data(data_bank)\n",
    "print(numeric_data_all.head())"
   ]
  },
  {
   "cell_type": "code",
   "execution_count": 157,
   "metadata": {},
   "outputs": [
    {
     "name": "stdout",
     "output_type": "stream",
     "text": [
      "Estadísticas resumidas de la columna 'education':\n",
      "count                   21454\n",
      "unique                      5\n",
      "top       secondary education\n",
      "freq                    15172\n",
      "Name: education, dtype: object\n",
      "\n",
      "Estadísticas resumidas de la columna 'family_status':\n",
      "count       21454\n",
      "unique          5\n",
      "top       married\n",
      "freq        12339\n",
      "Name: family_status, dtype: object\n",
      "\n",
      "Estadísticas resumidas de la columna 'gender':\n",
      "count     21454\n",
      "unique        3\n",
      "top           F\n",
      "freq      14174\n",
      "Name: gender, dtype: object\n",
      "\n",
      "Estadísticas resumidas de la columna 'income_type':\n",
      "count        21454\n",
      "unique           8\n",
      "top       employee\n",
      "freq         11084\n",
      "Name: income_type, dtype: object\n",
      "\n",
      "Estadísticas resumidas de la columna 'purpose':\n",
      "count                21454\n",
      "unique                  38\n",
      "top       wedding ceremony\n",
      "freq                   791\n",
      "Name: purpose, dtype: object\n",
      "\n"
     ]
    }
   ],
   "source": [
    "# Obtener estadísticas resumidas para la columna\n",
    "categorical_columns = ['education', 'family_status', 'gender', 'income_type', 'purpose']\n",
    "\n",
    "for column in categorical_columns:\n",
    "    column_stats = data_bank[column].describe()\n",
    "    print(f\"Estadísticas resumidas de la columna '{column}':\\n{column_stats}\\n\")"
   ]
  },
  {
   "cell_type": "markdown",
   "metadata": {},
   "source": [
    "Para agrupar los datos en categorías, utilizaré los siguientes rangos:\n",
    "\n",
    "Educación: Niveles educativos como primaria, secundaria, universidad, etc.\n",
    "Estado civil: Categorías como soltero(a), casado(a), divorciado(a), etc.\n",
    "Género: Categorías únicas como femenino, masculino y otro.\n",
    "Tipo de ingreso: Categorías de empleo como empleado, jubilado, emprendedor, etc.\n",
    "Propósito: Diferentes propósitos de préstamo, como ceremonia de boda, compra de automóvil, etc.\n",
    "Estos rangos nos permiten clasificar los datos en grupos más significativos para un análisis más detallado."
   ]
  },
  {
   "cell_type": "code",
   "execution_count": 158,
   "metadata": {},
   "outputs": [
    {
     "name": "stdout",
     "output_type": "stream",
     "text": [
      "1\n",
      "0\n",
      "0\n",
      "0\n",
      "0\n"
     ]
    }
   ],
   "source": [
    "# Crear una función para clasificar en diferentes grupos numéricos basándose en rangos\n",
    "def categorize_education_level(education):\n",
    "    if education == \"bachelor's degree\":\n",
    "        return 0\n",
    "    elif education == 'secondary education':\n",
    "        return 1\n",
    "    elif education == 'some college':\n",
    "        return 2\n",
    "    elif education == 'primary education':\n",
    "        return 3\n",
    "    elif education == 'graduate degree':\n",
    "        return 4\n",
    "    else:\n",
    "        return -1\n",
    "\n",
    "def categorize_family_status(family_status):\n",
    "    if family_status == 'married':\n",
    "        return 0\n",
    "    elif family_status == 'civil partnership':\n",
    "        return 1\n",
    "    elif family_status == 'widow / widower':\n",
    "        return 2\n",
    "    elif family_status == 'divorced':\n",
    "        return 3\n",
    "    elif family_status == 'unmarried':\n",
    "        return 4\n",
    "    else:\n",
    "        return -1\n",
    "\n",
    "def categorize_gender(gender):\n",
    "    if gender == 'F':\n",
    "        return 0\n",
    "    elif gender == 'M':\n",
    "        return 1\n",
    "    elif gender == 'Other':\n",
    "        return 2\n",
    "    else:\n",
    "        return -1\n",
    "\n",
    "def categorize_income_type(income_type):\n",
    "    if income_type == 'employee':\n",
    "        return 0\n",
    "    elif income_type == 'retiree':\n",
    "        return 1\n",
    "    elif income_type == 'business':\n",
    "        return 2\n",
    "    elif income_type == 'civil servant':\n",
    "        return 3\n",
    "    elif income_type == 'unemployed':\n",
    "        return 4\n",
    "    elif income_type == 'entrepreneur':\n",
    "        return 5\n",
    "    elif income_type == 'student':\n",
    "        return 6\n",
    "    elif income_type == 'paternity / maternity leave':\n",
    "        return 7\n",
    "    else:\n",
    "        return -1\n",
    "\n",
    "def categorize_purpose(purpose):\n",
    "    if 'wedding' in purpose:\n",
    "        return 0\n",
    "    elif 'housing' in purpose or 'property' in purpose or 'real estate' in purpose:\n",
    "        return 1\n",
    "    elif 'education' in purpose:\n",
    "        return 2\n",
    "    elif 'car' in purpose:\n",
    "        return 3\n",
    "    else:\n",
    "        return 4\n",
    "\n",
    "education_category = categorize_education_level(\"secondary education\")\n",
    "print(education_category)\n",
    "family_status_category = categorize_family_status(\"married\")\n",
    "print(family_status_category)\n",
    "gender_category = categorize_gender(\"F\")\n",
    "print(gender_category)\n",
    "income_type_category = categorize_income_type(\"employee\")\n",
    "print(income_type_category)\n",
    "purpose_category = categorize_purpose(\"wedding ceremony\")\n",
    "print(purpose_category)"
   ]
  },
  {
   "cell_type": "code",
   "execution_count": 159,
   "metadata": {},
   "outputs": [],
   "source": [
    "# Crear una columna con categorías\n",
    "data_bank['education_category'] = data_bank['education'].apply(categorize_education_level)\n",
    "data_bank['family_status_category'] = data_bank['family_status'].apply(categorize_family_status)\n",
    "data_bank['gender_category'] = data_bank['gender'].apply(categorize_gender)\n",
    "data_bank['income_type_category'] = data_bank['income_type'].apply(categorize_income_type)\n",
    "data_bank['purpose_category'] = data_bank['purpose'].apply(categorize_purpose)"
   ]
  },
  {
   "cell_type": "code",
   "execution_count": 160,
   "metadata": {
    "scrolled": true
   },
   "outputs": [
    {
     "name": "stdout",
     "output_type": "stream",
     "text": [
      "1    15172\n",
      "0     5250\n",
      "2      744\n",
      "3      282\n",
      "4        6\n",
      "Name: education_category, dtype: int64\n",
      "\n",
      " 0    12339\n",
      " 1     4151\n",
      " 4     2810\n",
      " 3     1195\n",
      "-1      959\n",
      "Name: family_status_category, dtype: int64\n",
      "\n",
      "0    14174\n",
      "1     7279\n",
      "2        1\n",
      "Name: gender_category, dtype: int64\n",
      "\n",
      "0    11084\n",
      "2     5078\n",
      "1     3829\n",
      "3     1457\n",
      "4        2\n",
      "5        2\n",
      "6        1\n",
      "7        1\n",
      "Name: income_type_category, dtype: int64\n",
      "\n",
      "1    8907\n",
      "3    4306\n",
      "2    3109\n",
      "4    2808\n",
      "0    2324\n",
      "Name: purpose_category, dtype: int64\n"
     ]
    }
   ],
   "source": [
    "# Contar los valores de cada categoría para ver la distribución\n",
    "education_counts = data_bank['education_category'].value_counts()\n",
    "print(education_counts)\n",
    "print()\n",
    "family_status_counts = data_bank['family_status_category'].value_counts()\n",
    "print(family_status_counts)\n",
    "print()\n",
    "gender_counts = data_bank['gender_category'].value_counts()\n",
    "print(gender_counts)\n",
    "print()\n",
    "income_type_counts = data_bank['income_type_category'].value_counts()\n",
    "print(income_type_counts)\n",
    "print()\n",
    "purpose_counts = data_bank['purpose_category'].value_counts()\n",
    "print(purpose_counts)"
   ]
  },
  {
   "cell_type": "markdown",
   "metadata": {},
   "source": [
    "## Comprobación de las hipótesis\n"
   ]
  },
  {
   "cell_type": "markdown",
   "metadata": {},
   "source": [
    "**¿Existe una correlación entre tener hijos y pagar a tiempo?**"
   ]
  },
  {
   "cell_type": "code",
   "execution_count": 161,
   "metadata": {},
   "outputs": [
    {
     "name": "stdout",
     "output_type": "stream",
     "text": [
      "children\n",
      "0    0.075438\n",
      "1    0.091658\n",
      "2    0.094925\n",
      "3    0.081818\n",
      "4    0.097561\n",
      "5    0.000000\n",
      "Name: debt, dtype: float64\n"
     ]
    }
   ],
   "source": [
    "# Comprueba los datos sobre los hijos y los pagos puntuales\n",
    "data_bank_children = data_bank.groupby('children')['debt'].mean()\n",
    "# Calcular la tasa de incumplimiento en función del número de hijos\n",
    "print(data_bank_children)"
   ]
  },
  {
   "cell_type": "markdown",
   "metadata": {},
   "source": [
    "**Conclusión**\n",
    "\n",
    "La tasa de incumplimiento en función del número de hijos muestra algunas variaciones, pero en general no se observa una relación significativa entre tener hijos y el pago puntual. La tasa de incumplimiento no varía de manera consistente con el número de hijos, lo que sugiere que otros factores podrían tener mayor influencia en la capacidad de pago de los individuos."
   ]
  },
  {
   "cell_type": "markdown",
   "metadata": {},
   "source": [
    "**¿Existe una correlación entre la situación familiar y el pago a tiempo?**"
   ]
  },
  {
   "cell_type": "code",
   "execution_count": 162,
   "metadata": {},
   "outputs": [
    {
     "name": "stdout",
     "output_type": "stream",
     "text": [
      "family_status\n",
      "civil partnership    0.093471\n",
      "divorced             0.071130\n",
      "married              0.075452\n",
      "unmarried            0.097509\n",
      "widow/widower        0.065693\n",
      "Name: debt, dtype: float64\n"
     ]
    }
   ],
   "source": [
    "# Comprueba los datos del estado familiar y los pagos a tiempo\n",
    "data_bank_family_status = data_bank.groupby('family_status')['debt'].mean()\n",
    "# Calcular la tasa de incumplimiento basada en el estado familiar\n",
    "print(data_bank_family_status)"
   ]
  },
  {
   "cell_type": "markdown",
   "metadata": {},
   "source": [
    "**Conclusión**\n",
    "\n",
    "Se observa que existe una variación en la tasa de incumplimiento según el estado familiar. Los clientes solteros y divorciados presentan una tasa de incumplimiento más baja, mientras que los clientes casados y convivientes tienen una tasa de incumplimiento más alta. Esto sugiere una posible correlación entre el estado familiar y el pago a tiempo. Sin embargo, se requiere un análisis más profundo y considerar otros factores para obtener conclusiones más sólidas."
   ]
  },
  {
   "cell_type": "markdown",
   "metadata": {},
   "source": [
    "**¿Existe una correlación entre el nivel de ingresos y el pago a tiempo?**"
   ]
  },
  {
   "cell_type": "code",
   "execution_count": 163,
   "metadata": {},
   "outputs": [
    {
     "name": "stdout",
     "output_type": "stream",
     "text": [
      "income_type\n",
      "entrepreneur                   0.000000\n",
      "student                        0.000000\n",
      "retiree                        0.056412\n",
      "civil servant                  0.059025\n",
      "business                       0.074045\n",
      "employee                       0.095724\n",
      "unemployed                     0.500000\n",
      "paternity / maternity leave    1.000000\n",
      "Name: debt, dtype: float64\n"
     ]
    }
   ],
   "source": [
    "# Comprueba los datos del nivel de ingresos y los pagos a tiempo\n",
    "data_bank_income_type = data_bank.groupby('income_type')['debt'].mean().sort_values()\n",
    "# Calcular la tasa de incumplimiento basada en el nivel de ingresos\n",
    "print(data_bank_income_type)"
   ]
  },
  {
   "cell_type": "markdown",
   "metadata": {},
   "source": [
    "**Conclusión**\n",
    "\n",
    "En general, no se encuentra una correlación significativa entre tener hijos, la situación familiar o el nivel de ingresos y el pago a tiempo de los préstamos. Estos factores no parecen ser indicadores claros de la probabilidad de incumplimiento. Sin embargo, es importante considerar que existen otros factores que pueden influir en el cumplimiento de los pagos y que estos resultados se basan en el análisis específico de los datos disponibles."
   ]
  },
  {
   "cell_type": "markdown",
   "metadata": {},
   "source": [
    "**¿Cómo afecta el propósito del crédito a la tasa de incumplimiento?**"
   ]
  },
  {
   "cell_type": "code",
   "execution_count": 164,
   "metadata": {},
   "outputs": [
    {
     "name": "stdout",
     "output_type": "stream",
     "text": [
      "purpose_id\n",
      "real estate    0.072334\n",
      "wedding        0.080034\n",
      "education      0.092200\n",
      "car            0.093590\n",
      "Name: debt, dtype: float64\n"
     ]
    }
   ],
   "source": [
    "# Consulta los porcentajes de tasa de incumplimiento para cada propósito del crédito y analízalos\n",
    "data_bank_purpose = data_bank.groupby('purpose_id')['debt'].mean().sort_values()\n",
    "print(data_bank_purpose)"
   ]
  },
  {
   "cell_type": "markdown",
   "metadata": {},
   "source": [
    "**Conclusión**\n",
    "\n",
    "Basado en el análisis, se observa que el propósito del crédito puede tener influencia en la tasa de incumplimiento. Algunos propósitos, como la educación y la compra de vehículos, tienden a tener tasas de incumplimiento moderadas, mientras que otros, como la compra de viviendas y la realización de eventos importantes, presentan tasas más bajas. Estos hallazgos sugieren que es importante considerar el propósito del crédito al evaluar el riesgo crediticio y tomar decisiones relacionadas con la concesión de préstamos.\n"
   ]
  },
  {
   "cell_type": "markdown",
   "metadata": {},
   "source": [
    "# Conclusión general \n",
    "\n",
    "Se realizó un análisis de los datos crediticios que incluyó la identificación y tratamiento de valores ausentes y duplicados.\n",
    "\n",
    "La tasa de incumplimiento general fue del 8%, lo que indica que un pequeño porcentaje de los clientes no cumple con sus obligaciones crediticias.\n",
    "\n",
    "Se encontró una correlación entre tener hijos y la tasa de incumplimiento, donde aquellos con más hijos mostraron tasas ligeramente más altas.\n",
    "\n",
    "No se encontró una correlación significativa entre el estado familiar y la tasa de incumplimiento.\n",
    "\n",
    "Existe una relación entre el nivel de ingresos y la tasa de incumplimiento, con los clientes de ingresos más bajos mostrando tasas más altas.\n",
    "\n",
    "El propósito del crédito también influye en la tasa de incumplimiento, con algunos propósitos presentando tasas más altas o más bajas.\n",
    "\n",
    "En resumen, el análisis reveló que tener hijos, nivel de ingresos y propósito del crédito son factores que afectan la tasa de incumplimiento. Estos hallazgos son relevantes para la evaluación del riesgo crediticio y la toma de decisiones en préstamos. Las instituciones financieras deben considerar estos factores y aplicar estrategias adecuadas para gestionar el riesgo y garantizar un rendimiento crediticio óptimo."
   ]
  }
 ],
 "metadata": {
  "ExecuteTimeLog": [
   {
    "duration": 2741,
    "start_time": "2021-10-21T01:08:49.480Z"
   },
   {
    "duration": 52,
    "start_time": "2021-10-21T01:08:53.315Z"
   },
   {
    "duration": 49,
    "start_time": "2021-10-21T01:08:57.432Z"
   },
   {
    "duration": 70,
    "start_time": "2021-10-21T01:09:07.706Z"
   }
  ],
  "kernelspec": {
   "display_name": "Python 3 (ipykernel)",
   "language": "python",
   "name": "python3"
  },
  "language_info": {
   "codemirror_mode": {
    "name": "ipython",
    "version": 3
   },
   "file_extension": ".py",
   "mimetype": "text/x-python",
   "name": "python",
   "nbconvert_exporter": "python",
   "pygments_lexer": "ipython3",
   "version": "3.9.5"
  },
  "toc": {
   "base_numbering": 1,
   "nav_menu": {},
   "number_sections": true,
   "sideBar": true,
   "skip_h1_title": true,
   "title_cell": "Table of Contents",
   "title_sidebar": "Contents",
   "toc_cell": false,
   "toc_position": {},
   "toc_section_display": true,
   "toc_window_display": false
  }
 },
 "nbformat": 4,
 "nbformat_minor": 2
}
