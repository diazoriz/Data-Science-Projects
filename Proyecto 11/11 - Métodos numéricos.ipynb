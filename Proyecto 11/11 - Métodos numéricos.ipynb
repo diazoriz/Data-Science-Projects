{
 "cells": [
  {
   "cell_type": "markdown",
   "metadata": {},
   "source": [
    "El servicio de venta de autos usados Rusty Bargain está desarrollando una aplicación para atraer nuevos clientes. Gracias a esa app, puedes averiguar rápidamente el valor de mercado de tu coche. Tienes acceso al historial: especificaciones técnicas, versiones de equipamiento y precios. Tienes que crear un modelo que determine el valor de mercado.\n",
    "A Rusty Bargain le interesa:\n",
    "- la calidad de la predicción;\n",
    "- la velocidad de la predicción;\n",
    "- el tiempo requerido para el entrenamiento"
   ]
  },
  {
   "cell_type": "markdown",
   "metadata": {},
   "source": [
    "# Datos y Librerías"
   ]
  },
  {
   "cell_type": "code",
   "execution_count": 1,
   "metadata": {},
   "outputs": [
    {
     "name": "stdout",
     "output_type": "stream",
     "text": [
      "CPU times: user 3 µs, sys: 1 µs, total: 4 µs\n",
      "Wall time: 5.72 µs\n"
     ]
    }
   ],
   "source": [
    "# Cargamos las librerias que nos servirán para nuestro análisis\n",
    "%time\n",
    "import numpy as np\n",
    "import pandas as pd\n",
    "import matplotlib.pyplot as plt\n",
    "import math\n",
    "\n",
    "import lightgbm as lgb\n",
    "\n",
    "from sklearn.preprocessing import OrdinalEncoder\n",
    "\n",
    "from catboost import CatBoostRegressor\n",
    "\n",
    "from sklearn.model_selection import train_test_split\n",
    "from sklearn.neighbors import NearestNeighbors\n",
    "from sklearn.linear_model import LinearRegression\n",
    "from sklearn.ensemble import RandomForestRegressor\n",
    "\n",
    "from sklearn.metrics import mean_squared_error\n",
    "from sklearn.preprocessing import OneHotEncoder\n",
    "from sklearn.preprocessing import LabelEncoder\n",
    "\n",
    "from scipy.spatial import distance\n",
    "from numpy.random import RandomState"
   ]
  },
  {
   "cell_type": "code",
   "execution_count": 2,
   "metadata": {},
   "outputs": [],
   "source": [
    "# Cargamos los datos de cada tabla por separado\n",
    "\n",
    "try:\n",
    "    df = pd.read_csv('C:/Users/tomas/Downloads/car_data.csv')\n",
    "except:\n",
    "    df = pd.read_csv('/datasets/car_data.csv')"
   ]
  },
  {
   "cell_type": "markdown",
   "metadata": {},
   "source": [
    "# Conociendo los datos"
   ]
  },
  {
   "cell_type": "code",
   "execution_count": 3,
   "metadata": {},
   "outputs": [
    {
     "data": {
      "text/html": [
       "<div>\n",
       "<style scoped>\n",
       "    .dataframe tbody tr th:only-of-type {\n",
       "        vertical-align: middle;\n",
       "    }\n",
       "\n",
       "    .dataframe tbody tr th {\n",
       "        vertical-align: top;\n",
       "    }\n",
       "\n",
       "    .dataframe thead th {\n",
       "        text-align: right;\n",
       "    }\n",
       "</style>\n",
       "<table border=\"1\" class=\"dataframe\">\n",
       "  <thead>\n",
       "    <tr style=\"text-align: right;\">\n",
       "      <th></th>\n",
       "      <th>DateCrawled</th>\n",
       "      <th>Price</th>\n",
       "      <th>VehicleType</th>\n",
       "      <th>RegistrationYear</th>\n",
       "      <th>Gearbox</th>\n",
       "      <th>Power</th>\n",
       "      <th>Model</th>\n",
       "      <th>Mileage</th>\n",
       "      <th>RegistrationMonth</th>\n",
       "      <th>FuelType</th>\n",
       "      <th>Brand</th>\n",
       "      <th>NotRepaired</th>\n",
       "      <th>DateCreated</th>\n",
       "      <th>NumberOfPictures</th>\n",
       "      <th>PostalCode</th>\n",
       "      <th>LastSeen</th>\n",
       "    </tr>\n",
       "  </thead>\n",
       "  <tbody>\n",
       "    <tr>\n",
       "      <th>0</th>\n",
       "      <td>24/03/2016 11:52</td>\n",
       "      <td>480</td>\n",
       "      <td>NaN</td>\n",
       "      <td>1993</td>\n",
       "      <td>manual</td>\n",
       "      <td>0</td>\n",
       "      <td>golf</td>\n",
       "      <td>150000</td>\n",
       "      <td>0</td>\n",
       "      <td>petrol</td>\n",
       "      <td>volkswagen</td>\n",
       "      <td>NaN</td>\n",
       "      <td>24/03/2016 00:00</td>\n",
       "      <td>0</td>\n",
       "      <td>70435</td>\n",
       "      <td>07/04/2016 03:16</td>\n",
       "    </tr>\n",
       "    <tr>\n",
       "      <th>1</th>\n",
       "      <td>24/03/2016 10:58</td>\n",
       "      <td>18300</td>\n",
       "      <td>coupe</td>\n",
       "      <td>2011</td>\n",
       "      <td>manual</td>\n",
       "      <td>190</td>\n",
       "      <td>NaN</td>\n",
       "      <td>125000</td>\n",
       "      <td>5</td>\n",
       "      <td>gasoline</td>\n",
       "      <td>audi</td>\n",
       "      <td>yes</td>\n",
       "      <td>24/03/2016 00:00</td>\n",
       "      <td>0</td>\n",
       "      <td>66954</td>\n",
       "      <td>07/04/2016 01:46</td>\n",
       "    </tr>\n",
       "    <tr>\n",
       "      <th>2</th>\n",
       "      <td>14/03/2016 12:52</td>\n",
       "      <td>9800</td>\n",
       "      <td>suv</td>\n",
       "      <td>2004</td>\n",
       "      <td>auto</td>\n",
       "      <td>163</td>\n",
       "      <td>grand</td>\n",
       "      <td>125000</td>\n",
       "      <td>8</td>\n",
       "      <td>gasoline</td>\n",
       "      <td>jeep</td>\n",
       "      <td>NaN</td>\n",
       "      <td>14/03/2016 00:00</td>\n",
       "      <td>0</td>\n",
       "      <td>90480</td>\n",
       "      <td>05/04/2016 12:47</td>\n",
       "    </tr>\n",
       "    <tr>\n",
       "      <th>3</th>\n",
       "      <td>17/03/2016 16:54</td>\n",
       "      <td>1500</td>\n",
       "      <td>small</td>\n",
       "      <td>2001</td>\n",
       "      <td>manual</td>\n",
       "      <td>75</td>\n",
       "      <td>golf</td>\n",
       "      <td>150000</td>\n",
       "      <td>6</td>\n",
       "      <td>petrol</td>\n",
       "      <td>volkswagen</td>\n",
       "      <td>no</td>\n",
       "      <td>17/03/2016 00:00</td>\n",
       "      <td>0</td>\n",
       "      <td>91074</td>\n",
       "      <td>17/03/2016 17:40</td>\n",
       "    </tr>\n",
       "    <tr>\n",
       "      <th>4</th>\n",
       "      <td>31/03/2016 17:25</td>\n",
       "      <td>3600</td>\n",
       "      <td>small</td>\n",
       "      <td>2008</td>\n",
       "      <td>manual</td>\n",
       "      <td>69</td>\n",
       "      <td>fabia</td>\n",
       "      <td>90000</td>\n",
       "      <td>7</td>\n",
       "      <td>gasoline</td>\n",
       "      <td>skoda</td>\n",
       "      <td>no</td>\n",
       "      <td>31/03/2016 00:00</td>\n",
       "      <td>0</td>\n",
       "      <td>60437</td>\n",
       "      <td>06/04/2016 10:17</td>\n",
       "    </tr>\n",
       "  </tbody>\n",
       "</table>\n",
       "</div>"
      ],
      "text/plain": [
       "        DateCrawled  Price VehicleType  RegistrationYear Gearbox  Power  \\\n",
       "0  24/03/2016 11:52    480         NaN              1993  manual      0   \n",
       "1  24/03/2016 10:58  18300       coupe              2011  manual    190   \n",
       "2  14/03/2016 12:52   9800         suv              2004    auto    163   \n",
       "3  17/03/2016 16:54   1500       small              2001  manual     75   \n",
       "4  31/03/2016 17:25   3600       small              2008  manual     69   \n",
       "\n",
       "   Model  Mileage  RegistrationMonth  FuelType       Brand NotRepaired  \\\n",
       "0   golf   150000                  0    petrol  volkswagen         NaN   \n",
       "1    NaN   125000                  5  gasoline        audi         yes   \n",
       "2  grand   125000                  8  gasoline        jeep         NaN   \n",
       "3   golf   150000                  6    petrol  volkswagen          no   \n",
       "4  fabia    90000                  7  gasoline       skoda          no   \n",
       "\n",
       "        DateCreated  NumberOfPictures  PostalCode          LastSeen  \n",
       "0  24/03/2016 00:00                 0       70435  07/04/2016 03:16  \n",
       "1  24/03/2016 00:00                 0       66954  07/04/2016 01:46  \n",
       "2  14/03/2016 00:00                 0       90480  05/04/2016 12:47  \n",
       "3  17/03/2016 00:00                 0       91074  17/03/2016 17:40  \n",
       "4  31/03/2016 00:00                 0       60437  06/04/2016 10:17  "
      ]
     },
     "execution_count": 3,
     "metadata": {},
     "output_type": "execute_result"
    }
   ],
   "source": [
    "df.head()"
   ]
  },
  {
   "cell_type": "code",
   "execution_count": 4,
   "metadata": {},
   "outputs": [
    {
     "name": "stdout",
     "output_type": "stream",
     "text": [
      "<class 'pandas.core.frame.DataFrame'>\n",
      "RangeIndex: 354369 entries, 0 to 354368\n",
      "Data columns (total 16 columns):\n",
      " #   Column             Non-Null Count   Dtype \n",
      "---  ------             --------------   ----- \n",
      " 0   DateCrawled        354369 non-null  object\n",
      " 1   Price              354369 non-null  int64 \n",
      " 2   VehicleType        316879 non-null  object\n",
      " 3   RegistrationYear   354369 non-null  int64 \n",
      " 4   Gearbox            334536 non-null  object\n",
      " 5   Power              354369 non-null  int64 \n",
      " 6   Model              334664 non-null  object\n",
      " 7   Mileage            354369 non-null  int64 \n",
      " 8   RegistrationMonth  354369 non-null  int64 \n",
      " 9   FuelType           321474 non-null  object\n",
      " 10  Brand              354369 non-null  object\n",
      " 11  NotRepaired        283215 non-null  object\n",
      " 12  DateCreated        354369 non-null  object\n",
      " 13  NumberOfPictures   354369 non-null  int64 \n",
      " 14  PostalCode         354369 non-null  int64 \n",
      " 15  LastSeen           354369 non-null  object\n",
      "dtypes: int64(7), object(9)\n",
      "memory usage: 43.3+ MB\n"
     ]
    }
   ],
   "source": [
    "df.info()"
   ]
  },
  {
   "cell_type": "markdown",
   "metadata": {},
   "source": [
    "Necesitamos tratar con los valores vacíos en VehicleType, FuelType y NotRepaired."
   ]
  },
  {
   "cell_type": "code",
   "execution_count": 5,
   "metadata": {},
   "outputs": [
    {
     "data": {
      "text/html": [
       "<div>\n",
       "<style scoped>\n",
       "    .dataframe tbody tr th:only-of-type {\n",
       "        vertical-align: middle;\n",
       "    }\n",
       "\n",
       "    .dataframe tbody tr th {\n",
       "        vertical-align: top;\n",
       "    }\n",
       "\n",
       "    .dataframe thead th {\n",
       "        text-align: right;\n",
       "    }\n",
       "</style>\n",
       "<table border=\"1\" class=\"dataframe\">\n",
       "  <thead>\n",
       "    <tr style=\"text-align: right;\">\n",
       "      <th></th>\n",
       "      <th>Price</th>\n",
       "      <th>RegistrationYear</th>\n",
       "      <th>Power</th>\n",
       "      <th>Mileage</th>\n",
       "      <th>RegistrationMonth</th>\n",
       "      <th>NumberOfPictures</th>\n",
       "      <th>PostalCode</th>\n",
       "    </tr>\n",
       "  </thead>\n",
       "  <tbody>\n",
       "    <tr>\n",
       "      <th>count</th>\n",
       "      <td>354369.000000</td>\n",
       "      <td>354369.000000</td>\n",
       "      <td>354369.000000</td>\n",
       "      <td>354369.000000</td>\n",
       "      <td>354369.000000</td>\n",
       "      <td>354369.0</td>\n",
       "      <td>354369.000000</td>\n",
       "    </tr>\n",
       "    <tr>\n",
       "      <th>mean</th>\n",
       "      <td>4416.656776</td>\n",
       "      <td>2004.234448</td>\n",
       "      <td>110.094337</td>\n",
       "      <td>128211.172535</td>\n",
       "      <td>5.714645</td>\n",
       "      <td>0.0</td>\n",
       "      <td>50508.689087</td>\n",
       "    </tr>\n",
       "    <tr>\n",
       "      <th>std</th>\n",
       "      <td>4514.158514</td>\n",
       "      <td>90.227958</td>\n",
       "      <td>189.850405</td>\n",
       "      <td>37905.341530</td>\n",
       "      <td>3.726421</td>\n",
       "      <td>0.0</td>\n",
       "      <td>25783.096248</td>\n",
       "    </tr>\n",
       "    <tr>\n",
       "      <th>min</th>\n",
       "      <td>0.000000</td>\n",
       "      <td>1000.000000</td>\n",
       "      <td>0.000000</td>\n",
       "      <td>5000.000000</td>\n",
       "      <td>0.000000</td>\n",
       "      <td>0.0</td>\n",
       "      <td>1067.000000</td>\n",
       "    </tr>\n",
       "    <tr>\n",
       "      <th>25%</th>\n",
       "      <td>1050.000000</td>\n",
       "      <td>1999.000000</td>\n",
       "      <td>69.000000</td>\n",
       "      <td>125000.000000</td>\n",
       "      <td>3.000000</td>\n",
       "      <td>0.0</td>\n",
       "      <td>30165.000000</td>\n",
       "    </tr>\n",
       "    <tr>\n",
       "      <th>50%</th>\n",
       "      <td>2700.000000</td>\n",
       "      <td>2003.000000</td>\n",
       "      <td>105.000000</td>\n",
       "      <td>150000.000000</td>\n",
       "      <td>6.000000</td>\n",
       "      <td>0.0</td>\n",
       "      <td>49413.000000</td>\n",
       "    </tr>\n",
       "    <tr>\n",
       "      <th>75%</th>\n",
       "      <td>6400.000000</td>\n",
       "      <td>2008.000000</td>\n",
       "      <td>143.000000</td>\n",
       "      <td>150000.000000</td>\n",
       "      <td>9.000000</td>\n",
       "      <td>0.0</td>\n",
       "      <td>71083.000000</td>\n",
       "    </tr>\n",
       "    <tr>\n",
       "      <th>max</th>\n",
       "      <td>20000.000000</td>\n",
       "      <td>9999.000000</td>\n",
       "      <td>20000.000000</td>\n",
       "      <td>150000.000000</td>\n",
       "      <td>12.000000</td>\n",
       "      <td>0.0</td>\n",
       "      <td>99998.000000</td>\n",
       "    </tr>\n",
       "  </tbody>\n",
       "</table>\n",
       "</div>"
      ],
      "text/plain": [
       "               Price  RegistrationYear          Power        Mileage  \\\n",
       "count  354369.000000     354369.000000  354369.000000  354369.000000   \n",
       "mean     4416.656776       2004.234448     110.094337  128211.172535   \n",
       "std      4514.158514         90.227958     189.850405   37905.341530   \n",
       "min         0.000000       1000.000000       0.000000    5000.000000   \n",
       "25%      1050.000000       1999.000000      69.000000  125000.000000   \n",
       "50%      2700.000000       2003.000000     105.000000  150000.000000   \n",
       "75%      6400.000000       2008.000000     143.000000  150000.000000   \n",
       "max     20000.000000       9999.000000   20000.000000  150000.000000   \n",
       "\n",
       "       RegistrationMonth  NumberOfPictures     PostalCode  \n",
       "count      354369.000000          354369.0  354369.000000  \n",
       "mean            5.714645               0.0   50508.689087  \n",
       "std             3.726421               0.0   25783.096248  \n",
       "min             0.000000               0.0    1067.000000  \n",
       "25%             3.000000               0.0   30165.000000  \n",
       "50%             6.000000               0.0   49413.000000  \n",
       "75%             9.000000               0.0   71083.000000  \n",
       "max            12.000000               0.0   99998.000000  "
      ]
     },
     "execution_count": 5,
     "metadata": {},
     "output_type": "execute_result"
    }
   ],
   "source": [
    "df.describe()"
   ]
  },
  {
   "cell_type": "markdown",
   "metadata": {},
   "source": [
    "Claramente, hay algunas anomalías en las columnas de nuestro conjunto de datos. Por ejemplo, en la columna NumberOfPictures encontramos que está mayormente compuesta por ceros, lo que sugiere que no ofrece información útil y por ende será eliminada en la siguiente fase de análisis. Además, observamos un comportamiento inusual en las distribuciones de las columnas Price, RegistrationYear y Power, con un incremento significativo en el último cuartil de los datos. Este patrón es especialmente notable en la columna Power, donde el valor máximo es aproximadamente 14 veces mayor que el tercer cuartil. \n",
    "\n",
    "Por último, en la columna Mileage notamos que el valor máximo parece ser constante para la mayoría de los registros, lo cual podría indicar un límite establecido por la plataforma donde se publicaron estos anuncios."
   ]
  },
  {
   "cell_type": "markdown",
   "metadata": {},
   "source": [
    "# Columnas con valores atípicos"
   ]
  },
  {
   "cell_type": "markdown",
   "metadata": {},
   "source": [
    "Comencemos viendo como se distribuyen los valores de Mileage."
   ]
  },
  {
   "cell_type": "code",
   "execution_count": 6,
   "metadata": {},
   "outputs": [
    {
     "data": {
      "image/png": "[encoded data removed]",
      "text/plain": [
       "<Figure size 1224x504 with 1 Axes>"
      ]
     },
     "metadata": {
      "needs_background": "light"
     },
     "output_type": "display_data"
    }
   ],
   "source": [
    "df['Mileage'].sort_values(ignore_index=True).plot(figsize=(17,7), grid=True)\n",
    "plt.xticks(np.arange(0,375001, 25000))\n",
    "plt.show()"
   ]
  },
  {
   "cell_type": "markdown",
   "metadata": {},
   "source": [
    "Los valores en esta columna parecen estar estandarizados, lo que sugiere que al publicar el anuncio, los usuarios tienen opciones predefinidas para seleccionar el kilometraje del automóvil, en lugar de tener la libertad de ingresar cualquier valor. Por lo tanto, podemos interpretar que el valor máximo en esta columna representa el límite superior establecido para el kilometraje del vehículo."
   ]
  },
  {
   "cell_type": "markdown",
   "metadata": {},
   "source": [
    "Veamos la columna Power ahora."
   ]
  },
  {
   "cell_type": "code",
   "execution_count": 7,
   "metadata": {},
   "outputs": [
    {
     "data": {
      "text/plain": [
       "<AxesSubplot:>"
      ]
     },
     "execution_count": 7,
     "metadata": {},
     "output_type": "execute_result"
    },
    {
     "data": {
      "image/png": "[encoded data removed]",
      "text/plain": [
       "<Figure size 1224x504 with 1 Axes>"
      ]
     },
     "metadata": {
      "needs_background": "light"
     },
     "output_type": "display_data"
    }
   ],
   "source": [
    "df['Power'].sort_values(ignore_index=True).plot(figsize=(17,7), grid=True)"
   ]
  },
  {
   "cell_type": "markdown",
   "metadata": {},
   "source": [
    "Claramente tenemos un problema al final de estos datos. Creemos un límite superior y veamos como se distribuyen los valores superiores."
   ]
  },
  {
   "cell_type": "code",
   "execution_count": 8,
   "metadata": {},
   "outputs": [
    {
     "data": {
      "text/plain": [
       "<AxesSubplot:>"
      ]
     },
     "execution_count": 8,
     "metadata": {},
     "output_type": "execute_result"
    },
    {
     "data": {
      "image/png": "[encoded data removed]",
      "text/plain": [
       "<Figure size 1224x504 with 1 Axes>"
      ]
     },
     "metadata": {
      "needs_background": "light"
     },
     "output_type": "display_data"
    }
   ],
   "source": [
    "df[df['Power']<=500]['Power'].sort_values(ignore_index=True).plot(figsize=(17,7), grid=True)"
   ]
  },
  {
   "cell_type": "code",
   "execution_count": 9,
   "metadata": {},
   "outputs": [
    {
     "data": {
      "text/plain": [
       "0.8864883779337357"
      ]
     },
     "execution_count": 9,
     "metadata": {},
     "output_type": "execute_result"
    }
   ],
   "source": [
    "\n",
    "len(df[df['Power']>0])/len(df)"
   ]
  },
  {
   "cell_type": "markdown",
   "metadata": {},
   "source": [
    "Ahora, con una visión más clara de los valores en esta columna, identificamos la presencia de algunos anuncios con una potencia de 0 en el extremo inferior. Esta discrepancia carece de sentido y, aunque representa más del 10% de los datos, es necesario eliminar estas filas. Con su eliminación, esperamos también eliminar algunos de los valores vacíos y atípicos en otras columnas. Al observar el extremo superior, notamos un crecimiento desproporcionado en los valores después de alcanzar los 300 de potencia."
   ]
  },
  {
   "cell_type": "code",
   "execution_count": 10,
   "metadata": {},
   "outputs": [
    {
     "data": {
      "text/plain": [
       "<AxesSubplot:>"
      ]
     },
     "execution_count": 10,
     "metadata": {},
     "output_type": "execute_result"
    },
    {
     "data": {
      "image/png": "[encoded data removed]",
      "text/plain": [
       "<Figure size 1224x504 with 1 Axes>"
      ]
     },
     "metadata": {
      "needs_background": "light"
     },
     "output_type": "display_data"
    }
   ],
   "source": [
    "df[(df['Power']<=300) & (df['Power']>40)]['Power'].sort_values(ignore_index=True).plot(figsize=(17,7), grid=True)"
   ]
  },
  {
   "cell_type": "markdown",
   "metadata": {},
   "source": [
    "Ahora si tenemos un grupo de datos que se comportan más normalmente, aunque continuamos con extremos con comportamientos atípicos. Se podría llegar a considerar el rango entre 40 y 300 de poder."
   ]
  },
  {
   "cell_type": "markdown",
   "metadata": {},
   "source": [
    "Finalmente veamos la columna RegistrationYear."
   ]
  },
  {
   "cell_type": "code",
   "execution_count": 11,
   "metadata": {},
   "outputs": [
    {
     "data": {
      "text/plain": [
       "<AxesSubplot:>"
      ]
     },
     "execution_count": 11,
     "metadata": {},
     "output_type": "execute_result"
    },
    {
     "data": {
      "image/png": "[encoded data removed]",
      "text/plain": [
       "<Figure size 1224x504 with 1 Axes>"
      ]
     },
     "metadata": {
      "needs_background": "light"
     },
     "output_type": "display_data"
    }
   ],
   "source": [
    "df['RegistrationYear'].sort_values(ignore_index=True).plot(figsize=(17,7), grid=True)"
   ]
  },
  {
   "cell_type": "markdown",
   "metadata": {},
   "source": [
    "Que increíbles anuncios, Desde automóviles del año 1000 hasta otros del año 9999. Sin embargo, nos encontramos con varios valores que están fuera de un rango razonable, como anuncios de autos registrados en el futuro o hace más de 100 años. Aunque algunos de estos podrían ser considerados como clásicos de colección, resulta improbable que los automóviles hayan sido registrados hace 500 o 1000 años. Por lo tanto, vamos a filtrar estos valores y examinar cómo se distribuyen los años restantes."
   ]
  },
  {
   "cell_type": "code",
   "execution_count": 12,
   "metadata": {},
   "outputs": [
    {
     "data": {
      "image/png": "[encoded data removed]",
      "text/plain": [
       "<Figure size 1224x504 with 1 Axes>"
      ]
     },
     "metadata": {
      "needs_background": "light"
     },
     "output_type": "display_data"
    }
   ],
   "source": [
    "df[(df['RegistrationYear']<=2023) & (df['RegistrationYear']>1920)]['RegistrationYear'].sort_values(ignore_index=True).plot(figsize=(17,7), grid=True)\n",
    "plt.yticks(np.arange(1920, 2030, 5))\n",
    "plt.show()"
   ]
  },
  {
   "cell_type": "code",
   "execution_count": 13,
   "metadata": {},
   "outputs": [
    {
     "data": {
      "text/plain": [
       "0.9645002807807681"
      ]
     },
     "execution_count": 13,
     "metadata": {},
     "output_type": "execute_result"
    }
   ],
   "source": [
    "len(df[(df['RegistrationYear']<=2023) & (df['RegistrationYear']>1990)])/len(df)"
   ]
  },
  {
   "cell_type": "markdown",
   "metadata": {},
   "source": [
    "El rango de años ahora parece más razonable, aunque aún hay una cantidad significativa de anuncios de automóviles muy antiguos. Esta tendencia podría ser objeto de exploración por parte del equipo técnico o en investigaciones posteriores. Al igual que con la columna anterior, optaremos por considerar solo el rango que muestra un comportamiento más estable. Por lo tanto, nos centraremos en los anuncios con registros desde el año 1990 hasta el presente."
   ]
  },
  {
   "cell_type": "markdown",
   "metadata": {},
   "source": [
    "# Columnas categóricas"
   ]
  },
  {
   "cell_type": "code",
   "execution_count": 14,
   "metadata": {},
   "outputs": [
    {
     "data": {
      "text/plain": [
       "sedan          0.288618\n",
       "small          0.251929\n",
       "wagon          0.205649\n",
       "bus            0.090808\n",
       "convertible    0.063756\n",
       "coupe          0.051007\n",
       "suv            0.037857\n",
       "other          0.010376\n",
       "Name: VehicleType, dtype: float64"
      ]
     },
     "execution_count": 14,
     "metadata": {},
     "output_type": "execute_result"
    }
   ],
   "source": [
    "df['VehicleType'].value_counts(normalize=True)"
   ]
  },
  {
   "cell_type": "markdown",
   "metadata": {},
   "source": [
    "Una gran variedad de tipos de automovil, aunque la mayoría de estos son de tipo sedan, small o wagon, también tenemos un pequeño grupo con tipo desconocido de automovil. Esta columna también cuenta con una importante cantidad de datos vacíos, en este caso los colocaremos en la categoría other."
   ]
  },
  {
   "cell_type": "code",
   "execution_count": 15,
   "metadata": {},
   "outputs": [
    {
     "data": {
      "text/plain": [
       "manual    0.80186\n",
       "auto      0.19814\n",
       "Name: Gearbox, dtype: float64"
      ]
     },
     "execution_count": 15,
     "metadata": {},
     "output_type": "execute_result"
    }
   ],
   "source": [
    "df['Gearbox'].value_counts(normalize=True)"
   ]
  },
  {
   "cell_type": "markdown",
   "metadata": {},
   "source": [
    "La mayoría de los autos son manuales, interesante considerando que la mayoría de los nuevos autos son automáticos de fábrica."
   ]
  },
  {
   "cell_type": "code",
   "execution_count": 16,
   "metadata": {},
   "outputs": [
    {
     "data": {
      "text/plain": [
       "golf                  0.087347\n",
       "other                 0.072972\n",
       "3er                   0.059047\n",
       "polo                  0.039042\n",
       "corsa                 0.037560\n",
       "                        ...   \n",
       "serie_2               0.000024\n",
       "rangerover            0.000012\n",
       "serie_3               0.000012\n",
       "serie_1               0.000006\n",
       "range_rover_evoque    0.000006\n",
       "Name: Model, Length: 250, dtype: float64"
      ]
     },
     "execution_count": 16,
     "metadata": {},
     "output_type": "execute_result"
    }
   ],
   "source": [
    "df['Model'].value_counts(normalize=True)"
   ]
  },
  {
   "cell_type": "code",
   "execution_count": 17,
   "metadata": {},
   "outputs": [
    {
     "data": {
      "text/plain": [
       "count      250.000000\n",
       "mean      1338.656000\n",
       "std       3277.262009\n",
       "min          2.000000\n",
       "25%        145.250000\n",
       "50%        369.000000\n",
       "75%        888.750000\n",
       "max      29232.000000\n",
       "Name: Model, dtype: float64"
      ]
     },
     "execution_count": 17,
     "metadata": {},
     "output_type": "execute_result"
    }
   ],
   "source": [
    "df['Model'].value_counts().describe()"
   ]
  },
  {
   "cell_type": "code",
   "execution_count": 18,
   "metadata": {},
   "outputs": [
    {
     "data": {
      "text/plain": [
       "<AxesSubplot:>"
      ]
     },
     "execution_count": 18,
     "metadata": {},
     "output_type": "execute_result"
    },
    {
     "data": {
      "image/png": "[encoded data removed]",
      "text/plain": [
       "<Figure size 432x288 with 1 Axes>"
      ]
     },
     "metadata": {
      "needs_background": "light"
     },
     "output_type": "display_data"
    }
   ],
   "source": [
    "df['Model'].value_counts(normalize=True).plot()"
   ]
  },
  {
   "cell_type": "markdown",
   "metadata": {},
   "source": [
    "Tenemos un total de 250 modelos diferentes. Aunque algunos son favoritos, la cantidad de anuncios por modelo es bastante baja. Debido a la gran diversidad de modelos, codificar esta columna para su procesamiento por parte de nuestros modelos de machine learning podría plantear un desafío significativo. Esto prolongaría considerablemente el tiempo de procesamiento y podría sesgar las predicciones al haber tantas disparidades en la cantidad de anuncios por modelo. En consecuencia, puede ser más prudente eliminar esta columna del conjunto de datos."
   ]
  },
  {
   "cell_type": "code",
   "execution_count": 19,
   "metadata": {},
   "outputs": [
    {
     "data": {
      "text/plain": [
       "petrol      0.673000\n",
       "gasoline    0.307085\n",
       "lpg         0.016518\n",
       "cng         0.001758\n",
       "hybrid      0.000725\n",
       "other       0.000635\n",
       "electric    0.000280\n",
       "Name: FuelType, dtype: float64"
      ]
     },
     "execution_count": 19,
     "metadata": {},
     "output_type": "execute_result"
    }
   ],
   "source": [
    "df['FuelType'].value_counts(normalize=True)"
   ]
  },
  {
   "cell_type": "markdown",
   "metadata": {},
   "source": [
    "Aunque la mayoría de los autos parecen seguir siendo de combustión interna, es agradeble comenzar a ver algunos autos con otras formas de energía. Al igual que con la columna VehicleType, llenaremos los datos vacíos de esta columna con la categoría other."
   ]
  },
  {
   "cell_type": "code",
   "execution_count": 20,
   "metadata": {},
   "outputs": [
    {
     "data": {
      "text/plain": [
       "volkswagen        77013\n",
       "opel              39931\n",
       "bmw               36914\n",
       "mercedes_benz     32046\n",
       "audi              29456\n",
       "ford              25179\n",
       "renault           17927\n",
       "peugeot           10998\n",
       "fiat               9643\n",
       "seat               6907\n",
       "mazda              5615\n",
       "skoda              5500\n",
       "smart              5246\n",
       "citroen            5148\n",
       "nissan             4941\n",
       "toyota             4606\n",
       "hyundai            3587\n",
       "sonstige_autos     3374\n",
       "volvo              3210\n",
       "mini               3202\n",
       "mitsubishi         3022\n",
       "honda              2817\n",
       "kia                2465\n",
       "suzuki             2323\n",
       "alfa_romeo         2314\n",
       "chevrolet          1754\n",
       "chrysler           1439\n",
       "dacia               900\n",
       "daihatsu            806\n",
       "subaru              762\n",
       "porsche             758\n",
       "jeep                677\n",
       "trabant             589\n",
       "land_rover          545\n",
       "daewoo              542\n",
       "saab                526\n",
       "jaguar              505\n",
       "rover               486\n",
       "lancia              471\n",
       "lada                225\n",
       "Name: Brand, dtype: int64"
      ]
     },
     "execution_count": 20,
     "metadata": {},
     "output_type": "execute_result"
    }
   ],
   "source": [
    "df['Brand'].value_counts()"
   ]
  },
  {
   "cell_type": "code",
   "execution_count": 21,
   "metadata": {},
   "outputs": [
    {
     "data": {
      "text/plain": [
       "no     247161\n",
       "yes     36054\n",
       "Name: NotRepaired, dtype: int64"
      ]
     },
     "execution_count": 21,
     "metadata": {},
     "output_type": "execute_result"
    }
   ],
   "source": [
    "df['NotRepaired'].value_counts()"
   ]
  },
  {
   "cell_type": "markdown",
   "metadata": {},
   "source": [
    "Esta columna es además la que tiene la mayor cantidad de datos faltantes. Si vemos la mayoría de los datos existentes, podemos ver como llenar el resto de los datos. Por la gran mayoría que tienen, los datos vacíos pasarán a ser de la categoría no. También es bueno mencionar que esta columna podrá codificarse fácilmente sin la necesidad de crear columnas adicionales."
   ]
  },
  {
   "cell_type": "markdown",
   "metadata": {},
   "source": [
    "# Preparación de los datos"
   ]
  },
  {
   "cell_type": "markdown",
   "metadata": {},
   "source": [
    "Antes de alterar los datos al prepararlos, creemos una copia de los datos por si se necesitan comparaciones."
   ]
  },
  {
   "cell_type": "code",
   "execution_count": 22,
   "metadata": {},
   "outputs": [],
   "source": [
    "df_raw = df.copy()"
   ]
  },
  {
   "cell_type": "markdown",
   "metadata": {},
   "source": [
    "# Columnas a eliminar"
   ]
  },
  {
   "cell_type": "markdown",
   "metadata": {},
   "source": [
    "Nuestros modelos tendrán problemas con las columnas de fechas y las columnas PostalCode y Model solo confundirán a nuestros modelos. Eliminaremos todas estas columnas y le ahorraremos tiempo a los modelos."
   ]
  },
  {
   "cell_type": "code",
   "execution_count": 23,
   "metadata": {},
   "outputs": [],
   "source": [
    "# Eliminamos las columnas\n",
    "df = df.drop(['DateCrawled', 'DateCreated', 'LastSeen', 'PostalCode', 'NumberOfPictures'], axis=1)"
   ]
  },
  {
   "cell_type": "code",
   "execution_count": 24,
   "metadata": {},
   "outputs": [
    {
     "name": "stdout",
     "output_type": "stream",
     "text": [
      "<class 'pandas.core.frame.DataFrame'>\n",
      "RangeIndex: 354369 entries, 0 to 354368\n",
      "Data columns (total 11 columns):\n",
      " #   Column             Non-Null Count   Dtype \n",
      "---  ------             --------------   ----- \n",
      " 0   Price              354369 non-null  int64 \n",
      " 1   VehicleType        316879 non-null  object\n",
      " 2   RegistrationYear   354369 non-null  int64 \n",
      " 3   Gearbox            334536 non-null  object\n",
      " 4   Power              354369 non-null  int64 \n",
      " 5   Model              334664 non-null  object\n",
      " 6   Mileage            354369 non-null  int64 \n",
      " 7   RegistrationMonth  354369 non-null  int64 \n",
      " 8   FuelType           321474 non-null  object\n",
      " 9   Brand              354369 non-null  object\n",
      " 10  NotRepaired        283215 non-null  object\n",
      "dtypes: int64(5), object(6)\n",
      "memory usage: 29.7+ MB\n"
     ]
    }
   ],
   "source": [
    "# Comprobamos como queda el DataFrame\n",
    "df.info()"
   ]
  },
  {
   "cell_type": "markdown",
   "metadata": {},
   "source": [
    "# Podado de datos atípicos\n",
    "Apliquemos los límites que encontramos en la exploración de datos."
   ]
  },
  {
   "cell_type": "code",
   "execution_count": 25,
   "metadata": {},
   "outputs": [],
   "source": [
    "df = df[(df['Power']<=300) & (df['Power']>=40)]\n",
    "df = df[(df['RegistrationYear']<=2023) & (df['RegistrationYear']>=1990)]"
   ]
  },
  {
   "cell_type": "code",
   "execution_count": 26,
   "metadata": {},
   "outputs": [
    {
     "name": "stdout",
     "output_type": "stream",
     "text": [
      "<class 'pandas.core.frame.DataFrame'>\n",
      "Int64Index: 302760 entries, 1 to 354368\n",
      "Data columns (total 11 columns):\n",
      " #   Column             Non-Null Count   Dtype \n",
      "---  ------             --------------   ----- \n",
      " 0   Price              302760 non-null  int64 \n",
      " 1   VehicleType        280532 non-null  object\n",
      " 2   RegistrationYear   302760 non-null  int64 \n",
      " 3   Gearbox            296626 non-null  object\n",
      " 4   Power              302760 non-null  int64 \n",
      " 5   Model              290821 non-null  object\n",
      " 6   Mileage            302760 non-null  int64 \n",
      " 7   RegistrationMonth  302760 non-null  int64 \n",
      " 8   FuelType           282432 non-null  object\n",
      " 9   Brand              302760 non-null  object\n",
      " 10  NotRepaired        255375 non-null  object\n",
      "dtypes: int64(5), object(6)\n",
      "memory usage: 27.7+ MB\n"
     ]
    }
   ],
   "source": [
    "df.info()"
   ]
  },
  {
   "cell_type": "markdown",
   "metadata": {},
   "source": [
    "Al parecer teníamos razón. La grán mayoría de los datos vacíos correspondía a los anuncios fuera de rangos normales. Ahora que tenemos datos dentro de rangos razonables, continuemos llenando los espacios que nos quedan."
   ]
  },
  {
   "cell_type": "markdown",
   "metadata": {},
   "source": [
    "# Datos vacíos"
   ]
  },
  {
   "cell_type": "code",
   "execution_count": 27,
   "metadata": {},
   "outputs": [],
   "source": [
    "df['VehicleType'].fillna(value='other', axis=0, inplace=True)\n",
    "df['FuelType'].fillna(value='other', axis=0, inplace=True)\n",
    "df['Gearbox'].fillna(value='manual', axis=0, inplace=True)\n",
    "df['NotRepaired'].fillna(value='no', axis=0, inplace=True)\n",
    "df['Model'].fillna(value='unkown', axis=0, inplace=True)"
   ]
  },
  {
   "cell_type": "code",
   "execution_count": 28,
   "metadata": {},
   "outputs": [
    {
     "name": "stdout",
     "output_type": "stream",
     "text": [
      "<class 'pandas.core.frame.DataFrame'>\n",
      "Int64Index: 302760 entries, 1 to 354368\n",
      "Data columns (total 11 columns):\n",
      " #   Column             Non-Null Count   Dtype \n",
      "---  ------             --------------   ----- \n",
      " 0   Price              302760 non-null  int64 \n",
      " 1   VehicleType        302760 non-null  object\n",
      " 2   RegistrationYear   302760 non-null  int64 \n",
      " 3   Gearbox            302760 non-null  object\n",
      " 4   Power              302760 non-null  int64 \n",
      " 5   Model              302760 non-null  object\n",
      " 6   Mileage            302760 non-null  int64 \n",
      " 7   RegistrationMonth  302760 non-null  int64 \n",
      " 8   FuelType           302760 non-null  object\n",
      " 9   Brand              302760 non-null  object\n",
      " 10  NotRepaired        302760 non-null  object\n",
      "dtypes: int64(5), object(6)\n",
      "memory usage: 27.7+ MB\n"
     ]
    }
   ],
   "source": [
    "df.info()"
   ]
  },
  {
   "cell_type": "markdown",
   "metadata": {},
   "source": [
    "# Columnas str\n",
    "Ahora codifiquemos las columnas con datos de tipo str para que nuestros modelos no tengan problemas."
   ]
  },
  {
   "cell_type": "code",
   "execution_count": 29,
   "metadata": {},
   "outputs": [
    {
     "name": "stdout",
     "output_type": "stream",
     "text": [
      "<class 'pandas.core.frame.DataFrame'>\n",
      "Int64Index: 302760 entries, 1 to 354368\n",
      "Data columns (total 11 columns):\n",
      " #   Column             Non-Null Count   Dtype \n",
      "---  ------             --------------   ----- \n",
      " 0   Price              302760 non-null  int64 \n",
      " 1   VehicleType        302760 non-null  object\n",
      " 2   RegistrationYear   302760 non-null  int64 \n",
      " 3   Gearbox            302760 non-null  object\n",
      " 4   Power              302760 non-null  int64 \n",
      " 5   Model              302760 non-null  object\n",
      " 6   Mileage            302760 non-null  int64 \n",
      " 7   RegistrationMonth  302760 non-null  int64 \n",
      " 8   FuelType           302760 non-null  object\n",
      " 9   Brand              302760 non-null  object\n",
      " 10  NotRepaired        302760 non-null  object\n",
      "dtypes: int64(5), object(6)\n",
      "memory usage: 27.7+ MB\n"
     ]
    }
   ],
   "source": [
    "df.info()"
   ]
  },
  {
   "cell_type": "code",
   "execution_count": 30,
   "metadata": {},
   "outputs": [
    {
     "data": {
      "text/plain": [
       "(302760, 20)"
      ]
     },
     "execution_count": 30,
     "metadata": {},
     "output_type": "execute_result"
    }
   ],
   "source": [
    "df_ = df.copy()\n",
    "\n",
    "# Aplicamos el método OrdinalEncoder\n",
    "enc = OrdinalEncoder()\n",
    "df_enc = df_.copy()\n",
    "df_enc[['VehicleType', 'FuelType', 'NotRepaired', 'Gearbox', 'Model', 'Brand']] = enc.fit_transform(df_[['VehicleType', 'FuelType', 'NotRepaired', 'Gearbox', 'Model', 'Brand']])\n",
    "\n",
    "# Eliminamos las columnas Model y Brand por su gran cantidd de variables\n",
    "df_ = df.drop(['Model', 'Brand'], axis=1)\n",
    "\n",
    "# Creamos las variables dummies, excepto por las columnas Model y Brand por su gran cantidad\n",
    "df_ohe = pd.get_dummies(df_, drop_first=True)\n",
    "\n",
    "# Veamos como queda el set de datos\n",
    "df_ohe.shape"
   ]
  },
  {
   "cell_type": "markdown",
   "metadata": {},
   "source": [
    "# Features y Targets"
   ]
  },
  {
   "cell_type": "code",
   "execution_count": 31,
   "metadata": {},
   "outputs": [],
   "source": [
    "rs = RandomState(54321) # Fijemos una semilla para estabilidad"
   ]
  },
  {
   "cell_type": "markdown",
   "metadata": {},
   "source": [
    "Separamos los datos codificados con OrdinalEncoder:"
   ]
  },
  {
   "cell_type": "code",
   "execution_count": 32,
   "metadata": {},
   "outputs": [
    {
     "name": "stdout",
     "output_type": "stream",
     "text": [
      "(181656, 10)\n",
      "(181656,)\n",
      "(60552, 10)\n",
      "(60552,)\n",
      "(60552, 10)\n",
      "(60552,)\n"
     ]
    }
   ],
   "source": [
    "# Separamos los datos para la validación\n",
    "rest_enc, valid = train_test_split(df_enc, test_size=0.20, random_state=rs)\n",
    "\n",
    "# Separamos los datos para entrenamiento y testeo\n",
    "train, test = train_test_split(rest_enc, test_size=0.25, random_state=rs)\n",
    "\n",
    "# Creamos features y targets para entrenaminto\n",
    "features_train_enc = train.drop('Price', axis=1)\n",
    "targets_train_enc = train['Price']\n",
    "\n",
    "# Creamos features y targets para testeo\n",
    "features_test_enc = test.drop('Price', axis=1)\n",
    "targets_test_enc = test['Price']\n",
    "\n",
    "# Creamos features y targets para validación\n",
    "features_valid_enc = valid.drop('Price', axis=1)\n",
    "targets_valid_enc = valid['Price']\n",
    "\n",
    "# Creamos features y targets para el entrenamiento de la validación\n",
    "features_rest_enc = rest_enc.drop('Price', axis=1)\n",
    "targets_rest_enc = rest_enc['Price']\n",
    "\n",
    "# Comprobemos el tamaño de los sets\n",
    "print(features_train_enc.shape)\n",
    "print(targets_train_enc.shape)\n",
    "print(features_test_enc.shape)\n",
    "print(targets_test_enc.shape)\n",
    "print(features_valid_enc.shape)\n",
    "print(targets_valid_enc.shape)"
   ]
  },
  {
   "cell_type": "markdown",
   "metadata": {},
   "source": [
    "Separamos los datos codificados con OHE:"
   ]
  },
  {
   "cell_type": "code",
   "execution_count": 33,
   "metadata": {},
   "outputs": [
    {
     "name": "stdout",
     "output_type": "stream",
     "text": [
      "(181656, 19)\n",
      "(181656,)\n",
      "(60552, 19)\n",
      "(60552,)\n",
      "(60552, 19)\n",
      "(60552,)\n"
     ]
    }
   ],
   "source": [
    "# Separamos los datos para la validación\n",
    "rest_ohe, valid = train_test_split(df_ohe, test_size=0.20, random_state=rs)\n",
    "\n",
    "# Separamos los datos para entrenamiento y testeo\n",
    "train, test = train_test_split(rest_ohe, test_size=0.25, random_state=rs)\n",
    "\n",
    "# Creamos features y targets para entrenaminto\n",
    "features_train_ohe = train.drop('Price', axis=1)\n",
    "targets_train_ohe = train['Price']\n",
    "\n",
    "# Creamos features y targets para testeo\n",
    "features_test_ohe = test.drop('Price', axis=1)\n",
    "targets_test_ohe = test['Price']\n",
    "\n",
    "# Creamos features y targets para validación\n",
    "features_valid_ohe = valid.drop('Price', axis=1)\n",
    "targets_valid_ohe = valid['Price']\n",
    "\n",
    "# Creamos features y targets para el entrenamiento de la validación\n",
    "features_rest_ohe = rest_ohe.drop('Price', axis=1)\n",
    "targets_rest_ohe = rest_ohe['Price']\n",
    "\n",
    "# Comprobemos el tamaño de los sets\n",
    "print(features_train_ohe.shape)\n",
    "print(targets_train_ohe.shape)\n",
    "print(features_test_ohe.shape)\n",
    "print(targets_test_ohe.shape)\n",
    "print(features_valid_ohe.shape)\n",
    "print(targets_valid_ohe.shape)"
   ]
  },
  {
   "cell_type": "markdown",
   "metadata": {},
   "source": [
    "Ahora separamos los datos no codificados:"
   ]
  },
  {
   "cell_type": "code",
   "execution_count": 34,
   "metadata": {},
   "outputs": [
    {
     "name": "stdout",
     "output_type": "stream",
     "text": [
      "(181656, 10)\n",
      "(181656,)\n",
      "(60552, 10)\n",
      "(60552,)\n",
      "(60552, 10)\n",
      "(60552,)\n"
     ]
    }
   ],
   "source": [
    "# Separamos los datos para la validación\n",
    "rest, valid = train_test_split(df, test_size=0.20, random_state=rs)\n",
    "\n",
    "# Separamos los datos para entrenamiento y testeo\n",
    "train, test = train_test_split(rest, test_size=0.25, random_state=rs)\n",
    "\n",
    "# Creamos features y targets para entrenaminto\n",
    "features_train = train.drop('Price', axis=1)\n",
    "targets_train = train['Price']\n",
    "\n",
    "# Creamos features y targets para testeo\n",
    "features_test = test.drop('Price', axis=1)\n",
    "targets_test = test['Price']\n",
    "\n",
    "# Creamos features y targets para validación\n",
    "features_valid = valid.drop('Price', axis=1)\n",
    "targets_valid = valid['Price']\n",
    "\n",
    "# Creamos features y targets para el entrenamiento de la validación\n",
    "features_rest = rest.drop('Price', axis=1)\n",
    "targets_rest = rest['Price']\n",
    "\n",
    "# Comprobemos el tamaño de los sets\n",
    "print(features_train.shape)\n",
    "print(targets_train.shape)\n",
    "print(features_test.shape)\n",
    "print(targets_test.shape)\n",
    "print(features_valid.shape)\n",
    "print(targets_valid.shape)"
   ]
  },
  {
   "cell_type": "markdown",
   "metadata": {},
   "source": [
    "# Entrenamiento del modelo"
   ]
  },
  {
   "cell_type": "markdown",
   "metadata": {},
   "source": [
    "## Prueba de cordura con regresión lineal"
   ]
  },
  {
   "cell_type": "code",
   "execution_count": 36,
   "metadata": {},
   "outputs": [
    {
     "name": "stdout",
     "output_type": "stream",
     "text": [
      "Tiempo de entrenamiento:\n",
      "CPU times: user 149 ms, sys: 66.7 ms, total: 216 ms\n",
      "Wall time: 163 ms\n",
      "\n",
      "Tiempo de predicción:\n",
      "CPU times: user 11.7 ms, sys: 26.1 ms, total: 37.8 ms\n",
      "Wall time: 84 ms\n",
      "\n",
      "RECM:\n",
      "2662.372294314971\n"
     ]
    }
   ],
   "source": [
    "reg = LinearRegression()\n",
    "print('Tiempo de entrenamiento:')\n",
    "%time reg.fit(features_train_ohe, targets_train_ohe)\n",
    "print()\n",
    "print('Tiempo de predicción:')\n",
    "%time reg_pred_ohe = reg.predict(features_valid_ohe)\n",
    "print()\n",
    "print('RECM:')\n",
    "print(mean_squared_error(targets_valid_ohe, reg_pred_ohe)**0.5)"
   ]
  },
  {
   "cell_type": "markdown",
   "metadata": {},
   "source": [
    "## Bosque aleatorio con ajuste de hiperparámetros"
   ]
  },
  {
   "cell_type": "code",
   "execution_count": 37,
   "metadata": {},
   "outputs": [
    {
     "name": "stdout",
     "output_type": "stream",
     "text": [
      "Ronda 1\n",
      "Tiempo de entrenamiento\n",
      "CPU times: user 15 s, sys: 0 ns, total: 15 s\n",
      "Wall time: 15 s\n",
      "Tiempo de predicción\n",
      "CPU times: user 199 ms, sys: 0 ns, total: 199 ms\n",
      "Wall time: 198 ms\n",
      "RECM: 2842.757068515389\n",
      "\n",
      "Ronda 2\n",
      "Tiempo de entrenamiento\n",
      "CPU times: user 15 s, sys: 0 ns, total: 15 s\n",
      "Wall time: 15.1 s\n",
      "Tiempo de predicción\n",
      "CPU times: user 205 ms, sys: 0 ns, total: 205 ms\n",
      "Wall time: 206 ms\n",
      "RECM: 2843.788395609732\n",
      "\n",
      "Ronda 3\n",
      "Tiempo de entrenamiento\n",
      "CPU times: user 14.8 s, sys: 5.35 ms, total: 14.8 s\n",
      "Wall time: 14.9 s\n",
      "Tiempo de predicción\n",
      "CPU times: user 191 ms, sys: 0 ns, total: 191 ms\n",
      "Wall time: 195 ms\n",
      "RECM: 2841.126336913907\n",
      "\n",
      "Ronda 4\n",
      "Tiempo de entrenamiento\n",
      "CPU times: user 14.9 s, sys: 19.1 ms, total: 14.9 s\n",
      "Wall time: 14.9 s\n",
      "Tiempo de predicción\n",
      "CPU times: user 196 ms, sys: 0 ns, total: 196 ms\n",
      "Wall time: 195 ms\n",
      "RECM: 2842.9242798929736\n",
      "\n",
      "Ronda 5\n",
      "Tiempo de entrenamiento\n",
      "CPU times: user 14.8 s, sys: 0 ns, total: 14.8 s\n",
      "Wall time: 14.8 s\n",
      "Tiempo de predicción\n",
      "CPU times: user 189 ms, sys: 0 ns, total: 189 ms\n",
      "Wall time: 189 ms\n",
      "RECM: 2843.035588681552\n",
      "\n",
      "Ronda 6\n",
      "Tiempo de entrenamiento\n",
      "CPU times: user 19.3 s, sys: 15.4 ms, total: 19.4 s\n",
      "Wall time: 19.4 s\n",
      "Tiempo de predicción\n",
      "CPU times: user 251 ms, sys: 0 ns, total: 251 ms\n",
      "Wall time: 250 ms\n",
      "RECM: 2554.9817005459595\n",
      "\n",
      "Ronda 7\n",
      "Tiempo de entrenamiento\n",
      "CPU times: user 19.1 s, sys: 19.6 ms, total: 19.1 s\n",
      "Wall time: 19.2 s\n",
      "Tiempo de predicción\n",
      "CPU times: user 259 ms, sys: 0 ns, total: 259 ms\n",
      "Wall time: 258 ms\n",
      "RECM: 2554.3331138916546\n",
      "\n",
      "Ronda 8\n",
      "Tiempo de entrenamiento\n",
      "CPU times: user 19.4 s, sys: 19.7 ms, total: 19.4 s\n",
      "Wall time: 19.5 s\n",
      "Tiempo de predicción\n",
      "CPU times: user 258 ms, sys: 3.98 ms, total: 262 ms\n",
      "Wall time: 261 ms\n",
      "RECM: 2553.8303043177175\n",
      "\n",
      "Ronda 9\n",
      "Tiempo de entrenamiento\n",
      "CPU times: user 19.7 s, sys: 7.76 ms, total: 19.7 s\n",
      "Wall time: 19.7 s\n",
      "Tiempo de predicción\n",
      "CPU times: user 261 ms, sys: 0 ns, total: 261 ms\n",
      "Wall time: 264 ms\n",
      "RECM: 2553.535146923277\n",
      "\n",
      "Ronda 10\n",
      "Tiempo de entrenamiento\n",
      "CPU times: user 19.2 s, sys: 0 ns, total: 19.2 s\n",
      "Wall time: 19.2 s\n",
      "Tiempo de predicción\n",
      "CPU times: user 251 ms, sys: 3.79 ms, total: 255 ms\n",
      "Wall time: 254 ms\n",
      "RECM: 2552.559456006548\n",
      "\n",
      "Ronda 11\n",
      "Tiempo de entrenamiento\n",
      "CPU times: user 23.4 s, sys: 3.78 ms, total: 23.4 s\n",
      "Wall time: 23.4 s\n",
      "Tiempo de predicción\n",
      "CPU times: user 335 ms, sys: 19 µs, total: 335 ms\n",
      "Wall time: 340 ms\n",
      "RECM: 2347.5532562779267\n",
      "\n",
      "Ronda 12\n",
      "Tiempo de entrenamiento\n",
      "CPU times: user 23.4 s, sys: 7.85 ms, total: 23.4 s\n",
      "Wall time: 23.4 s\n",
      "Tiempo de predicción\n",
      "CPU times: user 325 ms, sys: 7 µs, total: 325 ms\n",
      "Wall time: 329 ms\n",
      "RECM: 2348.2677591578627\n",
      "\n",
      "Ronda 13\n",
      "Tiempo de entrenamiento\n",
      "CPU times: user 23.8 s, sys: 7.86 ms, total: 23.8 s\n",
      "Wall time: 23.9 s\n",
      "Tiempo de predicción\n",
      "CPU times: user 319 ms, sys: 15 µs, total: 319 ms\n",
      "Wall time: 322 ms\n",
      "RECM: 2346.8400171532303\n",
      "\n",
      "Ronda 14\n",
      "Tiempo de entrenamiento\n",
      "CPU times: user 23.7 s, sys: 3.91 ms, total: 23.7 s\n",
      "Wall time: 23.7 s\n",
      "Tiempo de predicción\n",
      "CPU times: user 332 ms, sys: 0 ns, total: 332 ms\n",
      "Wall time: 337 ms\n",
      "RECM: 2349.2866072460183\n",
      "\n",
      "Ronda 15\n",
      "Tiempo de entrenamiento\n",
      "CPU times: user 24.1 s, sys: 7.94 ms, total: 24.1 s\n",
      "Wall time: 24.1 s\n",
      "Tiempo de predicción\n",
      "CPU times: user 326 ms, sys: 0 ns, total: 326 ms\n",
      "Wall time: 329 ms\n",
      "RECM: 2348.067112408636\n",
      "\n",
      "Ronda 16\n",
      "Tiempo de entrenamiento\n",
      "CPU times: user 30.4 s, sys: 15.9 ms, total: 30.4 s\n",
      "Wall time: 30.5 s\n",
      "Tiempo de predicción\n",
      "CPU times: user 390 ms, sys: 8 µs, total: 390 ms\n",
      "Wall time: 393 ms\n",
      "RECM: 2204.267961488954\n",
      "\n",
      "Ronda 17\n",
      "Tiempo de entrenamiento\n",
      "CPU times: user 30.6 s, sys: 871 µs, total: 30.6 s\n",
      "Wall time: 30.7 s\n",
      "Tiempo de predicción\n",
      "CPU times: user 402 ms, sys: 0 ns, total: 402 ms\n",
      "Wall time: 405 ms\n",
      "RECM: 2202.7427564122136\n",
      "\n",
      "Ronda 18\n",
      "Tiempo de entrenamiento\n",
      "CPU times: user 31 s, sys: 19.9 ms, total: 31 s\n",
      "Wall time: 31.2 s\n",
      "Tiempo de predicción\n",
      "CPU times: user 397 ms, sys: 3 µs, total: 397 ms\n",
      "Wall time: 399 ms\n",
      "RECM: 2203.181052174216\n",
      "\n",
      "Ronda 19\n",
      "Tiempo de entrenamiento\n",
      "CPU times: user 27.8 s, sys: 20 ms, total: 27.8 s\n",
      "Wall time: 27.9 s\n",
      "Tiempo de predicción\n",
      "CPU times: user 412 ms, sys: 4 ms, total: 416 ms\n",
      "Wall time: 419 ms\n",
      "RECM: 2204.480206787903\n",
      "\n",
      "Ronda 20\n",
      "Tiempo de entrenamiento\n",
      "CPU times: user 28 s, sys: 20 ms, total: 28.1 s\n",
      "Wall time: 28.1 s\n",
      "Tiempo de predicción\n",
      "CPU times: user 386 ms, sys: 5 µs, total: 386 ms\n",
      "Wall time: 392 ms\n",
      "RECM: 2203.268610170898\n",
      "\n",
      "Ronda 21\n",
      "Tiempo de entrenamiento\n",
      "CPU times: user 32.2 s, sys: 0 ns, total: 32.2 s\n",
      "Wall time: 32.4 s\n",
      "Tiempo de predicción\n",
      "CPU times: user 450 ms, sys: 0 ns, total: 450 ms\n",
      "Wall time: 453 ms\n",
      "RECM: 2089.885540969696\n",
      "\n",
      "Ronda 22\n",
      "Tiempo de entrenamiento\n",
      "CPU times: user 32.3 s, sys: 31.9 ms, total: 32.3 s\n",
      "Wall time: 32.3 s\n",
      "Tiempo de predicción\n",
      "CPU times: user 471 ms, sys: 0 ns, total: 471 ms\n",
      "Wall time: 480 ms\n",
      "RECM: 2090.267687765949\n",
      "\n",
      "Ronda 23\n",
      "Tiempo de entrenamiento\n",
      "CPU times: user 30.9 s, sys: 16 ms, total: 30.9 s\n",
      "Wall time: 31 s\n",
      "Tiempo de predicción\n",
      "CPU times: user 444 ms, sys: 0 ns, total: 444 ms\n",
      "Wall time: 447 ms\n",
      "RECM: 2089.5484410814884\n",
      "\n",
      "Ronda 24\n",
      "Tiempo de entrenamiento\n",
      "CPU times: user 32.5 s, sys: 0 ns, total: 32.5 s\n",
      "Wall time: 32.5 s\n",
      "Tiempo de predicción\n",
      "CPU times: user 459 ms, sys: 0 ns, total: 459 ms\n",
      "Wall time: 461 ms\n",
      "RECM: 2088.022271116855\n",
      "\n",
      "Ronda 25\n",
      "Tiempo de entrenamiento\n",
      "CPU times: user 31.4 s, sys: 19.9 ms, total: 31.4 s\n",
      "Wall time: 31.6 s\n",
      "Tiempo de predicción\n",
      "CPU times: user 451 ms, sys: 4 ms, total: 455 ms\n",
      "Wall time: 458 ms\n",
      "RECM: 2089.6336224144707\n",
      "\n",
      "\n",
      "Mejor ronda: 24\n",
      "Mejor RECM: 2088.022271116855\n"
     ]
    }
   ],
   "source": [
    "score = max(df['Price'])\n",
    "n=1\n",
    "for roots in range(3,8):\n",
    "    for leafs in range(3,8):\n",
    "        print('Ronda', n)\n",
    "        forest = RandomForestRegressor(random_state=rs, max_depth=roots, min_samples_leaf=leafs)\n",
    "        print('Tiempo de entrenamiento')\n",
    "        %time forest.fit(features_train_enc, targets_train_enc)\n",
    "        print('Tiempo de predicción')\n",
    "        %time f_pred = forest.predict(features_valid_enc)\n",
    "        sco = mean_squared_error(targets_valid_enc, f_pred)**0.5\n",
    "        print('RECM:', sco)\n",
    "        print()\n",
    "        if sco<score:\n",
    "            score = sco\n",
    "            best_root = roots\n",
    "            best_leaf = leafs\n",
    "            best_pred = f_pred\n",
    "            best_n = n\n",
    "        n+=1\n",
    "\n",
    "best_forest = RandomForestRegressor(random_state=rs, max_depth=best_root, min_samples_leaf=best_leaf)\n",
    "print()\n",
    "print('Mejor ronda:', best_n)\n",
    "print('Mejor RECM:', score)"
   ]
  },
  {
   "cell_type": "markdown",
   "metadata": {},
   "source": [
    "## Catboost"
   ]
  },
  {
   "cell_type": "code",
   "execution_count": 38,
   "metadata": {},
   "outputs": [
    {
     "name": "stdout",
     "output_type": "stream",
     "text": [
      "Tiempo de entrenamiento:\n",
      "Learning rate set to 0.307588\n",
      "0:\tlearn: 3657.0634461\ttest: 3633.3339094\tbest: 3633.3339094 (0)\ttotal: 376ms\tremaining: 1m 14s\n",
      "1:\tlearn: 3081.2821593\ttest: 3056.1722888\tbest: 3056.1722888 (1)\ttotal: 741ms\tremaining: 1m 13s\n",
      "2:\tlearn: 2705.7786341\ttest: 2683.7706137\tbest: 2683.7706137 (2)\ttotal: 1.03s\tremaining: 1m 7s\n",
      "3:\tlearn: 2433.5986991\ttest: 2411.8094504\tbest: 2411.8094504 (3)\ttotal: 1.35s\tremaining: 1m 6s\n",
      "4:\tlearn: 2262.7276070\ttest: 2243.1399497\tbest: 2243.1399497 (4)\ttotal: 1.7s\tremaining: 1m 6s\n",
      "5:\tlearn: 2155.4552932\ttest: 2136.1549837\tbest: 2136.1549837 (5)\ttotal: 2.02s\tremaining: 1m 5s\n",
      "6:\tlearn: 2082.3766436\ttest: 2063.0159604\tbest: 2063.0159604 (6)\ttotal: 2.31s\tremaining: 1m 3s\n",
      "7:\tlearn: 2024.8213761\ttest: 2004.4715910\tbest: 2004.4715910 (7)\ttotal: 2.51s\tremaining: 1m\n",
      "8:\tlearn: 1984.6773906\ttest: 1965.3154633\tbest: 1965.3154633 (8)\ttotal: 2.77s\tremaining: 58.9s\n",
      "9:\tlearn: 1953.9844665\ttest: 1933.6825279\tbest: 1933.6825279 (9)\ttotal: 3.01s\tremaining: 57.2s\n",
      "10:\tlearn: 1939.1543309\ttest: 1920.5104420\tbest: 1920.5104420 (10)\ttotal: 3.3s\tremaining: 56.7s\n",
      "11:\tlearn: 1921.9133161\ttest: 1903.2323119\tbest: 1903.2323119 (11)\ttotal: 3.66s\tremaining: 57.3s\n",
      "12:\tlearn: 1906.4456784\ttest: 1888.7989385\tbest: 1888.7989385 (12)\ttotal: 3.97s\tremaining: 57.1s\n",
      "13:\tlearn: 1893.3847066\ttest: 1875.3631135\tbest: 1875.3631135 (13)\ttotal: 4.19s\tremaining: 55.7s\n",
      "14:\tlearn: 1882.4266076\ttest: 1864.9310805\tbest: 1864.9310805 (14)\ttotal: 4.45s\tremaining: 54.9s\n",
      "15:\tlearn: 1868.3117583\ttest: 1850.6660136\tbest: 1850.6660136 (15)\ttotal: 4.68s\tremaining: 53.9s\n",
      "16:\tlearn: 1857.0082473\ttest: 1839.1360801\tbest: 1839.1360801 (16)\ttotal: 4.94s\tremaining: 53.1s\n",
      "17:\tlearn: 1851.3130308\ttest: 1834.1880553\tbest: 1834.1880553 (17)\ttotal: 5.2s\tremaining: 52.6s\n",
      "18:\tlearn: 1845.1190692\ttest: 1828.3950212\tbest: 1828.3950212 (18)\ttotal: 5.43s\tremaining: 51.7s\n",
      "19:\tlearn: 1839.4184111\ttest: 1822.9961908\tbest: 1822.9961908 (19)\ttotal: 5.69s\tremaining: 51.2s\n",
      "20:\tlearn: 1831.6937867\ttest: 1816.0551134\tbest: 1816.0551134 (20)\ttotal: 5.99s\tremaining: 51s\n",
      "21:\tlearn: 1826.3951230\ttest: 1810.4067702\tbest: 1810.4067702 (21)\ttotal: 6.25s\tremaining: 50.5s\n",
      "22:\tlearn: 1819.3004299\ttest: 1803.8281369\tbest: 1803.8281369 (22)\ttotal: 6.57s\tremaining: 50.6s\n",
      "23:\tlearn: 1812.8590011\ttest: 1797.5409122\tbest: 1797.5409122 (23)\ttotal: 6.82s\tremaining: 50s\n",
      "24:\tlearn: 1808.4417338\ttest: 1793.3902587\tbest: 1793.3902587 (24)\ttotal: 7.12s\tremaining: 49.8s\n",
      "25:\tlearn: 1804.8218423\ttest: 1789.9990684\tbest: 1789.9990684 (25)\ttotal: 7.4s\tremaining: 49.5s\n",
      "26:\tlearn: 1799.9234719\ttest: 1785.2545543\tbest: 1785.2545543 (26)\ttotal: 7.64s\tremaining: 48.9s\n",
      "27:\tlearn: 1795.7130774\ttest: 1780.9806871\tbest: 1780.9806871 (27)\ttotal: 7.88s\tremaining: 48.4s\n",
      "28:\tlearn: 1790.0704310\ttest: 1775.5975537\tbest: 1775.5975537 (28)\ttotal: 8.13s\tremaining: 47.9s\n",
      "29:\tlearn: 1788.1586140\ttest: 1774.3156109\tbest: 1774.3156109 (29)\ttotal: 8.35s\tremaining: 47.3s\n",
      "30:\tlearn: 1785.3377381\ttest: 1772.6100902\tbest: 1772.6100902 (30)\ttotal: 8.63s\tremaining: 47s\n",
      "31:\tlearn: 1781.3140678\ttest: 1768.6525818\tbest: 1768.6525818 (31)\ttotal: 8.91s\tremaining: 46.8s\n",
      "32:\tlearn: 1777.1190028\ttest: 1764.5522333\tbest: 1764.5522333 (32)\ttotal: 9.21s\tremaining: 46.6s\n",
      "33:\tlearn: 1773.7120844\ttest: 1761.8328265\tbest: 1761.8328265 (33)\ttotal: 9.47s\tremaining: 46.2s\n",
      "34:\tlearn: 1767.7766198\ttest: 1756.3812769\tbest: 1756.3812769 (34)\ttotal: 9.72s\tremaining: 45.9s\n",
      "35:\tlearn: 1764.1515387\ttest: 1752.6238881\tbest: 1752.6238881 (35)\ttotal: 9.97s\tremaining: 45.4s\n",
      "36:\tlearn: 1761.4743075\ttest: 1750.4358439\tbest: 1750.4358439 (36)\ttotal: 10.3s\tremaining: 45.2s\n",
      "37:\tlearn: 1756.5402131\ttest: 1745.3514734\tbest: 1745.3514734 (37)\ttotal: 10.6s\tremaining: 45s\n",
      "38:\tlearn: 1753.6472866\ttest: 1742.5320771\tbest: 1742.5320771 (38)\ttotal: 10.8s\tremaining: 44.5s\n",
      "39:\tlearn: 1751.8164780\ttest: 1741.0844562\tbest: 1741.0844562 (39)\ttotal: 11.1s\tremaining: 44.2s\n",
      "40:\tlearn: 1749.6056852\ttest: 1739.1859849\tbest: 1739.1859849 (40)\ttotal: 11.3s\tremaining: 44s\n",
      "41:\tlearn: 1747.1092487\ttest: 1736.9266431\tbest: 1736.9266431 (41)\ttotal: 11.6s\tremaining: 43.7s\n",
      "42:\tlearn: 1744.2418913\ttest: 1734.0427918\tbest: 1734.0427918 (42)\ttotal: 11.9s\tremaining: 43.4s\n",
      "43:\tlearn: 1741.6983301\ttest: 1732.1455596\tbest: 1732.1455596 (43)\ttotal: 12.2s\tremaining: 43.3s\n",
      "44:\tlearn: 1737.9174373\ttest: 1728.7630359\tbest: 1728.7630359 (44)\ttotal: 12.5s\tremaining: 43.1s\n",
      "45:\tlearn: 1735.4825174\ttest: 1726.5664270\tbest: 1726.5664270 (45)\ttotal: 12.8s\tremaining: 42.9s\n",
      "46:\tlearn: 1733.9511938\ttest: 1725.8965739\tbest: 1725.8965739 (46)\ttotal: 13s\tremaining: 42.4s\n",
      "47:\tlearn: 1731.1378147\ttest: 1723.8127142\tbest: 1723.8127142 (47)\ttotal: 13.3s\tremaining: 42.3s\n",
      "48:\tlearn: 1728.7004803\ttest: 1721.7950935\tbest: 1721.7950935 (48)\ttotal: 13.6s\tremaining: 41.9s\n",
      "49:\tlearn: 1726.0238771\ttest: 1719.1470458\tbest: 1719.1470458 (49)\ttotal: 13.7s\tremaining: 41.2s\n",
      "50:\tlearn: 1723.6422572\ttest: 1717.0347720\tbest: 1717.0347720 (50)\ttotal: 14.1s\tremaining: 41.1s\n",
      "51:\tlearn: 1720.9593482\ttest: 1714.6149503\tbest: 1714.6149503 (51)\ttotal: 14.3s\tremaining: 40.6s\n",
      "52:\tlearn: 1719.0620748\ttest: 1713.5038403\tbest: 1713.5038403 (52)\ttotal: 14.6s\tremaining: 40.4s\n",
      "53:\tlearn: 1717.8396764\ttest: 1712.1579888\tbest: 1712.1579888 (53)\ttotal: 14.9s\tremaining: 40.2s\n",
      "54:\tlearn: 1717.2634722\ttest: 1711.8660346\tbest: 1711.8660346 (54)\ttotal: 15.1s\tremaining: 39.8s\n",
      "55:\tlearn: 1715.5385461\ttest: 1710.2682784\tbest: 1710.2682784 (55)\ttotal: 15.4s\tremaining: 39.6s\n",
      "56:\tlearn: 1713.8027944\ttest: 1709.1533061\tbest: 1709.1533061 (56)\ttotal: 15.6s\tremaining: 39.2s\n",
      "57:\tlearn: 1711.6780984\ttest: 1707.2426794\tbest: 1707.2426794 (57)\ttotal: 15.9s\tremaining: 39s\n",
      "58:\tlearn: 1709.5919272\ttest: 1705.7848727\tbest: 1705.7848727 (58)\ttotal: 16.2s\tremaining: 38.8s\n",
      "59:\tlearn: 1708.3639872\ttest: 1705.0637486\tbest: 1705.0637486 (59)\ttotal: 16.5s\tremaining: 38.5s\n",
      "60:\tlearn: 1706.0234984\ttest: 1703.6834184\tbest: 1703.6834184 (60)\ttotal: 16.7s\tremaining: 38.1s\n",
      "61:\tlearn: 1704.3051250\ttest: 1702.8754388\tbest: 1702.8754388 (61)\ttotal: 17s\tremaining: 37.8s\n",
      "62:\tlearn: 1702.7968988\ttest: 1702.2424048\tbest: 1702.2424048 (62)\ttotal: 17.3s\tremaining: 37.6s\n",
      "63:\tlearn: 1701.0168842\ttest: 1700.6374741\tbest: 1700.6374741 (63)\ttotal: 17.6s\tremaining: 37.3s\n",
      "64:\tlearn: 1699.3827656\ttest: 1699.1960195\tbest: 1699.1960195 (64)\ttotal: 17.9s\tremaining: 37.1s\n",
      "65:\tlearn: 1698.0887817\ttest: 1698.4823460\tbest: 1698.4823460 (65)\ttotal: 18.1s\tremaining: 36.8s\n",
      "66:\tlearn: 1696.2910055\ttest: 1696.9704834\tbest: 1696.9704834 (66)\ttotal: 18.4s\tremaining: 36.6s\n",
      "67:\tlearn: 1694.8681893\ttest: 1696.2086463\tbest: 1696.2086463 (67)\ttotal: 18.7s\tremaining: 36.3s\n",
      "68:\tlearn: 1692.7394843\ttest: 1694.6209525\tbest: 1694.6209525 (68)\ttotal: 18.9s\tremaining: 35.9s\n",
      "69:\tlearn: 1691.5315022\ttest: 1693.9841232\tbest: 1693.9841232 (69)\ttotal: 19.2s\tremaining: 35.6s\n",
      "70:\tlearn: 1689.6151015\ttest: 1692.1693553\tbest: 1692.1693553 (70)\ttotal: 19.4s\tremaining: 35.3s\n",
      "71:\tlearn: 1687.2047172\ttest: 1689.5954232\tbest: 1689.5954232 (71)\ttotal: 19.7s\tremaining: 34.9s\n",
      "72:\tlearn: 1685.6464624\ttest: 1687.3400811\tbest: 1687.3400811 (72)\ttotal: 19.9s\tremaining: 34.6s\n",
      "73:\tlearn: 1685.2746014\ttest: 1686.9754277\tbest: 1686.9754277 (73)\ttotal: 20.1s\tremaining: 34.3s\n",
      "74:\tlearn: 1683.9590221\ttest: 1686.1182113\tbest: 1686.1182113 (74)\ttotal: 20.4s\tremaining: 34.1s\n",
      "75:\tlearn: 1682.9716366\ttest: 1684.8559480\tbest: 1684.8559480 (75)\ttotal: 20.7s\tremaining: 33.8s\n",
      "76:\tlearn: 1681.3931214\ttest: 1683.5528958\tbest: 1683.5528958 (76)\ttotal: 20.9s\tremaining: 33.5s\n",
      "77:\tlearn: 1680.9981937\ttest: 1683.6535814\tbest: 1683.5528958 (76)\ttotal: 21.2s\tremaining: 33.2s\n",
      "78:\tlearn: 1679.6986259\ttest: 1682.3720211\tbest: 1682.3720211 (78)\ttotal: 21.6s\tremaining: 33s\n",
      "79:\tlearn: 1678.6366307\ttest: 1681.2891460\tbest: 1681.2891460 (79)\ttotal: 21.8s\tremaining: 32.6s\n",
      "80:\tlearn: 1677.9115320\ttest: 1680.5883567\tbest: 1680.5883567 (80)\ttotal: 22.1s\tremaining: 32.4s\n",
      "81:\tlearn: 1675.8143485\ttest: 1679.1539062\tbest: 1679.1539062 (81)\ttotal: 22.3s\tremaining: 32.2s\n",
      "82:\tlearn: 1674.7601355\ttest: 1678.8478083\tbest: 1678.8478083 (82)\ttotal: 22.7s\tremaining: 32s\n",
      "83:\tlearn: 1673.7717350\ttest: 1678.1748167\tbest: 1678.1748167 (83)\ttotal: 23s\tremaining: 31.7s\n",
      "84:\tlearn: 1673.2931763\ttest: 1677.7683247\tbest: 1677.7683247 (84)\ttotal: 23.3s\tremaining: 31.5s\n"
     ]
    },
    {
     "name": "stdout",
     "output_type": "stream",
     "text": [
      "85:\tlearn: 1671.9357296\ttest: 1676.8295075\tbest: 1676.8295075 (85)\ttotal: 23.5s\tremaining: 31.2s\n",
      "86:\tlearn: 1670.7853736\ttest: 1675.7535706\tbest: 1675.7535706 (86)\ttotal: 23.8s\tremaining: 30.9s\n",
      "87:\tlearn: 1669.7870413\ttest: 1674.8968608\tbest: 1674.8968608 (87)\ttotal: 24.1s\tremaining: 30.6s\n",
      "88:\tlearn: 1668.8340674\ttest: 1674.4665803\tbest: 1674.4665803 (88)\ttotal: 24.3s\tremaining: 30.3s\n",
      "89:\tlearn: 1667.4420106\ttest: 1673.8033323\tbest: 1673.8033323 (89)\ttotal: 24.6s\tremaining: 30s\n",
      "90:\tlearn: 1666.5416520\ttest: 1673.0307719\tbest: 1673.0307719 (90)\ttotal: 24.8s\tremaining: 29.7s\n",
      "91:\tlearn: 1665.7932006\ttest: 1673.2134673\tbest: 1673.0307719 (90)\ttotal: 25.1s\tremaining: 29.4s\n",
      "92:\tlearn: 1664.7710623\ttest: 1671.9060897\tbest: 1671.9060897 (92)\ttotal: 25.3s\tremaining: 29.1s\n",
      "93:\tlearn: 1664.0240539\ttest: 1671.1454496\tbest: 1671.1454496 (93)\ttotal: 25.5s\tremaining: 28.8s\n",
      "94:\tlearn: 1662.8351121\ttest: 1670.3483039\tbest: 1670.3483039 (94)\ttotal: 25.9s\tremaining: 28.6s\n",
      "95:\tlearn: 1661.9056848\ttest: 1669.7122603\tbest: 1669.7122603 (95)\ttotal: 26.1s\tremaining: 28.2s\n",
      "96:\tlearn: 1660.9726653\ttest: 1669.2974509\tbest: 1669.2974509 (96)\ttotal: 26.3s\tremaining: 27.9s\n",
      "97:\tlearn: 1659.2904401\ttest: 1668.0055454\tbest: 1668.0055454 (97)\ttotal: 26.5s\tremaining: 27.6s\n",
      "98:\tlearn: 1658.4508829\ttest: 1667.1494855\tbest: 1667.1494855 (98)\ttotal: 26.8s\tremaining: 27.3s\n",
      "99:\tlearn: 1657.5117228\ttest: 1666.3202836\tbest: 1666.3202836 (99)\ttotal: 27.1s\tremaining: 27.1s\n",
      "100:\tlearn: 1655.9173562\ttest: 1665.0892655\tbest: 1665.0892655 (100)\ttotal: 27.4s\tremaining: 26.8s\n",
      "101:\tlearn: 1655.0067205\ttest: 1664.2316281\tbest: 1664.2316281 (101)\ttotal: 27.7s\tremaining: 26.6s\n",
      "102:\tlearn: 1654.4971861\ttest: 1663.7483667\tbest: 1663.7483667 (102)\ttotal: 27.9s\tremaining: 26.3s\n",
      "103:\tlearn: 1653.6358059\ttest: 1663.4299819\tbest: 1663.4299819 (103)\ttotal: 28.2s\tremaining: 26s\n",
      "104:\tlearn: 1652.3318448\ttest: 1662.3955767\tbest: 1662.3955767 (104)\ttotal: 28.4s\tremaining: 25.7s\n",
      "105:\tlearn: 1651.3269072\ttest: 1662.1474529\tbest: 1662.1474529 (105)\ttotal: 28.6s\tremaining: 25.4s\n",
      "106:\tlearn: 1649.7932762\ttest: 1660.8571872\tbest: 1660.8571872 (106)\ttotal: 28.9s\tremaining: 25.1s\n",
      "107:\tlearn: 1648.5190738\ttest: 1659.9690486\tbest: 1659.9690486 (107)\ttotal: 29.2s\tremaining: 24.9s\n",
      "108:\tlearn: 1647.9406403\ttest: 1659.7148943\tbest: 1659.7148943 (108)\ttotal: 29.5s\tremaining: 24.6s\n",
      "109:\tlearn: 1647.1082042\ttest: 1659.1675006\tbest: 1659.1675006 (109)\ttotal: 29.8s\tremaining: 24.4s\n",
      "110:\tlearn: 1645.9930508\ttest: 1658.1274823\tbest: 1658.1274823 (110)\ttotal: 30.1s\tremaining: 24.1s\n",
      "111:\tlearn: 1644.9031418\ttest: 1657.2871098\tbest: 1657.2871098 (111)\ttotal: 30.3s\tremaining: 23.8s\n",
      "112:\tlearn: 1644.4426966\ttest: 1657.0086773\tbest: 1657.0086773 (112)\ttotal: 30.5s\tremaining: 23.5s\n",
      "113:\tlearn: 1642.9892650\ttest: 1656.6279277\tbest: 1656.6279277 (113)\ttotal: 30.8s\tremaining: 23.2s\n",
      "114:\tlearn: 1642.4019487\ttest: 1656.5769109\tbest: 1656.5769109 (114)\ttotal: 31.1s\tremaining: 23s\n",
      "115:\tlearn: 1641.8726697\ttest: 1656.0639866\tbest: 1656.0639866 (115)\ttotal: 31.3s\tremaining: 22.7s\n",
      "116:\tlearn: 1640.6056335\ttest: 1655.7483016\tbest: 1655.7483016 (116)\ttotal: 31.6s\tremaining: 22.4s\n",
      "117:\tlearn: 1639.1802156\ttest: 1654.4079283\tbest: 1654.4079283 (117)\ttotal: 31.9s\tremaining: 22.2s\n",
      "118:\tlearn: 1638.1340648\ttest: 1653.8209384\tbest: 1653.8209384 (118)\ttotal: 32.2s\tremaining: 21.9s\n",
      "119:\tlearn: 1637.6834183\ttest: 1653.4823528\tbest: 1653.4823528 (119)\ttotal: 32.4s\tremaining: 21.6s\n",
      "120:\tlearn: 1636.3720891\ttest: 1652.8191284\tbest: 1652.8191284 (120)\ttotal: 32.7s\tremaining: 21.3s\n",
      "121:\tlearn: 1635.6251119\ttest: 1652.1740982\tbest: 1652.1740982 (121)\ttotal: 33s\tremaining: 21.1s\n",
      "122:\tlearn: 1635.2129997\ttest: 1652.0352140\tbest: 1652.0352140 (122)\ttotal: 33.2s\tremaining: 20.8s\n",
      "123:\tlearn: 1634.6833667\ttest: 1651.4933045\tbest: 1651.4933045 (123)\ttotal: 33.4s\tremaining: 20.5s\n",
      "124:\tlearn: 1633.8943137\ttest: 1650.8567662\tbest: 1650.8567662 (124)\ttotal: 33.7s\tremaining: 20.2s\n",
      "125:\tlearn: 1633.0675892\ttest: 1650.4275943\tbest: 1650.4275943 (125)\ttotal: 34s\tremaining: 19.9s\n",
      "126:\tlearn: 1632.4887565\ttest: 1650.6723369\tbest: 1650.4275943 (125)\ttotal: 34.2s\tremaining: 19.7s\n",
      "127:\tlearn: 1632.1262798\ttest: 1650.5203742\tbest: 1650.4275943 (125)\ttotal: 34.5s\tremaining: 19.4s\n",
      "128:\tlearn: 1631.3434115\ttest: 1650.1106271\tbest: 1650.1106271 (128)\ttotal: 34.8s\tremaining: 19.2s\n",
      "129:\tlearn: 1630.3886883\ttest: 1649.6990713\tbest: 1649.6990713 (129)\ttotal: 35.1s\tremaining: 18.9s\n",
      "130:\tlearn: 1629.8699853\ttest: 1649.2796213\tbest: 1649.2796213 (130)\ttotal: 35.3s\tremaining: 18.6s\n",
      "131:\tlearn: 1629.2942238\ttest: 1648.9629083\tbest: 1648.9629083 (131)\ttotal: 35.5s\tremaining: 18.3s\n",
      "132:\tlearn: 1628.8928616\ttest: 1648.9626429\tbest: 1648.9626429 (132)\ttotal: 35.7s\tremaining: 18s\n",
      "133:\tlearn: 1628.2231881\ttest: 1648.7529667\tbest: 1648.7529667 (133)\ttotal: 36s\tremaining: 17.7s\n",
      "134:\tlearn: 1627.3252710\ttest: 1648.1895167\tbest: 1648.1895167 (134)\ttotal: 36.2s\tremaining: 17.4s\n",
      "135:\tlearn: 1626.5002210\ttest: 1648.1228944\tbest: 1648.1228944 (135)\ttotal: 36.5s\tremaining: 17.2s\n",
      "136:\tlearn: 1625.7593634\ttest: 1647.4828525\tbest: 1647.4828525 (136)\ttotal: 36.7s\tremaining: 16.9s\n",
      "137:\tlearn: 1625.5796674\ttest: 1647.3647624\tbest: 1647.3647624 (137)\ttotal: 36.9s\tremaining: 16.6s\n",
      "138:\tlearn: 1625.0141677\ttest: 1646.9310869\tbest: 1646.9310869 (138)\ttotal: 37.2s\tremaining: 16.3s\n",
      "139:\tlearn: 1624.4985981\ttest: 1646.4436694\tbest: 1646.4436694 (139)\ttotal: 37.4s\tremaining: 16s\n",
      "140:\tlearn: 1623.9573584\ttest: 1646.0751402\tbest: 1646.0751402 (140)\ttotal: 37.7s\tremaining: 15.8s\n",
      "141:\tlearn: 1623.3855622\ttest: 1646.0756999\tbest: 1646.0751402 (140)\ttotal: 37.9s\tremaining: 15.5s\n",
      "142:\tlearn: 1623.1903257\ttest: 1645.9471810\tbest: 1645.9471810 (142)\ttotal: 38.2s\tremaining: 15.2s\n",
      "143:\tlearn: 1622.2004282\ttest: 1645.2375674\tbest: 1645.2375674 (143)\ttotal: 38.4s\tremaining: 14.9s\n",
      "144:\tlearn: 1621.4669721\ttest: 1644.6107296\tbest: 1644.6107296 (144)\ttotal: 38.6s\tremaining: 14.6s\n",
      "145:\tlearn: 1621.0799460\ttest: 1644.5449108\tbest: 1644.5449108 (145)\ttotal: 38.9s\tremaining: 14.4s\n",
      "146:\tlearn: 1620.6364341\ttest: 1644.2995861\tbest: 1644.2995861 (146)\ttotal: 39.1s\tremaining: 14.1s\n",
      "147:\tlearn: 1620.0066126\ttest: 1643.9504605\tbest: 1643.9504605 (147)\ttotal: 39.4s\tremaining: 13.8s\n",
      "148:\tlearn: 1619.3470266\ttest: 1643.5302453\tbest: 1643.5302453 (148)\ttotal: 39.6s\tremaining: 13.6s\n",
      "149:\tlearn: 1618.8207021\ttest: 1643.1032180\tbest: 1643.1032180 (149)\ttotal: 39.9s\tremaining: 13.3s\n",
      "150:\tlearn: 1617.8671683\ttest: 1642.4670450\tbest: 1642.4670450 (150)\ttotal: 40.2s\tremaining: 13s\n",
      "151:\tlearn: 1616.9163025\ttest: 1642.0464816\tbest: 1642.0464816 (151)\ttotal: 40.4s\tremaining: 12.8s\n",
      "152:\tlearn: 1616.4073890\ttest: 1641.7498310\tbest: 1641.7498310 (152)\ttotal: 40.7s\tremaining: 12.5s\n",
      "153:\tlearn: 1615.2750052\ttest: 1640.6651925\tbest: 1640.6651925 (153)\ttotal: 40.9s\tremaining: 12.2s\n",
      "154:\tlearn: 1614.7340326\ttest: 1640.2882374\tbest: 1640.2882374 (154)\ttotal: 41.2s\tremaining: 11.9s\n",
      "155:\tlearn: 1614.4472801\ttest: 1640.2821461\tbest: 1640.2821461 (155)\ttotal: 41.4s\tremaining: 11.7s\n",
      "156:\tlearn: 1614.1362912\ttest: 1640.2062349\tbest: 1640.2062349 (156)\ttotal: 41.7s\tremaining: 11.4s\n",
      "157:\tlearn: 1613.4077670\ttest: 1640.0829614\tbest: 1640.0829614 (157)\ttotal: 41.9s\tremaining: 11.1s\n",
      "158:\tlearn: 1612.1973648\ttest: 1638.7572067\tbest: 1638.7572067 (158)\ttotal: 42.2s\tremaining: 10.9s\n",
      "159:\tlearn: 1611.5509888\ttest: 1638.6112487\tbest: 1638.6112487 (159)\ttotal: 42.5s\tremaining: 10.6s\n",
      "160:\tlearn: 1610.9385903\ttest: 1638.5732048\tbest: 1638.5732048 (160)\ttotal: 42.8s\tremaining: 10.4s\n",
      "161:\tlearn: 1610.5504512\ttest: 1638.3302802\tbest: 1638.3302802 (161)\ttotal: 43s\tremaining: 10.1s\n",
      "162:\tlearn: 1610.3378050\ttest: 1638.3384967\tbest: 1638.3302802 (161)\ttotal: 43.3s\tremaining: 9.82s\n",
      "163:\tlearn: 1610.0652376\ttest: 1638.1859505\tbest: 1638.1859505 (163)\ttotal: 43.5s\tremaining: 9.55s\n",
      "164:\tlearn: 1609.2467508\ttest: 1637.5291248\tbest: 1637.5291248 (164)\ttotal: 43.7s\tremaining: 9.28s\n",
      "165:\tlearn: 1608.8547476\ttest: 1637.1500842\tbest: 1637.1500842 (165)\ttotal: 44s\tremaining: 9.02s\n",
      "166:\tlearn: 1608.6192649\ttest: 1637.2318673\tbest: 1637.1500842 (165)\ttotal: 44.3s\tremaining: 8.76s\n",
      "167:\tlearn: 1608.0853739\ttest: 1637.0031309\tbest: 1637.0031309 (167)\ttotal: 44.6s\tremaining: 8.49s\n",
      "168:\tlearn: 1607.2582522\ttest: 1636.5925615\tbest: 1636.5925615 (168)\ttotal: 44.9s\tremaining: 8.23s\n"
     ]
    },
    {
     "name": "stdout",
     "output_type": "stream",
     "text": [
      "169:\tlearn: 1606.9297768\ttest: 1636.3443630\tbest: 1636.3443630 (169)\ttotal: 45.1s\tremaining: 7.96s\n",
      "170:\tlearn: 1606.6902377\ttest: 1636.1956975\tbest: 1636.1956975 (170)\ttotal: 45.4s\tremaining: 7.71s\n",
      "171:\tlearn: 1605.8378439\ttest: 1635.5791835\tbest: 1635.5791835 (171)\ttotal: 45.8s\tremaining: 7.45s\n",
      "172:\tlearn: 1605.5150108\ttest: 1635.3417441\tbest: 1635.3417441 (172)\ttotal: 46s\tremaining: 7.17s\n",
      "173:\tlearn: 1604.8561745\ttest: 1634.9377057\tbest: 1634.9377057 (173)\ttotal: 46.2s\tremaining: 6.9s\n",
      "174:\tlearn: 1603.9245675\ttest: 1634.3856140\tbest: 1634.3856140 (174)\ttotal: 46.5s\tremaining: 6.64s\n",
      "175:\tlearn: 1603.8470305\ttest: 1634.3571677\tbest: 1634.3571677 (175)\ttotal: 46.7s\tremaining: 6.37s\n",
      "176:\tlearn: 1603.0786475\ttest: 1633.8457557\tbest: 1633.8457557 (176)\ttotal: 47s\tremaining: 6.11s\n",
      "177:\tlearn: 1602.3604497\ttest: 1633.4426254\tbest: 1633.4426254 (177)\ttotal: 47.3s\tremaining: 5.85s\n",
      "178:\tlearn: 1602.0252692\ttest: 1633.2510184\tbest: 1633.2510184 (178)\ttotal: 47.6s\tremaining: 5.58s\n",
      "179:\tlearn: 1601.5080999\ttest: 1633.6231921\tbest: 1633.2510184 (178)\ttotal: 47.9s\tremaining: 5.32s\n",
      "180:\tlearn: 1600.6115413\ttest: 1633.5147967\tbest: 1633.2510184 (178)\ttotal: 48.1s\tremaining: 5.05s\n",
      "181:\tlearn: 1600.3902288\ttest: 1633.4451313\tbest: 1633.2510184 (178)\ttotal: 48.4s\tremaining: 4.79s\n",
      "182:\tlearn: 1599.8781686\ttest: 1632.9816737\tbest: 1632.9816737 (182)\ttotal: 48.7s\tremaining: 4.53s\n",
      "183:\tlearn: 1599.4999162\ttest: 1632.6104896\tbest: 1632.6104896 (183)\ttotal: 49s\tremaining: 4.26s\n",
      "184:\tlearn: 1599.0099050\ttest: 1632.1727656\tbest: 1632.1727656 (184)\ttotal: 49.3s\tremaining: 4s\n",
      "185:\tlearn: 1598.6926370\ttest: 1632.1911908\tbest: 1632.1727656 (184)\ttotal: 49.6s\tremaining: 3.73s\n",
      "186:\tlearn: 1598.2878857\ttest: 1631.9317817\tbest: 1631.9317817 (186)\ttotal: 49.8s\tremaining: 3.46s\n",
      "187:\tlearn: 1598.0436060\ttest: 1631.7662598\tbest: 1631.7662598 (187)\ttotal: 50.1s\tremaining: 3.2s\n",
      "188:\tlearn: 1597.4943368\ttest: 1631.3927809\tbest: 1631.3927809 (188)\ttotal: 50.4s\tremaining: 2.93s\n",
      "189:\tlearn: 1597.1970304\ttest: 1631.2522827\tbest: 1631.2522827 (189)\ttotal: 50.7s\tremaining: 2.67s\n",
      "190:\tlearn: 1596.3113368\ttest: 1630.8450488\tbest: 1630.8450488 (190)\ttotal: 51s\tremaining: 2.4s\n",
      "191:\tlearn: 1595.5886906\ttest: 1630.3182471\tbest: 1630.3182471 (191)\ttotal: 51.3s\tremaining: 2.13s\n",
      "192:\tlearn: 1595.2271929\ttest: 1630.1739558\tbest: 1630.1739558 (192)\ttotal: 51.6s\tremaining: 1.87s\n",
      "193:\tlearn: 1594.8618549\ttest: 1629.9082161\tbest: 1629.9082161 (193)\ttotal: 51.9s\tremaining: 1.6s\n",
      "194:\tlearn: 1594.3958370\ttest: 1629.5888347\tbest: 1629.5888347 (194)\ttotal: 52.2s\tremaining: 1.34s\n",
      "195:\tlearn: 1594.0667290\ttest: 1629.4895141\tbest: 1629.4895141 (195)\ttotal: 52.5s\tremaining: 1.07s\n",
      "196:\tlearn: 1593.5518052\ttest: 1629.3826177\tbest: 1629.3826177 (196)\ttotal: 52.8s\tremaining: 804ms\n",
      "197:\tlearn: 1592.8063849\ttest: 1628.8880597\tbest: 1628.8880597 (197)\ttotal: 53.1s\tremaining: 537ms\n",
      "198:\tlearn: 1592.6559740\ttest: 1628.7961211\tbest: 1628.7961211 (198)\ttotal: 53.3s\tremaining: 268ms\n",
      "199:\tlearn: 1592.4237878\ttest: 1628.6893605\tbest: 1628.6893605 (199)\ttotal: 53.5s\tremaining: 0us\n",
      "\n",
      "bestTest = 1628.689361\n",
      "bestIteration = 199\n",
      "\n",
      "CPU times: user 53.5 s, sys: 304 ms, total: 53.8 s\n",
      "Wall time: 54.6 s\n",
      "\n",
      "Tiempo de predicción:\n",
      "CPU times: user 218 ms, sys: 0 ns, total: 218 ms\n",
      "Wall time: 218 ms\n",
      "1628.6893605242037\n"
     ]
    }
   ],
   "source": [
    "cat = CatBoostRegressor(iterations=200, cat_features=['VehicleType', 'FuelType', 'NotRepaired', 'Gearbox' , 'Model', 'Brand'])\n",
    "print('Tiempo de entrenamiento:')\n",
    "%time cat.fit(features_train, targets_train, eval_set=(features_valid, targets_valid))\n",
    "print()\n",
    "print('Tiempo de predicción:')\n",
    "%time cat_pred = cat.predict(features_valid)\n",
    "print(mean_squared_error(targets_valid, cat_pred)**0.5)"
   ]
  },
  {
   "cell_type": "markdown",
   "metadata": {},
   "source": [
    "Aplicando modelos de potenciación de gradiente obtenemos resultados mucho mejores que con los 2 modelos anteriores. Al mismo tiempo, el tiempo que este se demora en ejecutarse es mucho menor que el tiempo total que se demora el bosque aleatorio. Por ahora este es nuestra mejor opción."
   ]
  },
  {
   "cell_type": "markdown",
   "metadata": {},
   "source": [
    "## LightGBM con ajuste de hiperparámetros\n",
    "Para aplicar este modelo primero cambiemos el tipo de datos para las columnas categóricas."
   ]
  },
  {
   "cell_type": "code",
   "execution_count": 39,
   "metadata": {},
   "outputs": [],
   "source": [
    "features_train[['VehicleType', 'FuelType', 'NotRepaired', 'Gearbox' , 'Model', 'Brand']]= features_train[['VehicleType', 'FuelType', 'NotRepaired', 'Gearbox' , 'Model', 'Brand']].astype('category')\n",
    "features_valid[['VehicleType', 'FuelType', 'NotRepaired', 'Gearbox' , 'Model', 'Brand']]= features_valid[['VehicleType', 'FuelType', 'NotRepaired', 'Gearbox' , 'Model', 'Brand']].astype('category')\n",
    "features_test[['VehicleType', 'FuelType', 'NotRepaired', 'Gearbox' , 'Model', 'Brand']]= features_test[['VehicleType', 'FuelType', 'NotRepaired', 'Gearbox' , 'Model', 'Brand']].astype('category')\n",
    "features_rest[['VehicleType', 'FuelType', 'NotRepaired', 'Gearbox' , 'Model', 'Brand']]= features_rest[['VehicleType', 'FuelType', 'NotRepaired', 'Gearbox' , 'Model', 'Brand']].astype('category')"
   ]
  },
  {
   "cell_type": "markdown",
   "metadata": {},
   "source": [
    "Ahora creemos, entrenemos y apliquemos el modelo LightGBM."
   ]
  },
  {
   "cell_type": "code",
   "execution_count": 40,
   "metadata": {},
   "outputs": [
    {
     "name": "stdout",
     "output_type": "stream",
     "text": [
      "Tiempo de entrenamiento:\n"
     ]
    },
    {
     "name": "stderr",
     "output_type": "stream",
     "text": [
      "/opt/conda/lib/python3.9/site-packages/lightgbm/basic.py:2065: UserWarning: Using categorical_feature in Dataset.\n",
      "  _log_warning('Using categorical_feature in Dataset.')\n",
      "/opt/conda/lib/python3.9/site-packages/lightgbm/basic.py:2068: UserWarning: categorical_feature in Dataset is overridden.\n",
      "New categorical_feature is ['Brand', 'FuelType', 'Gearbox', 'Model', 'NotRepaired', 'VehicleType']\n",
      "  _log_warning('categorical_feature in Dataset is overridden.\\n'\n",
      "/opt/conda/lib/python3.9/site-packages/lightgbm/basic.py:1780: UserWarning: Overriding the parameters from Reference Dataset.\n",
      "  _log_warning('Overriding the parameters from Reference Dataset.')\n",
      "/opt/conda/lib/python3.9/site-packages/lightgbm/basic.py:1513: UserWarning: categorical_column in param dict is overridden.\n",
      "  _log_warning(f'{cat_alias} in param dict is overridden.')\n"
     ]
    },
    {
     "name": "stdout",
     "output_type": "stream",
     "text": [
      "[1]\tvalid_0's rmse: 4180.11\tvalid_0's l2: 1.74733e+07\n",
      "[2]\tvalid_0's rmse: 3886.96\tvalid_0's l2: 1.51084e+07\n",
      "[3]\tvalid_0's rmse: 3629.22\tvalid_0's l2: 1.31712e+07\n",
      "[4]\tvalid_0's rmse: 3402.73\tvalid_0's l2: 1.15786e+07\n",
      "[5]\tvalid_0's rmse: 3199.49\tvalid_0's l2: 1.02368e+07\n",
      "[6]\tvalid_0's rmse: 3021.25\tvalid_0's l2: 9.12793e+06\n",
      "[7]\tvalid_0's rmse: 2865.32\tvalid_0's l2: 8.21005e+06\n",
      "[8]\tvalid_0's rmse: 2723.8\tvalid_0's l2: 7.41907e+06\n",
      "[9]\tvalid_0's rmse: 2600.01\tvalid_0's l2: 6.76006e+06\n",
      "[10]\tvalid_0's rmse: 2491.92\tvalid_0's l2: 6.20968e+06\n",
      "[11]\tvalid_0's rmse: 2397.19\tvalid_0's l2: 5.74651e+06\n",
      "[12]\tvalid_0's rmse: 2312.48\tvalid_0's l2: 5.34755e+06\n",
      "[13]\tvalid_0's rmse: 2238.05\tvalid_0's l2: 5.00885e+06\n",
      "[14]\tvalid_0's rmse: 2172.63\tvalid_0's l2: 4.72031e+06\n",
      "[15]\tvalid_0's rmse: 2114.32\tvalid_0's l2: 4.47037e+06\n",
      "[16]\tvalid_0's rmse: 2065.64\tvalid_0's l2: 4.26686e+06\n",
      "[17]\tvalid_0's rmse: 2021.57\tvalid_0's l2: 4.08673e+06\n",
      "[18]\tvalid_0's rmse: 1981.9\tvalid_0's l2: 3.92791e+06\n",
      "[19]\tvalid_0's rmse: 1948.65\tvalid_0's l2: 3.79724e+06\n",
      "[20]\tvalid_0's rmse: 1918.85\tvalid_0's l2: 3.68197e+06\n",
      "[21]\tvalid_0's rmse: 1891.95\tvalid_0's l2: 3.57948e+06\n",
      "[22]\tvalid_0's rmse: 1870.13\tvalid_0's l2: 3.49737e+06\n",
      "[23]\tvalid_0's rmse: 1848.5\tvalid_0's l2: 3.41697e+06\n",
      "[24]\tvalid_0's rmse: 1830.03\tvalid_0's l2: 3.34901e+06\n",
      "[25]\tvalid_0's rmse: 1813.83\tvalid_0's l2: 3.28997e+06\n",
      "[26]\tvalid_0's rmse: 1799.26\tvalid_0's l2: 3.23735e+06\n",
      "[27]\tvalid_0's rmse: 1785.72\tvalid_0's l2: 3.18878e+06\n",
      "[28]\tvalid_0's rmse: 1774.63\tvalid_0's l2: 3.14931e+06\n",
      "[29]\tvalid_0's rmse: 1764.95\tvalid_0's l2: 3.11505e+06\n",
      "[30]\tvalid_0's rmse: 1755.28\tvalid_0's l2: 3.08102e+06\n",
      "[31]\tvalid_0's rmse: 1746.17\tvalid_0's l2: 3.04911e+06\n",
      "[32]\tvalid_0's rmse: 1738.96\tvalid_0's l2: 3.02398e+06\n",
      "[33]\tvalid_0's rmse: 1732.27\tvalid_0's l2: 3.00074e+06\n",
      "[34]\tvalid_0's rmse: 1724.94\tvalid_0's l2: 2.97543e+06\n",
      "[35]\tvalid_0's rmse: 1718.97\tvalid_0's l2: 2.95486e+06\n",
      "[36]\tvalid_0's rmse: 1714.37\tvalid_0's l2: 2.93906e+06\n",
      "[37]\tvalid_0's rmse: 1709.35\tvalid_0's l2: 2.92189e+06\n",
      "[38]\tvalid_0's rmse: 1705.13\tvalid_0's l2: 2.90748e+06\n",
      "[39]\tvalid_0's rmse: 1701.07\tvalid_0's l2: 2.89365e+06\n",
      "[40]\tvalid_0's rmse: 1697.46\tvalid_0's l2: 2.88136e+06\n",
      "[41]\tvalid_0's rmse: 1694.09\tvalid_0's l2: 2.86994e+06\n",
      "[42]\tvalid_0's rmse: 1691.29\tvalid_0's l2: 2.86046e+06\n",
      "[43]\tvalid_0's rmse: 1688.31\tvalid_0's l2: 2.8504e+06\n",
      "[44]\tvalid_0's rmse: 1685.16\tvalid_0's l2: 2.83977e+06\n",
      "[45]\tvalid_0's rmse: 1682.9\tvalid_0's l2: 2.83216e+06\n",
      "[46]\tvalid_0's rmse: 1679.73\tvalid_0's l2: 2.82149e+06\n",
      "[47]\tvalid_0's rmse: 1677.33\tvalid_0's l2: 2.81344e+06\n",
      "[48]\tvalid_0's rmse: 1674.84\tvalid_0's l2: 2.8051e+06\n",
      "[49]\tvalid_0's rmse: 1673.03\tvalid_0's l2: 2.79904e+06\n",
      "[50]\tvalid_0's rmse: 1670.79\tvalid_0's l2: 2.79153e+06\n",
      "[51]\tvalid_0's rmse: 1669.05\tvalid_0's l2: 2.78573e+06\n",
      "[52]\tvalid_0's rmse: 1666.11\tvalid_0's l2: 2.77592e+06\n",
      "[53]\tvalid_0's rmse: 1664.18\tvalid_0's l2: 2.7695e+06\n",
      "[54]\tvalid_0's rmse: 1662.79\tvalid_0's l2: 2.76488e+06\n",
      "[55]\tvalid_0's rmse: 1660.93\tvalid_0's l2: 2.7587e+06\n",
      "[56]\tvalid_0's rmse: 1659.13\tvalid_0's l2: 2.75273e+06\n",
      "[57]\tvalid_0's rmse: 1657.45\tvalid_0's l2: 2.74715e+06\n",
      "[58]\tvalid_0's rmse: 1656.08\tvalid_0's l2: 2.74261e+06\n",
      "[59]\tvalid_0's rmse: 1654.72\tvalid_0's l2: 2.7381e+06\n",
      "[60]\tvalid_0's rmse: 1653.7\tvalid_0's l2: 2.73472e+06\n",
      "[61]\tvalid_0's rmse: 1652.5\tvalid_0's l2: 2.73075e+06\n",
      "[62]\tvalid_0's rmse: 1650.92\tvalid_0's l2: 2.72553e+06\n",
      "[63]\tvalid_0's rmse: 1650.02\tvalid_0's l2: 2.72255e+06\n",
      "[64]\tvalid_0's rmse: 1649.17\tvalid_0's l2: 2.71976e+06\n",
      "[65]\tvalid_0's rmse: 1648.03\tvalid_0's l2: 2.71601e+06\n",
      "[66]\tvalid_0's rmse: 1647.36\tvalid_0's l2: 2.71379e+06\n",
      "[67]\tvalid_0's rmse: 1646.04\tvalid_0's l2: 2.70946e+06\n",
      "[68]\tvalid_0's rmse: 1644.86\tvalid_0's l2: 2.70556e+06\n",
      "[69]\tvalid_0's rmse: 1643.24\tvalid_0's l2: 2.70024e+06\n",
      "[70]\tvalid_0's rmse: 1642.37\tvalid_0's l2: 2.69738e+06\n",
      "[71]\tvalid_0's rmse: 1641.45\tvalid_0's l2: 2.69437e+06\n",
      "[72]\tvalid_0's rmse: 1639.9\tvalid_0's l2: 2.68927e+06\n",
      "[73]\tvalid_0's rmse: 1638.53\tvalid_0's l2: 2.68477e+06\n",
      "[74]\tvalid_0's rmse: 1637.65\tvalid_0's l2: 2.68191e+06\n",
      "[75]\tvalid_0's rmse: 1636.95\tvalid_0's l2: 2.6796e+06\n",
      "[76]\tvalid_0's rmse: 1636.08\tvalid_0's l2: 2.67675e+06\n",
      "[77]\tvalid_0's rmse: 1634.83\tvalid_0's l2: 2.67268e+06\n",
      "[78]\tvalid_0's rmse: 1634.15\tvalid_0's l2: 2.67044e+06\n",
      "[79]\tvalid_0's rmse: 1633.45\tvalid_0's l2: 2.66816e+06\n",
      "[80]\tvalid_0's rmse: 1632.83\tvalid_0's l2: 2.66612e+06\n",
      "[81]\tvalid_0's rmse: 1631.87\tvalid_0's l2: 2.663e+06\n",
      "[82]\tvalid_0's rmse: 1631.19\tvalid_0's l2: 2.66077e+06\n",
      "[83]\tvalid_0's rmse: 1630.33\tvalid_0's l2: 2.65798e+06\n",
      "[84]\tvalid_0's rmse: 1630.13\tvalid_0's l2: 2.65732e+06\n",
      "[85]\tvalid_0's rmse: 1629.55\tvalid_0's l2: 2.65543e+06\n",
      "[86]\tvalid_0's rmse: 1629.41\tvalid_0's l2: 2.65499e+06\n",
      "[87]\tvalid_0's rmse: 1628.46\tvalid_0's l2: 2.65188e+06\n",
      "[88]\tvalid_0's rmse: 1627.67\tvalid_0's l2: 2.6493e+06\n",
      "[89]\tvalid_0's rmse: 1627.24\tvalid_0's l2: 2.6479e+06\n",
      "[90]\tvalid_0's rmse: 1626.59\tvalid_0's l2: 2.6458e+06\n",
      "[91]\tvalid_0's rmse: 1626.32\tvalid_0's l2: 2.64491e+06\n",
      "[92]\tvalid_0's rmse: 1625.27\tvalid_0's l2: 2.6415e+06\n",
      "[93]\tvalid_0's rmse: 1624.9\tvalid_0's l2: 2.64029e+06\n",
      "[94]\tvalid_0's rmse: 1624.46\tvalid_0's l2: 2.63888e+06\n",
      "[95]\tvalid_0's rmse: 1624.04\tvalid_0's l2: 2.63749e+06\n",
      "[96]\tvalid_0's rmse: 1623.63\tvalid_0's l2: 2.63618e+06\n",
      "[97]\tvalid_0's rmse: 1623.29\tvalid_0's l2: 2.63508e+06\n",
      "[98]\tvalid_0's rmse: 1623.14\tvalid_0's l2: 2.63459e+06\n",
      "[99]\tvalid_0's rmse: 1621.92\tvalid_0's l2: 2.63063e+06\n",
      "[100]\tvalid_0's rmse: 1621.59\tvalid_0's l2: 2.62957e+06\n",
      "CPU times: user 4.58 s, sys: 24.2 ms, total: 4.6 s\n",
      "Wall time: 4.63 s\n",
      "\n",
      "Tiempo de predicción:\n",
      "CPU times: user 699 ms, sys: 4 ms, total: 703 ms\n",
      "Wall time: 706 ms\n",
      "1621.5941446407737\n"
     ]
    }
   ],
   "source": [
    "lgbm = lgb.LGBMRegressor(random_state=rs)\n",
    "print('Tiempo de entrenamiento:')\n",
    "%time lgbm.fit(features_train, targets_train,eval_metric = 'RMSE', categorical_feature=['VehicleType', 'FuelType', 'NotRepaired', 'Gearbox' , 'Model', 'Brand'], eval_set=(features_valid, targets_valid))\n",
    "print()\n",
    "print('Tiempo de predicción:')\n",
    "%time lgbm_pred = lgbm.predict(features_valid)\n",
    "print(mean_squared_error(targets_valid, lgbm_pred)**0.5)"
   ]
  },
  {
   "cell_type": "markdown",
   "metadata": {},
   "source": [
    "El error ha llegado a sus niveles más bajos y el tiempo de ejecución ha disminuido enormemente. Hemos encontrado el mejor modelo."
   ]
  },
  {
   "cell_type": "markdown",
   "metadata": {},
   "source": [
    "# Análisis del modelo"
   ]
  },
  {
   "cell_type": "markdown",
   "metadata": {},
   "source": [
    "Después de aplicar todos los modelos, hemos observado una mejora constante en los valores de error. Los modelos CatBoost y LightGBM han demostrado los resultados más bajos, con solo una ligera diferencia entre sus valores finales. Dado que uno de los principales factores considerados fue el tiempo requerido para entrenar y predecir con cada modelo, este será el criterio decisivo para elegir el mejor modelo.\n",
    "\n",
    "Es importante tener en cuenta que los tiempos de entrenamiento y predicción difieren considerablemente, siendo el tiempo de predicción mucho menor que el de entrenamiento. Aunque las pequeñas diferencias en los tiempos de predicción podrían volverse relevantes si se realizan un gran número de predicciones de manera continua, su similitud generalmente implica que el tiempo de entrenamiento es más significativo. Aunque el entrenamiento del modelo se realiza solo una vez, el tiempo de entrenamiento debe ser considerado cada vez que se actualice el modelo.\n",
    "\n",
    "Entre los dos mejores modelos, LightGBM requiere aproximadamente una décima parte del tiempo de entrenamiento del modelo CatBoost, lo que lo posiciona como el modelo preferido en todas las condiciones del sitio de anuncios.\n",
    "\n",
    "Antes de finalizar, es recomendable entrenar un último modelo LightGBM utilizando todos los datos disponibles y realizar una última evaluación. Se espera obtener resultados similares a los obtenidos durante el entrenamiento original."
   ]
  },
  {
   "cell_type": "code",
   "execution_count": null,
   "metadata": {},
   "outputs": [],
   "source": [
    "lgbm = lgb.LGBMRegressor(random_state=rs)\n",
    "print('Tiempo de entrenamiento:')\n",
    "%time lgbm.fit(features_rest, targets_rest, eval_metric = 'RMSE', categorical_feature=['VehicleType', 'FuelType', 'NotRepaired', 'Gearbox' , 'Model', 'Brand'], eval_set=(features_test, targets_test))\n",
    "print()\n",
    "print('Tiempo de predicción:')\n",
    "%time lgbm_pred = lgbm.predict(features_test)\n",
    "print(mean_squared_error(targets_test, lgbm_pred)**0.5)"
   ]
  },
  {
   "cell_type": "markdown",
   "metadata": {},
   "source": [
    "Los valores de error finales de este modelo son mejores que los de su versión anterior. Si continuamos entrenando este modelo con la mayor cantidad de información disponible, es probable que sus resultados sigan mejorando. Aunque esperaríamos un aumento en el tiempo de entrenamiento, este sería un inconveniente que afectaría por igual a todos los modelos y, aun así, sería relativamente menor en este caso."
   ]
  }
 ],
 "metadata": {
  "kernelspec": {
   "display_name": "Python 3 (ipykernel)",
   "language": "python",
   "name": "python3"
  },
  "language_info": {
   "codemirror_mode": {
    "name": "ipython",
    "version": 3
   },
   "file_extension": ".py",
   "mimetype": "text/x-python",
   "name": "python",
   "nbconvert_exporter": "python",
   "pygments_lexer": "ipython3",
   "version": "3.9.19"
  },
  "toc": {
   "base_numbering": 1,
   "nav_menu": {},
   "number_sections": true,
   "sideBar": true,
   "skip_h1_title": true,
   "title_cell": "Table of Contents",
   "title_sidebar": "Contents",
   "toc_cell": false,
   "toc_position": {},
   "toc_section_display": true,
   "toc_window_display": false
  }
 },
 "nbformat": 4,
 "nbformat_minor": 2
}
