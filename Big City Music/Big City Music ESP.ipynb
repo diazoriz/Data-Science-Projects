{
 "cells": [
  {
   "cell_type": "markdown",
   "metadata": {
    "id": "E0vqbgi9ay0H"
   },
   "source": [
    "# Yandex.Music"
   ]
  },
  {
   "cell_type": "markdown",
   "metadata": {
    "id": "fhq_eyov_Zcs"
   },
   "source": [
    "# Contenidos <a id='back'></a>\n",
    "\n",
    "* [Introducción](#intro)\n",
    "* [Etapa 1. Descripción de los datos](#data_review)\n",
    "    * [Conclusions](#data_review_conclusions)\n",
    "* [Etapa 2. Data preprocessing](#data_preprocessing)\n",
    "    * [2.1 Estilo del encabezado](#header_style)\n",
    "    * [2.2 Valores ausentes](#missing_values)\n",
    "    * [2.3 Duplicados](#duplicates)\n",
    "    * [2.4 Conclusiones](#data_preprocessing_conclusions)\n",
    "* [Etapa 3. Prueba de hipótesis](#hypotheses)\n",
    "    * [3.1 Hipótesis 1: comparar el comportamiento del usuario en las dos ciudades](#activity)\n",
    "    * [3.2 Hipótesis 2: música al principio y al final de la semana](#week)\n",
    "    * [3.3 Hipótesis 3: preferencias de género en Springfield y Shelbyville](#genre)\n",
    "* [Conclusiones](#end)"
   ]
  },
  {
   "cell_type": "markdown",
   "metadata": {
    "id": "VUC88oWjTJw2"
   },
   "source": [
    "## Introducción <a id='intro'></a>\n",
    "Siempre que investiguemos, necesitamos formular hipótesis que después podamos probar. A veces aceptamos estas hipótesis; otras, las rechazamos. Para tomar las decisiones correctas, una empresa debe ser capaz de entender si está haciendo las suposiciones correctas.\n",
    "\n",
    "En este proyecto, compararás las preferencias musicales de las ciudades de Springfield y Shelbyville. Estudiarás datos reales de Yandex.Music para probar las hipótesis de abajo y comparar el comportamiento del usuario de esas dos ciudades.\n",
    "\n",
    "### Objetivo: \n",
    "Prueba tres hipótesis: \n",
    "1. La actividad de los usuarios difiere según el día de la semana y dependiendo de la ciudad. \n",
    "2. Los lunes por la mañana, los habitantes de Springfield y Shelbyville escuchan diferentes géneros. Lo mismo ocurre con los viernes por la noche. \n",
    "3. Los oyentes de Springfield y Shelbyville tienen preferencias distintas. En Springfield prefieren el pop mientras que en Shelbyville hay más aficionados al rap.\n",
    "\n",
    "### Etapas \n",
    "Los datos del comportamiento del usuario se almacenan en el archivo `/datasets/music_project_en.csv`. No hay ninguna información sobre la calidad de los datos así que necesitarás examinarlos antes de probar las hipótesis. \n",
    "\n",
    "Primero, evaluarás la calidad de los datos y verás si los problemas son significativos. Entonces, durante el preprocesamiento de datos, tomarás en cuenta los problemas más críticos.\n",
    " \n",
    "Tu proyecto consistirá en tres etapas:\n",
    " 1. Descripción de los datos\n",
    " 2. Preprocesamiento de datos\n",
    " 3. Prueba de hipótesis\n",
    " \n",
    "[Volver a Contenidos](#back)"
   ]
  },
  {
   "cell_type": "markdown",
   "metadata": {
    "id": "Ml1hmfXC_Zcs"
   },
   "source": [
    "## Etapa 1. Descripción de los datos <a id='data_review'></a>\n",
    "\n",
    "Abre los datos en Yandex.Music y examínalos."
   ]
  },
  {
   "cell_type": "markdown",
   "metadata": {
    "id": "57eAOGIz_Zcs"
   },
   "source": [
    "Necesitarás `pandas` así que impórtalo."
   ]
  },
  {
   "cell_type": "code",
   "execution_count": 1,
   "metadata": {
    "id": "AXN7PHPN_Zcs"
   },
   "outputs": [],
   "source": [
    "# Importando pandas\n",
    "import pandas as pd"
   ]
  },
  {
   "cell_type": "markdown",
   "metadata": {
    "id": "SG23P8tt_Zcs"
   },
   "source": [
    "Lee el archivo `music_project_en.csv` de la carpeta `/datasets/` y guárdalo en la variable `df`:"
   ]
  },
  {
   "cell_type": "code",
   "execution_count": 2,
   "metadata": {
    "id": "fFVu7vqh_Zct",
    "scrolled": false
   },
   "outputs": [],
   "source": [
    "# Leyendo el archivo y almacenándolo en df\n",
    "df = pd.read_csv('/datasets/music_project_en.csv')"
   ]
  },
  {
   "cell_type": "markdown",
   "metadata": {
    "id": "rDoOMd3uTqnZ"
   },
   "source": [
    "Imprime las 10 primeras filas de la tabla:"
   ]
  },
  {
   "cell_type": "code",
   "execution_count": 3,
   "metadata": {
    "id": "oWTVX3gW_Zct"
   },
   "outputs": [
    {
     "data": {
      "text/html": [
       "<div>\n",
       "<style scoped>\n",
       "    .dataframe tbody tr th:only-of-type {\n",
       "        vertical-align: middle;\n",
       "    }\n",
       "\n",
       "    .dataframe tbody tr th {\n",
       "        vertical-align: top;\n",
       "    }\n",
       "\n",
       "    .dataframe thead th {\n",
       "        text-align: right;\n",
       "    }\n",
       "</style>\n",
       "<table border=\"1\" class=\"dataframe\">\n",
       "  <thead>\n",
       "    <tr style=\"text-align: right;\">\n",
       "      <th></th>\n",
       "      <th>userID</th>\n",
       "      <th>Track</th>\n",
       "      <th>artist</th>\n",
       "      <th>genre</th>\n",
       "      <th>City</th>\n",
       "      <th>time</th>\n",
       "      <th>Day</th>\n",
       "    </tr>\n",
       "  </thead>\n",
       "  <tbody>\n",
       "    <tr>\n",
       "      <th>0</th>\n",
       "      <td>FFB692EC</td>\n",
       "      <td>Kamigata To Boots</td>\n",
       "      <td>The Mass Missile</td>\n",
       "      <td>rock</td>\n",
       "      <td>Shelbyville</td>\n",
       "      <td>20:28:33</td>\n",
       "      <td>Wednesday</td>\n",
       "    </tr>\n",
       "    <tr>\n",
       "      <th>1</th>\n",
       "      <td>55204538</td>\n",
       "      <td>Delayed Because of Accident</td>\n",
       "      <td>Andreas Rönnberg</td>\n",
       "      <td>rock</td>\n",
       "      <td>Springfield</td>\n",
       "      <td>14:07:09</td>\n",
       "      <td>Friday</td>\n",
       "    </tr>\n",
       "    <tr>\n",
       "      <th>2</th>\n",
       "      <td>20EC38</td>\n",
       "      <td>Funiculì funiculà</td>\n",
       "      <td>Mario Lanza</td>\n",
       "      <td>pop</td>\n",
       "      <td>Shelbyville</td>\n",
       "      <td>20:58:07</td>\n",
       "      <td>Wednesday</td>\n",
       "    </tr>\n",
       "    <tr>\n",
       "      <th>3</th>\n",
       "      <td>A3DD03C9</td>\n",
       "      <td>Dragons in the Sunset</td>\n",
       "      <td>Fire + Ice</td>\n",
       "      <td>folk</td>\n",
       "      <td>Shelbyville</td>\n",
       "      <td>08:37:09</td>\n",
       "      <td>Monday</td>\n",
       "    </tr>\n",
       "    <tr>\n",
       "      <th>4</th>\n",
       "      <td>E2DC1FAE</td>\n",
       "      <td>Soul People</td>\n",
       "      <td>Space Echo</td>\n",
       "      <td>dance</td>\n",
       "      <td>Springfield</td>\n",
       "      <td>08:34:34</td>\n",
       "      <td>Monday</td>\n",
       "    </tr>\n",
       "    <tr>\n",
       "      <th>5</th>\n",
       "      <td>842029A1</td>\n",
       "      <td>Chains</td>\n",
       "      <td>Obladaet</td>\n",
       "      <td>rusrap</td>\n",
       "      <td>Shelbyville</td>\n",
       "      <td>13:09:41</td>\n",
       "      <td>Friday</td>\n",
       "    </tr>\n",
       "    <tr>\n",
       "      <th>6</th>\n",
       "      <td>4CB90AA5</td>\n",
       "      <td>True</td>\n",
       "      <td>Roman Messer</td>\n",
       "      <td>dance</td>\n",
       "      <td>Springfield</td>\n",
       "      <td>13:00:07</td>\n",
       "      <td>Wednesday</td>\n",
       "    </tr>\n",
       "    <tr>\n",
       "      <th>7</th>\n",
       "      <td>F03E1C1F</td>\n",
       "      <td>Feeling This Way</td>\n",
       "      <td>Polina Griffith</td>\n",
       "      <td>dance</td>\n",
       "      <td>Springfield</td>\n",
       "      <td>20:47:49</td>\n",
       "      <td>Wednesday</td>\n",
       "    </tr>\n",
       "    <tr>\n",
       "      <th>8</th>\n",
       "      <td>8FA1D3BE</td>\n",
       "      <td>L’estate</td>\n",
       "      <td>Julia Dalia</td>\n",
       "      <td>ruspop</td>\n",
       "      <td>Springfield</td>\n",
       "      <td>09:17:40</td>\n",
       "      <td>Friday</td>\n",
       "    </tr>\n",
       "    <tr>\n",
       "      <th>9</th>\n",
       "      <td>E772D5C0</td>\n",
       "      <td>Pessimist</td>\n",
       "      <td>NaN</td>\n",
       "      <td>dance</td>\n",
       "      <td>Shelbyville</td>\n",
       "      <td>21:20:49</td>\n",
       "      <td>Wednesday</td>\n",
       "    </tr>\n",
       "  </tbody>\n",
       "</table>\n",
       "</div>"
      ],
      "text/plain": [
       "     userID                        Track            artist   genre  \\\n",
       "0  FFB692EC            Kamigata To Boots  The Mass Missile    rock   \n",
       "1  55204538  Delayed Because of Accident  Andreas Rönnberg    rock   \n",
       "2    20EC38            Funiculì funiculà       Mario Lanza     pop   \n",
       "3  A3DD03C9        Dragons in the Sunset        Fire + Ice    folk   \n",
       "4  E2DC1FAE                  Soul People        Space Echo   dance   \n",
       "5  842029A1                       Chains          Obladaet  rusrap   \n",
       "6  4CB90AA5                         True      Roman Messer   dance   \n",
       "7  F03E1C1F             Feeling This Way   Polina Griffith   dance   \n",
       "8  8FA1D3BE                     L’estate       Julia Dalia  ruspop   \n",
       "9  E772D5C0                    Pessimist               NaN   dance   \n",
       "\n",
       "        City        time        Day  \n",
       "0  Shelbyville  20:28:33  Wednesday  \n",
       "1  Springfield  14:07:09     Friday  \n",
       "2  Shelbyville  20:58:07  Wednesday  \n",
       "3  Shelbyville  08:37:09     Monday  \n",
       "4  Springfield  08:34:34     Monday  \n",
       "5  Shelbyville  13:09:41     Friday  \n",
       "6  Springfield  13:00:07  Wednesday  \n",
       "7  Springfield  20:47:49  Wednesday  \n",
       "8  Springfield  09:17:40     Friday  \n",
       "9  Shelbyville  21:20:49  Wednesday  "
      ]
     },
     "execution_count": 3,
     "metadata": {},
     "output_type": "execute_result"
    }
   ],
   "source": [
    "# Obteniendo las 10 primeras filas de la tabla df\n",
    "df.head(10)"
   ]
  },
  {
   "cell_type": "markdown",
   "metadata": {
    "id": "EO73Kwic_Zct"
   },
   "source": [
    "Obtener la información general sobre la tabla con un comando:"
   ]
  },
  {
   "cell_type": "code",
   "execution_count": 4,
   "metadata": {
    "id": "DSf2kIb-_Zct"
   },
   "outputs": [
    {
     "name": "stdout",
     "output_type": "stream",
     "text": [
      "<class 'pandas.core.frame.DataFrame'>\n",
      "RangeIndex: 65079 entries, 0 to 65078\n",
      "Data columns (total 7 columns):\n",
      " #   Column    Non-Null Count  Dtype \n",
      "---  ------    --------------  ----- \n",
      " 0     userID  65079 non-null  object\n",
      " 1   Track     63736 non-null  object\n",
      " 2   artist    57512 non-null  object\n",
      " 3   genre     63881 non-null  object\n",
      " 4     City    65079 non-null  object\n",
      " 5   time      65079 non-null  object\n",
      " 6   Day       65079 non-null  object\n",
      "dtypes: object(7)\n",
      "memory usage: 3.5+ MB\n"
     ]
    }
   ],
   "source": [
    "# Obteniendo información general sobre los datos en df\n",
    "df.info()"
   ]
  },
  {
   "cell_type": "markdown",
   "metadata": {
    "id": "TaQ2Iwbr_Zct"
   },
   "source": [
    "La tabla contiene siete columnas. Todas almacenan el mismo tipo de datos: objeto.\n",
    "\n",
    "De acuerdo con la documentación:\n",
    "- `'userID'` — identificador del usuario\n",
    "- `'Track'` — título de la pista\n",
    "- `'artist'` — nombre del artista\n",
    "- `'genre'` — género\n",
    "- `'City'` — ciudad del usuario\n",
    "- `'time'` — el periodo de tiempo exacto en que se reprodujo la pista\n",
    "- `'Day'` — día de la semana\n",
    "\n",
    "Podemos ver tres problemas con el estilo en los nombres de las columnas:\n",
    "1. Algunos nombres están en mayúsculas, otros en minúsculas.\n",
    "2. Hay algunos espacios en algunos nombres.\n",
    "3. `Detecta el tercer problema tú mismo y descríbelo aquí`.\n",
    "\n",
    "El número de valores de las columnas es diferente. Esto significa que los datos contienen valores ausentes.\n"
   ]
  },
  {
   "cell_type": "markdown",
   "metadata": {
    "id": "MCB6-dXG_Zct"
   },
   "source": [
    "### Conclusiones <a id='data_review_conclusions'></a> \n",
    "\n",
    "Cada fila de la tabla almacena datos de la pista que fue reproducida. Algunas columnas describen la pista en sí: su título, el artista y el género. El resto transmite la información del usuario: la ciudad de la que viene, el tiempo que ha reproducido la pista. \n",
    "\n",
    "Está claro que los datos son suficientes para probar la hipótesis. Sin embargo, hay valores ausentes.\n",
    "\n",
    "Para continuar, necesitamos preprocesar los datos."
   ]
  },
  {
   "cell_type": "markdown",
   "metadata": {
    "id": "3eL__vcwViOi"
   },
   "source": [
    "[Volver a Contenidos](#back)"
   ]
  },
  {
   "cell_type": "markdown",
   "metadata": {
    "id": "SjYF6Ub9_Zct"
   },
   "source": [
    "## Etapa 2. Preprocesamiento de datos <a id='data_preprocessing'></a>\n",
    "Corrige el formato en los encabezados de las columnas y ocúpate de los valores ausentes. Después, comprueba si hay duplicados en los datos."
   ]
  },
  {
   "cell_type": "markdown",
   "metadata": {
    "id": "dIaKXr29_Zct"
   },
   "source": [
    "### Estilo del encabezado <a id='header_style'></a>\n",
    "Imprime el encabezado de la columna:"
   ]
  },
  {
   "cell_type": "code",
   "execution_count": 5,
   "metadata": {
    "id": "oKOTdF_Q_Zct"
   },
   "outputs": [
    {
     "name": "stdout",
     "output_type": "stream",
     "text": [
      "Index(['  userID', 'Track', 'artist', 'genre', '  City  ', 'time', 'Day'], dtype='object')\n"
     ]
    }
   ],
   "source": [
    "# La lista de los nombres de las columnas en la tabla df\n",
    "print(df.columns)"
   ]
  },
  {
   "cell_type": "markdown",
   "metadata": {
    "id": "zj5534cv_Zct"
   },
   "source": [
    "Cambia los nombres de las columnas de acuerdo con las reglas del buen estilo:\n",
    "* Si el nombre tiene varias palabras, utiliza snake_case\n",
    "* Todos los caracteres deben ser minúsculas\n",
    "* Elimina los espacios"
   ]
  },
  {
   "cell_type": "code",
   "execution_count": 6,
   "metadata": {
    "id": "ISlFqs5y_Zct"
   },
   "outputs": [],
   "source": [
    "# Renombra las columnas\n",
    "new_names = {\n",
    "    '  userID': 'userid',\n",
    "    'Track': 'track',\n",
    "    '  City  ': 'city',\n",
    "    'Day': 'day'\n",
    "}\n",
    "\n",
    "df = df.rename(columns=new_names)"
   ]
  },
  {
   "cell_type": "markdown",
   "metadata": {
    "id": "1dqbh00J_Zct"
   },
   "source": [
    "Comprueba el resultado. Imprime los nombres de las columnas una vez más:"
   ]
  },
  {
   "cell_type": "code",
   "execution_count": 7,
   "metadata": {
    "id": "d4NOAmTW_Zct"
   },
   "outputs": [
    {
     "name": "stdout",
     "output_type": "stream",
     "text": [
      "Index(['userid', 'track', 'artist', 'genre', 'city', 'time', 'day'], dtype='object')\n"
     ]
    }
   ],
   "source": [
    "# Comprobando el resultado: la lista de los nombres de las columnas\n",
    "print(df.columns)"
   ]
  },
  {
   "cell_type": "markdown",
   "metadata": {
    "id": "xYJk6ksJVpOl"
   },
   "source": [
    "[Volver a Contenidos](#back)"
   ]
  },
  {
   "cell_type": "markdown",
   "metadata": {
    "id": "5ISfbcfY_Zct"
   },
   "source": [
    "### Valores ausentes <a id='missing_values'></a>\n",
    "Primero encuentra el número de valores ausentes en la tabla. Para ello, utiliza dos métodos pandas:"
   ]
  },
  {
   "cell_type": "code",
   "execution_count": 8,
   "metadata": {
    "id": "RskX29qr_Zct"
   },
   "outputs": [
    {
     "name": "stdout",
     "output_type": "stream",
     "text": [
      "userid       0\n",
      "track     1343\n",
      "artist    7567\n",
      "genre     1198\n",
      "city         0\n",
      "time         0\n",
      "day          0\n",
      "dtype: int64\n",
      "userid       0\n",
      "track     1343\n",
      "artist    7567\n",
      "genre     1198\n",
      "city         0\n",
      "time         0\n",
      "day          0\n",
      "dtype: int64\n"
     ]
    }
   ],
   "source": [
    "# Calculando valores ausentes\n",
    "print(df.isna().sum())\n",
    "print(df.isnull().sum())"
   ]
  },
  {
   "cell_type": "markdown",
   "metadata": {
    "id": "qubhgnlO_Zct"
   },
   "source": [
    "No todos los valores ausentes afectan a la investigación. Por ejemplo, los valores ausentes en la pista y artista no son cruciales. Simplemente puedes reemplazarlos por marcadores claros.\n",
    "\n",
    "Pero los valores ausentes en `'genre'` pueden afectar la comparación entre las preferencias musicales de Springfield y Shelbyville. En la vida real, sería útil saber las razones por las cuales hay datos ausentes e intentar recuperarlos. Pero no tenemos esa oportunidad en este proyecto. Así que tendrás que:\n",
    "* Rellenar esos valores ausentes con marcadores\n",
    "* Evaluar cuánto podrían afectar los valores ausentes a tus cómputos."
   ]
  },
  {
   "cell_type": "markdown",
   "metadata": {
    "id": "fSv2laPA_Zct"
   },
   "source": [
    "Reemplazar los valores ausentes en `'track'`, `'artist'`, y `'genre'` con la string `'unknown'`. Para ello, crea la lista `columns_to_replace`, recórrela con un bucle `for` y reemplaza los valores ausentes en cada una de las columnas:"
   ]
  },
  {
   "cell_type": "code",
   "execution_count": 9,
   "metadata": {
    "id": "KplB5qWs_Zct"
   },
   "outputs": [],
   "source": [
    "# Recorriendo los nombres de las columnas y reemplazando los valores ausentes con 'unknown'\n",
    "columns_to_replace = ['track', 'artist', 'genre']\n",
    "\n",
    "for col in columns_to_replace:\n",
    "    df[col] = df[col].fillna('unknown')"
   ]
  },
  {
   "cell_type": "markdown",
   "metadata": {
    "id": "Ilsm-MZo_Zct"
   },
   "source": [
    "Asegúrate de que la tabla no contiene más valores ausentes. Cuenta de nuevo los valores ausentes."
   ]
  },
  {
   "cell_type": "code",
   "execution_count": 10,
   "metadata": {
    "id": "Tq4nYRX4_Zct"
   },
   "outputs": [
    {
     "name": "stdout",
     "output_type": "stream",
     "text": [
      "userid    0\n",
      "track     0\n",
      "artist    0\n",
      "genre     0\n",
      "city      0\n",
      "time      0\n",
      "day       0\n",
      "dtype: int64\n"
     ]
    }
   ],
   "source": [
    "# Contando valores ausentes\n",
    "print(df.isna().sum())"
   ]
  },
  {
   "cell_type": "markdown",
   "metadata": {
    "id": "74ZIBmq9VrsK"
   },
   "source": [
    "[Volver a Contenidos](#back)"
   ]
  },
  {
   "cell_type": "markdown",
   "metadata": {
    "id": "BWKRtBJ3_Zct"
   },
   "source": [
    "### Duplicados <a id='duplicates'></a>\n",
    "Encuentra el número de duplicados obvios en la tabla utilizando un comando:"
   ]
  },
  {
   "cell_type": "code",
   "execution_count": 11,
   "metadata": {
    "id": "36eES_S0_Zct"
   },
   "outputs": [
    {
     "name": "stdout",
     "output_type": "stream",
     "text": [
      "3826\n"
     ]
    }
   ],
   "source": [
    "# Contando duplicado obvios\n",
    "num_duplicados = df.duplicated().sum()\n",
    "print(num_duplicados)"
   ]
  },
  {
   "cell_type": "markdown",
   "metadata": {
    "id": "Ot25h6XR_Zct"
   },
   "source": [
    "Llama al método `pandas` para deshacerte de los duplicados obvios:"
   ]
  },
  {
   "cell_type": "code",
   "execution_count": 12,
   "metadata": {
    "id": "exFHq6tt_Zct"
   },
   "outputs": [],
   "source": [
    "# Eliminando duplicados obvios\n",
    "df = df.drop_duplicates().reset_index(drop = True)"
   ]
  },
  {
   "cell_type": "markdown",
   "metadata": {
    "id": "Im2YwBEG_Zct"
   },
   "source": [
    "Cuenta los duplicados obvios una vez más para asegurarte de que todos han sido eliminados:"
   ]
  },
  {
   "cell_type": "code",
   "execution_count": 13,
   "metadata": {
    "id": "-8PuNWQ0_Zct"
   },
   "outputs": [
    {
     "name": "stdout",
     "output_type": "stream",
     "text": [
      "0\n"
     ]
    }
   ],
   "source": [
    "# Comprobando duplicados\n",
    "num_duplicados = df.duplicated().sum()\n",
    "print(num_duplicados)"
   ]
  },
  {
   "cell_type": "markdown",
   "metadata": {
    "id": "QlFBsxAr_Zct"
   },
   "source": [
    "Ahora deshazte de los duplicados implícitos en la columna genre. Por ejemplo, el nombre de un género se puede escribir de varias formas. Dichos errores también pueden afectar a resultado."
   ]
  },
  {
   "cell_type": "markdown",
   "metadata": {
    "id": "eSjWwsOh_Zct"
   },
   "source": [
    "Imprime una lista de nombres únicos de géneros, ordenados en orden alfabético. Cómo se hace:\n",
    "* Recupera la deseada columna DataFrame \n",
    "* Aplícale un método de orden\n",
    "* Para la columna ordenada, llama al método que te devolverá todos los valores de columna únicos"
   ]
  },
  {
   "cell_type": "code",
   "execution_count": 14,
   "metadata": {
    "id": "JIUcqzZN_Zct"
   },
   "outputs": [
    {
     "name": "stdout",
     "output_type": "stream",
     "text": [
      "['acid', 'acoustic', 'action', 'adult', 'africa', 'afrikaans', 'alternative', 'ambient', 'americana', 'animated', 'anime', 'arabesk', 'arabic', 'arena', 'argentinetango', 'art', 'audiobook', 'avantgarde', 'axé', 'baile', 'balkan', 'beats', 'bigroom', 'black', 'bluegrass', 'blues', 'bollywood', 'bossa', 'brazilian', 'breakbeat', 'breaks', 'broadway', 'cantautori', 'cantopop', 'canzone', 'caribbean', 'caucasian', 'celtic', 'chamber', 'children', 'chill', 'chinese', 'choral', 'christian', 'christmas', 'classical', 'classicmetal', 'club', 'colombian', 'comedy', 'conjazz', 'contemporary', 'country', 'cuban', 'dance', 'dancehall', 'dancepop', 'dark', 'death', 'deep', 'deutschrock', 'deutschspr', 'dirty', 'disco', 'dnb', 'documentary', 'downbeat', 'downtempo', 'drum', 'dub', 'dubstep', 'eastern', 'easy', 'electronic', 'electropop', 'emo', 'entehno', 'epicmetal', 'estrada', 'ethnic', 'eurofolk', 'european', 'experimental', 'extrememetal', 'fado', 'film', 'fitness', 'flamenco', 'folk', 'folklore', 'folkmetal', 'folkrock', 'folktronica', 'forró', 'frankreich', 'französisch', 'french', 'funk', 'future', 'gangsta', 'garage', 'german', 'ghazal', 'gitarre', 'glitch', 'gospel', 'gothic', 'grime', 'grunge', 'gypsy', 'handsup', \"hard'n'heavy\", 'hardcore', 'hardstyle', 'hardtechno', 'hip', 'hip-hop', 'hiphop', 'historisch', 'holiday', 'hop', 'horror', 'house', 'idm', 'independent', 'indian', 'indie', 'indipop', 'industrial', 'inspirational', 'instrumental', 'international', 'irish', 'jam', 'japanese', 'jazz', 'jewish', 'jpop', 'jungle', 'k-pop', 'karadeniz', 'karaoke', 'kayokyoku', 'korean', 'laiko', 'latin', 'latino', 'leftfield', 'local', 'lounge', 'loungeelectronic', 'lovers', 'malaysian', 'mandopop', 'marschmusik', 'meditative', 'mediterranean', 'melodic', 'metal', 'metalcore', 'mexican', 'middle', 'minimal', 'miscellaneous', 'modern', 'mood', 'mpb', 'muslim', 'native', 'neoklassik', 'neue', 'new', 'newage', 'newwave', 'nu', 'nujazz', 'numetal', 'oceania', 'old', 'opera', 'orchestral', 'other', 'piano', 'pop', 'popelectronic', 'popeurodance', 'post', 'posthardcore', 'postrock', 'power', 'progmetal', 'progressive', 'psychedelic', 'punjabi', 'punk', 'quebecois', 'ragga', 'ram', 'rancheras', 'rap', 'rave', 'reggae', 'reggaeton', 'regional', 'relax', 'religious', 'retro', 'rhythm', 'rnb', 'rnr', 'rock', 'rockabilly', 'romance', 'roots', 'ruspop', 'rusrap', 'rusrock', 'salsa', 'samba', 'schlager', 'self', 'sertanejo', 'shoegazing', 'showtunes', 'singer', 'ska', 'slow', 'smooth', 'soul', 'soulful', 'sound', 'soundtrack', 'southern', 'specialty', 'speech', 'spiritual', 'sport', 'stonerrock', 'surf', 'swing', 'synthpop', 'sängerportrait', 'tango', 'tanzorchester', 'taraftar', 'tech', 'techno', 'thrash', 'top', 'traditional', 'tradjazz', 'trance', 'tribal', 'trip', 'triphop', 'tropical', 'türk', 'türkçe', 'unknown', 'urban', 'uzbek', 'variété', 'vi', 'videogame', 'vocal', 'western', 'world', 'worldbeat', 'ïîï']\n"
     ]
    }
   ],
   "source": [
    "# Inspeccionando los nombres de géneros únicos\n",
    "genre_list = df['genre'].sort_values().unique().tolist()\n",
    "print(genre_list)"
   ]
  },
  {
   "cell_type": "markdown",
   "metadata": {
    "id": "qej-Qmuo_Zct"
   },
   "source": [
    "Busca en la lista para encontrar duplicados implícitos del género `hiphop`. Estos pueden ser nombres escritos incorrectamente o nombres alternativos para el mismo género.\n",
    "\n",
    "Verás los siguientes duplicados implícitos:\n",
    "* `hip`\n",
    "* `hop`\n",
    "* `hip-hop`\n",
    "\n",
    "Para deshacerte de ellos, declara la función `replace_wrong_genres()` con dos parámetros: \n",
    "* `wrong_genres=` — la lista de duplicados\n",
    "* `correct_genre=` — la string con el valor correcto\n",
    "\n",
    "La función debería corregir los nombres en la columna `'genre'` de la tabla `df`, es decir, remplaza cada valor de la lista `wrong_genres` con el valor en `correct_genre`."
   ]
  },
  {
   "cell_type": "code",
   "execution_count": 15,
   "metadata": {
    "id": "ErNDkmns_Zct"
   },
   "outputs": [],
   "source": [
    "# Función para reemplazar duplicados implícitos\n",
    "def replace_wrong_genres(wrong_genres, correct_genre):\n",
    "    for genre in wrong_genres:\n",
    "        df['genre'] = df['genre'].replace(genre, correct_genre)"
   ]
  },
  {
   "cell_type": "markdown",
   "metadata": {
    "id": "aDoBJxbA_Zct"
   },
   "source": [
    "Llama a `replace_wrong_genres()` y pásale argumentos para que retire los duplicados implícitos (`hip`, `hop` y `hip-hop`) y los reemplace por `hiphop`:"
   ]
  },
  {
   "cell_type": "code",
   "execution_count": 16,
   "metadata": {
    "id": "YN5i2hpmSo09"
   },
   "outputs": [],
   "source": [
    "# Eliminando duplicados implícitos\n",
    "replace_wrong_genres(['hip', 'hop', 'hip-hop'], 'hiphop')"
   ]
  },
  {
   "cell_type": "markdown",
   "metadata": {
    "id": "zQKF16_RG15m"
   },
   "source": [
    "Asegúrate que los nombres duplicados han sido eliminados. Imprime la lista de valores únicos de la columna `'genre'`:"
   ]
  },
  {
   "cell_type": "code",
   "execution_count": 17,
   "metadata": {
    "id": "wvixALnFG15m"
   },
   "outputs": [
    {
     "name": "stdout",
     "output_type": "stream",
     "text": [
      "['acid' 'acoustic' 'action' 'adult' 'africa' 'afrikaans' 'alternative'\n",
      " 'ambient' 'americana' 'animated' 'anime' 'arabesk' 'arabic' 'arena'\n",
      " 'argentinetango' 'art' 'audiobook' 'avantgarde' 'axé' 'baile' 'balkan'\n",
      " 'beats' 'bigroom' 'black' 'bluegrass' 'blues' 'bollywood' 'bossa'\n",
      " 'brazilian' 'breakbeat' 'breaks' 'broadway' 'cantautori' 'cantopop'\n",
      " 'canzone' 'caribbean' 'caucasian' 'celtic' 'chamber' 'children' 'chill'\n",
      " 'chinese' 'choral' 'christian' 'christmas' 'classical' 'classicmetal'\n",
      " 'club' 'colombian' 'comedy' 'conjazz' 'contemporary' 'country' 'cuban'\n",
      " 'dance' 'dancehall' 'dancepop' 'dark' 'death' 'deep' 'deutschrock'\n",
      " 'deutschspr' 'dirty' 'disco' 'dnb' 'documentary' 'downbeat' 'downtempo'\n",
      " 'drum' 'dub' 'dubstep' 'eastern' 'easy' 'electronic' 'electropop' 'emo'\n",
      " 'entehno' 'epicmetal' 'estrada' 'ethnic' 'eurofolk' 'european'\n",
      " 'experimental' 'extrememetal' 'fado' 'film' 'fitness' 'flamenco' 'folk'\n",
      " 'folklore' 'folkmetal' 'folkrock' 'folktronica' 'forró' 'frankreich'\n",
      " 'französisch' 'french' 'funk' 'future' 'gangsta' 'garage' 'german'\n",
      " 'ghazal' 'gitarre' 'glitch' 'gospel' 'gothic' 'grime' 'grunge' 'gypsy'\n",
      " 'handsup' \"hard'n'heavy\" 'hardcore' 'hardstyle' 'hardtechno' 'hiphop'\n",
      " 'historisch' 'holiday' 'horror' 'house' 'idm' 'independent' 'indian'\n",
      " 'indie' 'indipop' 'industrial' 'inspirational' 'instrumental'\n",
      " 'international' 'irish' 'jam' 'japanese' 'jazz' 'jewish' 'jpop' 'jungle'\n",
      " 'k-pop' 'karadeniz' 'karaoke' 'kayokyoku' 'korean' 'laiko' 'latin'\n",
      " 'latino' 'leftfield' 'local' 'lounge' 'loungeelectronic' 'lovers'\n",
      " 'malaysian' 'mandopop' 'marschmusik' 'meditative' 'mediterranean'\n",
      " 'melodic' 'metal' 'metalcore' 'mexican' 'middle' 'minimal'\n",
      " 'miscellaneous' 'modern' 'mood' 'mpb' 'muslim' 'native' 'neoklassik'\n",
      " 'neue' 'new' 'newage' 'newwave' 'nu' 'nujazz' 'numetal' 'oceania' 'old'\n",
      " 'opera' 'orchestral' 'other' 'piano' 'pop' 'popelectronic' 'popeurodance'\n",
      " 'post' 'posthardcore' 'postrock' 'power' 'progmetal' 'progressive'\n",
      " 'psychedelic' 'punjabi' 'punk' 'quebecois' 'ragga' 'ram' 'rancheras'\n",
      " 'rap' 'rave' 'reggae' 'reggaeton' 'regional' 'relax' 'religious' 'retro'\n",
      " 'rhythm' 'rnb' 'rnr' 'rock' 'rockabilly' 'romance' 'roots' 'ruspop'\n",
      " 'rusrap' 'rusrock' 'salsa' 'samba' 'schlager' 'self' 'sertanejo'\n",
      " 'shoegazing' 'showtunes' 'singer' 'ska' 'slow' 'smooth' 'soul' 'soulful'\n",
      " 'sound' 'soundtrack' 'southern' 'specialty' 'speech' 'spiritual' 'sport'\n",
      " 'stonerrock' 'surf' 'swing' 'synthpop' 'sängerportrait' 'tango'\n",
      " 'tanzorchester' 'taraftar' 'tech' 'techno' 'thrash' 'top' 'traditional'\n",
      " 'tradjazz' 'trance' 'tribal' 'trip' 'triphop' 'tropical' 'türk' 'türkçe'\n",
      " 'unknown' 'urban' 'uzbek' 'variété' 'vi' 'videogame' 'vocal' 'western'\n",
      " 'world' 'worldbeat' 'ïîï']\n"
     ]
    }
   ],
   "source": [
    "# Revisando en busca de duplicados implícitos\n",
    "unique_genres = df['genre'].unique()\n",
    "unique_genres.sort()\n",
    "print(unique_genres)"
   ]
  },
  {
   "cell_type": "markdown",
   "metadata": {
    "id": "ALgNbvF3VtPA"
   },
   "source": [
    "[Volver a Contenidos](#back)"
   ]
  },
  {
   "cell_type": "markdown",
   "metadata": {
    "id": "jz6a9-7HQUDd"
   },
   "source": [
    "### Conclusiones <a id='data_preprocessing_conclusions'></a>\n",
    "Detectamos tres problemas con los datos:\n",
    "\n",
    "- Estilos de encabezados incorrectos\n",
    "- Valores ausentes\n",
    "- Duplicados obvios e implícitos\n",
    "\n",
    "Los encabezados han sido eliminados para conseguir que el procesamiento de la tabla sea más sencillo.\n",
    "\n",
    "Todos los valores ausentes han sido reemplazados por `'unknown'`. Pero todavía tenemos que ver si los valores ausentes en `'genre'` afectan a nuestros cálculos.\n",
    "\n",
    "La ausencia de duplicados hará que los resultados sean mas precisos y fáciles de entender.\n",
    "\n",
    "Ahora ya podemos continuar probando las hipótesis. "
   ]
  },
  {
   "cell_type": "markdown",
   "metadata": {
    "id": "eK1es74rVujj"
   },
   "source": [
    "[Volver a Contenidos](#back)"
   ]
  },
  {
   "cell_type": "markdown",
   "metadata": {
    "id": "WttZHXH0SqKk"
   },
   "source": [
    "## Etapa 3. Prueba de hipótesis <a id='hypotheses'></a>"
   ]
  },
  {
   "cell_type": "markdown",
   "metadata": {
    "id": "Im936VVi_Zcu"
   },
   "source": [
    "### Hipótesis 1: comparar el comportamiento del usuario en las dos ciudades <a id='activity'></a>"
   ]
  },
  {
   "cell_type": "markdown",
   "metadata": {
    "id": "nwt_MuaL_Zcu"
   },
   "source": [
    "De acuerdo con la primera hipótesis, los usuarios de Springfield y Shelbyville escuchan música de forma distinta. Comprueba esto utilizando los datos de tres días de la semana: lunes, miércoles y viernes.\n",
    "\n",
    "* Divide a los usuarios en grupos por ciudad.\n",
    "* Compara cuántas pistas reprodujo cada grupo el lunes, el miércoles y el viernes.\n"
   ]
  },
  {
   "cell_type": "markdown",
   "metadata": {
    "id": "8Dw_YMmT_Zcu"
   },
   "source": [
    "Por el bien del ejercicio, realiza cada cálculo de forma separada. \n",
    "\n",
    "Evalúa la actividad del usuario en cada ciudad. Agrupa los datos por ciudad y encuentra el número de canciones reproducidas en cada grupo.\n",
    "\n"
   ]
  },
  {
   "cell_type": "code",
   "execution_count": 18,
   "metadata": {
    "id": "0_Qs96oh_Zcu"
   },
   "outputs": [
    {
     "name": "stdout",
     "output_type": "stream",
     "text": [
      "             track\n",
      "city              \n",
      "Shelbyville  18512\n",
      "Springfield  42741\n"
     ]
    }
   ],
   "source": [
    "# Contando las pistas reproducidas en cada ciudad\n",
    "tracks_by_city = df[['city', 'track']]\n",
    "tracks_by_city_grouped = tracks_by_city.groupby('city').count()\n",
    "print(tracks_by_city_grouped)"
   ]
  },
  {
   "cell_type": "markdown",
   "metadata": {
    "id": "dzli3w8o_Zcu"
   },
   "source": [
    "Springfield ha reproducido más pistas que Shelbyville. Pero eso no implica que los ciudadanos de Springfield escuchen música más a menudo. Esta ciudad es simplemente más grande y hay más usuarios.\n",
    "\n",
    "Ahora agrupa los datos por día de la semana y encuentra el número de pistas reproducidas el lunes, miércoles y viernes.\n"
   ]
  },
  {
   "cell_type": "code",
   "execution_count": 19,
   "metadata": {
    "id": "uZMKjiJz_Zcu"
   },
   "outputs": [
    {
     "name": "stdout",
     "output_type": "stream",
     "text": [
      "day\n",
      "Friday       21840\n",
      "Monday       21354\n",
      "Wednesday    18059\n",
      "Name: track, dtype: int64\n"
     ]
    }
   ],
   "source": [
    "# Calculando las pistas reproducidas en cada uno de los tres días\n",
    "filtered_data = df.loc[df['day'].isin(['Monday', 'Wednesday', 'Friday'])]\n",
    "tracks_per_day = filtered_data.groupby('day')['track'].count()\n",
    "print(tracks_per_day)"
   ]
  },
  {
   "cell_type": "markdown",
   "metadata": {
    "id": "cC2tNrlL_Zcu"
   },
   "source": [
    "El miércoles fue el día más silencioso de todos. Pero si consideramos las dos ciudades por separado podríamos llegar a una conclusión diferente."
   ]
  },
  {
   "cell_type": "markdown",
   "metadata": {
    "id": "POzs8bGa_Zcu"
   },
   "source": [
    "Ya has visto cómo funciona el agrupar por ciudad o día. Ahora escribe la función que agrupará ambos.\n",
    "\n",
    "Crea la función `number_tracks()` para calcular el número de canciones reproducidas en un determinado día y ciudad. Requerirá dos parámetros:\n",
    "* día de la semana\n",
    "* nombre de la ciudad\n",
    "\n",
    "En la función, utiliza una variable para almacenar las filas de la tabla original, donde:\n",
    "  * el valor de la columna `'day'` es igual al parámetro de día\n",
    "  * el valor de la columna `'city'` es igual al parámetro de ciudad\n",
    "\n",
    "Aplica un filtrado consecutivo con indexación lógica.\n",
    "\n",
    "Después, calcula los valores de la columna `'user_id'` en la tabla resultante. Almacena el resultado en la nueva variable. Recupera esta variable de la función."
   ]
  },
  {
   "cell_type": "code",
   "execution_count": 20,
   "metadata": {
    "id": "Nz3GdQB1_Zcu"
   },
   "outputs": [
    {
     "name": "stdout",
     "output_type": "stream",
     "text": [
      "15740\n"
     ]
    }
   ],
   "source": [
    "# <creando la función number_tracks()>\n",
    "\n",
    "\"\"\"\"\"\n",
    "declararemos la función con dos parámetros: day=, city=.\n",
    "deja que la variable track_list almacene las filas df en las que\n",
    "el valor en la columna 'day' es igual al parámetro day= y, al mismo tiempo, \n",
    "el valor de la columna 'city' es igual al parámetro city= (aplica el filtrado consecutivo \n",
    "con indexación lógica).\n",
    "deja que la variable track_list_count almacene el número de valores de la columna 'user_id' en track_list\n",
    "(encontrado con el método count()).\n",
    "permite que la función devuelva un número: el valor de track_list_count.\n",
    "\n",
    "la función cuenta las pistas reproducidas en un cierto día y ciudad.\n",
    "primero recupera las filas del día deseado de la tabla,\n",
    "después filtra las filas de la ciudad deseada del resultado,\n",
    "entonces, encuentra el número de valores de 'user_id' en la tabla filtrada,\n",
    "y devuelve ese número.\n",
    "para ver lo que devuelve, envuelve la llamada de la función en print().\n",
    "\"\"\"\"\"\n",
    "\n",
    "def number_tracks(day, city):\n",
    "    track_list = df.loc[df['day'] == day].loc[df['city'] == city]\n",
    "    track_list_count = len(track_list)\n",
    "    return track_list_count\n",
    "\n",
    "print(number_tracks('Monday', 'Springfield'))"
   ]
  },
  {
   "cell_type": "markdown",
   "metadata": {
    "id": "ytf7xFrFJQ2r"
   },
   "source": [
    "Llama a `number_tracks()` seis veces, cambiando los valores de los parámetros, para que recuperes los datos de ambas ciudades para cada uno de los tres días."
   ]
  },
  {
   "cell_type": "code",
   "execution_count": 21,
   "metadata": {
    "id": "rJcRATNQ_Zcu"
   },
   "outputs": [
    {
     "data": {
      "text/plain": [
       "15740"
      ]
     },
     "execution_count": 21,
     "metadata": {},
     "output_type": "execute_result"
    }
   ],
   "source": [
    "# El número de canciones reproducidas en Springfield el lunes\n",
    "number_tracks('Monday', 'Springfield')"
   ]
  },
  {
   "cell_type": "code",
   "execution_count": 22,
   "metadata": {
    "id": "hq_ncZ5T_Zcu"
   },
   "outputs": [
    {
     "data": {
      "text/plain": [
       "5614"
      ]
     },
     "execution_count": 22,
     "metadata": {},
     "output_type": "execute_result"
    }
   ],
   "source": [
    "# El número de canciones reproducidas en Shelbyville el lunes\n",
    "number_tracks('Monday', 'Shelbyville')"
   ]
  },
  {
   "cell_type": "code",
   "execution_count": 23,
   "metadata": {
    "id": "_NTy2VPU_Zcu",
    "scrolled": true
   },
   "outputs": [
    {
     "data": {
      "text/plain": [
       "11056"
      ]
     },
     "execution_count": 23,
     "metadata": {},
     "output_type": "execute_result"
    }
   ],
   "source": [
    "# El número de canciones reproducidas en Springfield el miércoles\n",
    "number_tracks('Wednesday', 'Springfield')"
   ]
  },
  {
   "cell_type": "code",
   "execution_count": 24,
   "metadata": {
    "id": "j2y3TAwo_Zcu",
    "scrolled": true
   },
   "outputs": [
    {
     "data": {
      "text/plain": [
       "7003"
      ]
     },
     "execution_count": 24,
     "metadata": {},
     "output_type": "execute_result"
    }
   ],
   "source": [
    "# El número de canciones reproducidas en Shelbyville el miércoles\n",
    "number_tracks('Wednesday', 'Shelbyville')"
   ]
  },
  {
   "cell_type": "code",
   "execution_count": 25,
   "metadata": {
    "id": "vYDw5u_K_Zcu"
   },
   "outputs": [
    {
     "data": {
      "text/plain": [
       "15945"
      ]
     },
     "execution_count": 25,
     "metadata": {},
     "output_type": "execute_result"
    }
   ],
   "source": [
    "# El número de canciones reproducidas en Springfield el viernes\n",
    "number_tracks('Friday', 'Springfield')"
   ]
  },
  {
   "cell_type": "code",
   "execution_count": 26,
   "metadata": {
    "id": "8_yzFtW3_Zcu"
   },
   "outputs": [
    {
     "data": {
      "text/plain": [
       "5895"
      ]
     },
     "execution_count": 26,
     "metadata": {},
     "output_type": "execute_result"
    }
   ],
   "source": [
    "# El número de canciones reproducidas en Shelbyville el viernes\n",
    "number_tracks('Friday', 'Shelbyville')"
   ]
  },
  {
   "cell_type": "markdown",
   "metadata": {
    "id": "7QXffbO-_Zcu"
   },
   "source": [
    "Utiliza `pd.DataFrame` para crear una tabla, donde\n",
    "* Los nombres de las columnas son: `['city', 'monday', 'wednesday', 'friday']`\n",
    "* Los datos son los resultados que conseguiste de `number_tracks()`"
   ]
  },
  {
   "cell_type": "code",
   "execution_count": 27,
   "metadata": {},
   "outputs": [],
   "source": [
    "table_col = pd.DataFrame(data={\n",
    "    'city': ['Springfield', 'Shelbyville'],\n",
    "    'monday': [15740, 5614],\n",
    "    'wednesday': [11056, 7003],\n",
    "    'friday': [15945, 5895]\n",
    "})"
   ]
  },
  {
   "cell_type": "code",
   "execution_count": 28,
   "metadata": {
    "id": "APAcLpOr_Zcu"
   },
   "outputs": [
    {
     "data": {
      "text/html": [
       "<div>\n",
       "<style scoped>\n",
       "    .dataframe tbody tr th:only-of-type {\n",
       "        vertical-align: middle;\n",
       "    }\n",
       "\n",
       "    .dataframe tbody tr th {\n",
       "        vertical-align: top;\n",
       "    }\n",
       "\n",
       "    .dataframe thead th {\n",
       "        text-align: right;\n",
       "    }\n",
       "</style>\n",
       "<table border=\"1\" class=\"dataframe\">\n",
       "  <thead>\n",
       "    <tr style=\"text-align: right;\">\n",
       "      <th></th>\n",
       "      <th>city</th>\n",
       "      <th>monday</th>\n",
       "      <th>wednesday</th>\n",
       "      <th>friday</th>\n",
       "    </tr>\n",
       "  </thead>\n",
       "  <tbody>\n",
       "    <tr>\n",
       "      <th>0</th>\n",
       "      <td>Springfield</td>\n",
       "      <td>15740</td>\n",
       "      <td>11056</td>\n",
       "      <td>15945</td>\n",
       "    </tr>\n",
       "    <tr>\n",
       "      <th>1</th>\n",
       "      <td>Shelbyville</td>\n",
       "      <td>5614</td>\n",
       "      <td>7003</td>\n",
       "      <td>5895</td>\n",
       "    </tr>\n",
       "  </tbody>\n",
       "</table>\n",
       "</div>"
      ],
      "text/plain": [
       "          city  monday  wednesday  friday\n",
       "0  Springfield   15740      11056   15945\n",
       "1  Shelbyville    5614       7003    5895"
      ]
     },
     "execution_count": 28,
     "metadata": {},
     "output_type": "execute_result"
    }
   ],
   "source": [
    "# Tabla con los resultados\n",
    "table_col"
   ]
  },
  {
   "cell_type": "markdown",
   "metadata": {
    "id": "-EgPIHYu_Zcu"
   },
   "source": [
    "**Conclusiones**\n",
    "\n",
    "Los datos revelan las diferencias en el comportamiento de los usuarios:\n",
    "\n",
    "- En Springfield, el número de canciones reproducidas alcanzan el punto máximo los lunes y viernes mientras que los miércoles hay un descenso de la actividad.\n",
    "- En Shelbyville, al contario, los usuarios escuchan más música los miércoles. La actividad de los usuarios los lunes y viernes es menor.\n",
    "\n",
    "Así que la primera hipótesis parece ser correcta."
   ]
  },
  {
   "cell_type": "markdown",
   "metadata": {
    "id": "p7nFQajCVw5B"
   },
   "source": [
    "[Volver a Contenidos](#back)"
   ]
  },
  {
   "cell_type": "markdown",
   "metadata": {
    "id": "atZAxtq4_Zcu"
   },
   "source": [
    "### Hipótesis 2: música al principio y al final de la semana <a id='week'></a>"
   ]
  },
  {
   "cell_type": "markdown",
   "metadata": {
    "id": "eXrQqXFH_Zcu"
   },
   "source": [
    "De acuerdo con la segunda hipótesis, los lunes por la mañana y los viernes por la noche los ciudadanos de Springfield escuchan géneros que difieren de aquellos que los usuarios de Shelbyville disfrutan."
   ]
  },
  {
   "cell_type": "markdown",
   "metadata": {
    "id": "S8UcW6Hw_Zcu"
   },
   "source": [
    "Obtén tablas (asegúrate de que el nombre de tu tabla combinada encaja con el DataFrame dado en los dos bloques de código de abajo):\n",
    "* Para Springfield — `spr_general`\n",
    "* Para Shelbyville — `shel_general`"
   ]
  },
  {
   "cell_type": "code",
   "execution_count": 29,
   "metadata": {
    "id": "qeaFfM_P_Zcu"
   },
   "outputs": [],
   "source": [
    "# obteniendo la tabla spr_general de las filas de df, donde los valores en la columna 'city' es 'Springfield'\n",
    "spr_general = df[df[\"city\"] == \"Springfield\"]"
   ]
  },
  {
   "cell_type": "code",
   "execution_count": 30,
   "metadata": {
    "id": "ORaVRKto_Zcu"
   },
   "outputs": [],
   "source": [
    "# obteniendo shel_general de las filas df,donde el valor de la columna 'city' es 'Shelbyville'\n",
    "shel_general = df[df[\"city\"] == \"Shelbyville\"]"
   ]
  },
  {
   "cell_type": "markdown",
   "metadata": {
    "id": "MEJV-CX2_Zcu"
   },
   "source": [
    "Escribe la función genre_weekday() con cuatro parámetros:\n",
    "* Una tabla para los datos (`df`)\n",
    "* El día de la semana (`day`)\n",
    "* La marca de fecha y hora en formato 'hh:mm' (`time1`)\n",
    "* La marca de fecha y hora en formato 'hh:mm' (`time2`)\n",
    "\n",
    "La función debería devolver información de los 15 géneros más populares de un día determinado en un período entre dos marcas de fecha y hora."
   ]
  },
  {
   "cell_type": "code",
   "execution_count": 31,
   "metadata": {
    "id": "laJT9BYl_Zcu"
   },
   "outputs": [],
   "source": [
    "# declarando la función genre_weekday() con los parámetros day=, time1= y time2=. \n",
    "\"\"\"\"\"\n",
    "Debería devolver información sobre los géneros más populares de un determinado día a una determinada hora:\n",
    "\n",
    "1) Deja que la variable genre_df almacene las filas que cumplen varias condiciones:\n",
    "   - el valor de la columna 'day' es igual al valor del argumento day=\n",
    "   - el valor de la columna 'time' es mayor que el valor del argumento time1=\n",
    "   - el valor en la columna 'time' es menor que el valor del argumento time2=\n",
    "Utiliza un filtrado consecutivo con indexación lógica.\n",
    "\n",
    "2) Agrupa genre_df por la columna 'genre', toma una de sus columnas, \n",
    "   y utiliza el método count() para encontrar el número de entradas por cada uno de \n",
    "   los géneros representados; almacena los Series resultantes en    la variable genre_df_count\n",
    "\n",
    "3) Ordena genre_df_count en orden descendente de frecuencia y guarda el resultado\n",
    "   en la variable genre_df_sorted\n",
    "\n",
    "4) Devuelve un objeto Series con los primeros 15 valores de genre_df_sorted - los 15\n",
    "   géneros más populares (en un determinado día, en un determinado periodo de tiempo)\n",
    "\"\"\"\"\"\n",
    "\n",
    "def genre_weekday(df, day, time1, time2):\n",
    "\n",
    "    # Filtrado consecutivo\n",
    "    # genre_df solo almacenará aquellas filas df en las que el día sea igual a day=\n",
    "    genre_df = df.loc[df['day'] == day] # escribe tu código aquí\n",
    "\n",
    "    # genre_df solo almacenará aquellas filas df en las que el tiempo sea menos que time2=\n",
    "    genre_df = genre_df.loc[genre_df['time']<=time2] # escribe tu código aquí\n",
    "\n",
    "    # genre_df solo almacenará aquellas filas df en las que el tiempo sea mayor que time1=\n",
    "    genre_df = genre_df.loc[genre_df['time']>=time1] # escribe tu código aquí\n",
    "\n",
    "    # Agrupa el DataFrame filtrado por la columna con los nombres de los géneros, toma la columna de género, y encuentra el número de filas por cada género con el método count()\n",
    "    genre_df_grouped = genre_df.groupby('genre')['genre'].count() # escribe tu código aquí\n",
    "\n",
    "    # Ordenaremos el resultado en orden descendente (por lo que los géneros más populares aparecerán primero en el objeto Series)\n",
    "    genre_df_sorted = genre_df_grouped.sort_values(ascending=False) # escribe tu código aquí\n",
    "\n",
    "    # Devolveremos el objeto Series que almacena los 15 géneros más populares en un día determinado en un periodo de tiempo determinado\n",
    "    return genre_df_sorted[:15]"
   ]
  },
  {
   "cell_type": "markdown",
   "metadata": {
    "id": "la2s2_PF_Zcu"
   },
   "source": [
    "Compara los resultados de la función `genre_weekday()`para Springfield y Shelbyville el lunes por la mañana (de 7 a 11) y el viernes por la tarde (de 17:00 a 23:00):"
   ]
  },
  {
   "cell_type": "code",
   "execution_count": 32,
   "metadata": {
    "id": "yz7itPUQ_Zcu"
   },
   "outputs": [
    {
     "data": {
      "text/plain": [
       "genre\n",
       "pop            781\n",
       "dance          549\n",
       "electronic     480\n",
       "rock           474\n",
       "hiphop         286\n",
       "ruspop         186\n",
       "world          181\n",
       "rusrap         175\n",
       "alternative    164\n",
       "unknown        161\n",
       "classical      157\n",
       "metal          120\n",
       "jazz           100\n",
       "folk            97\n",
       "soundtrack      95\n",
       "Name: genre, dtype: int64"
      ]
     },
     "execution_count": 32,
     "metadata": {},
     "output_type": "execute_result"
    }
   ],
   "source": [
    "# Llamando a la función para el lunes por la mañana en Springfield (utilizando spr_general en vez de la tabla df)\n",
    "genre_weekday(spr_general, day='Monday', time1='07:00', time2='11:00')"
   ]
  },
  {
   "cell_type": "code",
   "execution_count": 33,
   "metadata": {
    "id": "kwUcHPdy_Zcu"
   },
   "outputs": [
    {
     "data": {
      "text/plain": [
       "genre\n",
       "pop            218\n",
       "dance          182\n",
       "rock           162\n",
       "electronic     147\n",
       "hiphop          80\n",
       "ruspop          64\n",
       "alternative     58\n",
       "rusrap          55\n",
       "jazz            44\n",
       "classical       40\n",
       "world           36\n",
       "rap             32\n",
       "soundtrack      31\n",
       "rnb             27\n",
       "metal           27\n",
       "Name: genre, dtype: int64"
      ]
     },
     "execution_count": 33,
     "metadata": {},
     "output_type": "execute_result"
    }
   ],
   "source": [
    "# Llamando a la función para el lunes por la mañana en Shelbyville (utilizando shel_general en vez de la tabla df)\n",
    "genre_weekday(shel_general, day='Monday', time1='07:00', time2='11:00')"
   ]
  },
  {
   "cell_type": "code",
   "execution_count": 34,
   "metadata": {
    "id": "EzXVRE1o_Zcu"
   },
   "outputs": [
    {
     "data": {
      "text/plain": [
       "genre\n",
       "pop            713\n",
       "rock           517\n",
       "dance          495\n",
       "electronic     482\n",
       "hiphop         273\n",
       "world          208\n",
       "ruspop         170\n",
       "classical      163\n",
       "alternative    163\n",
       "rusrap         142\n",
       "jazz           111\n",
       "unknown        110\n",
       "soundtrack     105\n",
       "rnb             90\n",
       "metal           88\n",
       "Name: genre, dtype: int64"
      ]
     },
     "execution_count": 34,
     "metadata": {},
     "output_type": "execute_result"
    }
   ],
   "source": [
    "# Llamando a la función para el viernes por la tarde en Springfield\n",
    "genre_weekday(spr_general, day='Friday', time1='17:00', time2='23:00')"
   ]
  },
  {
   "cell_type": "code",
   "execution_count": 35,
   "metadata": {
    "id": "JZaEKu5v_Zcu"
   },
   "outputs": [
    {
     "data": {
      "text/plain": [
       "genre\n",
       "pop            256\n",
       "rock           216\n",
       "electronic     216\n",
       "dance          210\n",
       "hiphop          97\n",
       "alternative     63\n",
       "jazz            61\n",
       "classical       60\n",
       "rusrap          59\n",
       "world           54\n",
       "unknown         47\n",
       "ruspop          47\n",
       "soundtrack      40\n",
       "metal           39\n",
       "rap             36\n",
       "Name: genre, dtype: int64"
      ]
     },
     "execution_count": 35,
     "metadata": {},
     "output_type": "execute_result"
    }
   ],
   "source": [
    "# Llamando a la función para el viernes por la tarde en Shelbyville\n",
    "genre_weekday(shel_general, day='Friday', time1='17:00', time2='23:00')"
   ]
  },
  {
   "cell_type": "markdown",
   "metadata": {
    "id": "wrCe4MNX_Zcu"
   },
   "source": [
    "**Conclusión**\n",
    "\n",
    "Habiendo comparado los 15 géneros más populares del lunes por la mañana podemos concluir lo siguiente:\n",
    "\n",
    "1. Los usuarios de Springfield y Shelbyville escuchan música similar. Los cinco géneros más populares son los mismos, solo rock y electrónica han intercambiado posiciones.\n",
    "\n",
    "2. En Springfield el número de valores ausentes resultaron ser tan altos que el valor `'unknown'` llegó al décimo. Esto significa que los valores ausentes forman una parte considerable de los datos, lo que podría ser la base de la cuestión sobre la fiabilidad de nuestras conclusiones.\n",
    "\n",
    "Para el viernes por la tarde, la situación es similar. Los géneros individuales varían algo pero, en general, los 15 más populares son parecidos en las dos ciudades.\n",
    "\n",
    "De esta forma, la segunda hipótesis ha sido parcialmente demostrada:\n",
    "* Los usuarios escuchan música similar al principio y al final de la semana.\n",
    "* No hay una gran diferencia entre Springfield y Shelbyville. En ambas ciudades, el pop es el género más popular.\n",
    "\n",
    "Sin embargo, el número de valores ausentes hace este resultado un tanto cuestionable. En Springfield, hay tantos que afectan a nuestros 15 más populares. De no faltarnos esos valores, las cosas podrían parecer diferentes."
   ]
  },
  {
   "cell_type": "markdown",
   "metadata": {
    "id": "jLmXgdanVyhP"
   },
   "source": [
    "[Volver a Contenidos](#back)"
   ]
  },
  {
   "cell_type": "markdown",
   "metadata": {
    "id": "JolODAqr_Zcu"
   },
   "source": [
    "### Hipótesis 3: preferencias de género en Springfield y Shelbyville <a id='genre'></a>\n",
    "\n",
    "Hipótesis: Shelbyville ama la música rap. A los ciudadanos de Springfield les gusta más el pop."
   ]
  },
  {
   "cell_type": "markdown",
   "metadata": {
    "id": "DlegSvaT_Zcu"
   },
   "source": [
    "Agrupa la tabla `spr_general` por género y encuentra el número de canciones reproducidas de cada género con el método `count()`. Después, ordena el resultado en orden descendente y guárdalo en `spr_genres`."
   ]
  },
  {
   "cell_type": "code",
   "execution_count": 36,
   "metadata": {
    "id": "r19lIPke_Zcu"
   },
   "outputs": [],
   "source": [
    "# en una línea: agrupa la tabla spr_general por la columna 'genre', cuenta los valores 'genre' con count() en la agrupación, \n",
    "# ordena el Series resultante en orden descendiente, y almacénalo en spr_genres\n",
    "spr_genres = spr_general.groupby('genre').size()\n",
    "spr_genres = spr_genres.sort_values(ascending=False)"
   ]
  },
  {
   "cell_type": "markdown",
   "metadata": {
    "id": "6kMuomxTiIr8"
   },
   "source": [
    "Imprime las 10 primeras filas de `spr_genres`:"
   ]
  },
  {
   "cell_type": "code",
   "execution_count": 37,
   "metadata": {
    "id": "WhCSooF8_Zcv"
   },
   "outputs": [
    {
     "name": "stdout",
     "output_type": "stream",
     "text": [
      "genre\n",
      "pop            5892\n",
      "dance          4435\n",
      "rock           3965\n",
      "electronic     3786\n",
      "hiphop         2096\n",
      "classical      1616\n",
      "world          1432\n",
      "alternative    1379\n",
      "ruspop         1372\n",
      "rusrap         1161\n",
      "dtype: int64\n"
     ]
    }
   ],
   "source": [
    "# Imprimiendo las 10 primeras filas de spr_genres\n",
    "print(spr_genres.head(10))"
   ]
  },
  {
   "cell_type": "markdown",
   "metadata": {
    "id": "cnPG2vnN_Zcv"
   },
   "source": [
    "Ahora haz lo mismo con los datos de Shelbyville.\n",
    "\n",
    "Agrupa la tabla `shel_general` por género y encuentra el número de canciones reproducidas de cada género. Después, ordena el resultado en orden descendente y guárdalo en la tabla `shel_genres`:\n"
   ]
  },
  {
   "cell_type": "code",
   "execution_count": 38,
   "metadata": {
    "id": "gluLIpE7_Zcv"
   },
   "outputs": [],
   "source": [
    "# En una línea: agrupa la tabla shel_general por la columna 'genre', cuenta los valores 'genre' en el agrupamiento con count(), \n",
    "# ordena el Series resultante en orden descendente y guárdalo en shel_genres\n",
    "shel_genres = shel_general.groupby('genre').size()\n",
    "shel_genres = shel_genres.sort_values(ascending=False)"
   ]
  },
  {
   "cell_type": "markdown",
   "metadata": {
    "id": "5Doha_ODgyQ8"
   },
   "source": [
    "Imprime las 10 primeras filas de `shel_genres`:"
   ]
  },
  {
   "cell_type": "code",
   "execution_count": 39,
   "metadata": {
    "id": "uaGJHjVU_Zcv"
   },
   "outputs": [
    {
     "name": "stdout",
     "output_type": "stream",
     "text": [
      "genre\n",
      "pop            2431\n",
      "dance          1932\n",
      "rock           1879\n",
      "electronic     1736\n",
      "hiphop          960\n",
      "alternative     649\n",
      "classical       646\n",
      "rusrap          564\n",
      "ruspop          538\n",
      "world           515\n",
      "dtype: int64\n"
     ]
    }
   ],
   "source": [
    "# Imprimiendo las 10 primeras filas de shel_genres\n",
    "print(shel_genres.head(10))"
   ]
  },
  {
   "cell_type": "markdown",
   "metadata": {
    "id": "RY51YJYu_Zcv"
   },
   "source": [
    "**Conclusión**"
   ]
  },
  {
   "cell_type": "markdown",
   "metadata": {
    "id": "nVhnJEm__Zcv"
   },
   "source": [
    "La hipótesis ha sido parcialmente demostrada:\n",
    "* La música pop es el género más popular en Springfield, tal como se esperaba.\n",
    "* Sin embargo, la música pop ha resultado ser igual de popular en Springfield que en Shelbyville y el rap no estaba entre los 5 más populares en ninguna de las ciudades.\n"
   ]
  },
  {
   "cell_type": "markdown",
   "metadata": {
    "id": "Byr0RfpPVz14"
   },
   "source": [
    "[Volver a Contenidos](#back)"
   ]
  },
  {
   "cell_type": "markdown",
   "metadata": {
    "id": "ykKQ0N65_Zcv"
   },
   "source": [
    "# Conclusiones <a id='end'></a>"
   ]
  },
  {
   "cell_type": "markdown",
   "metadata": {
    "id": "tjUwbHb3_Zcv"
   },
   "source": [
    "Hemos probado las siguientes tres hipótesis:\n",
    "\n",
    "1. La actividad de los usuarios difiere dependiendo del día de la semana y de las distintas ciudades. \n",
    "2. Los lunes por la mañana los residentes de Springfield y Shelbyville escuchan géneros distintos. Lo mismo ocurre con los viernes por la noche.\n",
    "3. Los oyentes de Springfield y Shelbyville tienen distintas preferencias. En ambas ciudades, Springfield y Shelbyville, se prefiere el pop.\n",
    "\n",
    "Tras analizar los datos, concluimos:\n",
    "\n",
    "1. La actividad del usuario en Springfield y Shelbyville depende del día de la semana aunque las ciudades varían de diferentes formas. \n",
    "\n",
    "La primera hipótesis ha sido aceptada completamente.\n",
    "\n",
    "2. Las preferencias musicales no varían significativamente en el transcurso de la semana en Springfield y Shelbyville. Podemos observar pequeñas diferencias en el orden los lunes, pero:\n",
    "* En Springfield y Shelbyville la gente lo que más escucha es la música pop.\n",
    "\n",
    "Así que no podemos aceptar esta hipótesis. También debemos tener en cuenta que el resultado podría haber sido diferente si no fuera por los valores ausentes.\n",
    "\n",
    "3. Resulta que las preferencias musicales de los usuarios de Springfield y Shelbyville son bastante parecidas.\n",
    "\n",
    "La tercera hipótesis es rechazada. Si hay alguna diferencia en las preferencias no se puede observar en los datos."
   ]
  },
  {
   "cell_type": "markdown",
   "metadata": {
    "id": "Ju4AHDSgV1FE"
   },
   "source": [
    "[Volver a Contenidos](#back)"
   ]
  }
 ],
 "metadata": {
  "colab": {
   "collapsed_sections": [
    "E0vqbgi9ay0H",
    "VUC88oWjTJw2",
    "atZAxtq4_Zcu"
   ],
   "name": "EmptyFinalProject.ipynb\"",
   "provenance": []
  },
  "kernelspec": {
   "display_name": "Python 3 (ipykernel)",
   "language": "python",
   "name": "python3"
  },
  "language_info": {
   "codemirror_mode": {
    "name": "ipython",
    "version": 3
   },
   "file_extension": ".py",
   "mimetype": "text/x-python",
   "name": "python",
   "nbconvert_exporter": "python",
   "pygments_lexer": "ipython3",
   "version": "3.9.5"
  },
  "toc": {
   "base_numbering": 1,
   "nav_menu": {},
   "number_sections": true,
   "sideBar": true,
   "skip_h1_title": true,
   "title_cell": "Table of Contents",
   "title_sidebar": "Contents",
   "toc_cell": false,
   "toc_position": {},
   "toc_section_display": true,
   "toc_window_display": true
  }
 },
 "nbformat": 4,
 "nbformat_minor": 4
}
