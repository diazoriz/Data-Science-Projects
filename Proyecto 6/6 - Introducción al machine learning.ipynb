{
 "cells": [
  {
   "cell_type": "markdown",
   "metadata": {},
   "source": [
    "## Tabla de Contenidos\n",
    "1. [Introducción](#introduccion)\n",
    "2. [Objetivo](#objetivo)\n",
    "3. [Datos y Librerías](#datos-y-librerias)\n",
    "    1. [Librerias](#librerias)\n",
    "    2. [Datos](#datos)\n",
    "    3. [Conociendo los datos](#conociendo-los-datos)\n",
    "    4. [Preparacion de los datos](#preparacion-de-los-datos)\n",
    "4. [Modelo: Arbol de decision](#arbol-de-decision)\n",
    "5. [Modelo: Bosque aleatorio](#bosque-aleatorio)\n",
    "6. [Modelo: Regresion logistica](#regresion-logistica)\n",
    "7. [Testeo](#testeo)\n",
    "8. [Conclusión](#conclusion)\n",
    "9. [Comentarios Generales](#comentarios-generales)"
   ]
  },
  {
   "cell_type": "markdown",
   "metadata": {},
   "source": [
    "<a id=\"introduccion\"></a>\n",
    "## Introducción"
   ]
  },
  {
   "cell_type": "markdown",
   "metadata": {},
   "source": [
    "En este proyecto crearemos un modelo que pueda analizar el comportamiento de los clientes y recomendar uno de los nuevos planes de Megaline:\n",
    "\n",
    "- Smart.\n",
    "- Ultra.\n",
    "\n",
    "Para esto analizaremos la información en base a 3 tipos de modelos:\n",
    "\n",
    "- Arbol de decisión.\n",
    "- Bosque aleatorio.\n",
    "- Regresión logística.\n",
    "\n",
    "En cada uno de estos modelos veremos y calibraremos sus hiperparámetros para buscar la mayor exactitud posible."
   ]
  },
  {
   "cell_type": "markdown",
   "metadata": {},
   "source": [
    "<a id=\"objetivo\"></a>\n",
    "## Objetivo"
   ]
  },
  {
   "cell_type": "markdown",
   "metadata": {},
   "source": [
    "Desarrollar un modelo que pueda analizar el comportamiento de los clientes y recomendar uno de los nuevos planes de Megaline:\n",
    "\n",
    "- Smart.\n",
    "- Ultra."
   ]
  },
  {
   "cell_type": "markdown",
   "metadata": {},
   "source": [
    "<a id=\"datos-y-librerias\"></a>\n",
    "## Datos y librerias"
   ]
  },
  {
   "cell_type": "markdown",
   "metadata": {},
   "source": [
    "<a id=\"librerias\"></a>\n",
    "### Librerias"
   ]
  },
  {
   "cell_type": "code",
   "execution_count": 1,
   "metadata": {},
   "outputs": [],
   "source": [
    "# Cargamos las librerias que nos servirán para nuestro análisis\n",
    "import pandas as pd\n",
    "from sklearn import set_config\n",
    "from sklearn.tree import DecisionTreeClassifier\n",
    "from sklearn.metrics import accuracy_score \n",
    "from sklearn.ensemble import RandomForestClassifier\n",
    "from sklearn.model_selection import train_test_split\n",
    "from sklearn.linear_model import LogisticRegression \n",
    "from sklearn.preprocessing import OrdinalEncoder \n",
    "from sklearn.preprocessing import StandardScaler "
   ]
  },
  {
   "cell_type": "markdown",
   "metadata": {},
   "source": [
    "<a id=\"datos\"></a>\n",
    "### Datos"
   ]
  },
  {
   "cell_type": "code",
   "execution_count": 2,
   "metadata": {},
   "outputs": [],
   "source": [
    "# Cargamos los datos de cada tabla por separado\n",
    "\n",
    "try:\n",
    "    df = pd.read_csv('/datasets/users_behavior.csv')\n",
    "except:\n",
    "    df = pd.read_csv('users_behavior.csv')"
   ]
  },
  {
   "cell_type": "markdown",
   "metadata": {},
   "source": [
    "<a id=\"conociendo-los-datos\"></a>\n",
    "### Conociendo los datos"
   ]
  },
  {
   "cell_type": "markdown",
   "metadata": {},
   "source": [
    "Hagamos una rápida inspección de los datos para saber con que estamos entrenando a nuestro modelo."
   ]
  },
  {
   "cell_type": "code",
   "execution_count": 3,
   "metadata": {},
   "outputs": [
    {
     "name": "stdout",
     "output_type": "stream",
     "text": [
      "<class 'pandas.core.frame.DataFrame'>\n",
      "RangeIndex: 3214 entries, 0 to 3213\n",
      "Data columns (total 5 columns):\n",
      " #   Column    Non-Null Count  Dtype  \n",
      "---  ------    --------------  -----  \n",
      " 0   calls     3214 non-null   float64\n",
      " 1   minutes   3214 non-null   float64\n",
      " 2   messages  3214 non-null   float64\n",
      " 3   mb_used   3214 non-null   float64\n",
      " 4   is_ultra  3214 non-null   int64  \n",
      "dtypes: float64(4), int64(1)\n",
      "memory usage: 125.7 KB\n"
     ]
    }
   ],
   "source": [
    "df.info()"
   ]
  },
  {
   "cell_type": "code",
   "execution_count": 4,
   "metadata": {},
   "outputs": [
    {
     "data": {
      "text/html": [
       "<div>\n",
       "<style scoped>\n",
       "    .dataframe tbody tr th:only-of-type {\n",
       "        vertical-align: middle;\n",
       "    }\n",
       "\n",
       "    .dataframe tbody tr th {\n",
       "        vertical-align: top;\n",
       "    }\n",
       "\n",
       "    .dataframe thead th {\n",
       "        text-align: right;\n",
       "    }\n",
       "</style>\n",
       "<table border=\"1\" class=\"dataframe\">\n",
       "  <thead>\n",
       "    <tr style=\"text-align: right;\">\n",
       "      <th></th>\n",
       "      <th>calls</th>\n",
       "      <th>minutes</th>\n",
       "      <th>messages</th>\n",
       "      <th>mb_used</th>\n",
       "      <th>is_ultra</th>\n",
       "    </tr>\n",
       "  </thead>\n",
       "  <tbody>\n",
       "    <tr>\n",
       "      <th>0</th>\n",
       "      <td>40.0</td>\n",
       "      <td>311.90</td>\n",
       "      <td>83.0</td>\n",
       "      <td>19915.42</td>\n",
       "      <td>0</td>\n",
       "    </tr>\n",
       "    <tr>\n",
       "      <th>1</th>\n",
       "      <td>85.0</td>\n",
       "      <td>516.75</td>\n",
       "      <td>56.0</td>\n",
       "      <td>22696.96</td>\n",
       "      <td>0</td>\n",
       "    </tr>\n",
       "    <tr>\n",
       "      <th>2</th>\n",
       "      <td>77.0</td>\n",
       "      <td>467.66</td>\n",
       "      <td>86.0</td>\n",
       "      <td>21060.45</td>\n",
       "      <td>0</td>\n",
       "    </tr>\n",
       "    <tr>\n",
       "      <th>3</th>\n",
       "      <td>106.0</td>\n",
       "      <td>745.53</td>\n",
       "      <td>81.0</td>\n",
       "      <td>8437.39</td>\n",
       "      <td>1</td>\n",
       "    </tr>\n",
       "    <tr>\n",
       "      <th>4</th>\n",
       "      <td>66.0</td>\n",
       "      <td>418.74</td>\n",
       "      <td>1.0</td>\n",
       "      <td>14502.75</td>\n",
       "      <td>0</td>\n",
       "    </tr>\n",
       "    <tr>\n",
       "      <th>5</th>\n",
       "      <td>58.0</td>\n",
       "      <td>344.56</td>\n",
       "      <td>21.0</td>\n",
       "      <td>15823.37</td>\n",
       "      <td>0</td>\n",
       "    </tr>\n",
       "    <tr>\n",
       "      <th>6</th>\n",
       "      <td>57.0</td>\n",
       "      <td>431.64</td>\n",
       "      <td>20.0</td>\n",
       "      <td>3738.90</td>\n",
       "      <td>1</td>\n",
       "    </tr>\n",
       "    <tr>\n",
       "      <th>7</th>\n",
       "      <td>15.0</td>\n",
       "      <td>132.40</td>\n",
       "      <td>6.0</td>\n",
       "      <td>21911.60</td>\n",
       "      <td>0</td>\n",
       "    </tr>\n",
       "    <tr>\n",
       "      <th>8</th>\n",
       "      <td>7.0</td>\n",
       "      <td>43.39</td>\n",
       "      <td>3.0</td>\n",
       "      <td>2538.67</td>\n",
       "      <td>1</td>\n",
       "    </tr>\n",
       "    <tr>\n",
       "      <th>9</th>\n",
       "      <td>90.0</td>\n",
       "      <td>665.41</td>\n",
       "      <td>38.0</td>\n",
       "      <td>17358.61</td>\n",
       "      <td>0</td>\n",
       "    </tr>\n",
       "  </tbody>\n",
       "</table>\n",
       "</div>"
      ],
      "text/plain": [
       "   calls  minutes  messages   mb_used  is_ultra\n",
       "0   40.0   311.90      83.0  19915.42         0\n",
       "1   85.0   516.75      56.0  22696.96         0\n",
       "2   77.0   467.66      86.0  21060.45         0\n",
       "3  106.0   745.53      81.0   8437.39         1\n",
       "4   66.0   418.74       1.0  14502.75         0\n",
       "5   58.0   344.56      21.0  15823.37         0\n",
       "6   57.0   431.64      20.0   3738.90         1\n",
       "7   15.0   132.40       6.0  21911.60         0\n",
       "8    7.0    43.39       3.0   2538.67         1\n",
       "9   90.0   665.41      38.0  17358.61         0"
      ]
     },
     "execution_count": 4,
     "metadata": {},
     "output_type": "execute_result"
    }
   ],
   "source": [
    "df.head(10)"
   ]
  },
  {
   "cell_type": "markdown",
   "metadata": {},
   "source": [
    "Aprovechemos que este DataFrame se compone exclusivamente por números y describamoslo estadísticamente."
   ]
  },
  {
   "cell_type": "code",
   "execution_count": 5,
   "metadata": {},
   "outputs": [
    {
     "data": {
      "text/html": [
       "<div>\n",
       "<style scoped>\n",
       "    .dataframe tbody tr th:only-of-type {\n",
       "        vertical-align: middle;\n",
       "    }\n",
       "\n",
       "    .dataframe tbody tr th {\n",
       "        vertical-align: top;\n",
       "    }\n",
       "\n",
       "    .dataframe thead th {\n",
       "        text-align: right;\n",
       "    }\n",
       "</style>\n",
       "<table border=\"1\" class=\"dataframe\">\n",
       "  <thead>\n",
       "    <tr style=\"text-align: right;\">\n",
       "      <th></th>\n",
       "      <th>calls</th>\n",
       "      <th>minutes</th>\n",
       "      <th>messages</th>\n",
       "      <th>mb_used</th>\n",
       "      <th>is_ultra</th>\n",
       "    </tr>\n",
       "  </thead>\n",
       "  <tbody>\n",
       "    <tr>\n",
       "      <th>count</th>\n",
       "      <td>3214.000000</td>\n",
       "      <td>3214.000000</td>\n",
       "      <td>3214.000000</td>\n",
       "      <td>3214.000000</td>\n",
       "      <td>3214.000000</td>\n",
       "    </tr>\n",
       "    <tr>\n",
       "      <th>mean</th>\n",
       "      <td>63.038892</td>\n",
       "      <td>438.208787</td>\n",
       "      <td>38.281269</td>\n",
       "      <td>17207.673836</td>\n",
       "      <td>0.306472</td>\n",
       "    </tr>\n",
       "    <tr>\n",
       "      <th>std</th>\n",
       "      <td>33.236368</td>\n",
       "      <td>234.569872</td>\n",
       "      <td>36.148326</td>\n",
       "      <td>7570.968246</td>\n",
       "      <td>0.461100</td>\n",
       "    </tr>\n",
       "    <tr>\n",
       "      <th>min</th>\n",
       "      <td>0.000000</td>\n",
       "      <td>0.000000</td>\n",
       "      <td>0.000000</td>\n",
       "      <td>0.000000</td>\n",
       "      <td>0.000000</td>\n",
       "    </tr>\n",
       "    <tr>\n",
       "      <th>25%</th>\n",
       "      <td>40.000000</td>\n",
       "      <td>274.575000</td>\n",
       "      <td>9.000000</td>\n",
       "      <td>12491.902500</td>\n",
       "      <td>0.000000</td>\n",
       "    </tr>\n",
       "    <tr>\n",
       "      <th>50%</th>\n",
       "      <td>62.000000</td>\n",
       "      <td>430.600000</td>\n",
       "      <td>30.000000</td>\n",
       "      <td>16943.235000</td>\n",
       "      <td>0.000000</td>\n",
       "    </tr>\n",
       "    <tr>\n",
       "      <th>75%</th>\n",
       "      <td>82.000000</td>\n",
       "      <td>571.927500</td>\n",
       "      <td>57.000000</td>\n",
       "      <td>21424.700000</td>\n",
       "      <td>1.000000</td>\n",
       "    </tr>\n",
       "    <tr>\n",
       "      <th>max</th>\n",
       "      <td>244.000000</td>\n",
       "      <td>1632.060000</td>\n",
       "      <td>224.000000</td>\n",
       "      <td>49745.730000</td>\n",
       "      <td>1.000000</td>\n",
       "    </tr>\n",
       "  </tbody>\n",
       "</table>\n",
       "</div>"
      ],
      "text/plain": [
       "             calls      minutes     messages       mb_used     is_ultra\n",
       "count  3214.000000  3214.000000  3214.000000   3214.000000  3214.000000\n",
       "mean     63.038892   438.208787    38.281269  17207.673836     0.306472\n",
       "std      33.236368   234.569872    36.148326   7570.968246     0.461100\n",
       "min       0.000000     0.000000     0.000000      0.000000     0.000000\n",
       "25%      40.000000   274.575000     9.000000  12491.902500     0.000000\n",
       "50%      62.000000   430.600000    30.000000  16943.235000     0.000000\n",
       "75%      82.000000   571.927500    57.000000  21424.700000     1.000000\n",
       "max     244.000000  1632.060000   224.000000  49745.730000     1.000000"
      ]
     },
     "execution_count": 5,
     "metadata": {},
     "output_type": "execute_result"
    }
   ],
   "source": [
    "df.describe()"
   ]
  },
  {
   "cell_type": "markdown",
   "metadata": {},
   "source": [
    "<a id=\"preparacion-de-los-datos\"></a>\n",
    "### Preparacion los datos"
   ]
  },
  {
   "cell_type": "markdown",
   "metadata": {},
   "source": [
    "Aunque muchas veces los DataFrames tienen datos faltantes, no es el caso esta vez. Eso no significa que no debamos preparar los datos antes de trabajarlos. Para poder entrenar, validar y testear nuestro modelo necesitamos tomar 2 pasos antes. Estos son:\n",
    "\n",
    "- Dividir los datos para tener los distintos grupos de datos, en este caso dejaremos 20% para validación y otro 20% para testeo, el resto será para entrenar.\n",
    "- Crear los targets y features para nuestro modelo, considerando entrenamiento, validación y testeo, en este caso consideramos la columna final is_ultra como el target."
   ]
  },
  {
   "cell_type": "code",
   "execution_count": 6,
   "metadata": {},
   "outputs": [],
   "source": [
    "# Primero separamos el grupo de testeo\n",
    "df_rest, df_test = train_test_split(df, test_size=0.2, random_state=54321)"
   ]
  },
  {
   "cell_type": "code",
   "execution_count": 7,
   "metadata": {},
   "outputs": [
    {
     "name": "stdout",
     "output_type": "stream",
     "text": [
      "(2571, 5)\n",
      "(643, 5)\n"
     ]
    }
   ],
   "source": [
    "print(df_rest.shape)\n",
    "print(df_test.shape)"
   ]
  },
  {
   "cell_type": "code",
   "execution_count": 8,
   "metadata": {},
   "outputs": [],
   "source": [
    "# Luego separamos en entrenamiento y validación\n",
    "df_train, df_valid = train_test_split(df_rest, test_size=0.25, random_state=54321)"
   ]
  },
  {
   "cell_type": "code",
   "execution_count": 9,
   "metadata": {},
   "outputs": [],
   "source": [
    "# Creamos targets y features para nuestro modelo\n",
    "features_train = df_train.drop(['is_ultra'], axis=1)\n",
    "target_train = df_train['is_ultra']\n",
    "features_valid = df_valid.drop(['is_ultra'], axis=1)\n",
    "target_valid = df_valid['is_ultra']\n",
    "features_test = df_test.drop(['is_ultra'], axis=1)\n",
    "target_test = df_test['is_ultra']"
   ]
  },
  {
   "cell_type": "code",
   "execution_count": 10,
   "metadata": {},
   "outputs": [
    {
     "name": "stdout",
     "output_type": "stream",
     "text": [
      "Entrenamiento:\n",
      "(1928, 4)\n",
      "(1928,)\n",
      "\n",
      "Validación:\n",
      "(643, 4)\n",
      "(643,)\n",
      "\n",
      "Testeo:\n",
      "(643, 4)\n",
      "(643,)\n"
     ]
    }
   ],
   "source": [
    "# Veamos los tamaños finales de nuestros DataFrames\n",
    "print('Entrenamiento:')\n",
    "print(features_train.shape)\n",
    "print(target_train.shape)\n",
    "print()\n",
    "print('Validación:')\n",
    "print(features_valid.shape)\n",
    "print(target_valid.shape)\n",
    "print()\n",
    "print('Testeo:')\n",
    "print(features_test.shape)\n",
    "print(target_test.shape)"
   ]
  },
  {
   "cell_type": "markdown",
   "metadata": {},
   "source": [
    "Como usaremos los mismos datos durante cada modelo, resulta más conveniente hacer esto de manera previa."
   ]
  },
  {
   "cell_type": "markdown",
   "metadata": {},
   "source": [
    "<a id=\"arbol-de-decision\"></a>\n",
    "## Modelo: Arbol de decision"
   ]
  },
  {
   "cell_type": "markdown",
   "metadata": {},
   "source": [
    "Comenzaremos con el arbol de decisión, en este caso iremos cambiando su profundidad y su cantidad de hojas. Cambiaremos varias variable aprovechando que este modelo tiene una alta velocidad de procesamiento. Esto nos deja jugar un poco más con los detalles."
   ]
  },
  {
   "cell_type": "code",
   "execution_count": 11,
   "metadata": {},
   "outputs": [
    {
     "name": "stdout",
     "output_type": "stream",
     "text": [
      "Exactitud del mejor modelo en el conjunto de validación (depth = 7): 0.8429237947122862\n"
     ]
    },
    {
     "data": {
      "text/plain": [
       "DecisionTreeClassifier(max_depth=7, min_samples_leaf=13, random_state=54321)"
      ]
     },
     "execution_count": 11,
     "metadata": {},
     "output_type": "execute_result"
    }
   ],
   "source": [
    "best_tree = 0\n",
    "best_depth = 0\n",
    "best_leaf = 0\n",
    "score = 0\n",
    "for depth in range(1, 20): # selecciona el rango del hiperparámetro\n",
    "    for leaf in range(1,20):\n",
    "        tree = DecisionTreeClassifier(random_state=54321, max_depth=depth, min_samples_leaf=leaf) # configura el número de árboles\n",
    "        tree.fit(features_train,target_train) # entrena el modelo en el conjunto de entrenamiento\n",
    "        score = tree.score(features_valid,target_valid) # calcula la puntuación de exactitud en el conjunto de validación\n",
    "        if score > best_tree:\n",
    "            best_tree = score # guarda la mejor puntuación de exactitud en el conjunto de validación\n",
    "            best_depth = depth # guarda el número de estimadores que corresponden a la mejor puntuación de exactitud\n",
    "            best_leaf = leaf\n",
    "\n",
    "print(\"Exactitud del mejor modelo en el conjunto de validación (depth = {}): {}\".format(best_depth, best_tree))\n",
    "\n",
    "final_tree = DecisionTreeClassifier(random_state=54321, max_depth=best_depth, min_samples_leaf=best_leaf) # cambia n_estimators para obtener el mejor modelo\n",
    "final_tree.fit(features_train, target_train)"
   ]
  },
  {
   "cell_type": "markdown",
   "metadata": {},
   "source": [
    "Resulta que nuestro mejor arbol tiene una profundidad de 7 y 13 hojas en sus ramas. Este modelo nos deja con una exactitud de 84.3%"
   ]
  },
  {
   "cell_type": "markdown",
   "metadata": {},
   "source": [
    "<a id=\"bosque-aleatorio\"></a>\n",
    "## Modelo: Bosque aleatorio"
   ]
  },
  {
   "cell_type": "markdown",
   "metadata": {},
   "source": [
    "Ahora que tenemos un buen arbol, plantemos un bosque, también le daremos espacio para que estos arboles crezcan libres. Aunque esto pueda consumir más tiempo, puede aumentar la exactitud de nuestro modelo. En este caso aprovecharé la potencia de mi maquina."
   ]
  },
  {
   "cell_type": "code",
   "execution_count": 12,
   "metadata": {},
   "outputs": [
    {
     "name": "stdout",
     "output_type": "stream",
     "text": [
      "Exactitud del mejor modelo en el conjunto de validación (n_estimators = 3): 0.8506998444790047\n"
     ]
    },
    {
     "data": {
      "text/plain": [
       "RandomForestClassifier(max_depth=11, min_samples_leaf=3, n_estimators=3,\n",
       "                       random_state=54321)"
      ]
     },
     "execution_count": 12,
     "metadata": {},
     "output_type": "execute_result"
    }
   ],
   "source": [
    "best_forest = 0\n",
    "best_est = 0\n",
    "score=0\n",
    "best_leaf = 0\n",
    "best_depth = 0\n",
    "for est in range(1, 20): # selecciona el rango del hiperparámetro\n",
    "    for depth in range(1, 20): # selecciona el rango del hiperparámetro\n",
    "        for leaf in range(1,20):\n",
    "            forest = RandomForestClassifier(random_state=54321, n_estimators=est, max_depth=depth, min_samples_leaf=leaf) # configura el número de árboles\n",
    "            forest.fit(features_train,target_train) # entrena el modelo en el conjunto de entrenamiento\n",
    "            score = forest.score(features_valid,target_valid) # calcula la puntuación de exactitud en el conjunto de validación\n",
    "            if score > best_forest:\n",
    "                best_forest = score# guarda la mejor puntuación de exactitud en el conjunto de validación\n",
    "                best_est = est # guarda el número de estimadores que corresponden a la mejor puntuación de exactitud\n",
    "                best_leaf = leaf\n",
    "                best_depth = depth\n",
    "\n",
    "print(\"Exactitud del mejor modelo en el conjunto de validación (n_estimators = {}): {}\".format(best_est, best_forest))\n",
    "\n",
    "final_forest = RandomForestClassifier(random_state=54321, n_estimators=best_est, max_depth=best_depth, min_samples_leaf=best_leaf) # cambia n_estimators para obtener el mejor modelo\n",
    "final_forest.fit(features_train, target_train)"
   ]
  },
  {
   "cell_type": "markdown",
   "metadata": {},
   "source": [
    "Aunque la exactitud terminó aumentando solo un poco, estamos a pasos del 85.1%. Nuestro modelo final tiene 3 arboles, 11 de profundidad y 3 hojas. La gran cantidad de profundidad podría ser evidencia de un sobre ajuste, veremos como se comporta este modelo en la fase de testeo.\n",
    "\n",
    "Podría decirse que el tiempo de procesamiento necesario no vale la pena para el pequeño aumento obtenido, pero una vez encontrado, este sí resulta mejor."
   ]
  },
  {
   "cell_type": "markdown",
   "metadata": {},
   "source": [
    "<a id=\"regresion-logistica\"></a>\n",
    "## Modelo: Regresion logisctica"
   ]
  },
  {
   "cell_type": "markdown",
   "metadata": {},
   "source": [
    "Para no dejarlo atrás, también probaremos con una regresión logística, aunque no se espera obtener un mejor modelo que los anteriores."
   ]
  },
  {
   "cell_type": "code",
   "execution_count": 13,
   "metadata": {},
   "outputs": [
    {
     "data": {
      "text/plain": [
       "0.776049766718507"
      ]
     },
     "execution_count": 13,
     "metadata": {},
     "output_type": "execute_result"
    }
   ],
   "source": [
    "reg = LogisticRegression(random_state=54321, solver='liblinear')\n",
    "reg.fit(features_train,target_train)\n",
    "reg.score(features_valid,target_valid)"
   ]
  },
  {
   "cell_type": "markdown",
   "metadata": {},
   "source": [
    "Este modelo tiene poco espacio para calibrar, aunque se probaron varios solver diferentes, su exactitud a penas llega al 77.6%. Continuaremos con nuestro bosque, pues posee la mayor exactitud."
   ]
  },
  {
   "cell_type": "markdown",
   "metadata": {},
   "source": [
    "<a id=\"testeo\"></a>\n",
    "## Testeo"
   ]
  },
  {
   "cell_type": "markdown",
   "metadata": {},
   "source": [
    "Considerando que tenemos 2 modelos con exactitudes muy cercanas, haremos testeos para cada uno. Para esto, entrenaremos el modelo que estemos testeando con df_rest, que incluye los datos originales de entrenamiento y de validación. Una vez tengamos el modelo entrenado, lo compararemos con los datos en df_test. Esperamos obtener un alto porcentaje de exactitud, sobre el 84% si todo sale bien.\n",
    "\n",
    "Primero creemos los features y target para df_rest."
   ]
  },
  {
   "cell_type": "code",
   "execution_count": 14,
   "metadata": {},
   "outputs": [],
   "source": [
    "features_rest = df_rest.drop(['is_ultra'], axis=1)\n",
    "target_rest = df_rest['is_ultra']"
   ]
  },
  {
   "cell_type": "code",
   "execution_count": 15,
   "metadata": {},
   "outputs": [
    {
     "name": "stdout",
     "output_type": "stream",
     "text": [
      "0.7807153965785381\n"
     ]
    }
   ],
   "source": [
    "final_forest= RandomForestClassifier(max_depth=11, min_samples_leaf=3, n_estimators=3, random_state=54321)\n",
    "final_forest.fit(features_rest,target_rest)\n",
    "\n",
    "score = final_forest.score(features_test, target_test)\n",
    "print(score)"
   ]
  },
  {
   "cell_type": "markdown",
   "metadata": {},
   "source": [
    "Ha bajado la exactitud de este modelo en 7 puntos porcentuales. Esto probablemente se debe al sobreajuste que este modelo tiene. Probaremos con el modelo del arbol de decisión antes de tomar nuevas medidas."
   ]
  },
  {
   "cell_type": "code",
   "execution_count": 16,
   "metadata": {},
   "outputs": [
    {
     "name": "stdout",
     "output_type": "stream",
     "text": [
      "0.7729393468118196\n"
     ]
    }
   ],
   "source": [
    "final_tree = DecisionTreeClassifier(max_depth=7, min_samples_leaf=13, random_state=54321)\n",
    "final_tree.fit(features_rest, target_rest)\n",
    "\n",
    "score = final_tree.score(features_test, target_test)\n",
    "print(score)"
   ]
  },
  {
   "cell_type": "markdown",
   "metadata": {},
   "source": [
    "Nuevamente ha bajado la exactitud del modelo de arboles, mientras el modelo de bosque mantiene su pequeña ventaja.\n",
    "\n",
    "Debería haber un método que permitiera disminuir estas perdidas de exactitud. Por ahora, aunque se intentó alterando algunos otros elementos, no se logra obtener un modelo con una mayor exactitud que estas."
   ]
  },
  {
   "cell_type": "markdown",
   "metadata": {},
   "source": [
    "<a id=\"conclusion\"></a>\n",
    "## Conclusion"
   ]
  },
  {
   "cell_type": "markdown",
   "metadata": {},
   "source": [
    "Luego de calibrar y comparar nuestros 3 modelos, nos quedamos con 2 posibles opciones:\n",
    "\n",
    "Arbol de 7 ramas y 13 hojas con 77.3% de exactitud en testeo. Un gran aspecto a su favor es su alta velocidad, como también su exactitud. Aunque la opción 2 tiene una mayor exactitud, esta puede llegar a tomar mucho tiempo de procesamiento. Codigo:\n",
    "\n",
    "- final_tree = DecisionTreeClassifier(max_depth=7, min_samples_leaf=13, random_state=54321)\n",
    "\n",
    "Bosque de 3 arboles, 11 ramas y 3 hojas con una exactitud de 78.1% de exactitud en testeo. Este modelo puede tomarse un poco más de tiempo, pero si consideramos grandes escalas de datos, la diferencia en su exactitud con la opción 1 comienza a tomar importancia. Código:\n",
    "\n",
    "- final_forest = RandomForestClassifier(max_depth=11, min_samples_leaf=3, n_estimators=3, random_state=54321)"
   ]
  }
 ],
 "metadata": {
  "kernelspec": {
   "display_name": "Python 3 (ipykernel)",
   "language": "python",
   "name": "python3"
  },
  "language_info": {
   "codemirror_mode": {
    "name": "ipython",
    "version": 3
   },
   "file_extension": ".py",
   "mimetype": "text/x-python",
   "name": "python",
   "nbconvert_exporter": "python",
   "pygments_lexer": "ipython3",
   "version": "3.9.5"
  },
  "toc": {
   "base_numbering": 1,
   "nav_menu": {},
   "number_sections": true,
   "sideBar": true,
   "skip_h1_title": true,
   "title_cell": "Table of Contents",
   "title_sidebar": "Contents",
   "toc_cell": false,
   "toc_position": {},
   "toc_section_display": true,
   "toc_window_display": true
  }
 },
 "nbformat": 4,
 "nbformat_minor": 2
}
