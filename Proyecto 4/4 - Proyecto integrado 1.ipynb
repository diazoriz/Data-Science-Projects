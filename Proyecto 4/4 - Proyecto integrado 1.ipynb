{
 "cells": [
  {
   "cell_type": "markdown",
   "metadata": {},
   "source": [
    "## Introducción\n",
    "\n",
    "En este proyecto abordaremos la evaluación de los videojuegos lanzados en 2016 para identificar qué los hace exitosos. A partir de los registros de ventas, buscaremos patrones que delineen el éxito de un título.\n",
    "\n",
    "Iniciaremos por inspeccionar y adecuar los datos según sea necesario. Es sabido que no todos los conjuntos de datos son perfectos; por lo tanto, verificaremos la integridad, posibles entradas duplicadas y la presencia de datos faltantes. En caso de hallar vacíos en la información, emplearemos técnicas estadísticas para imputarlos adecuadamente. Y, si detectamos duplicados por error, decidiremos si es pertinente su eliminación.\n",
    "\n",
    "Una vez establecido un DataFrame sólido y fiable, extraeremos patrones esenciales para orientar estratégicamente las campañas del año venidero.\n",
    "\n",
    "Para llevar a cabo este análisis, trabajaremos en la plataforma Jupyter Notebook, apoyándonos en diversas librerías de Python especializadas."
   ]
  },
  {
   "cell_type": "markdown",
   "metadata": {},
   "source": [
    "## Hipótesis\n",
    "\n",
    "1. Las calificaciones promedio de los usuarios para las plataformas Xbox One y PC son las mismas.\n",
    "2. Las calificaciones promedio de los usuarios para los géneros de Acción y Deportes son diferentes."
   ]
  },
  {
   "cell_type": "markdown",
   "metadata": {},
   "source": [
    "## Carga de datos e información"
   ]
  },
  {
   "cell_type": "markdown",
   "metadata": {},
   "source": [
    "### Librerías"
   ]
  },
  {
   "cell_type": "code",
   "execution_count": 1,
   "metadata": {},
   "outputs": [],
   "source": [
    "import pandas as pd\n",
    "import matplotlib.pyplot as plt\n",
    "import numpy as np\n",
    "from scipy import stats as st\n",
    "from scipy.stats import pearsonr"
   ]
  },
  {
   "cell_type": "markdown",
   "metadata": {},
   "source": [
    "### Datos"
   ]
  },
  {
   "cell_type": "code",
   "execution_count": 2,
   "metadata": {},
   "outputs": [],
   "source": [
    "# Cargar el archivo de datos en un DataFrame\n",
    "df = pd.read_csv(\"/datasets/games.csv\")"
   ]
  },
  {
   "cell_type": "markdown",
   "metadata": {},
   "source": [
    "### Introducción a los datos"
   ]
  },
  {
   "cell_type": "code",
   "execution_count": 3,
   "metadata": {},
   "outputs": [
    {
     "name": "stdout",
     "output_type": "stream",
     "text": [
      "<class 'pandas.core.frame.DataFrame'>\n",
      "RangeIndex: 16715 entries, 0 to 16714\n",
      "Data columns (total 11 columns):\n",
      " #   Column           Non-Null Count  Dtype  \n",
      "---  ------           --------------  -----  \n",
      " 0   Name             16713 non-null  object \n",
      " 1   Platform         16715 non-null  object \n",
      " 2   Year_of_Release  16446 non-null  float64\n",
      " 3   Genre            16713 non-null  object \n",
      " 4   NA_sales         16715 non-null  float64\n",
      " 5   EU_sales         16715 non-null  float64\n",
      " 6   JP_sales         16715 non-null  float64\n",
      " 7   Other_sales      16715 non-null  float64\n",
      " 8   Critic_Score     8137 non-null   float64\n",
      " 9   User_Score       10014 non-null  object \n",
      " 10  Rating           9949 non-null   object \n",
      "dtypes: float64(6), object(5)\n",
      "memory usage: 1.4+ MB\n"
     ]
    }
   ],
   "source": [
    "df.info()"
   ]
  },
  {
   "cell_type": "code",
   "execution_count": 4,
   "metadata": {},
   "outputs": [
    {
     "data": {
      "text/html": [
       "<div>\n",
       "<style scoped>\n",
       "    .dataframe tbody tr th:only-of-type {\n",
       "        vertical-align: middle;\n",
       "    }\n",
       "\n",
       "    .dataframe tbody tr th {\n",
       "        vertical-align: top;\n",
       "    }\n",
       "\n",
       "    .dataframe thead th {\n",
       "        text-align: right;\n",
       "    }\n",
       "</style>\n",
       "<table border=\"1\" class=\"dataframe\">\n",
       "  <thead>\n",
       "    <tr style=\"text-align: right;\">\n",
       "      <th></th>\n",
       "      <th>Name</th>\n",
       "      <th>Platform</th>\n",
       "      <th>Year_of_Release</th>\n",
       "      <th>Genre</th>\n",
       "      <th>NA_sales</th>\n",
       "      <th>EU_sales</th>\n",
       "      <th>JP_sales</th>\n",
       "      <th>Other_sales</th>\n",
       "      <th>Critic_Score</th>\n",
       "      <th>User_Score</th>\n",
       "      <th>Rating</th>\n",
       "    </tr>\n",
       "  </thead>\n",
       "  <tbody>\n",
       "    <tr>\n",
       "      <th>0</th>\n",
       "      <td>Wii Sports</td>\n",
       "      <td>Wii</td>\n",
       "      <td>2006.0</td>\n",
       "      <td>Sports</td>\n",
       "      <td>41.36</td>\n",
       "      <td>28.96</td>\n",
       "      <td>3.77</td>\n",
       "      <td>8.45</td>\n",
       "      <td>76.0</td>\n",
       "      <td>8</td>\n",
       "      <td>E</td>\n",
       "    </tr>\n",
       "    <tr>\n",
       "      <th>1</th>\n",
       "      <td>Super Mario Bros.</td>\n",
       "      <td>NES</td>\n",
       "      <td>1985.0</td>\n",
       "      <td>Platform</td>\n",
       "      <td>29.08</td>\n",
       "      <td>3.58</td>\n",
       "      <td>6.81</td>\n",
       "      <td>0.77</td>\n",
       "      <td>NaN</td>\n",
       "      <td>NaN</td>\n",
       "      <td>NaN</td>\n",
       "    </tr>\n",
       "    <tr>\n",
       "      <th>2</th>\n",
       "      <td>Mario Kart Wii</td>\n",
       "      <td>Wii</td>\n",
       "      <td>2008.0</td>\n",
       "      <td>Racing</td>\n",
       "      <td>15.68</td>\n",
       "      <td>12.76</td>\n",
       "      <td>3.79</td>\n",
       "      <td>3.29</td>\n",
       "      <td>82.0</td>\n",
       "      <td>8.3</td>\n",
       "      <td>E</td>\n",
       "    </tr>\n",
       "    <tr>\n",
       "      <th>3</th>\n",
       "      <td>Wii Sports Resort</td>\n",
       "      <td>Wii</td>\n",
       "      <td>2009.0</td>\n",
       "      <td>Sports</td>\n",
       "      <td>15.61</td>\n",
       "      <td>10.93</td>\n",
       "      <td>3.28</td>\n",
       "      <td>2.95</td>\n",
       "      <td>80.0</td>\n",
       "      <td>8</td>\n",
       "      <td>E</td>\n",
       "    </tr>\n",
       "    <tr>\n",
       "      <th>4</th>\n",
       "      <td>Pokemon Red/Pokemon Blue</td>\n",
       "      <td>GB</td>\n",
       "      <td>1996.0</td>\n",
       "      <td>Role-Playing</td>\n",
       "      <td>11.27</td>\n",
       "      <td>8.89</td>\n",
       "      <td>10.22</td>\n",
       "      <td>1.00</td>\n",
       "      <td>NaN</td>\n",
       "      <td>NaN</td>\n",
       "      <td>NaN</td>\n",
       "    </tr>\n",
       "    <tr>\n",
       "      <th>5</th>\n",
       "      <td>Tetris</td>\n",
       "      <td>GB</td>\n",
       "      <td>1989.0</td>\n",
       "      <td>Puzzle</td>\n",
       "      <td>23.20</td>\n",
       "      <td>2.26</td>\n",
       "      <td>4.22</td>\n",
       "      <td>0.58</td>\n",
       "      <td>NaN</td>\n",
       "      <td>NaN</td>\n",
       "      <td>NaN</td>\n",
       "    </tr>\n",
       "    <tr>\n",
       "      <th>6</th>\n",
       "      <td>New Super Mario Bros.</td>\n",
       "      <td>DS</td>\n",
       "      <td>2006.0</td>\n",
       "      <td>Platform</td>\n",
       "      <td>11.28</td>\n",
       "      <td>9.14</td>\n",
       "      <td>6.50</td>\n",
       "      <td>2.88</td>\n",
       "      <td>89.0</td>\n",
       "      <td>8.5</td>\n",
       "      <td>E</td>\n",
       "    </tr>\n",
       "    <tr>\n",
       "      <th>7</th>\n",
       "      <td>Wii Play</td>\n",
       "      <td>Wii</td>\n",
       "      <td>2006.0</td>\n",
       "      <td>Misc</td>\n",
       "      <td>13.96</td>\n",
       "      <td>9.18</td>\n",
       "      <td>2.93</td>\n",
       "      <td>2.84</td>\n",
       "      <td>58.0</td>\n",
       "      <td>6.6</td>\n",
       "      <td>E</td>\n",
       "    </tr>\n",
       "    <tr>\n",
       "      <th>8</th>\n",
       "      <td>New Super Mario Bros. Wii</td>\n",
       "      <td>Wii</td>\n",
       "      <td>2009.0</td>\n",
       "      <td>Platform</td>\n",
       "      <td>14.44</td>\n",
       "      <td>6.94</td>\n",
       "      <td>4.70</td>\n",
       "      <td>2.24</td>\n",
       "      <td>87.0</td>\n",
       "      <td>8.4</td>\n",
       "      <td>E</td>\n",
       "    </tr>\n",
       "    <tr>\n",
       "      <th>9</th>\n",
       "      <td>Duck Hunt</td>\n",
       "      <td>NES</td>\n",
       "      <td>1984.0</td>\n",
       "      <td>Shooter</td>\n",
       "      <td>26.93</td>\n",
       "      <td>0.63</td>\n",
       "      <td>0.28</td>\n",
       "      <td>0.47</td>\n",
       "      <td>NaN</td>\n",
       "      <td>NaN</td>\n",
       "      <td>NaN</td>\n",
       "    </tr>\n",
       "  </tbody>\n",
       "</table>\n",
       "</div>"
      ],
      "text/plain": [
       "                        Name Platform  Year_of_Release         Genre  \\\n",
       "0                 Wii Sports      Wii           2006.0        Sports   \n",
       "1          Super Mario Bros.      NES           1985.0      Platform   \n",
       "2             Mario Kart Wii      Wii           2008.0        Racing   \n",
       "3          Wii Sports Resort      Wii           2009.0        Sports   \n",
       "4   Pokemon Red/Pokemon Blue       GB           1996.0  Role-Playing   \n",
       "5                     Tetris       GB           1989.0        Puzzle   \n",
       "6      New Super Mario Bros.       DS           2006.0      Platform   \n",
       "7                   Wii Play      Wii           2006.0          Misc   \n",
       "8  New Super Mario Bros. Wii      Wii           2009.0      Platform   \n",
       "9                  Duck Hunt      NES           1984.0       Shooter   \n",
       "\n",
       "   NA_sales  EU_sales  JP_sales  Other_sales  Critic_Score User_Score Rating  \n",
       "0     41.36     28.96      3.77         8.45          76.0          8      E  \n",
       "1     29.08      3.58      6.81         0.77           NaN        NaN    NaN  \n",
       "2     15.68     12.76      3.79         3.29          82.0        8.3      E  \n",
       "3     15.61     10.93      3.28         2.95          80.0          8      E  \n",
       "4     11.27      8.89     10.22         1.00           NaN        NaN    NaN  \n",
       "5     23.20      2.26      4.22         0.58           NaN        NaN    NaN  \n",
       "6     11.28      9.14      6.50         2.88          89.0        8.5      E  \n",
       "7     13.96      9.18      2.93         2.84          58.0        6.6      E  \n",
       "8     14.44      6.94      4.70         2.24          87.0        8.4      E  \n",
       "9     26.93      0.63      0.28         0.47           NaN        NaN    NaN  "
      ]
     },
     "execution_count": 4,
     "metadata": {},
     "output_type": "execute_result"
    }
   ],
   "source": [
    "df.head(10)"
   ]
  },
  {
   "cell_type": "markdown",
   "metadata": {},
   "source": [
    "**El dataset contiene los siguientes datos:**\n",
    "\n",
    "- **Name**\n",
    "- **Platform**\n",
    "- **Year_of_Release**\n",
    "- **Genre**\n",
    "- **NA_sales**\n",
    "- **EU_sales**\n",
    "- **JP_sales**\n",
    "- **Other_sales**\n",
    "- **Critic_Score**\n",
    "- **User_Score**\n",
    "- **Clasificación**"
   ]
  },
  {
   "cell_type": "code",
   "execution_count": 4,
   "metadata": {},
   "outputs": [
    {
     "data": {
      "text/html": [
       "<div>\n",
       "<style scoped>\n",
       "    .dataframe tbody tr th:only-of-type {\n",
       "        vertical-align: middle;\n",
       "    }\n",
       "\n",
       "    .dataframe tbody tr th {\n",
       "        vertical-align: top;\n",
       "    }\n",
       "\n",
       "    .dataframe thead th {\n",
       "        text-align: right;\n",
       "    }\n",
       "</style>\n",
       "<table border=\"1\" class=\"dataframe\">\n",
       "  <thead>\n",
       "    <tr style=\"text-align: right;\">\n",
       "      <th></th>\n",
       "      <th>Year_of_Release</th>\n",
       "      <th>NA_sales</th>\n",
       "      <th>EU_sales</th>\n",
       "      <th>JP_sales</th>\n",
       "      <th>Other_sales</th>\n",
       "      <th>Critic_Score</th>\n",
       "    </tr>\n",
       "  </thead>\n",
       "  <tbody>\n",
       "    <tr>\n",
       "      <th>count</th>\n",
       "      <td>16446.000000</td>\n",
       "      <td>16715.000000</td>\n",
       "      <td>16715.000000</td>\n",
       "      <td>16715.000000</td>\n",
       "      <td>16715.000000</td>\n",
       "      <td>8137.000000</td>\n",
       "    </tr>\n",
       "    <tr>\n",
       "      <th>mean</th>\n",
       "      <td>2006.484616</td>\n",
       "      <td>0.263377</td>\n",
       "      <td>0.145060</td>\n",
       "      <td>0.077617</td>\n",
       "      <td>0.047342</td>\n",
       "      <td>68.967679</td>\n",
       "    </tr>\n",
       "    <tr>\n",
       "      <th>std</th>\n",
       "      <td>5.877050</td>\n",
       "      <td>0.813604</td>\n",
       "      <td>0.503339</td>\n",
       "      <td>0.308853</td>\n",
       "      <td>0.186731</td>\n",
       "      <td>13.938165</td>\n",
       "    </tr>\n",
       "    <tr>\n",
       "      <th>min</th>\n",
       "      <td>1980.000000</td>\n",
       "      <td>0.000000</td>\n",
       "      <td>0.000000</td>\n",
       "      <td>0.000000</td>\n",
       "      <td>0.000000</td>\n",
       "      <td>13.000000</td>\n",
       "    </tr>\n",
       "    <tr>\n",
       "      <th>25%</th>\n",
       "      <td>2003.000000</td>\n",
       "      <td>0.000000</td>\n",
       "      <td>0.000000</td>\n",
       "      <td>0.000000</td>\n",
       "      <td>0.000000</td>\n",
       "      <td>60.000000</td>\n",
       "    </tr>\n",
       "    <tr>\n",
       "      <th>50%</th>\n",
       "      <td>2007.000000</td>\n",
       "      <td>0.080000</td>\n",
       "      <td>0.020000</td>\n",
       "      <td>0.000000</td>\n",
       "      <td>0.010000</td>\n",
       "      <td>71.000000</td>\n",
       "    </tr>\n",
       "    <tr>\n",
       "      <th>75%</th>\n",
       "      <td>2010.000000</td>\n",
       "      <td>0.240000</td>\n",
       "      <td>0.110000</td>\n",
       "      <td>0.040000</td>\n",
       "      <td>0.030000</td>\n",
       "      <td>79.000000</td>\n",
       "    </tr>\n",
       "    <tr>\n",
       "      <th>max</th>\n",
       "      <td>2016.000000</td>\n",
       "      <td>41.360000</td>\n",
       "      <td>28.960000</td>\n",
       "      <td>10.220000</td>\n",
       "      <td>10.570000</td>\n",
       "      <td>98.000000</td>\n",
       "    </tr>\n",
       "  </tbody>\n",
       "</table>\n",
       "</div>"
      ],
      "text/plain": [
       "       Year_of_Release      NA_sales      EU_sales      JP_sales  \\\n",
       "count     16446.000000  16715.000000  16715.000000  16715.000000   \n",
       "mean       2006.484616      0.263377      0.145060      0.077617   \n",
       "std           5.877050      0.813604      0.503339      0.308853   \n",
       "min        1980.000000      0.000000      0.000000      0.000000   \n",
       "25%        2003.000000      0.000000      0.000000      0.000000   \n",
       "50%        2007.000000      0.080000      0.020000      0.000000   \n",
       "75%        2010.000000      0.240000      0.110000      0.040000   \n",
       "max        2016.000000     41.360000     28.960000     10.220000   \n",
       "\n",
       "        Other_sales  Critic_Score  \n",
       "count  16715.000000   8137.000000  \n",
       "mean       0.047342     68.967679  \n",
       "std        0.186731     13.938165  \n",
       "min        0.000000     13.000000  \n",
       "25%        0.000000     60.000000  \n",
       "50%        0.010000     71.000000  \n",
       "75%        0.030000     79.000000  \n",
       "max       10.570000     98.000000  "
      ]
     },
     "execution_count": 4,
     "metadata": {},
     "output_type": "execute_result"
    }
   ],
   "source": [
    "df.describe()"
   ]
  },
  {
   "cell_type": "markdown",
   "metadata": {},
   "source": [
    "**La vista previa muestra que:**\n",
    "\n",
    "- **las columnas Name, Year_of_Release, Genre, Critic_Score, User_Score y Rating tienen valores ausentes**\n",
    "- **la columna Year_of_Release es tipo float y deberia ser int ya que no hay decimales en los años**\n",
    "- **la columna User_Score es tipo object y deberia ser float ya que esta columna representa calificaciones númericas**"
   ]
  },
  {
   "cell_type": "markdown",
   "metadata": {},
   "source": [
    "## Preprocesamiento de datos"
   ]
  },
  {
   "cell_type": "markdown",
   "metadata": {},
   "source": [
    "### Corrección nombres de columnas"
   ]
  },
  {
   "cell_type": "code",
   "execution_count": 5,
   "metadata": {},
   "outputs": [],
   "source": [
    "# Cambiar los nombres de las columnas a minúsculas\n",
    "df.columns = df.columns.str.lower()"
   ]
  },
  {
   "cell_type": "markdown",
   "metadata": {},
   "source": [
    "### Buscar y corregir datos duplicados"
   ]
  },
  {
   "cell_type": "markdown",
   "metadata": {},
   "source": [
    "**Se analizan las columnas name, platform y genre en busca de valores duplicados.**"
   ]
  },
  {
   "cell_type": "code",
   "execution_count": 6,
   "metadata": {},
   "outputs": [
    {
     "data": {
      "text/plain": [
       "array([' Beyblade Burst', ' Fire Emblem Fates', \" Frozen: Olaf's Quest\",\n",
       "       ..., 'wwe Smackdown vs. Raw 2006', '¡Shin Chan Flipa en colores!',\n",
       "       nan], dtype=object)"
      ]
     },
     "execution_count": 6,
     "metadata": {},
     "output_type": "execute_result"
    }
   ],
   "source": [
    "# Se buscan valores duplicados en la columna name\n",
    "df['name'].sort_values().unique()"
   ]
  },
  {
   "cell_type": "code",
   "execution_count": 7,
   "metadata": {},
   "outputs": [
    {
     "data": {
      "text/plain": [
       "array(['2600', '3DO', '3DS', 'DC', 'DS', 'GB', 'GBA', 'GC', 'GEN', 'GG',\n",
       "       'N64', 'NES', 'NG', 'PC', 'PCFX', 'PS', 'PS2', 'PS3', 'PS4', 'PSP',\n",
       "       'PSV', 'SAT', 'SCD', 'SNES', 'TG16', 'WS', 'Wii', 'WiiU', 'X360',\n",
       "       'XB', 'XOne'], dtype=object)"
      ]
     },
     "execution_count": 7,
     "metadata": {},
     "output_type": "execute_result"
    }
   ],
   "source": [
    "# Se buscan valores duplicados en la columna platform\n",
    "df['platform'].sort_values().unique()"
   ]
  },
  {
   "cell_type": "code",
   "execution_count": 10,
   "metadata": {},
   "outputs": [
    {
     "data": {
      "text/plain": [
       "array(['Action', 'Adventure', 'Fighting', 'Misc', 'Platform', 'Puzzle',\n",
       "       'Racing', 'Role-Playing', 'Shooter', 'Simulation', 'Sports',\n",
       "       'Strategy', nan], dtype=object)"
      ]
     },
     "execution_count": 10,
     "metadata": {},
     "output_type": "execute_result"
    }
   ],
   "source": [
    "# Se buscan valores duplicados en la columna genre\n",
    "df['genre'].sort_values().unique()"
   ]
  },
  {
   "cell_type": "code",
   "execution_count": 11,
   "metadata": {},
   "outputs": [
    {
     "data": {
      "text/plain": [
       "array(['AO', 'E', 'E10+', 'EC', 'K-A', 'M', 'RP', 'T', nan], dtype=object)"
      ]
     },
     "execution_count": 11,
     "metadata": {},
     "output_type": "execute_result"
    }
   ],
   "source": [
    "# Se buscan valores duplicados en la columna rating\n",
    "df['rating'].sort_values().unique()"
   ]
  },
  {
   "cell_type": "markdown",
   "metadata": {},
   "source": [
    "**No se encontraron valores extraños ni duplicados.**"
   ]
  },
  {
   "cell_type": "markdown",
   "metadata": {},
   "source": [
    "### Corrección de valores ausentes"
   ]
  },
  {
   "cell_type": "markdown",
   "metadata": {},
   "source": [
    "**Se investigan las columnas pues tienen valores ausentes:**\n",
    "- **name**\n",
    "- **year_of_release**\n",
    "- **genre**\n",
    "- **critic_score**\n",
    "- **user_Score**\n",
    "- **rating.**"
   ]
  },
  {
   "cell_type": "code",
   "execution_count": 12,
   "metadata": {},
   "outputs": [
    {
     "data": {
      "text/html": [
       "<div>\n",
       "<style scoped>\n",
       "    .dataframe tbody tr th:only-of-type {\n",
       "        vertical-align: middle;\n",
       "    }\n",
       "\n",
       "    .dataframe tbody tr th {\n",
       "        vertical-align: top;\n",
       "    }\n",
       "\n",
       "    .dataframe thead th {\n",
       "        text-align: right;\n",
       "    }\n",
       "</style>\n",
       "<table border=\"1\" class=\"dataframe\">\n",
       "  <thead>\n",
       "    <tr style=\"text-align: right;\">\n",
       "      <th></th>\n",
       "      <th>name</th>\n",
       "      <th>platform</th>\n",
       "      <th>year_of_release</th>\n",
       "      <th>genre</th>\n",
       "      <th>na_sales</th>\n",
       "      <th>eu_sales</th>\n",
       "      <th>jp_sales</th>\n",
       "      <th>other_sales</th>\n",
       "      <th>critic_score</th>\n",
       "      <th>user_score</th>\n",
       "      <th>rating</th>\n",
       "    </tr>\n",
       "  </thead>\n",
       "  <tbody>\n",
       "    <tr>\n",
       "      <th>659</th>\n",
       "      <td>NaN</td>\n",
       "      <td>GEN</td>\n",
       "      <td>1993.0</td>\n",
       "      <td>NaN</td>\n",
       "      <td>1.78</td>\n",
       "      <td>0.53</td>\n",
       "      <td>0.00</td>\n",
       "      <td>0.08</td>\n",
       "      <td>NaN</td>\n",
       "      <td>NaN</td>\n",
       "      <td>NaN</td>\n",
       "    </tr>\n",
       "    <tr>\n",
       "      <th>14244</th>\n",
       "      <td>NaN</td>\n",
       "      <td>GEN</td>\n",
       "      <td>1993.0</td>\n",
       "      <td>NaN</td>\n",
       "      <td>0.00</td>\n",
       "      <td>0.00</td>\n",
       "      <td>0.03</td>\n",
       "      <td>0.00</td>\n",
       "      <td>NaN</td>\n",
       "      <td>NaN</td>\n",
       "      <td>NaN</td>\n",
       "    </tr>\n",
       "  </tbody>\n",
       "</table>\n",
       "</div>"
      ],
      "text/plain": [
       "      name platform  year_of_release genre  na_sales  eu_sales  jp_sales  \\\n",
       "659    NaN      GEN           1993.0   NaN      1.78      0.53      0.00   \n",
       "14244  NaN      GEN           1993.0   NaN      0.00      0.00      0.03   \n",
       "\n",
       "       other_sales  critic_score user_score rating  \n",
       "659           0.08           NaN        NaN    NaN  \n",
       "14244         0.00           NaN        NaN    NaN  "
      ]
     },
     "execution_count": 12,
     "metadata": {},
     "output_type": "execute_result"
    }
   ],
   "source": [
    "# Investigar valores ausentes de columna name\n",
    "df.query('name.isna() == True')"
   ]
  },
  {
   "cell_type": "markdown",
   "metadata": {},
   "source": [
    "**Los valores ausentes en la columna name coinciden con los de la columna genre.**"
   ]
  },
  {
   "cell_type": "code",
   "execution_count": 13,
   "metadata": {},
   "outputs": [
    {
     "name": "stdout",
     "output_type": "stream",
     "text": [
      "Porcentaje de valores ausentes en la columna \"name\" y \"genre\": 0.012 %\n"
     ]
    }
   ],
   "source": [
    "print('Porcentaje de valores ausentes en la columna \"name\" y \"genre\":', round(2/total_rows*100,3),'%')"
   ]
  },
  {
   "cell_type": "code",
   "execution_count": 14,
   "metadata": {},
   "outputs": [],
   "source": [
    "# Eliminar filas de valores ausentes en las columnas name y genre\n",
    "df = df.query('name.isna() == False')"
   ]
  },
  {
   "cell_type": "markdown",
   "metadata": {},
   "source": [
    "**Los valores ausentes en las columnas name y genre son mínimos y tienen información incompleta en las demás columnas por lo que se eliminan.**"
   ]
  },
  {
   "cell_type": "markdown",
   "metadata": {},
   "source": [
    "## Valores Ausentes"
   ]
  },
  {
   "cell_type": "markdown",
   "metadata": {},
   "source": [
    "### Valores ausentes en columna year_of_release "
   ]
  },
  {
   "cell_type": "code",
   "execution_count": 15,
   "metadata": {},
   "outputs": [
    {
     "data": {
      "text/html": [
       "<div>\n",
       "<style scoped>\n",
       "    .dataframe tbody tr th:only-of-type {\n",
       "        vertical-align: middle;\n",
       "    }\n",
       "\n",
       "    .dataframe tbody tr th {\n",
       "        vertical-align: top;\n",
       "    }\n",
       "\n",
       "    .dataframe thead th {\n",
       "        text-align: right;\n",
       "    }\n",
       "</style>\n",
       "<table border=\"1\" class=\"dataframe\">\n",
       "  <thead>\n",
       "    <tr style=\"text-align: right;\">\n",
       "      <th></th>\n",
       "      <th>name</th>\n",
       "      <th>platform</th>\n",
       "      <th>year_of_release</th>\n",
       "      <th>genre</th>\n",
       "      <th>na_sales</th>\n",
       "      <th>eu_sales</th>\n",
       "      <th>jp_sales</th>\n",
       "      <th>other_sales</th>\n",
       "      <th>critic_score</th>\n",
       "      <th>user_score</th>\n",
       "      <th>rating</th>\n",
       "    </tr>\n",
       "  </thead>\n",
       "  <tbody>\n",
       "    <tr>\n",
       "      <th>183</th>\n",
       "      <td>Madden NFL 2004</td>\n",
       "      <td>PS2</td>\n",
       "      <td>NaN</td>\n",
       "      <td>Sports</td>\n",
       "      <td>4.26</td>\n",
       "      <td>0.26</td>\n",
       "      <td>0.01</td>\n",
       "      <td>0.71</td>\n",
       "      <td>94.0</td>\n",
       "      <td>8.5</td>\n",
       "      <td>E</td>\n",
       "    </tr>\n",
       "    <tr>\n",
       "      <th>377</th>\n",
       "      <td>FIFA Soccer 2004</td>\n",
       "      <td>PS2</td>\n",
       "      <td>NaN</td>\n",
       "      <td>Sports</td>\n",
       "      <td>0.59</td>\n",
       "      <td>2.36</td>\n",
       "      <td>0.04</td>\n",
       "      <td>0.51</td>\n",
       "      <td>84.0</td>\n",
       "      <td>6.4</td>\n",
       "      <td>E</td>\n",
       "    </tr>\n",
       "    <tr>\n",
       "      <th>456</th>\n",
       "      <td>LEGO Batman: The Videogame</td>\n",
       "      <td>Wii</td>\n",
       "      <td>NaN</td>\n",
       "      <td>Action</td>\n",
       "      <td>1.80</td>\n",
       "      <td>0.97</td>\n",
       "      <td>0.00</td>\n",
       "      <td>0.29</td>\n",
       "      <td>74.0</td>\n",
       "      <td>7.9</td>\n",
       "      <td>E10+</td>\n",
       "    </tr>\n",
       "    <tr>\n",
       "      <th>475</th>\n",
       "      <td>wwe Smackdown vs. Raw 2006</td>\n",
       "      <td>PS2</td>\n",
       "      <td>NaN</td>\n",
       "      <td>Fighting</td>\n",
       "      <td>1.57</td>\n",
       "      <td>1.02</td>\n",
       "      <td>0.00</td>\n",
       "      <td>0.41</td>\n",
       "      <td>NaN</td>\n",
       "      <td>NaN</td>\n",
       "      <td>NaN</td>\n",
       "    </tr>\n",
       "    <tr>\n",
       "      <th>609</th>\n",
       "      <td>Space Invaders</td>\n",
       "      <td>2600</td>\n",
       "      <td>NaN</td>\n",
       "      <td>Shooter</td>\n",
       "      <td>2.36</td>\n",
       "      <td>0.14</td>\n",
       "      <td>0.00</td>\n",
       "      <td>0.03</td>\n",
       "      <td>NaN</td>\n",
       "      <td>NaN</td>\n",
       "      <td>NaN</td>\n",
       "    </tr>\n",
       "    <tr>\n",
       "      <th>...</th>\n",
       "      <td>...</td>\n",
       "      <td>...</td>\n",
       "      <td>...</td>\n",
       "      <td>...</td>\n",
       "      <td>...</td>\n",
       "      <td>...</td>\n",
       "      <td>...</td>\n",
       "      <td>...</td>\n",
       "      <td>...</td>\n",
       "      <td>...</td>\n",
       "      <td>...</td>\n",
       "    </tr>\n",
       "    <tr>\n",
       "      <th>16373</th>\n",
       "      <td>PDC World Championship Darts 2008</td>\n",
       "      <td>PSP</td>\n",
       "      <td>NaN</td>\n",
       "      <td>Sports</td>\n",
       "      <td>0.01</td>\n",
       "      <td>0.00</td>\n",
       "      <td>0.00</td>\n",
       "      <td>0.00</td>\n",
       "      <td>43.0</td>\n",
       "      <td>tbd</td>\n",
       "      <td>E10+</td>\n",
       "    </tr>\n",
       "    <tr>\n",
       "      <th>16405</th>\n",
       "      <td>Freaky Flyers</td>\n",
       "      <td>GC</td>\n",
       "      <td>NaN</td>\n",
       "      <td>Racing</td>\n",
       "      <td>0.01</td>\n",
       "      <td>0.00</td>\n",
       "      <td>0.00</td>\n",
       "      <td>0.00</td>\n",
       "      <td>69.0</td>\n",
       "      <td>6.5</td>\n",
       "      <td>T</td>\n",
       "    </tr>\n",
       "    <tr>\n",
       "      <th>16448</th>\n",
       "      <td>Inversion</td>\n",
       "      <td>PC</td>\n",
       "      <td>NaN</td>\n",
       "      <td>Shooter</td>\n",
       "      <td>0.01</td>\n",
       "      <td>0.00</td>\n",
       "      <td>0.00</td>\n",
       "      <td>0.00</td>\n",
       "      <td>59.0</td>\n",
       "      <td>6.7</td>\n",
       "      <td>M</td>\n",
       "    </tr>\n",
       "    <tr>\n",
       "      <th>16458</th>\n",
       "      <td>Hakuouki: Shinsengumi Kitan</td>\n",
       "      <td>PS3</td>\n",
       "      <td>NaN</td>\n",
       "      <td>Adventure</td>\n",
       "      <td>0.01</td>\n",
       "      <td>0.00</td>\n",
       "      <td>0.00</td>\n",
       "      <td>0.00</td>\n",
       "      <td>NaN</td>\n",
       "      <td>NaN</td>\n",
       "      <td>NaN</td>\n",
       "    </tr>\n",
       "    <tr>\n",
       "      <th>16522</th>\n",
       "      <td>Virtua Quest</td>\n",
       "      <td>GC</td>\n",
       "      <td>NaN</td>\n",
       "      <td>Role-Playing</td>\n",
       "      <td>0.01</td>\n",
       "      <td>0.00</td>\n",
       "      <td>0.00</td>\n",
       "      <td>0.00</td>\n",
       "      <td>55.0</td>\n",
       "      <td>5.5</td>\n",
       "      <td>T</td>\n",
       "    </tr>\n",
       "  </tbody>\n",
       "</table>\n",
       "<p>269 rows × 11 columns</p>\n",
       "</div>"
      ],
      "text/plain": [
       "                                    name platform  year_of_release  \\\n",
       "183                      Madden NFL 2004      PS2              NaN   \n",
       "377                     FIFA Soccer 2004      PS2              NaN   \n",
       "456           LEGO Batman: The Videogame      Wii              NaN   \n",
       "475           wwe Smackdown vs. Raw 2006      PS2              NaN   \n",
       "609                       Space Invaders     2600              NaN   \n",
       "...                                  ...      ...              ...   \n",
       "16373  PDC World Championship Darts 2008      PSP              NaN   \n",
       "16405                      Freaky Flyers       GC              NaN   \n",
       "16448                          Inversion       PC              NaN   \n",
       "16458        Hakuouki: Shinsengumi Kitan      PS3              NaN   \n",
       "16522                       Virtua Quest       GC              NaN   \n",
       "\n",
       "              genre  na_sales  eu_sales  jp_sales  other_sales  critic_score  \\\n",
       "183          Sports      4.26      0.26      0.01         0.71          94.0   \n",
       "377          Sports      0.59      2.36      0.04         0.51          84.0   \n",
       "456          Action      1.80      0.97      0.00         0.29          74.0   \n",
       "475        Fighting      1.57      1.02      0.00         0.41           NaN   \n",
       "609         Shooter      2.36      0.14      0.00         0.03           NaN   \n",
       "...             ...       ...       ...       ...          ...           ...   \n",
       "16373        Sports      0.01      0.00      0.00         0.00          43.0   \n",
       "16405        Racing      0.01      0.00      0.00         0.00          69.0   \n",
       "16448       Shooter      0.01      0.00      0.00         0.00          59.0   \n",
       "16458     Adventure      0.01      0.00      0.00         0.00           NaN   \n",
       "16522  Role-Playing      0.01      0.00      0.00         0.00          55.0   \n",
       "\n",
       "      user_score rating  \n",
       "183          8.5      E  \n",
       "377          6.4      E  \n",
       "456          7.9   E10+  \n",
       "475          NaN    NaN  \n",
       "609          NaN    NaN  \n",
       "...          ...    ...  \n",
       "16373        tbd   E10+  \n",
       "16405        6.5      T  \n",
       "16448        6.7      M  \n",
       "16458        NaN    NaN  \n",
       "16522        5.5      T  \n",
       "\n",
       "[269 rows x 11 columns]"
      ]
     },
     "execution_count": 15,
     "metadata": {},
     "output_type": "execute_result"
    }
   ],
   "source": [
    "# Investigar valores ausentes de columna year_of_release\n",
    "df.query('year_of_release.isna() == True')"
   ]
  },
  {
   "cell_type": "code",
   "execution_count": 16,
   "metadata": {},
   "outputs": [
    {
     "name": "stdout",
     "output_type": "stream",
     "text": [
      "Porcentaje de valores ausentes en la columna \"year_of_release\": 1.61 %\n"
     ]
    }
   ],
   "source": [
    "print('Porcentaje de valores ausentes en la columna \"year_of_release\":', round(269/total_rows*100,2),'%')"
   ]
  },
  {
   "cell_type": "code",
   "execution_count": 17,
   "metadata": {},
   "outputs": [],
   "source": [
    "# Eliminar filas de valores ausentes en la columna year_of_release\n",
    "df = df.query('year_of_release.isna() == False')"
   ]
  },
  {
   "cell_type": "markdown",
   "metadata": {},
   "source": [
    "**En algunas filas, el nombre del juego viene acompañado del año en que fue lanzado. A pesar de que hay pocas filas que no tienen este dato, no impactan significativamente el análisis y, por lo tanto, pueden ser eliminadas.**"
   ]
  },
  {
   "cell_type": "markdown",
   "metadata": {},
   "source": [
    "### Valores ausentes en columna critic_score."
   ]
  },
  {
   "cell_type": "code",
   "execution_count": 18,
   "metadata": {},
   "outputs": [
    {
     "data": {
      "text/html": [
       "<div>\n",
       "<style scoped>\n",
       "    .dataframe tbody tr th:only-of-type {\n",
       "        vertical-align: middle;\n",
       "    }\n",
       "\n",
       "    .dataframe tbody tr th {\n",
       "        vertical-align: top;\n",
       "    }\n",
       "\n",
       "    .dataframe thead th {\n",
       "        text-align: right;\n",
       "    }\n",
       "</style>\n",
       "<table border=\"1\" class=\"dataframe\">\n",
       "  <thead>\n",
       "    <tr style=\"text-align: right;\">\n",
       "      <th></th>\n",
       "      <th>name</th>\n",
       "      <th>platform</th>\n",
       "      <th>year_of_release</th>\n",
       "      <th>genre</th>\n",
       "      <th>na_sales</th>\n",
       "      <th>eu_sales</th>\n",
       "      <th>jp_sales</th>\n",
       "      <th>other_sales</th>\n",
       "      <th>critic_score</th>\n",
       "      <th>user_score</th>\n",
       "      <th>rating</th>\n",
       "    </tr>\n",
       "  </thead>\n",
       "  <tbody>\n",
       "    <tr>\n",
       "      <th>1</th>\n",
       "      <td>Super Mario Bros.</td>\n",
       "      <td>NES</td>\n",
       "      <td>1985.0</td>\n",
       "      <td>Platform</td>\n",
       "      <td>29.08</td>\n",
       "      <td>3.58</td>\n",
       "      <td>6.81</td>\n",
       "      <td>0.77</td>\n",
       "      <td>NaN</td>\n",
       "      <td>NaN</td>\n",
       "      <td>NaN</td>\n",
       "    </tr>\n",
       "    <tr>\n",
       "      <th>4</th>\n",
       "      <td>Pokemon Red/Pokemon Blue</td>\n",
       "      <td>GB</td>\n",
       "      <td>1996.0</td>\n",
       "      <td>Role-Playing</td>\n",
       "      <td>11.27</td>\n",
       "      <td>8.89</td>\n",
       "      <td>10.22</td>\n",
       "      <td>1.00</td>\n",
       "      <td>NaN</td>\n",
       "      <td>NaN</td>\n",
       "      <td>NaN</td>\n",
       "    </tr>\n",
       "    <tr>\n",
       "      <th>5</th>\n",
       "      <td>Tetris</td>\n",
       "      <td>GB</td>\n",
       "      <td>1989.0</td>\n",
       "      <td>Puzzle</td>\n",
       "      <td>23.20</td>\n",
       "      <td>2.26</td>\n",
       "      <td>4.22</td>\n",
       "      <td>0.58</td>\n",
       "      <td>NaN</td>\n",
       "      <td>NaN</td>\n",
       "      <td>NaN</td>\n",
       "    </tr>\n",
       "    <tr>\n",
       "      <th>9</th>\n",
       "      <td>Duck Hunt</td>\n",
       "      <td>NES</td>\n",
       "      <td>1984.0</td>\n",
       "      <td>Shooter</td>\n",
       "      <td>26.93</td>\n",
       "      <td>0.63</td>\n",
       "      <td>0.28</td>\n",
       "      <td>0.47</td>\n",
       "      <td>NaN</td>\n",
       "      <td>NaN</td>\n",
       "      <td>NaN</td>\n",
       "    </tr>\n",
       "    <tr>\n",
       "      <th>10</th>\n",
       "      <td>Nintendogs</td>\n",
       "      <td>DS</td>\n",
       "      <td>2005.0</td>\n",
       "      <td>Simulation</td>\n",
       "      <td>9.05</td>\n",
       "      <td>10.95</td>\n",
       "      <td>1.93</td>\n",
       "      <td>2.74</td>\n",
       "      <td>NaN</td>\n",
       "      <td>NaN</td>\n",
       "      <td>NaN</td>\n",
       "    </tr>\n",
       "    <tr>\n",
       "      <th>...</th>\n",
       "      <td>...</td>\n",
       "      <td>...</td>\n",
       "      <td>...</td>\n",
       "      <td>...</td>\n",
       "      <td>...</td>\n",
       "      <td>...</td>\n",
       "      <td>...</td>\n",
       "      <td>...</td>\n",
       "      <td>...</td>\n",
       "      <td>...</td>\n",
       "      <td>...</td>\n",
       "    </tr>\n",
       "    <tr>\n",
       "      <th>16710</th>\n",
       "      <td>Samurai Warriors: Sanada Maru</td>\n",
       "      <td>PS3</td>\n",
       "      <td>2016.0</td>\n",
       "      <td>Action</td>\n",
       "      <td>0.00</td>\n",
       "      <td>0.00</td>\n",
       "      <td>0.01</td>\n",
       "      <td>0.00</td>\n",
       "      <td>NaN</td>\n",
       "      <td>NaN</td>\n",
       "      <td>NaN</td>\n",
       "    </tr>\n",
       "    <tr>\n",
       "      <th>16711</th>\n",
       "      <td>LMA Manager 2007</td>\n",
       "      <td>X360</td>\n",
       "      <td>2006.0</td>\n",
       "      <td>Sports</td>\n",
       "      <td>0.00</td>\n",
       "      <td>0.01</td>\n",
       "      <td>0.00</td>\n",
       "      <td>0.00</td>\n",
       "      <td>NaN</td>\n",
       "      <td>NaN</td>\n",
       "      <td>NaN</td>\n",
       "    </tr>\n",
       "    <tr>\n",
       "      <th>16712</th>\n",
       "      <td>Haitaka no Psychedelica</td>\n",
       "      <td>PSV</td>\n",
       "      <td>2016.0</td>\n",
       "      <td>Adventure</td>\n",
       "      <td>0.00</td>\n",
       "      <td>0.00</td>\n",
       "      <td>0.01</td>\n",
       "      <td>0.00</td>\n",
       "      <td>NaN</td>\n",
       "      <td>NaN</td>\n",
       "      <td>NaN</td>\n",
       "    </tr>\n",
       "    <tr>\n",
       "      <th>16713</th>\n",
       "      <td>Spirits &amp; Spells</td>\n",
       "      <td>GBA</td>\n",
       "      <td>2003.0</td>\n",
       "      <td>Platform</td>\n",
       "      <td>0.01</td>\n",
       "      <td>0.00</td>\n",
       "      <td>0.00</td>\n",
       "      <td>0.00</td>\n",
       "      <td>NaN</td>\n",
       "      <td>NaN</td>\n",
       "      <td>NaN</td>\n",
       "    </tr>\n",
       "    <tr>\n",
       "      <th>16714</th>\n",
       "      <td>Winning Post 8 2016</td>\n",
       "      <td>PSV</td>\n",
       "      <td>2016.0</td>\n",
       "      <td>Simulation</td>\n",
       "      <td>0.00</td>\n",
       "      <td>0.00</td>\n",
       "      <td>0.01</td>\n",
       "      <td>0.00</td>\n",
       "      <td>NaN</td>\n",
       "      <td>NaN</td>\n",
       "      <td>NaN</td>\n",
       "    </tr>\n",
       "  </tbody>\n",
       "</table>\n",
       "<p>8461 rows × 11 columns</p>\n",
       "</div>"
      ],
      "text/plain": [
       "                                name platform  year_of_release         genre  \\\n",
       "1                  Super Mario Bros.      NES           1985.0      Platform   \n",
       "4           Pokemon Red/Pokemon Blue       GB           1996.0  Role-Playing   \n",
       "5                             Tetris       GB           1989.0        Puzzle   \n",
       "9                          Duck Hunt      NES           1984.0       Shooter   \n",
       "10                        Nintendogs       DS           2005.0    Simulation   \n",
       "...                              ...      ...              ...           ...   \n",
       "16710  Samurai Warriors: Sanada Maru      PS3           2016.0        Action   \n",
       "16711               LMA Manager 2007     X360           2006.0        Sports   \n",
       "16712        Haitaka no Psychedelica      PSV           2016.0     Adventure   \n",
       "16713               Spirits & Spells      GBA           2003.0      Platform   \n",
       "16714            Winning Post 8 2016      PSV           2016.0    Simulation   \n",
       "\n",
       "       na_sales  eu_sales  jp_sales  other_sales  critic_score user_score  \\\n",
       "1         29.08      3.58      6.81         0.77           NaN        NaN   \n",
       "4         11.27      8.89     10.22         1.00           NaN        NaN   \n",
       "5         23.20      2.26      4.22         0.58           NaN        NaN   \n",
       "9         26.93      0.63      0.28         0.47           NaN        NaN   \n",
       "10         9.05     10.95      1.93         2.74           NaN        NaN   \n",
       "...         ...       ...       ...          ...           ...        ...   \n",
       "16710      0.00      0.00      0.01         0.00           NaN        NaN   \n",
       "16711      0.00      0.01      0.00         0.00           NaN        NaN   \n",
       "16712      0.00      0.00      0.01         0.00           NaN        NaN   \n",
       "16713      0.01      0.00      0.00         0.00           NaN        NaN   \n",
       "16714      0.00      0.00      0.01         0.00           NaN        NaN   \n",
       "\n",
       "      rating  \n",
       "1        NaN  \n",
       "4        NaN  \n",
       "5        NaN  \n",
       "9        NaN  \n",
       "10       NaN  \n",
       "...      ...  \n",
       "16710    NaN  \n",
       "16711    NaN  \n",
       "16712    NaN  \n",
       "16713    NaN  \n",
       "16714    NaN  \n",
       "\n",
       "[8461 rows x 11 columns]"
      ]
     },
     "execution_count": 18,
     "metadata": {},
     "output_type": "execute_result"
    }
   ],
   "source": [
    "# Investigar valores ausentes de columna critic_score\n",
    "df.query('critic_score.isna() == True')"
   ]
  },
  {
   "cell_type": "code",
   "execution_count": 19,
   "metadata": {},
   "outputs": [
    {
     "data": {
      "text/plain": [
       "count    7983.000000\n",
       "mean       68.994363\n",
       "std        13.920060\n",
       "min        13.000000\n",
       "25%        60.000000\n",
       "50%        71.000000\n",
       "75%        79.000000\n",
       "max        98.000000\n",
       "Name: critic_score, dtype: float64"
      ]
     },
     "execution_count": 19,
     "metadata": {},
     "output_type": "execute_result"
    }
   ],
   "source": [
    "df['critic_score'].describe()"
   ]
  },
  {
   "cell_type": "code",
   "execution_count": 20,
   "metadata": {},
   "outputs": [
    {
     "name": "stdout",
     "output_type": "stream",
     "text": [
      "Porcentaje de valores ausentes en la columna \"critic_score\": 50.62 %\n"
     ]
    }
   ],
   "source": [
    "print('Porcentaje de valores ausentes en la columna \"critic_score\":', round(8461/total_rows*100,2),'%')"
   ]
  },
  {
   "cell_type": "code",
   "execution_count": 21,
   "metadata": {},
   "outputs": [],
   "source": [
    "# Asignar el valor NAN a los valores ausentes para continuar el análisis sin errores por tipo de dato\n",
    "df['critic_score'] = df['critic_score'].fillna(np.nan)"
   ]
  },
  {
   "cell_type": "markdown",
   "metadata": {},
   "source": [
    "**Más de la mitad de los datos en la columna \"critic_score\" presentan valores ausentes. Dada esta situación, no es viable eliminar estas filas ni tampoco asignarles un valor sin correr el riesgo de sesgar el análisis. Por lo tanto, procederemos asumiendo la ausencia de información en dicha columna.**"
   ]
  },
  {
   "cell_type": "markdown",
   "metadata": {},
   "source": [
    "### Valores ausentes en columna user_score"
   ]
  },
  {
   "cell_type": "code",
   "execution_count": 22,
   "metadata": {},
   "outputs": [
    {
     "data": {
      "text/html": [
       "<div>\n",
       "<style scoped>\n",
       "    .dataframe tbody tr th:only-of-type {\n",
       "        vertical-align: middle;\n",
       "    }\n",
       "\n",
       "    .dataframe tbody tr th {\n",
       "        vertical-align: top;\n",
       "    }\n",
       "\n",
       "    .dataframe thead th {\n",
       "        text-align: right;\n",
       "    }\n",
       "</style>\n",
       "<table border=\"1\" class=\"dataframe\">\n",
       "  <thead>\n",
       "    <tr style=\"text-align: right;\">\n",
       "      <th></th>\n",
       "      <th>name</th>\n",
       "      <th>platform</th>\n",
       "      <th>year_of_release</th>\n",
       "      <th>genre</th>\n",
       "      <th>na_sales</th>\n",
       "      <th>eu_sales</th>\n",
       "      <th>jp_sales</th>\n",
       "      <th>other_sales</th>\n",
       "      <th>critic_score</th>\n",
       "      <th>user_score</th>\n",
       "      <th>rating</th>\n",
       "    </tr>\n",
       "  </thead>\n",
       "  <tbody>\n",
       "    <tr>\n",
       "      <th>1</th>\n",
       "      <td>Super Mario Bros.</td>\n",
       "      <td>NES</td>\n",
       "      <td>1985.0</td>\n",
       "      <td>Platform</td>\n",
       "      <td>29.08</td>\n",
       "      <td>3.58</td>\n",
       "      <td>6.81</td>\n",
       "      <td>0.77</td>\n",
       "      <td>NaN</td>\n",
       "      <td>NaN</td>\n",
       "      <td>NaN</td>\n",
       "    </tr>\n",
       "    <tr>\n",
       "      <th>4</th>\n",
       "      <td>Pokemon Red/Pokemon Blue</td>\n",
       "      <td>GB</td>\n",
       "      <td>1996.0</td>\n",
       "      <td>Role-Playing</td>\n",
       "      <td>11.27</td>\n",
       "      <td>8.89</td>\n",
       "      <td>10.22</td>\n",
       "      <td>1.00</td>\n",
       "      <td>NaN</td>\n",
       "      <td>NaN</td>\n",
       "      <td>NaN</td>\n",
       "    </tr>\n",
       "    <tr>\n",
       "      <th>5</th>\n",
       "      <td>Tetris</td>\n",
       "      <td>GB</td>\n",
       "      <td>1989.0</td>\n",
       "      <td>Puzzle</td>\n",
       "      <td>23.20</td>\n",
       "      <td>2.26</td>\n",
       "      <td>4.22</td>\n",
       "      <td>0.58</td>\n",
       "      <td>NaN</td>\n",
       "      <td>NaN</td>\n",
       "      <td>NaN</td>\n",
       "    </tr>\n",
       "    <tr>\n",
       "      <th>9</th>\n",
       "      <td>Duck Hunt</td>\n",
       "      <td>NES</td>\n",
       "      <td>1984.0</td>\n",
       "      <td>Shooter</td>\n",
       "      <td>26.93</td>\n",
       "      <td>0.63</td>\n",
       "      <td>0.28</td>\n",
       "      <td>0.47</td>\n",
       "      <td>NaN</td>\n",
       "      <td>NaN</td>\n",
       "      <td>NaN</td>\n",
       "    </tr>\n",
       "    <tr>\n",
       "      <th>10</th>\n",
       "      <td>Nintendogs</td>\n",
       "      <td>DS</td>\n",
       "      <td>2005.0</td>\n",
       "      <td>Simulation</td>\n",
       "      <td>9.05</td>\n",
       "      <td>10.95</td>\n",
       "      <td>1.93</td>\n",
       "      <td>2.74</td>\n",
       "      <td>NaN</td>\n",
       "      <td>NaN</td>\n",
       "      <td>NaN</td>\n",
       "    </tr>\n",
       "    <tr>\n",
       "      <th>...</th>\n",
       "      <td>...</td>\n",
       "      <td>...</td>\n",
       "      <td>...</td>\n",
       "      <td>...</td>\n",
       "      <td>...</td>\n",
       "      <td>...</td>\n",
       "      <td>...</td>\n",
       "      <td>...</td>\n",
       "      <td>...</td>\n",
       "      <td>...</td>\n",
       "      <td>...</td>\n",
       "    </tr>\n",
       "    <tr>\n",
       "      <th>16710</th>\n",
       "      <td>Samurai Warriors: Sanada Maru</td>\n",
       "      <td>PS3</td>\n",
       "      <td>2016.0</td>\n",
       "      <td>Action</td>\n",
       "      <td>0.00</td>\n",
       "      <td>0.00</td>\n",
       "      <td>0.01</td>\n",
       "      <td>0.00</td>\n",
       "      <td>NaN</td>\n",
       "      <td>NaN</td>\n",
       "      <td>NaN</td>\n",
       "    </tr>\n",
       "    <tr>\n",
       "      <th>16711</th>\n",
       "      <td>LMA Manager 2007</td>\n",
       "      <td>X360</td>\n",
       "      <td>2006.0</td>\n",
       "      <td>Sports</td>\n",
       "      <td>0.00</td>\n",
       "      <td>0.01</td>\n",
       "      <td>0.00</td>\n",
       "      <td>0.00</td>\n",
       "      <td>NaN</td>\n",
       "      <td>NaN</td>\n",
       "      <td>NaN</td>\n",
       "    </tr>\n",
       "    <tr>\n",
       "      <th>16712</th>\n",
       "      <td>Haitaka no Psychedelica</td>\n",
       "      <td>PSV</td>\n",
       "      <td>2016.0</td>\n",
       "      <td>Adventure</td>\n",
       "      <td>0.00</td>\n",
       "      <td>0.00</td>\n",
       "      <td>0.01</td>\n",
       "      <td>0.00</td>\n",
       "      <td>NaN</td>\n",
       "      <td>NaN</td>\n",
       "      <td>NaN</td>\n",
       "    </tr>\n",
       "    <tr>\n",
       "      <th>16713</th>\n",
       "      <td>Spirits &amp; Spells</td>\n",
       "      <td>GBA</td>\n",
       "      <td>2003.0</td>\n",
       "      <td>Platform</td>\n",
       "      <td>0.01</td>\n",
       "      <td>0.00</td>\n",
       "      <td>0.00</td>\n",
       "      <td>0.00</td>\n",
       "      <td>NaN</td>\n",
       "      <td>NaN</td>\n",
       "      <td>NaN</td>\n",
       "    </tr>\n",
       "    <tr>\n",
       "      <th>16714</th>\n",
       "      <td>Winning Post 8 2016</td>\n",
       "      <td>PSV</td>\n",
       "      <td>2016.0</td>\n",
       "      <td>Simulation</td>\n",
       "      <td>0.00</td>\n",
       "      <td>0.00</td>\n",
       "      <td>0.01</td>\n",
       "      <td>0.00</td>\n",
       "      <td>NaN</td>\n",
       "      <td>NaN</td>\n",
       "      <td>NaN</td>\n",
       "    </tr>\n",
       "  </tbody>\n",
       "</table>\n",
       "<p>6605 rows × 11 columns</p>\n",
       "</div>"
      ],
      "text/plain": [
       "                                name platform  year_of_release         genre  \\\n",
       "1                  Super Mario Bros.      NES           1985.0      Platform   \n",
       "4           Pokemon Red/Pokemon Blue       GB           1996.0  Role-Playing   \n",
       "5                             Tetris       GB           1989.0        Puzzle   \n",
       "9                          Duck Hunt      NES           1984.0       Shooter   \n",
       "10                        Nintendogs       DS           2005.0    Simulation   \n",
       "...                              ...      ...              ...           ...   \n",
       "16710  Samurai Warriors: Sanada Maru      PS3           2016.0        Action   \n",
       "16711               LMA Manager 2007     X360           2006.0        Sports   \n",
       "16712        Haitaka no Psychedelica      PSV           2016.0     Adventure   \n",
       "16713               Spirits & Spells      GBA           2003.0      Platform   \n",
       "16714            Winning Post 8 2016      PSV           2016.0    Simulation   \n",
       "\n",
       "       na_sales  eu_sales  jp_sales  other_sales  critic_score user_score  \\\n",
       "1         29.08      3.58      6.81         0.77           NaN        NaN   \n",
       "4         11.27      8.89     10.22         1.00           NaN        NaN   \n",
       "5         23.20      2.26      4.22         0.58           NaN        NaN   \n",
       "9         26.93      0.63      0.28         0.47           NaN        NaN   \n",
       "10         9.05     10.95      1.93         2.74           NaN        NaN   \n",
       "...         ...       ...       ...          ...           ...        ...   \n",
       "16710      0.00      0.00      0.01         0.00           NaN        NaN   \n",
       "16711      0.00      0.01      0.00         0.00           NaN        NaN   \n",
       "16712      0.00      0.00      0.01         0.00           NaN        NaN   \n",
       "16713      0.01      0.00      0.00         0.00           NaN        NaN   \n",
       "16714      0.00      0.00      0.01         0.00           NaN        NaN   \n",
       "\n",
       "      rating  \n",
       "1        NaN  \n",
       "4        NaN  \n",
       "5        NaN  \n",
       "9        NaN  \n",
       "10       NaN  \n",
       "...      ...  \n",
       "16710    NaN  \n",
       "16711    NaN  \n",
       "16712    NaN  \n",
       "16713    NaN  \n",
       "16714    NaN  \n",
       "\n",
       "[6605 rows x 11 columns]"
      ]
     },
     "execution_count": 22,
     "metadata": {},
     "output_type": "execute_result"
    }
   ],
   "source": [
    "# Investigar valores ausentes de columna user_score\n",
    "df.query('user_score.isna() == True')"
   ]
  },
  {
   "cell_type": "code",
   "execution_count": 23,
   "metadata": {},
   "outputs": [
    {
     "name": "stdout",
     "output_type": "stream",
     "text": [
      "Porcentaje de valores ausentes en la columna \"user_score\": 39.52 %\n"
     ]
    }
   ],
   "source": [
    "print('Porcentaje de valores ausentes en la columna \"user_score\":', round(6605/total_rows*100,2),'%')"
   ]
  },
  {
   "cell_type": "markdown",
   "metadata": {},
   "source": [
    "**Un porcentaje significativo de las filas presenta valores faltantes en la columna \"user_score\". Debido a ello, no es aconsejable eliminarlas ni asignar un valor arbitrario, ya que podría comprometer la integridad del análisis. Por ende, se continua asumiendo falta de datos en esta columna.**"
   ]
  },
  {
   "cell_type": "code",
   "execution_count": 24,
   "metadata": {},
   "outputs": [],
   "source": [
    "# Asignar el valor NAN a los valores ausentes para continuar el análisis sin errores por tipo de dato\n",
    "df['user_score'] = df['user_score'].fillna(np.nan)"
   ]
  },
  {
   "cell_type": "markdown",
   "metadata": {},
   "source": [
    "### Valores ausentes en columna rating"
   ]
  },
  {
   "cell_type": "code",
   "execution_count": 25,
   "metadata": {},
   "outputs": [
    {
     "data": {
      "text/plain": [
       "array(['AO', 'E', 'E10+', 'EC', 'K-A', 'M', 'RP', 'T', nan], dtype=object)"
      ]
     },
     "execution_count": 25,
     "metadata": {},
     "output_type": "execute_result"
    }
   ],
   "source": [
    "# Se buscan valores duplicados en la columna rating\n",
    "df['rating'].sort_values().unique()"
   ]
  },
  {
   "cell_type": "markdown",
   "metadata": {},
   "source": [
    "**La columna rating cuenta con los siquientes valores:**\n",
    "\n",
    "- **E (todos)**\n",
    "- **EC (mayores de 3 años) dejó de usarse en 2018 y se reemplazó con E**\n",
    "- **E10+ (mayores de 10 años)**\n",
    "- **K-A (mayores de 10 años) dejó de usarse en 1998 y se reemplazó con E10+**\n",
    "- **T (mayores de 13 años)**\n",
    "- **M (mayores de 17 años)**\n",
    "- **A0 (sólo para adultos de 18 años en adelante)**\n",
    "- **RP (pendiente de clasificar)**"
   ]
  },
  {
   "cell_type": "code",
   "execution_count": 26,
   "metadata": {},
   "outputs": [
    {
     "data": {
      "text/html": [
       "<div>\n",
       "<style scoped>\n",
       "    .dataframe tbody tr th:only-of-type {\n",
       "        vertical-align: middle;\n",
       "    }\n",
       "\n",
       "    .dataframe tbody tr th {\n",
       "        vertical-align: top;\n",
       "    }\n",
       "\n",
       "    .dataframe thead th {\n",
       "        text-align: right;\n",
       "    }\n",
       "</style>\n",
       "<table border=\"1\" class=\"dataframe\">\n",
       "  <thead>\n",
       "    <tr style=\"text-align: right;\">\n",
       "      <th></th>\n",
       "      <th>name</th>\n",
       "      <th>platform</th>\n",
       "      <th>year_of_release</th>\n",
       "      <th>genre</th>\n",
       "      <th>na_sales</th>\n",
       "      <th>eu_sales</th>\n",
       "      <th>jp_sales</th>\n",
       "      <th>other_sales</th>\n",
       "      <th>critic_score</th>\n",
       "      <th>user_score</th>\n",
       "      <th>rating</th>\n",
       "    </tr>\n",
       "  </thead>\n",
       "  <tbody>\n",
       "    <tr>\n",
       "      <th>1</th>\n",
       "      <td>Super Mario Bros.</td>\n",
       "      <td>NES</td>\n",
       "      <td>1985.0</td>\n",
       "      <td>Platform</td>\n",
       "      <td>29.08</td>\n",
       "      <td>3.58</td>\n",
       "      <td>6.81</td>\n",
       "      <td>0.77</td>\n",
       "      <td>NaN</td>\n",
       "      <td>NaN</td>\n",
       "      <td>NaN</td>\n",
       "    </tr>\n",
       "    <tr>\n",
       "      <th>4</th>\n",
       "      <td>Pokemon Red/Pokemon Blue</td>\n",
       "      <td>GB</td>\n",
       "      <td>1996.0</td>\n",
       "      <td>Role-Playing</td>\n",
       "      <td>11.27</td>\n",
       "      <td>8.89</td>\n",
       "      <td>10.22</td>\n",
       "      <td>1.00</td>\n",
       "      <td>NaN</td>\n",
       "      <td>NaN</td>\n",
       "      <td>NaN</td>\n",
       "    </tr>\n",
       "    <tr>\n",
       "      <th>5</th>\n",
       "      <td>Tetris</td>\n",
       "      <td>GB</td>\n",
       "      <td>1989.0</td>\n",
       "      <td>Puzzle</td>\n",
       "      <td>23.20</td>\n",
       "      <td>2.26</td>\n",
       "      <td>4.22</td>\n",
       "      <td>0.58</td>\n",
       "      <td>NaN</td>\n",
       "      <td>NaN</td>\n",
       "      <td>NaN</td>\n",
       "    </tr>\n",
       "    <tr>\n",
       "      <th>9</th>\n",
       "      <td>Duck Hunt</td>\n",
       "      <td>NES</td>\n",
       "      <td>1984.0</td>\n",
       "      <td>Shooter</td>\n",
       "      <td>26.93</td>\n",
       "      <td>0.63</td>\n",
       "      <td>0.28</td>\n",
       "      <td>0.47</td>\n",
       "      <td>NaN</td>\n",
       "      <td>NaN</td>\n",
       "      <td>NaN</td>\n",
       "    </tr>\n",
       "    <tr>\n",
       "      <th>10</th>\n",
       "      <td>Nintendogs</td>\n",
       "      <td>DS</td>\n",
       "      <td>2005.0</td>\n",
       "      <td>Simulation</td>\n",
       "      <td>9.05</td>\n",
       "      <td>10.95</td>\n",
       "      <td>1.93</td>\n",
       "      <td>2.74</td>\n",
       "      <td>NaN</td>\n",
       "      <td>NaN</td>\n",
       "      <td>NaN</td>\n",
       "    </tr>\n",
       "    <tr>\n",
       "      <th>...</th>\n",
       "      <td>...</td>\n",
       "      <td>...</td>\n",
       "      <td>...</td>\n",
       "      <td>...</td>\n",
       "      <td>...</td>\n",
       "      <td>...</td>\n",
       "      <td>...</td>\n",
       "      <td>...</td>\n",
       "      <td>...</td>\n",
       "      <td>...</td>\n",
       "      <td>...</td>\n",
       "    </tr>\n",
       "    <tr>\n",
       "      <th>16710</th>\n",
       "      <td>Samurai Warriors: Sanada Maru</td>\n",
       "      <td>PS3</td>\n",
       "      <td>2016.0</td>\n",
       "      <td>Action</td>\n",
       "      <td>0.00</td>\n",
       "      <td>0.00</td>\n",
       "      <td>0.01</td>\n",
       "      <td>0.00</td>\n",
       "      <td>NaN</td>\n",
       "      <td>NaN</td>\n",
       "      <td>NaN</td>\n",
       "    </tr>\n",
       "    <tr>\n",
       "      <th>16711</th>\n",
       "      <td>LMA Manager 2007</td>\n",
       "      <td>X360</td>\n",
       "      <td>2006.0</td>\n",
       "      <td>Sports</td>\n",
       "      <td>0.00</td>\n",
       "      <td>0.01</td>\n",
       "      <td>0.00</td>\n",
       "      <td>0.00</td>\n",
       "      <td>NaN</td>\n",
       "      <td>NaN</td>\n",
       "      <td>NaN</td>\n",
       "    </tr>\n",
       "    <tr>\n",
       "      <th>16712</th>\n",
       "      <td>Haitaka no Psychedelica</td>\n",
       "      <td>PSV</td>\n",
       "      <td>2016.0</td>\n",
       "      <td>Adventure</td>\n",
       "      <td>0.00</td>\n",
       "      <td>0.00</td>\n",
       "      <td>0.01</td>\n",
       "      <td>0.00</td>\n",
       "      <td>NaN</td>\n",
       "      <td>NaN</td>\n",
       "      <td>NaN</td>\n",
       "    </tr>\n",
       "    <tr>\n",
       "      <th>16713</th>\n",
       "      <td>Spirits &amp; Spells</td>\n",
       "      <td>GBA</td>\n",
       "      <td>2003.0</td>\n",
       "      <td>Platform</td>\n",
       "      <td>0.01</td>\n",
       "      <td>0.00</td>\n",
       "      <td>0.00</td>\n",
       "      <td>0.00</td>\n",
       "      <td>NaN</td>\n",
       "      <td>NaN</td>\n",
       "      <td>NaN</td>\n",
       "    </tr>\n",
       "    <tr>\n",
       "      <th>16714</th>\n",
       "      <td>Winning Post 8 2016</td>\n",
       "      <td>PSV</td>\n",
       "      <td>2016.0</td>\n",
       "      <td>Simulation</td>\n",
       "      <td>0.00</td>\n",
       "      <td>0.00</td>\n",
       "      <td>0.01</td>\n",
       "      <td>0.00</td>\n",
       "      <td>NaN</td>\n",
       "      <td>NaN</td>\n",
       "      <td>NaN</td>\n",
       "    </tr>\n",
       "  </tbody>\n",
       "</table>\n",
       "<p>6676 rows × 11 columns</p>\n",
       "</div>"
      ],
      "text/plain": [
       "                                name platform  year_of_release         genre  \\\n",
       "1                  Super Mario Bros.      NES           1985.0      Platform   \n",
       "4           Pokemon Red/Pokemon Blue       GB           1996.0  Role-Playing   \n",
       "5                             Tetris       GB           1989.0        Puzzle   \n",
       "9                          Duck Hunt      NES           1984.0       Shooter   \n",
       "10                        Nintendogs       DS           2005.0    Simulation   \n",
       "...                              ...      ...              ...           ...   \n",
       "16710  Samurai Warriors: Sanada Maru      PS3           2016.0        Action   \n",
       "16711               LMA Manager 2007     X360           2006.0        Sports   \n",
       "16712        Haitaka no Psychedelica      PSV           2016.0     Adventure   \n",
       "16713               Spirits & Spells      GBA           2003.0      Platform   \n",
       "16714            Winning Post 8 2016      PSV           2016.0    Simulation   \n",
       "\n",
       "       na_sales  eu_sales  jp_sales  other_sales  critic_score user_score  \\\n",
       "1         29.08      3.58      6.81         0.77           NaN        NaN   \n",
       "4         11.27      8.89     10.22         1.00           NaN        NaN   \n",
       "5         23.20      2.26      4.22         0.58           NaN        NaN   \n",
       "9         26.93      0.63      0.28         0.47           NaN        NaN   \n",
       "10         9.05     10.95      1.93         2.74           NaN        NaN   \n",
       "...         ...       ...       ...          ...           ...        ...   \n",
       "16710      0.00      0.00      0.01         0.00           NaN        NaN   \n",
       "16711      0.00      0.01      0.00         0.00           NaN        NaN   \n",
       "16712      0.00      0.00      0.01         0.00           NaN        NaN   \n",
       "16713      0.01      0.00      0.00         0.00           NaN        NaN   \n",
       "16714      0.00      0.00      0.01         0.00           NaN        NaN   \n",
       "\n",
       "      rating  \n",
       "1        NaN  \n",
       "4        NaN  \n",
       "5        NaN  \n",
       "9        NaN  \n",
       "10       NaN  \n",
       "...      ...  \n",
       "16710    NaN  \n",
       "16711    NaN  \n",
       "16712    NaN  \n",
       "16713    NaN  \n",
       "16714    NaN  \n",
       "\n",
       "[6676 rows x 11 columns]"
      ]
     },
     "execution_count": 26,
     "metadata": {},
     "output_type": "execute_result"
    }
   ],
   "source": [
    "# Investigar valores ausentes de columna rating\n",
    "df.query('rating.isna() == True')"
   ]
  },
  {
   "cell_type": "code",
   "execution_count": 27,
   "metadata": {},
   "outputs": [
    {
     "data": {
      "text/html": [
       "<div>\n",
       "<style scoped>\n",
       "    .dataframe tbody tr th:only-of-type {\n",
       "        vertical-align: middle;\n",
       "    }\n",
       "\n",
       "    .dataframe tbody tr th {\n",
       "        vertical-align: top;\n",
       "    }\n",
       "\n",
       "    .dataframe thead th {\n",
       "        text-align: right;\n",
       "    }\n",
       "</style>\n",
       "<table border=\"1\" class=\"dataframe\">\n",
       "  <thead>\n",
       "    <tr style=\"text-align: right;\">\n",
       "      <th></th>\n",
       "      <th>name</th>\n",
       "      <th>platform</th>\n",
       "      <th>year_of_release</th>\n",
       "      <th>genre</th>\n",
       "      <th>na_sales</th>\n",
       "      <th>eu_sales</th>\n",
       "      <th>jp_sales</th>\n",
       "      <th>other_sales</th>\n",
       "      <th>critic_score</th>\n",
       "      <th>user_score</th>\n",
       "      <th>rating</th>\n",
       "    </tr>\n",
       "  </thead>\n",
       "  <tbody>\n",
       "    <tr>\n",
       "      <th>1</th>\n",
       "      <td>Super Mario Bros.</td>\n",
       "      <td>NES</td>\n",
       "      <td>1985.0</td>\n",
       "      <td>Platform</td>\n",
       "      <td>29.08</td>\n",
       "      <td>3.58</td>\n",
       "      <td>6.81</td>\n",
       "      <td>0.77</td>\n",
       "      <td>NaN</td>\n",
       "      <td>NaN</td>\n",
       "      <td>NaN</td>\n",
       "    </tr>\n",
       "    <tr>\n",
       "      <th>5</th>\n",
       "      <td>Tetris</td>\n",
       "      <td>GB</td>\n",
       "      <td>1989.0</td>\n",
       "      <td>Puzzle</td>\n",
       "      <td>23.20</td>\n",
       "      <td>2.26</td>\n",
       "      <td>4.22</td>\n",
       "      <td>0.58</td>\n",
       "      <td>NaN</td>\n",
       "      <td>NaN</td>\n",
       "      <td>NaN</td>\n",
       "    </tr>\n",
       "    <tr>\n",
       "      <th>9</th>\n",
       "      <td>Duck Hunt</td>\n",
       "      <td>NES</td>\n",
       "      <td>1984.0</td>\n",
       "      <td>Shooter</td>\n",
       "      <td>26.93</td>\n",
       "      <td>0.63</td>\n",
       "      <td>0.28</td>\n",
       "      <td>0.47</td>\n",
       "      <td>NaN</td>\n",
       "      <td>NaN</td>\n",
       "      <td>NaN</td>\n",
       "    </tr>\n",
       "    <tr>\n",
       "      <th>18</th>\n",
       "      <td>Super Mario World</td>\n",
       "      <td>SNES</td>\n",
       "      <td>1990.0</td>\n",
       "      <td>Platform</td>\n",
       "      <td>12.78</td>\n",
       "      <td>3.75</td>\n",
       "      <td>3.54</td>\n",
       "      <td>0.55</td>\n",
       "      <td>NaN</td>\n",
       "      <td>NaN</td>\n",
       "      <td>NaN</td>\n",
       "    </tr>\n",
       "    <tr>\n",
       "      <th>21</th>\n",
       "      <td>Super Mario Land</td>\n",
       "      <td>GB</td>\n",
       "      <td>1989.0</td>\n",
       "      <td>Platform</td>\n",
       "      <td>10.83</td>\n",
       "      <td>2.71</td>\n",
       "      <td>4.18</td>\n",
       "      <td>0.42</td>\n",
       "      <td>NaN</td>\n",
       "      <td>NaN</td>\n",
       "      <td>NaN</td>\n",
       "    </tr>\n",
       "    <tr>\n",
       "      <th>...</th>\n",
       "      <td>...</td>\n",
       "      <td>...</td>\n",
       "      <td>...</td>\n",
       "      <td>...</td>\n",
       "      <td>...</td>\n",
       "      <td>...</td>\n",
       "      <td>...</td>\n",
       "      <td>...</td>\n",
       "      <td>...</td>\n",
       "      <td>...</td>\n",
       "      <td>...</td>\n",
       "    </tr>\n",
       "    <tr>\n",
       "      <th>13343</th>\n",
       "      <td>Beyond Oasis</td>\n",
       "      <td>GEN</td>\n",
       "      <td>1993.0</td>\n",
       "      <td>Role-Playing</td>\n",
       "      <td>0.00</td>\n",
       "      <td>0.00</td>\n",
       "      <td>0.05</td>\n",
       "      <td>0.00</td>\n",
       "      <td>NaN</td>\n",
       "      <td>NaN</td>\n",
       "      <td>NaN</td>\n",
       "    </tr>\n",
       "    <tr>\n",
       "      <th>13571</th>\n",
       "      <td>Sonic the Hedgehog 2 (8-bit)</td>\n",
       "      <td>GG</td>\n",
       "      <td>1992.0</td>\n",
       "      <td>Platform</td>\n",
       "      <td>0.00</td>\n",
       "      <td>0.00</td>\n",
       "      <td>0.04</td>\n",
       "      <td>0.00</td>\n",
       "      <td>NaN</td>\n",
       "      <td>NaN</td>\n",
       "      <td>NaN</td>\n",
       "    </tr>\n",
       "    <tr>\n",
       "      <th>15692</th>\n",
       "      <td>Empire Deluxe</td>\n",
       "      <td>PC</td>\n",
       "      <td>1992.0</td>\n",
       "      <td>Strategy</td>\n",
       "      <td>0.02</td>\n",
       "      <td>0.00</td>\n",
       "      <td>0.00</td>\n",
       "      <td>0.00</td>\n",
       "      <td>NaN</td>\n",
       "      <td>NaN</td>\n",
       "      <td>NaN</td>\n",
       "    </tr>\n",
       "    <tr>\n",
       "      <th>15957</th>\n",
       "      <td>Strongest Tokyo University Shogi DS</td>\n",
       "      <td>DS</td>\n",
       "      <td>1985.0</td>\n",
       "      <td>Action</td>\n",
       "      <td>0.00</td>\n",
       "      <td>0.00</td>\n",
       "      <td>0.02</td>\n",
       "      <td>0.00</td>\n",
       "      <td>NaN</td>\n",
       "      <td>NaN</td>\n",
       "      <td>NaN</td>\n",
       "    </tr>\n",
       "    <tr>\n",
       "      <th>16207</th>\n",
       "      <td>Rock N' Roll Racing</td>\n",
       "      <td>SNES</td>\n",
       "      <td>1993.0</td>\n",
       "      <td>Racing</td>\n",
       "      <td>0.00</td>\n",
       "      <td>0.00</td>\n",
       "      <td>0.01</td>\n",
       "      <td>0.00</td>\n",
       "      <td>NaN</td>\n",
       "      <td>NaN</td>\n",
       "      <td>NaN</td>\n",
       "    </tr>\n",
       "  </tbody>\n",
       "</table>\n",
       "<p>361 rows × 11 columns</p>\n",
       "</div>"
      ],
      "text/plain": [
       "                                      name platform  year_of_release  \\\n",
       "1                        Super Mario Bros.      NES           1985.0   \n",
       "5                                   Tetris       GB           1989.0   \n",
       "9                                Duck Hunt      NES           1984.0   \n",
       "18                       Super Mario World     SNES           1990.0   \n",
       "21                        Super Mario Land       GB           1989.0   \n",
       "...                                    ...      ...              ...   \n",
       "13343                         Beyond Oasis      GEN           1993.0   \n",
       "13571         Sonic the Hedgehog 2 (8-bit)       GG           1992.0   \n",
       "15692                        Empire Deluxe       PC           1992.0   \n",
       "15957  Strongest Tokyo University Shogi DS       DS           1985.0   \n",
       "16207                  Rock N' Roll Racing     SNES           1993.0   \n",
       "\n",
       "              genre  na_sales  eu_sales  jp_sales  other_sales  critic_score  \\\n",
       "1          Platform     29.08      3.58      6.81         0.77           NaN   \n",
       "5            Puzzle     23.20      2.26      4.22         0.58           NaN   \n",
       "9           Shooter     26.93      0.63      0.28         0.47           NaN   \n",
       "18         Platform     12.78      3.75      3.54         0.55           NaN   \n",
       "21         Platform     10.83      2.71      4.18         0.42           NaN   \n",
       "...             ...       ...       ...       ...          ...           ...   \n",
       "13343  Role-Playing      0.00      0.00      0.05         0.00           NaN   \n",
       "13571      Platform      0.00      0.00      0.04         0.00           NaN   \n",
       "15692      Strategy      0.02      0.00      0.00         0.00           NaN   \n",
       "15957        Action      0.00      0.00      0.02         0.00           NaN   \n",
       "16207        Racing      0.00      0.00      0.01         0.00           NaN   \n",
       "\n",
       "      user_score rating  \n",
       "1            NaN    NaN  \n",
       "5            NaN    NaN  \n",
       "9            NaN    NaN  \n",
       "18           NaN    NaN  \n",
       "21           NaN    NaN  \n",
       "...          ...    ...  \n",
       "13343        NaN    NaN  \n",
       "13571        NaN    NaN  \n",
       "15692        NaN    NaN  \n",
       "15957        NaN    NaN  \n",
       "16207        NaN    NaN  \n",
       "\n",
       "[361 rows x 11 columns]"
      ]
     },
     "execution_count": 27,
     "metadata": {},
     "output_type": "execute_result"
    }
   ],
   "source": [
    "# Investigar valores ausentes de columna rating\n",
    "df.query('rating.isna() == True and year_of_release < 1994')"
   ]
  },
  {
   "cell_type": "markdown",
   "metadata": {},
   "source": [
    "**La ESRB se fundo en 1994, por lo que es comprensible que haya múltiples juegos lanzados en años anteriores sin esta clasificación.**"
   ]
  },
  {
   "cell_type": "code",
   "execution_count": 28,
   "metadata": {},
   "outputs": [
    {
     "name": "stdout",
     "output_type": "stream",
     "text": [
      "Porcentaje de valores ausentes en la columna \"rating\": 39.94 %\n"
     ]
    }
   ],
   "source": [
    "print('Porcentaje de valores ausentes en la columna \"rating\":', round(6676/total_rows*100,2),'%')"
   ]
  },
  {
   "cell_type": "markdown",
   "metadata": {},
   "source": [
    "**Las filas con valores ausentes en la columna rating representan un porcentaje alto por lo que no se pueden eliminar. A continuación se busca un valor representativo para ellas.**"
   ]
  },
  {
   "cell_type": "code",
   "execution_count": 29,
   "metadata": {},
   "outputs": [
    {
     "data": {
      "text/plain": [
       "E       3921\n",
       "T       2905\n",
       "M       1536\n",
       "E10+    1393\n",
       "EC         8\n",
       "K-A        3\n",
       "AO         1\n",
       "RP         1\n",
       "Name: rating, dtype: int64"
      ]
     },
     "execution_count": 29,
     "metadata": {},
     "output_type": "execute_result"
    }
   ],
   "source": [
    "df['rating'].value_counts()"
   ]
  },
  {
   "cell_type": "markdown",
   "metadata": {},
   "source": [
    "**Se establecen los valores ausentes de la columna rating como RP, es decir, pendiente de clasificar. (Rating Pending)**"
   ]
  },
  {
   "cell_type": "code",
   "execution_count": 30,
   "metadata": {},
   "outputs": [],
   "source": [
    "# Asignar el valor unknown a los valores ausentes\n",
    "df['rating'] = df['rating'].fillna(\"RP\")"
   ]
  },
  {
   "cell_type": "markdown",
   "metadata": {},
   "source": [
    "## Corregir tipos de datos"
   ]
  },
  {
   "cell_type": "code",
   "execution_count": 31,
   "metadata": {},
   "outputs": [],
   "source": [
    "# Cambiar tipo de dato\n",
    "df['year_of_release'] = df['year_of_release'].astype('int')"
   ]
  },
  {
   "cell_type": "code",
   "execution_count": 33,
   "metadata": {},
   "outputs": [
    {
     "data": {
      "text/html": [
       "<div>\n",
       "<style scoped>\n",
       "    .dataframe tbody tr th:only-of-type {\n",
       "        vertical-align: middle;\n",
       "    }\n",
       "\n",
       "    .dataframe tbody tr th {\n",
       "        vertical-align: top;\n",
       "    }\n",
       "\n",
       "    .dataframe thead th {\n",
       "        text-align: right;\n",
       "    }\n",
       "</style>\n",
       "<table border=\"1\" class=\"dataframe\">\n",
       "  <thead>\n",
       "    <tr style=\"text-align: right;\">\n",
       "      <th></th>\n",
       "      <th>name</th>\n",
       "      <th>platform</th>\n",
       "      <th>year_of_release</th>\n",
       "      <th>genre</th>\n",
       "      <th>na_sales</th>\n",
       "      <th>eu_sales</th>\n",
       "      <th>jp_sales</th>\n",
       "      <th>other_sales</th>\n",
       "      <th>critic_score</th>\n",
       "      <th>user_score</th>\n",
       "      <th>rating</th>\n",
       "    </tr>\n",
       "  </thead>\n",
       "  <tbody>\n",
       "    <tr>\n",
       "      <th>119</th>\n",
       "      <td>Zumba Fitness</td>\n",
       "      <td>Wii</td>\n",
       "      <td>2010</td>\n",
       "      <td>Sports</td>\n",
       "      <td>3.45</td>\n",
       "      <td>2.59</td>\n",
       "      <td>0.0</td>\n",
       "      <td>0.66</td>\n",
       "      <td>NaN</td>\n",
       "      <td>tbd</td>\n",
       "      <td>E</td>\n",
       "    </tr>\n",
       "    <tr>\n",
       "      <th>301</th>\n",
       "      <td>Namco Museum: 50th Anniversary</td>\n",
       "      <td>PS2</td>\n",
       "      <td>2005</td>\n",
       "      <td>Misc</td>\n",
       "      <td>2.08</td>\n",
       "      <td>1.35</td>\n",
       "      <td>0.0</td>\n",
       "      <td>0.54</td>\n",
       "      <td>61.0</td>\n",
       "      <td>tbd</td>\n",
       "      <td>E10+</td>\n",
       "    </tr>\n",
       "    <tr>\n",
       "      <th>520</th>\n",
       "      <td>Zumba Fitness 2</td>\n",
       "      <td>Wii</td>\n",
       "      <td>2011</td>\n",
       "      <td>Sports</td>\n",
       "      <td>1.51</td>\n",
       "      <td>1.03</td>\n",
       "      <td>0.0</td>\n",
       "      <td>0.27</td>\n",
       "      <td>NaN</td>\n",
       "      <td>tbd</td>\n",
       "      <td>T</td>\n",
       "    </tr>\n",
       "    <tr>\n",
       "      <th>645</th>\n",
       "      <td>uDraw Studio</td>\n",
       "      <td>Wii</td>\n",
       "      <td>2010</td>\n",
       "      <td>Misc</td>\n",
       "      <td>1.65</td>\n",
       "      <td>0.57</td>\n",
       "      <td>0.0</td>\n",
       "      <td>0.20</td>\n",
       "      <td>71.0</td>\n",
       "      <td>tbd</td>\n",
       "      <td>E</td>\n",
       "    </tr>\n",
       "    <tr>\n",
       "      <th>718</th>\n",
       "      <td>Just Dance Kids</td>\n",
       "      <td>Wii</td>\n",
       "      <td>2010</td>\n",
       "      <td>Misc</td>\n",
       "      <td>1.52</td>\n",
       "      <td>0.54</td>\n",
       "      <td>0.0</td>\n",
       "      <td>0.18</td>\n",
       "      <td>NaN</td>\n",
       "      <td>tbd</td>\n",
       "      <td>E</td>\n",
       "    </tr>\n",
       "  </tbody>\n",
       "</table>\n",
       "</div>"
      ],
      "text/plain": [
       "                               name platform  year_of_release   genre  \\\n",
       "119                   Zumba Fitness      Wii             2010  Sports   \n",
       "301  Namco Museum: 50th Anniversary      PS2             2005    Misc   \n",
       "520                 Zumba Fitness 2      Wii             2011  Sports   \n",
       "645                    uDraw Studio      Wii             2010    Misc   \n",
       "718                 Just Dance Kids      Wii             2010    Misc   \n",
       "\n",
       "     na_sales  eu_sales  jp_sales  other_sales  critic_score user_score rating  \n",
       "119      3.45      2.59       0.0         0.66           NaN        tbd      E  \n",
       "301      2.08      1.35       0.0         0.54          61.0        tbd   E10+  \n",
       "520      1.51      1.03       0.0         0.27           NaN        tbd      T  \n",
       "645      1.65      0.57       0.0         0.20          71.0        tbd      E  \n",
       "718      1.52      0.54       0.0         0.18           NaN        tbd      E  "
      ]
     },
     "execution_count": 33,
     "metadata": {},
     "output_type": "execute_result"
    }
   ],
   "source": [
    "# Investigar tipo de dato de columna user_score\n",
    "df.query('user_score == \"tbd\"').head()"
   ]
  },
  {
   "cell_type": "markdown",
   "metadata": {},
   "source": [
    "**El valor tbd (to be defined) en la columna user_score probablemente se deba a calificaciones de usuarios insuficientes, por lo que este valor se mantiene así y la columna permanece con el tipo de dato de objeto.**"
   ]
  },
  {
   "cell_type": "markdown",
   "metadata": {},
   "source": [
    "## Enriquecer datos"
   ]
  },
  {
   "cell_type": "markdown",
   "metadata": {},
   "source": [
    "**Se crea una columna con las ventas totales de cada videojuego.**"
   ]
  },
  {
   "cell_type": "code",
   "execution_count": 34,
   "metadata": {},
   "outputs": [],
   "source": [
    "# Crear columna de ventas totales\n",
    "df['total_sales'] = df['na_sales'] + df['eu_sales'] + df['jp_sales'] + df['other_sales']"
   ]
  },
  {
   "cell_type": "markdown",
   "metadata": {},
   "source": [
    "**Se crea una columna con las ventas totales promedio por año.**"
   ]
  },
  {
   "cell_type": "code",
   "execution_count": 35,
   "metadata": {},
   "outputs": [],
   "source": [
    "df['sales_per_year'] = round( df['total_sales'] /  (2017-df['year_of_release'])  ,2)"
   ]
  },
  {
   "cell_type": "markdown",
   "metadata": {},
   "source": [
    "## Verificar cambios"
   ]
  },
  {
   "cell_type": "code",
   "execution_count": 36,
   "metadata": {},
   "outputs": [
    {
     "data": {
      "text/html": [
       "<div>\n",
       "<style scoped>\n",
       "    .dataframe tbody tr th:only-of-type {\n",
       "        vertical-align: middle;\n",
       "    }\n",
       "\n",
       "    .dataframe tbody tr th {\n",
       "        vertical-align: top;\n",
       "    }\n",
       "\n",
       "    .dataframe thead th {\n",
       "        text-align: right;\n",
       "    }\n",
       "</style>\n",
       "<table border=\"1\" class=\"dataframe\">\n",
       "  <thead>\n",
       "    <tr style=\"text-align: right;\">\n",
       "      <th></th>\n",
       "      <th>name</th>\n",
       "      <th>platform</th>\n",
       "      <th>year_of_release</th>\n",
       "      <th>genre</th>\n",
       "      <th>na_sales</th>\n",
       "      <th>eu_sales</th>\n",
       "      <th>jp_sales</th>\n",
       "      <th>other_sales</th>\n",
       "      <th>critic_score</th>\n",
       "      <th>user_score</th>\n",
       "      <th>rating</th>\n",
       "      <th>total_sales</th>\n",
       "      <th>sales_per_year</th>\n",
       "    </tr>\n",
       "  </thead>\n",
       "  <tbody>\n",
       "    <tr>\n",
       "      <th>0</th>\n",
       "      <td>Wii Sports</td>\n",
       "      <td>Wii</td>\n",
       "      <td>2006</td>\n",
       "      <td>Sports</td>\n",
       "      <td>41.36</td>\n",
       "      <td>28.96</td>\n",
       "      <td>3.77</td>\n",
       "      <td>8.45</td>\n",
       "      <td>76.0</td>\n",
       "      <td>8</td>\n",
       "      <td>E</td>\n",
       "      <td>82.54</td>\n",
       "      <td>7.50</td>\n",
       "    </tr>\n",
       "    <tr>\n",
       "      <th>1</th>\n",
       "      <td>Super Mario Bros.</td>\n",
       "      <td>NES</td>\n",
       "      <td>1985</td>\n",
       "      <td>Platform</td>\n",
       "      <td>29.08</td>\n",
       "      <td>3.58</td>\n",
       "      <td>6.81</td>\n",
       "      <td>0.77</td>\n",
       "      <td>NaN</td>\n",
       "      <td>NaN</td>\n",
       "      <td>RP</td>\n",
       "      <td>40.24</td>\n",
       "      <td>1.26</td>\n",
       "    </tr>\n",
       "    <tr>\n",
       "      <th>2</th>\n",
       "      <td>Mario Kart Wii</td>\n",
       "      <td>Wii</td>\n",
       "      <td>2008</td>\n",
       "      <td>Racing</td>\n",
       "      <td>15.68</td>\n",
       "      <td>12.76</td>\n",
       "      <td>3.79</td>\n",
       "      <td>3.29</td>\n",
       "      <td>82.0</td>\n",
       "      <td>8.3</td>\n",
       "      <td>E</td>\n",
       "      <td>35.52</td>\n",
       "      <td>3.95</td>\n",
       "    </tr>\n",
       "    <tr>\n",
       "      <th>3</th>\n",
       "      <td>Wii Sports Resort</td>\n",
       "      <td>Wii</td>\n",
       "      <td>2009</td>\n",
       "      <td>Sports</td>\n",
       "      <td>15.61</td>\n",
       "      <td>10.93</td>\n",
       "      <td>3.28</td>\n",
       "      <td>2.95</td>\n",
       "      <td>80.0</td>\n",
       "      <td>8</td>\n",
       "      <td>E</td>\n",
       "      <td>32.77</td>\n",
       "      <td>4.10</td>\n",
       "    </tr>\n",
       "    <tr>\n",
       "      <th>4</th>\n",
       "      <td>Pokemon Red/Pokemon Blue</td>\n",
       "      <td>GB</td>\n",
       "      <td>1996</td>\n",
       "      <td>Role-Playing</td>\n",
       "      <td>11.27</td>\n",
       "      <td>8.89</td>\n",
       "      <td>10.22</td>\n",
       "      <td>1.00</td>\n",
       "      <td>NaN</td>\n",
       "      <td>NaN</td>\n",
       "      <td>RP</td>\n",
       "      <td>31.38</td>\n",
       "      <td>1.49</td>\n",
       "    </tr>\n",
       "  </tbody>\n",
       "</table>\n",
       "</div>"
      ],
      "text/plain": [
       "                       name platform  year_of_release         genre  na_sales  \\\n",
       "0                Wii Sports      Wii             2006        Sports     41.36   \n",
       "1         Super Mario Bros.      NES             1985      Platform     29.08   \n",
       "2            Mario Kart Wii      Wii             2008        Racing     15.68   \n",
       "3         Wii Sports Resort      Wii             2009        Sports     15.61   \n",
       "4  Pokemon Red/Pokemon Blue       GB             1996  Role-Playing     11.27   \n",
       "\n",
       "   eu_sales  jp_sales  other_sales  critic_score user_score rating  \\\n",
       "0     28.96      3.77         8.45          76.0          8      E   \n",
       "1      3.58      6.81         0.77           NaN        NaN     RP   \n",
       "2     12.76      3.79         3.29          82.0        8.3      E   \n",
       "3     10.93      3.28         2.95          80.0          8      E   \n",
       "4      8.89     10.22         1.00           NaN        NaN     RP   \n",
       "\n",
       "   total_sales  sales_per_year  \n",
       "0        82.54            7.50  \n",
       "1        40.24            1.26  \n",
       "2        35.52            3.95  \n",
       "3        32.77            4.10  \n",
       "4        31.38            1.49  "
      ]
     },
     "execution_count": 36,
     "metadata": {},
     "output_type": "execute_result"
    }
   ],
   "source": [
    "df.head()"
   ]
  },
  {
   "cell_type": "code",
   "execution_count": 37,
   "metadata": {},
   "outputs": [
    {
     "name": "stdout",
     "output_type": "stream",
     "text": [
      "<class 'pandas.core.frame.DataFrame'>\n",
      "Int64Index: 16444 entries, 0 to 16714\n",
      "Data columns (total 13 columns):\n",
      " #   Column           Non-Null Count  Dtype  \n",
      "---  ------           --------------  -----  \n",
      " 0   name             16444 non-null  object \n",
      " 1   platform         16444 non-null  object \n",
      " 2   year_of_release  16444 non-null  int64  \n",
      " 3   genre            16444 non-null  object \n",
      " 4   na_sales         16444 non-null  float64\n",
      " 5   eu_sales         16444 non-null  float64\n",
      " 6   jp_sales         16444 non-null  float64\n",
      " 7   other_sales      16444 non-null  float64\n",
      " 8   critic_score     7983 non-null   float64\n",
      " 9   user_score       9839 non-null   object \n",
      " 10  rating           16444 non-null  object \n",
      " 11  total_sales      16444 non-null  float64\n",
      " 12  sales_per_year   16444 non-null  float64\n",
      "dtypes: float64(7), int64(1), object(5)\n",
      "memory usage: 1.8+ MB\n"
     ]
    }
   ],
   "source": [
    "df.info()"
   ]
  },
  {
   "cell_type": "markdown",
   "metadata": {},
   "source": [
    "## Analizar datos"
   ]
  },
  {
   "cell_type": "markdown",
   "metadata": {},
   "source": [
    "### Ventas por año de lanzamiento"
   ]
  },
  {
   "cell_type": "markdown",
   "metadata": {},
   "source": [
    "**Se observan los juegos agrupados por año de lanzamiento para ver si este factor es significativo.**"
   ]
  },
  {
   "cell_type": "code",
   "execution_count": 38,
   "metadata": {},
   "outputs": [
    {
     "data": {
      "text/plain": [
       "year_of_release\n",
       "1980       9\n",
       "1981      46\n",
       "1982      36\n",
       "1983      17\n",
       "1984      14\n",
       "1985      14\n",
       "1986      21\n",
       "1987      16\n",
       "1988      15\n",
       "1989      17\n",
       "1990      16\n",
       "1991      41\n",
       "1992      43\n",
       "1993      60\n",
       "1994     121\n",
       "1995     219\n",
       "1996     263\n",
       "1997     289\n",
       "1998     379\n",
       "1999     338\n",
       "2000     350\n",
       "2001     482\n",
       "2002     829\n",
       "2003     775\n",
       "2004     762\n",
       "2005     939\n",
       "2006    1006\n",
       "2007    1197\n",
       "2008    1427\n",
       "2009    1426\n",
       "2010    1255\n",
       "2011    1136\n",
       "2012     653\n",
       "2013     544\n",
       "2014     581\n",
       "2015     606\n",
       "2016     502\n",
       "Name: name, dtype: int64"
      ]
     },
     "execution_count": 38,
     "metadata": {},
     "output_type": "execute_result"
    }
   ],
   "source": [
    "# Juegos lanzados por año\n",
    "df.groupby('year_of_release')['name'].count()"
   ]
  },
  {
   "cell_type": "code",
   "execution_count": 39,
   "metadata": {},
   "outputs": [
    {
     "data": {
      "image/png": "[encoded data removed]",
      "text/plain": [
       "<Figure size 936x360 with 1 Axes>"
      ]
     },
     "metadata": {
      "needs_background": "light"
     },
     "output_type": "display_data"
    }
   ],
   "source": [
    "# Juegos lanzados por año\n",
    "df.groupby('year_of_release')['name'].count().plot(kind='bar',figsize=(13,5))\n",
    "plt.show()"
   ]
  },
  {
   "cell_type": "markdown",
   "metadata": {},
   "source": [
    "**Los años con más juegos lanzados fueron los años entre 2005 y 2011. Incluso, cada uno de ellos duplica la cantidad de juegos lanzados en el 2016.**"
   ]
  },
  {
   "cell_type": "code",
   "execution_count": 40,
   "metadata": {},
   "outputs": [
    {
     "data": {
      "image/png": "[encoded data removed]",
      "text/plain": [
       "<Figure size 1440x360 with 2 Axes>"
      ]
     },
     "metadata": {
      "needs_background": "light"
     },
     "output_type": "display_data"
    }
   ],
   "source": [
    "# Ingresos históricos de juegos por año de lanzamiento\n",
    "plt.subplots(figsize=(20, 5)) \n",
    "df.groupby('year_of_release')['total_sales'].mean().plot(kind='bar', ax= plt.subplot(1,2,1))\n",
    "plt.title('Historical sales grouped per year of release- mean')\n",
    "df.groupby('year_of_release')['total_sales'].median().plot(kind='bar', ax= plt.subplot(1,2,2))\n",
    "plt.title('Historical sales grouped per year of release - median')\n",
    "plt.show()"
   ]
  },
  {
   "cell_type": "code",
   "execution_count": 41,
   "metadata": {},
   "outputs": [
    {
     "data": {
      "image/png": "[encoded data removed]",
      "text/plain": [
       "<Figure size 1440x360 with 2 Axes>"
      ]
     },
     "metadata": {
      "needs_background": "light"
     },
     "output_type": "display_data"
    }
   ],
   "source": [
    "# Ingresos históricos de juegos por año de lanzamiento después de 1993\n",
    "plt.subplots(figsize=(20, 5)) \n",
    "df.query('year_of_release>1993').groupby('year_of_release')['total_sales'].mean().plot(kind='bar', ax= plt.subplot(1,2,1))\n",
    "plt.title('Historical sales grouped per year of release after 1993 - mean')\n",
    "df.query('year_of_release>1993').groupby('year_of_release')['total_sales'].median().plot(kind='bar', ax= plt.subplot(1,2,2))\n",
    "plt.title('Historical sales grouped per year of release after 1993 - median')\n",
    "plt.show()"
   ]
  },
  {
   "cell_type": "code",
   "execution_count": 42,
   "metadata": {},
   "outputs": [
    {
     "data": {
      "text/plain": [
       "year_of_release\n",
       "2005    0.487561\n",
       "2006    0.514622\n",
       "2007    0.505221\n",
       "2008    0.470568\n",
       "2009    0.462006\n",
       "2010    0.470223\n",
       "2011    0.446813\n",
       "Name: total_sales, dtype: float64"
      ]
     },
     "execution_count": 42,
     "metadata": {},
     "output_type": "execute_result"
    }
   ],
   "source": [
    "df.query('2005<= year_of_release <=2011').groupby('year_of_release')['total_sales'].mean()"
   ]
  },
  {
   "cell_type": "markdown",
   "metadata": {},
   "source": [
    "**Antes de 1994, se lanzaron pocos juegos anualmente, no superando los 60. Debido a esta limitada oferta, los ingresos por juego eran más altos. Sin embargo, a partir de 1994, la cantidad de juegos lanzados empezó a aumentar, lo que llevó a una disminución en los ingresos por juego, ya que el gasto de los consumidores se distribuyó entre una mayor variedad de títulos.**\n",
    "\n",
    "**En términos de promedios, los juegos que debutaron después de 1994 generaron ingresos que fluctuaron entre 0.2 y 0.7 MDD. Esto contrasta con los títulos anteriores a ese año, que alcanzaban ingresos medios de hasta 4 MDD. Es notable mencionar que entre 2005 y 2011, período con el mayor número de lanzamientos, los ingresos promedio por año de lanzamiento variaron entre 0.44 y 0.51 MDD. Estas cifras aumentaron en los años posteriores, cuando la cantidad de juegos lanzados disminuyó.**"
   ]
  },
  {
   "cell_type": "code",
   "execution_count": 43,
   "metadata": {},
   "outputs": [
    {
     "data": {
      "image/png": "[encoded data removed]",
      "text/plain": [
       "<Figure size 1440x360 with 2 Axes>"
      ]
     },
     "metadata": {
      "needs_background": "light"
     },
     "output_type": "display_data"
    }
   ],
   "source": [
    "# Ingresos anuales de juegos por año de lanzamiento\n",
    "plt.subplots(figsize=(20, 5)) \n",
    "df.groupby('year_of_release')['sales_per_year'].mean().plot(kind='bar', ax= plt.subplot(1,2,1))\n",
    "plt.title('Historical sales grouped per year of release- mean')\n",
    "df.groupby('year_of_release')['sales_per_year'].median().plot(kind='bar', ax= plt.subplot(1,2,2))\n",
    "plt.title('Historical sales grouped per year of release - median')\n",
    "plt.show()"
   ]
  },
  {
   "cell_type": "code",
   "execution_count": 44,
   "metadata": {},
   "outputs": [
    {
     "data": {
      "text/plain": [
       "year_of_release\n",
       "1989    0.06\n",
       "2016    0.06\n",
       "Name: sales_per_year, dtype: float64"
      ]
     },
     "execution_count": 44,
     "metadata": {},
     "output_type": "execute_result"
    }
   ],
   "source": [
    "# Mediana del año 1989 y 2016\n",
    "df.query('year_of_release ==1989 or  year_of_release == 2016').groupby('year_of_release')['sales_per_year'].median()"
   ]
  },
  {
   "cell_type": "code",
   "execution_count": 45,
   "metadata": {},
   "outputs": [
    {
     "name": "stdout",
     "output_type": "stream",
     "text": [
      "Historical sales per year of release\n"
     ]
    },
    {
     "data": {
      "text/html": [
       "<div>\n",
       "<style scoped>\n",
       "    .dataframe tbody tr th:only-of-type {\n",
       "        vertical-align: middle;\n",
       "    }\n",
       "\n",
       "    .dataframe tbody tr th {\n",
       "        vertical-align: top;\n",
       "    }\n",
       "\n",
       "    .dataframe thead th {\n",
       "        text-align: right;\n",
       "    }\n",
       "</style>\n",
       "<table border=\"1\" class=\"dataframe\">\n",
       "  <thead>\n",
       "    <tr style=\"text-align: right;\">\n",
       "      <th></th>\n",
       "      <th>count</th>\n",
       "      <th>mean</th>\n",
       "      <th>std</th>\n",
       "      <th>min</th>\n",
       "      <th>25%</th>\n",
       "      <th>50%</th>\n",
       "      <th>75%</th>\n",
       "      <th>max</th>\n",
       "    </tr>\n",
       "    <tr>\n",
       "      <th>year_of_release</th>\n",
       "      <th></th>\n",
       "      <th></th>\n",
       "      <th></th>\n",
       "      <th></th>\n",
       "      <th></th>\n",
       "      <th></th>\n",
       "      <th></th>\n",
       "      <th></th>\n",
       "    </tr>\n",
       "  </thead>\n",
       "  <tbody>\n",
       "    <tr>\n",
       "      <th>1989</th>\n",
       "      <td>17.0</td>\n",
       "      <td>4.320588</td>\n",
       "      <td>7.895161</td>\n",
       "      <td>0.06</td>\n",
       "      <td>1.10</td>\n",
       "      <td>1.61</td>\n",
       "      <td>2.12</td>\n",
       "      <td>30.26</td>\n",
       "    </tr>\n",
       "    <tr>\n",
       "      <th>2016</th>\n",
       "      <td>502.0</td>\n",
       "      <td>0.258845</td>\n",
       "      <td>0.698041</td>\n",
       "      <td>0.01</td>\n",
       "      <td>0.02</td>\n",
       "      <td>0.06</td>\n",
       "      <td>0.20</td>\n",
       "      <td>7.60</td>\n",
       "    </tr>\n",
       "  </tbody>\n",
       "</table>\n",
       "</div>"
      ],
      "text/plain": [
       "                 count      mean       std   min   25%   50%   75%    max\n",
       "year_of_release                                                          \n",
       "1989              17.0  4.320588  7.895161  0.06  1.10  1.61  2.12  30.26\n",
       "2016             502.0  0.258845  0.698041  0.01  0.02  0.06  0.20   7.60"
      ]
     },
     "execution_count": 45,
     "metadata": {},
     "output_type": "execute_result"
    }
   ],
   "source": [
    "print('Historical sales per year of release')\n",
    "df.query('year_of_release ==1989 or  year_of_release == 2016').groupby('year_of_release')['total_sales'].describe()"
   ]
  },
  {
   "cell_type": "markdown",
   "metadata": {},
   "source": [
    "**Cuando observamos las medianas de los ingresos anuales para juegos publicados antes de 1994, encontramos similitudes con aquellas de juegos lanzados después de 2011. Sorprendentemente, la mediana de 1989 coincide con la de 2016. Sin embargo, al profundizar en otros datos estadísticos, encontramos que de los 17 juegos estrenados en 1989, el ingreso más alto fue de 30.26 MDD. Por otro lado, en 2016, de un total de 502 juegos, el ingreso más alto alcanzó solo 7.6 MDD. Este contraste subraya cómo una mayor diversidad de juegos en el mercado conduce a una distribución de ingresos y, en consecuencia, a una disminución en los promedios por juego.**"
   ]
  },
  {
   "cell_type": "markdown",
   "metadata": {},
   "source": [
    "### Ventas por plataforma"
   ]
  },
  {
   "cell_type": "markdown",
   "metadata": {},
   "source": [
    "**Se observan como varían las ventas entre plataformas.**"
   ]
  },
  {
   "cell_type": "code",
   "execution_count": 46,
   "metadata": {},
   "outputs": [
    {
     "data": {
      "text/plain": [
       "platform\n",
       "PS2     2127\n",
       "DS      2121\n",
       "PS3     1306\n",
       "Wii     1286\n",
       "X360    1232\n",
       "PSP     1193\n",
       "PS      1190\n",
       "PC       957\n",
       "GBA      811\n",
       "XB       803\n",
       "Name: total_sales, dtype: int64"
      ]
     },
     "execution_count": 46,
     "metadata": {},
     "output_type": "execute_result"
    }
   ],
   "source": [
    "# Número de ventas por plataforma\n",
    "df.groupby('platform')['total_sales'].count().sort_values(ascending=False).head(10)"
   ]
  },
  {
   "cell_type": "code",
   "execution_count": 47,
   "metadata": {},
   "outputs": [
    {
     "data": {
      "text/plain": [
       "platform\n",
       "PS2     1233.56\n",
       "X360     961.24\n",
       "PS3      931.34\n",
       "Wii      891.18\n",
       "DS       802.78\n",
       "PS       727.58\n",
       "PS4      314.14\n",
       "GBA      312.88\n",
       "PSP      289.53\n",
       "3DS      257.81\n",
       "Name: total_sales, dtype: float64"
      ]
     },
     "execution_count": 47,
     "metadata": {},
     "output_type": "execute_result"
    }
   ],
   "source": [
    "# Ingresos de ventas totales por plataforma\n",
    "df.groupby('platform')['total_sales'].sum().sort_values(ascending=False).head(10)"
   ]
  },
  {
   "cell_type": "markdown",
   "metadata": {},
   "source": [
    "**Las 5 plataformas con más juegos vendidos son:**\n",
    "\n",
    "- **PS2**\n",
    "- **DS**\n",
    "- **PS3**\n",
    "- **Wii**\n",
    "- **X360**\n",
    "\n",
    "**Mientras que las 5 plataformas con más ingresos históricos son:**\n",
    "\n",
    "- **PS2**\n",
    "- **X360**\n",
    "- **PS3**\n",
    "- **Wii**\n",
    "- **DS**\n",
    "\n",
    "**Las 5 primeras plataformas con estas características son las mismas pero en orden distinto por lo que se consideran plataformas potencialmente rentables.**"
   ]
  },
  {
   "cell_type": "code",
   "execution_count": 48,
   "metadata": {},
   "outputs": [
    {
     "data": {
      "text/plain": [
       "platform\n",
       "GB      2.622990\n",
       "NES     2.561735\n",
       "GEN     1.050000\n",
       "SNES    0.836987\n",
       "PS4     0.801378\n",
       "X360    0.780227\n",
       "2600    0.745517\n",
       "PS3     0.713124\n",
       "Wii     0.692986\n",
       "N64     0.689905\n",
       "Name: total_sales, dtype: float64"
      ]
     },
     "execution_count": 48,
     "metadata": {},
     "output_type": "execute_result"
    }
   ],
   "source": [
    "# Ganancias aproximadas por juego\n",
    "(df.groupby('platform')['total_sales'].sum()/df.groupby('platform')['total_sales'].count()).sort_values(ascending=False).head(10)"
   ]
  },
  {
   "cell_type": "code",
   "execution_count": 49,
   "metadata": {},
   "outputs": [
    {
     "name": "stdout",
     "output_type": "stream",
     "text": [
      "GB 1988\n",
      "NES 1983\n",
      "GEN 1990\n",
      "SNES 1990\n",
      "PS4 2013\n"
     ]
    }
   ],
   "source": [
    "for plat in ['GB','NES','GEN','SNES','PS4']:\n",
    "    print(plat,df.query('platform == @plat')['year_of_release'].min())"
   ]
  },
  {
   "cell_type": "markdown",
   "metadata": {},
   "source": [
    "**Las plataformas con más ingresos por juego son:**\n",
    "\n",
    "- **GB**\n",
    "- **NES**\n",
    "- **GEN**\n",
    "- **SNES**\n",
    "- **PS4**\n",
    "\n",
    "**Las primeras 4 no se encuentran en los dos primeros grupos y se estrenaron antes del 2000, por lo que únicamente se considera relevante la plataforma PS4.**"
   ]
  },
  {
   "cell_type": "code",
   "execution_count": 50,
   "metadata": {},
   "outputs": [
    {
     "data": {
      "image/png": "[encoded data removed]",
      "text/plain": [
       "<Figure size 1296x360 with 1 Axes>"
      ]
     },
     "metadata": {
      "needs_background": "light"
     },
     "output_type": "display_data"
    }
   ],
   "source": [
    "df.query('total_sales<10').boxplot(column='total_sales',by='platform',figsize=(18, 5))\n",
    "plt.show()"
   ]
  },
  {
   "cell_type": "markdown",
   "metadata": {},
   "source": [
    "**Se examina el promedio y la mediana de ventas anuales por plataforma.**"
   ]
  },
  {
   "cell_type": "code",
   "execution_count": 51,
   "metadata": {},
   "outputs": [
    {
     "data": {
      "image/png": "[encoded data removed]",
      "text/plain": [
       "<Figure size 1440x360 with 2 Axes>"
      ]
     },
     "metadata": {
      "needs_background": "light"
     },
     "output_type": "display_data"
    }
   ],
   "source": [
    "plt.subplots(figsize=(20, 5)) \n",
    "df.groupby('platform')['sales_per_year'].mean().sort_values().plot(kind='bar', ax= plt.subplot(1,2,1))\n",
    "plt.title('Sales per year - mean')\n",
    "df.groupby('platform')['sales_per_year'].median().sort_values().plot(kind='bar', ax= plt.subplot(1,2,2))\n",
    "plt.title('Sales per year - median')\n",
    "plt.show()"
   ]
  },
  {
   "cell_type": "markdown",
   "metadata": {},
   "source": [
    "**Al analizar los promedios de ingresos anuales, destacan las plataformas PS4, XOne, WiiU, 3DS y X360 con las cifras más elevadas.**\n",
    "\n",
    "**Sin embargo, si nos enfocamos en las medianas de estos ingresos, las plataformas XOne, PS4, WiiU, PS3 y GB sobresalen con las medianas más prominentes.**\n",
    "\n",
    "**Las plataformas con altos ingresos históricos, como PS2 y PS3, alguna vez dominaron el mercado. Sin embargo, ahora, otras plataformas están emergiendo y muestran potencial de crecimiento.**"
   ]
  },
  {
   "cell_type": "markdown",
   "metadata": {},
   "source": [
    "### Tiempo de vida de plataformas"
   ]
  },
  {
   "cell_type": "markdown",
   "metadata": {},
   "source": [
    "**Enseguida se hará un análisis de cuánto tardan generalmente las nuevas plataformas en aparecer y las antiguas en desaparecer.**"
   ]
  },
  {
   "cell_type": "code",
   "execution_count": 52,
   "metadata": {},
   "outputs": [
    {
     "data": {
      "text/plain": [
       "array(['2600', '3DO', '3DS', 'DC', 'DS', 'GB', 'GBA', 'GC', 'GEN', 'GG',\n",
       "       'N64', 'NES', 'NG', 'PC', 'PCFX', 'PS', 'PS2', 'PS3', 'PS4', 'PSP',\n",
       "       'PSV', 'SAT', 'SCD', 'SNES', 'TG16', 'WS', 'Wii', 'WiiU', 'X360',\n",
       "       'XB', 'XOne'], dtype=object)"
      ]
     },
     "execution_count": 52,
     "metadata": {},
     "output_type": "execute_result"
    }
   ],
   "source": [
    "# Plataformas\n",
    "df['platform'].sort_values().unique()"
   ]
  },
  {
   "cell_type": "markdown",
   "metadata": {},
   "source": [
    "**Se agrupan las plataformas por familias**\n",
    "\n",
    "- **Atari: 2600**\n",
    "- **Panasonic: 3D0**\n",
    "- **Nintendo: 3DS, GC (game cube), N64, NES, SNES, Wii, WiiU**\n",
    "- **Nintendo game boy: GB, GBA**\n",
    "- **Nintendo: DS**\n",
    "- **Sega: DC (Dreamcast), GEN (genesis), GG (game gear), SAT (saturn), SCD**\n",
    "- **Sony: PS, PS2, PS3, PS4, PSP, PSV**\n",
    "- **Microsoft: X360, XB, XOne**\n",
    "- **NEC: PC, PCFX, TG16**\n",
    "- **SNK: NG (consola Neo Geo)**\n",
    "- **Bandai: WS (WonderSwan)**\n",
    "\n",
    "**Se seleccionan grupos de consolas similares que actualmente tienen altos ingresos por año para este análisis que son:**\n",
    "\n",
    "- **Wii y WiiU**\n",
    "- **X360, XB y XOne**\n",
    "- **PS, PS2, PS3 y PS4**"
   ]
  },
  {
   "cell_type": "code",
   "execution_count": 53,
   "metadata": {},
   "outputs": [
    {
     "name": "stdout",
     "output_type": "stream",
     "text": [
      "year of release of the first game released in the platform Wii : 2006\n",
      "year of release of the first game released in the platform WiiU : 2012\n",
      "year of release of the first game released in the platform XB : 2000\n",
      "year of release of the first game released in the platform X360 : 2005\n",
      "year of release of the first game released in the platform XOne : 2013\n",
      "year of release of the first game released in the platform PS : 1994\n",
      "year of release of the first game released in the platform PS2 : 2000\n",
      "year of release of the first game released in the platform PS3 : 2006\n",
      "year of release of the first game released in the platform PS4 : 2013\n"
     ]
    }
   ],
   "source": [
    "for plat in ['Wii','WiiU','XB','X360','XOne','PS','PS2','PS3','PS4']:\n",
    "    print('year of release of the first game released in the platform',plat,':'\n",
    "          ,df.query('platform == @plat')['year_of_release'].min())"
   ]
  },
  {
   "cell_type": "markdown",
   "metadata": {},
   "source": [
    "**Al analizar las consolas Wii y WiiU de Nintendo, hay 6 años entre ellas.**\n",
    "\n",
    "**Al analizar las consolas XB, X360 y XOne de Microsoft, hay 5 años entre la primera y la segunda y 8 entre la segunda y la última.**\n",
    "\n",
    "**Al analizar las consolas PS, PS2, PS3 y PS4 de Sony, hay 6 años entre la primera y la segunda, 6 entre la segunda y la tercera y 7 entre la tercera y la última.**"
   ]
  },
  {
   "cell_type": "code",
   "execution_count": 54,
   "metadata": {},
   "outputs": [
    {
     "name": "stdout",
     "output_type": "stream",
     "text": [
      "En promedio, el tiempo de vida de las plataformas analizadas es de 6.33 años\n",
      "La mediana del tiempo de vida de las plataformas analizadas es de 6 años\n"
     ]
    }
   ],
   "source": [
    "years = [6,5,8,6,6,7]\n",
    "print('En promedio, el tiempo de vida de las plataformas analizadas es de',round(sum(years)/len(years),2),'años')\n",
    "print('La mediana del tiempo de vida de las plataformas analizadas es de 6 años')"
   ]
  },
  {
   "cell_type": "markdown",
   "metadata": {},
   "source": [
    "**En promedio, el tiempo de vida de las plataformas analizadas es de 6.33 años.**\n",
    "**La mediana del tiempo de vida de las plataformas analizadas es de 6 años.**\n",
    "**Tomando en cuenta el resultado anterior, se establece que en promedio, cada 6 años sale una nueva plataforma de cada familia.**\n",
    "\n",
    "**A continuación, se analizan las ventas de juegos por plataforma y por año para complementar la información anterior.**\n",
    "\n",
    "**Para este análisis, se seleccionan los mimsos grupos de consolas que tienen altos ingresos por año:**\n",
    "\n",
    "- **Wii y WiiU**\n",
    "- **X360, XB y XOne**\n",
    "- **PS, PS2, PS3 y PS4**"
   ]
  },
  {
   "cell_type": "code",
   "execution_count": 55,
   "metadata": {},
   "outputs": [
    {
     "data": {
      "image/png": "[encoded data removed]",
      "text/plain": [
       "<Figure size 864x288 with 2 Axes>"
      ]
     },
     "metadata": {
      "needs_background": "light"
     },
     "output_type": "display_data"
    }
   ],
   "source": [
    "# Ventas por año de consolas Wii y WiiU\n",
    "plt.subplots(figsize=(12, 4)) \n",
    "df.query('platform==\"Wii\"').groupby('year_of_release')['total_sales'].sum().plot(kind='bar'\n",
    "                                                                    ,ax=plt.subplot(1,2, 1)) \n",
    "plt.title('Wii platform - Total sales per year') \n",
    "df.query('platform == \"WiiU\"').groupby('year_of_release')['total_sales'].sum().plot(kind='bar'\n",
    "                                                                   ,ax=plt.subplot(1, 2, 2)) \n",
    "plt.title('WiiU platform - Total sales per year') \n",
    "plt.show() "
   ]
  },
  {
   "cell_type": "markdown",
   "metadata": {},
   "source": [
    "**Los juegos lanzados cuatro años después del debut de la Wii tuvieron los mayores ingresos. Sin embargo, en 2012, hubo un declive significativo, posiblemente debido al lanzamiento de la WiiU. A pesar de los buenos ingresos de la WiiU, no superan a los de la Wii original.**"
   ]
  },
  {
   "cell_type": "code",
   "execution_count": 56,
   "metadata": {},
   "outputs": [
    {
     "data": {
      "image/png": "[encoded data removed]",
      "text/plain": [
       "<Figure size 936x216 with 3 Axes>"
      ]
     },
     "metadata": {
      "needs_background": "light"
     },
     "output_type": "display_data"
    }
   ],
   "source": [
    "# Ventas por año de consolas X360,XB y XOne\n",
    "plt.subplots(figsize=(13, 3)) \n",
    "\n",
    "for i, console in enumerate([\"XB\",\"X360\",\"XOne\"]): \n",
    "    df.query('platform == @console').groupby('year_of_release')['total_sales'].sum().plot(kind='bar',\n",
    "                                                            ax=plt.subplot(1,3, i + 1))\n",
    "    plt.title(console + \" platform - Total sales per year\")\n",
    "plt.show()"
   ]
  },
  {
   "cell_type": "markdown",
   "metadata": {},
   "source": [
    "**La XB evidencia que nuevas plataformas emergen cada 6 años, dado que sus ventas disminuyen significativamente a ese punto. Su pico de ventas fue en 2004. En contraste, la X360 tuvo sus mayores ingresos con juegos de 2010 y 2011, y continuó mostrando ventas robustas casi una década después de su lanzamiento, especialmente en 2014 y 2015.**"
   ]
  },
  {
   "cell_type": "code",
   "execution_count": 57,
   "metadata": {},
   "outputs": [
    {
     "data": {
      "image/png": "[encoded data removed]",
      "text/plain": [
       "<Figure size 1080x216 with 2 Axes>"
      ]
     },
     "metadata": {
      "needs_background": "light"
     },
     "output_type": "display_data"
    }
   ],
   "source": [
    "# Ventas por año de consolas X360 y XOne\n",
    "plt.subplots(figsize=(15, 3)) \n",
    "\n",
    "for i, console in enumerate([\"X360\",\"XOne\"]): \n",
    "    df.query('platform == @console and year_of_release >=2013'\n",
    "        ).groupby('year_of_release')['total_sales'].sum().plot(kind='bar',ax=plt.subplot(1,3, i + 1))\n",
    "    plt.title(console + \" platform - Total sales per year\")\n",
    "    \n",
    "plt.ylim(0, 90) \n",
    "plt.show()"
   ]
  },
  {
   "cell_type": "markdown",
   "metadata": {},
   "source": [
    "**Al comparar los años donde X360 y XOne han estado presentes, la X360 superá los ingresos de la X360 en los juegos lanzados en 2013; en los juegos lanzados los años siguientes la XOne sube sus ingresos pero no se acerca a los ingresos de la X360 en sus mejores años.**"
   ]
  },
  {
   "cell_type": "code",
   "execution_count": 58,
   "metadata": {},
   "outputs": [
    {
     "data": {
      "image/png": "[encoded data removed]",
      "text/plain": [
       "<Figure size 1080x216 with 4 Axes>"
      ]
     },
     "metadata": {
      "needs_background": "light"
     },
     "output_type": "display_data"
    }
   ],
   "source": [
    "# Ventas por año de consolas PS, PS2, PS3 y PS4\n",
    "plt.subplots(figsize=(15, 3)) \n",
    "\n",
    "for i, console in enumerate([\"PS\", \"PS2\", \"PS3\", \"PS4\"]): \n",
    "    df.query('platform == @console').groupby('year_of_release')['total_sales'].sum().plot(kind='bar'\n",
    "                                                                        ,ax=plt.subplot(1,4, i + 1))\n",
    "    plt.title(console + \" platform - Total sales per year\",fontsize = 11)\n",
    "\n",
    "plt.show()"
   ]
  },
  {
   "cell_type": "markdown",
   "metadata": {},
   "source": [
    "**Al observar los ingresos de los juegos de la serie PS, se detecta que la llegada de una nueva plataforma disminuye los ingresos de la anterior. A diferencia de otras series, las plataformas PS mantienen ingresos consistentes y comparables entre sí, mientras que en otras series, las versiones más recientes no igualan a sus predecesoras.**"
   ]
  },
  {
   "cell_type": "code",
   "execution_count": 59,
   "metadata": {},
   "outputs": [
    {
     "name": "stdout",
     "output_type": "stream",
     "text": [
      "Platforms were the first game released was in 2010 or after:\n",
      "3DS - First game released in 2011\n",
      "PS4 - First game released in 2013\n",
      "PSV - First game released in 2011\n",
      "WiiU - First game released in 2012\n",
      "XOne - First game released in 2013\n"
     ]
    }
   ],
   "source": [
    "# Se investigan las plataformas que tienen menos de 6 años o menos de lanzamiento\n",
    "print('Platforms were the first game released was in 2010 or after:')\n",
    "for plat in ['2600', '3DO', '3DS', 'DC', 'DS', 'GB', 'GBA', 'GC', 'GEN', 'GG','N64', 'NES', 'NG', 'PC', 'PCFX','PS'\n",
    "        ,'PS2', 'PS3', 'PS4', 'PSP','PSV', 'SAT', 'SCD', 'SNES', 'TG16', 'WS', 'Wii', 'WiiU', 'X360','XB', 'XOne']:\n",
    "    if df.query('platform == @plat')['year_of_release'].min() >=2010:\n",
    "        print (plat, '- First game released in',df.query('platform == @plat')['year_of_release'].min())"
   ]
  },
  {
   "cell_type": "markdown",
   "metadata": {},
   "source": [
    "**A partir del análisis, se deduce que desde 1994 los ingresos se han estabilizado, descartando años anteriores. Además, el mercado tiende a renovarse cada 6 años con la entrada de nuevas plataformas, haciéndose menos relevante considerar juegos con más de 6 años de antigüedad. Por ello, para el modelo de 2017, solo se consideran juegos lanzados desde 2011 en adelante.**"
   ]
  },
  {
   "cell_type": "code",
   "execution_count": 60,
   "metadata": {},
   "outputs": [],
   "source": [
    "df_recent_data = df.query('year_of_release >= 2011')"
   ]
  },
  {
   "cell_type": "markdown",
   "metadata": {},
   "source": [
    "### Relación entre ventas y reseñas"
   ]
  },
  {
   "cell_type": "markdown",
   "metadata": {},
   "source": [
    "#### Relación entre ventas y reseñas de todas las plataformas"
   ]
  },
  {
   "cell_type": "markdown",
   "metadata": {},
   "source": [
    "**Se analiza cómo las reseñas de usuarios y profesionales afectan las ventas en general.**"
   ]
  },
  {
   "cell_type": "code",
   "execution_count": 61,
   "metadata": {},
   "outputs": [
    {
     "name": "stderr",
     "output_type": "stream",
     "text": [
      "/opt/conda/lib/python3.9/site-packages/pandas/core/indexing.py:1676: SettingWithCopyWarning: \n",
      "A value is trying to be set on a copy of a slice from a DataFrame.\n",
      "Try using .loc[row_indexer,col_indexer] = value instead\n",
      "\n",
      "See the caveats in the documentation: https://pandas.pydata.org/pandas-docs/stable/user_guide/indexing.html#returning-a-view-versus-a-copy\n",
      "  self._setitem_single_column(ilocs[0], value, pi)\n"
     ]
    },
    {
     "data": {
      "image/png": "[encoded data removed]",
      "text/plain": [
       "<Figure size 576x360 with 16 Axes>"
      ]
     },
     "metadata": {
      "needs_background": "light"
     },
     "output_type": "display_data"
    }
   ],
   "source": [
    "# Matriz de dispersión\n",
    "df_no_tbd = df_recent_data.query('user_score!=\"tbd\" ')\n",
    "df_no_tbd.loc[:, 'user_score'] = df_no_tbd['user_score'].astype('float')\n",
    "scat_matrix = pd.plotting.scatter_matrix(df_no_tbd.loc[:,['critic_score','user_score','total_sales','sales_per_year']]\n",
    "            , figsize=(8, 5))"
   ]
  },
  {
   "cell_type": "code",
   "execution_count": 62,
   "metadata": {},
   "outputs": [
    {
     "data": {
      "text/html": [
       "<div>\n",
       "<style scoped>\n",
       "    .dataframe tbody tr th:only-of-type {\n",
       "        vertical-align: middle;\n",
       "    }\n",
       "\n",
       "    .dataframe tbody tr th {\n",
       "        vertical-align: top;\n",
       "    }\n",
       "\n",
       "    .dataframe thead th {\n",
       "        text-align: right;\n",
       "    }\n",
       "</style>\n",
       "<table border=\"1\" class=\"dataframe\">\n",
       "  <thead>\n",
       "    <tr style=\"text-align: right;\">\n",
       "      <th></th>\n",
       "      <th>critic_score</th>\n",
       "      <th>total_sales</th>\n",
       "      <th>sales_per_year</th>\n",
       "    </tr>\n",
       "  </thead>\n",
       "  <tbody>\n",
       "    <tr>\n",
       "      <th>critic_score</th>\n",
       "      <td>1.000000</td>\n",
       "      <td>0.329977</td>\n",
       "      <td>0.313688</td>\n",
       "    </tr>\n",
       "    <tr>\n",
       "      <th>total_sales</th>\n",
       "      <td>0.329977</td>\n",
       "      <td>1.000000</td>\n",
       "      <td>0.835448</td>\n",
       "    </tr>\n",
       "    <tr>\n",
       "      <th>sales_per_year</th>\n",
       "      <td>0.313688</td>\n",
       "      <td>0.835448</td>\n",
       "      <td>1.000000</td>\n",
       "    </tr>\n",
       "  </tbody>\n",
       "</table>\n",
       "</div>"
      ],
      "text/plain": [
       "                critic_score  total_sales  sales_per_year\n",
       "critic_score        1.000000     0.329977        0.313688\n",
       "total_sales         0.329977     1.000000        0.835448\n",
       "sales_per_year      0.313688     0.835448        1.000000"
      ]
     },
     "execution_count": 62,
     "metadata": {},
     "output_type": "execute_result"
    }
   ],
   "source": [
    "# Matriz de correlación sin user_score\n",
    "df_recent_data.loc[:,['critic_score','total_sales','sales_per_year']].corr()"
   ]
  },
  {
   "cell_type": "code",
   "execution_count": 63,
   "metadata": {},
   "outputs": [
    {
     "data": {
      "text/html": [
       "<div>\n",
       "<style scoped>\n",
       "    .dataframe tbody tr th:only-of-type {\n",
       "        vertical-align: middle;\n",
       "    }\n",
       "\n",
       "    .dataframe tbody tr th {\n",
       "        vertical-align: top;\n",
       "    }\n",
       "\n",
       "    .dataframe thead th {\n",
       "        text-align: right;\n",
       "    }\n",
       "</style>\n",
       "<table border=\"1\" class=\"dataframe\">\n",
       "  <thead>\n",
       "    <tr style=\"text-align: right;\">\n",
       "      <th></th>\n",
       "      <th>user_score</th>\n",
       "      <th>total_sales</th>\n",
       "      <th>sales_per_year</th>\n",
       "    </tr>\n",
       "  </thead>\n",
       "  <tbody>\n",
       "    <tr>\n",
       "      <th>user_score</th>\n",
       "      <td>1.000000</td>\n",
       "      <td>0.031636</td>\n",
       "      <td>0.008173</td>\n",
       "    </tr>\n",
       "    <tr>\n",
       "      <th>total_sales</th>\n",
       "      <td>0.031636</td>\n",
       "      <td>1.000000</td>\n",
       "      <td>0.834297</td>\n",
       "    </tr>\n",
       "    <tr>\n",
       "      <th>sales_per_year</th>\n",
       "      <td>0.008173</td>\n",
       "      <td>0.834297</td>\n",
       "      <td>1.000000</td>\n",
       "    </tr>\n",
       "  </tbody>\n",
       "</table>\n",
       "</div>"
      ],
      "text/plain": [
       "                user_score  total_sales  sales_per_year\n",
       "user_score        1.000000     0.031636        0.008173\n",
       "total_sales       0.031636     1.000000        0.834297\n",
       "sales_per_year    0.008173     0.834297        1.000000"
      ]
     },
     "execution_count": 63,
     "metadata": {},
     "output_type": "execute_result"
    }
   ],
   "source": [
    "# Matriz de correlación con user_score\n",
    "df_no_tbd.loc[:,['user_score','total_sales','sales_per_year']].corr()"
   ]
  },
  {
   "cell_type": "markdown",
   "metadata": {},
   "source": [
    "**La información anterior muestra que:**\n",
    "\n",
    "- **La columna critic_score tiene una ligera relación positiva con la columna total_sales.**\n",
    "- **La columna user_score no muestra una relación con las ventas; sin embargo, esta columna tenía un 39.52% de valores ausentes por lo que este resultado no se puede generalizar.**\n",
    "- **Para confirmar o rechazar la correlación entre la columna critic_score y total_sales se hace una prueba de coeficiente de correlación de Pearson y se obtiene el valor p.**\n",
    "\n",
    "**Hipotesis nula: no hay correlación entre las calificaciones de los críticos y las ventas totales de los juegos.**\n",
    "\n",
    "**Hipótesis alterna: si hay correlación entre las calificaciones de los críticos y las ventas totales de los juegos.**\n",
    "\n",
    "**alpha = 5%**"
   ]
  },
  {
   "cell_type": "code",
   "execution_count": 65,
   "metadata": {},
   "outputs": [
    {
     "name": "stdout",
     "output_type": "stream",
     "text": [
      "Correlación Pearson: coeficiente = 0.327, p-value =2.7692755119732006e-45\n",
      "Se rechaza la hipótesis nula\n"
     ]
    }
   ],
   "source": [
    "# Cálculo de correlación y significancia\n",
    "r, p = st.pearsonr(df_no_tbd.query('critic_score.isna() == False')['critic_score'], df_no_tbd.query(\n",
    "                                    'critic_score.isna() == False')['total_sales'])\n",
    "r = round(r,3)\n",
    "print(f\"Correlación Pearson: coeficiente = {r}, p-value ={p}\")\n",
    "\n",
    "alpha=0.05\n",
    "if p < alpha: print(\"Se rechaza la hipótesis nula\") \n",
    "else: print(\"No se rechaza la hipótesis nula\")  "
   ]
  },
  {
   "cell_type": "markdown",
   "metadata": {},
   "source": [
    "**El análisis anterior muestra que no hay evidencias de que las columnas critic_score y total_sales no esten relacionadas.**"
   ]
  },
  {
   "cell_type": "markdown",
   "metadata": {},
   "source": [
    "#### Relación entre ventas y reseñas de la plataforma X360"
   ]
  },
  {
   "cell_type": "code",
   "execution_count": 66,
   "metadata": {},
   "outputs": [
    {
     "name": "stderr",
     "output_type": "stream",
     "text": [
      "/opt/conda/lib/python3.9/site-packages/pandas/core/indexing.py:1676: SettingWithCopyWarning: \n",
      "A value is trying to be set on a copy of a slice from a DataFrame.\n",
      "Try using .loc[row_indexer,col_indexer] = value instead\n",
      "\n",
      "See the caveats in the documentation: https://pandas.pydata.org/pandas-docs/stable/user_guide/indexing.html#returning-a-view-versus-a-copy\n",
      "  self._setitem_single_column(ilocs[0], value, pi)\n"
     ]
    },
    {
     "data": {
      "image/png": "[encoded data removed]",
      "text/plain": [
       "<Figure size 576x360 with 16 Axes>"
      ]
     },
     "metadata": {
      "needs_background": "light"
     },
     "output_type": "display_data"
    }
   ],
   "source": [
    "df_rd_x360 = df_recent_data.query('platform == \"X360\" and user_score!=\"tbd\"')\n",
    "\n",
    "# Matriz de dispersión\n",
    "df_rd_x360.loc[:, 'user_score'] = df_rd_x360['user_score'].astype('float')\n",
    "scat_matrix = pd.plotting.scatter_matrix(df_rd_x360.loc[:,['critic_score','user_score','total_sales','sales_per_year']]\n",
    "            , figsize=(8, 5))"
   ]
  },
  {
   "cell_type": "code",
   "execution_count": 67,
   "metadata": {},
   "outputs": [
    {
     "data": {
      "text/html": [
       "<div>\n",
       "<style scoped>\n",
       "    .dataframe tbody tr th:only-of-type {\n",
       "        vertical-align: middle;\n",
       "    }\n",
       "\n",
       "    .dataframe tbody tr th {\n",
       "        vertical-align: top;\n",
       "    }\n",
       "\n",
       "    .dataframe thead th {\n",
       "        text-align: right;\n",
       "    }\n",
       "</style>\n",
       "<table border=\"1\" class=\"dataframe\">\n",
       "  <thead>\n",
       "    <tr style=\"text-align: right;\">\n",
       "      <th></th>\n",
       "      <th>critic_score</th>\n",
       "      <th>user_score</th>\n",
       "      <th>total_sales</th>\n",
       "      <th>sales_per_year</th>\n",
       "    </tr>\n",
       "  </thead>\n",
       "  <tbody>\n",
       "    <tr>\n",
       "      <th>critic_score</th>\n",
       "      <td>1.000000</td>\n",
       "      <td>0.568386</td>\n",
       "      <td>0.390005</td>\n",
       "      <td>0.373616</td>\n",
       "    </tr>\n",
       "    <tr>\n",
       "      <th>user_score</th>\n",
       "      <td>0.568386</td>\n",
       "      <td>1.000000</td>\n",
       "      <td>0.038918</td>\n",
       "      <td>-0.015324</td>\n",
       "    </tr>\n",
       "    <tr>\n",
       "      <th>total_sales</th>\n",
       "      <td>0.390005</td>\n",
       "      <td>0.038918</td>\n",
       "      <td>1.000000</td>\n",
       "      <td>0.968355</td>\n",
       "    </tr>\n",
       "    <tr>\n",
       "      <th>sales_per_year</th>\n",
       "      <td>0.373616</td>\n",
       "      <td>-0.015324</td>\n",
       "      <td>0.968355</td>\n",
       "      <td>1.000000</td>\n",
       "    </tr>\n",
       "  </tbody>\n",
       "</table>\n",
       "</div>"
      ],
      "text/plain": [
       "                critic_score  user_score  total_sales  sales_per_year\n",
       "critic_score        1.000000    0.568386     0.390005        0.373616\n",
       "user_score          0.568386    1.000000     0.038918       -0.015324\n",
       "total_sales         0.390005    0.038918     1.000000        0.968355\n",
       "sales_per_year      0.373616   -0.015324     0.968355        1.000000"
      ]
     },
     "execution_count": 67,
     "metadata": {},
     "output_type": "execute_result"
    }
   ],
   "source": [
    "# Matriz de correlación de plataforma X360\n",
    "df_rd_x360.loc[:,['critic_score','user_score','total_sales','sales_per_year']].corr()"
   ]
  },
  {
   "cell_type": "markdown",
   "metadata": {},
   "source": [
    "**Para confirmar o rechazar la correlación entre la columna critic_score y total_sales, de la plataforma X360, se hace una prueba de coeficiente de correlación de Pearson y se obtiene el valor p.**\n",
    "\n",
    "**Hipotesis nula: no hay correlación entre las calificaciones de los críticos y las ventas totales de los juegos.**\n",
    "\n",
    "**Hipótesis alterna: si hay correlación entre las calificaciones de los críticos y las ventas totales de los juegos.**\n",
    "\n",
    "**alpha = 5%**"
   ]
  },
  {
   "cell_type": "code",
   "execution_count": 68,
   "metadata": {},
   "outputs": [
    {
     "name": "stdout",
     "output_type": "stream",
     "text": [
      "Correlación Pearson: coeficiente = 0.39, p-value =4.054585646673898e-12\n",
      "Se rechaza la hipótesis nula\n"
     ]
    }
   ],
   "source": [
    "# Cálculo de correlación y significancia\n",
    "r, p = st.pearsonr(df_rd_x360.query('critic_score.isna() == False')['critic_score'], df_rd_x360.query(\n",
    "                                    'critic_score.isna() == False')['total_sales'])\n",
    "r = round(r,3)\n",
    "print(f\"Correlación Pearson: coeficiente = {r}, p-value ={p}\")\n",
    "\n",
    "alpha=0.05\n",
    "if p < alpha: print(\"Se rechaza la hipótesis nula\") \n",
    "else: print(\"No se rechaza la hipótesis nula\") "
   ]
  },
  {
   "cell_type": "markdown",
   "metadata": {},
   "source": [
    "**El análisis anterior muestra que no hay evidencias de que las columnas critic_score y total_sales no esten relacionadas en cuanto a los ingresos de la plataforma X360.**"
   ]
  },
  {
   "cell_type": "markdown",
   "metadata": {},
   "source": [
    "#### Relación entre ventas y reseñas de la plataforma PS4"
   ]
  },
  {
   "cell_type": "markdown",
   "metadata": {},
   "source": [
    "**Se analiza cómo las reseñas de usuarios y profesionales afectan las ventas de la plataforma PS4.**"
   ]
  },
  {
   "cell_type": "code",
   "execution_count": 69,
   "metadata": {},
   "outputs": [
    {
     "name": "stderr",
     "output_type": "stream",
     "text": [
      "/opt/conda/lib/python3.9/site-packages/pandas/core/indexing.py:1676: SettingWithCopyWarning: \n",
      "A value is trying to be set on a copy of a slice from a DataFrame.\n",
      "Try using .loc[row_indexer,col_indexer] = value instead\n",
      "\n",
      "See the caveats in the documentation: https://pandas.pydata.org/pandas-docs/stable/user_guide/indexing.html#returning-a-view-versus-a-copy\n",
      "  self._setitem_single_column(ilocs[0], value, pi)\n"
     ]
    },
    {
     "data": {
      "image/png": "[encoded data removed]",
      "text/plain": [
       "<Figure size 576x360 with 16 Axes>"
      ]
     },
     "metadata": {
      "needs_background": "light"
     },
     "output_type": "display_data"
    }
   ],
   "source": [
    "df_rd_ps4 = df_recent_data.query('platform == \"PS4\" and user_score!=\"tbd\"')\n",
    "\n",
    "# Matriz de dispersión\n",
    "df_rd_ps4.loc[:, 'user_score'] = df_rd_ps4['user_score'] .astype('float')\n",
    "scat_matrix = pd.plotting.scatter_matrix(df_rd_ps4.loc[:,['critic_score','user_score','total_sales','sales_per_year']]\n",
    "            , figsize=(8, 5))"
   ]
  },
  {
   "cell_type": "code",
   "execution_count": 70,
   "metadata": {},
   "outputs": [
    {
     "data": {
      "text/html": [
       "<div>\n",
       "<style scoped>\n",
       "    .dataframe tbody tr th:only-of-type {\n",
       "        vertical-align: middle;\n",
       "    }\n",
       "\n",
       "    .dataframe tbody tr th {\n",
       "        vertical-align: top;\n",
       "    }\n",
       "\n",
       "    .dataframe thead th {\n",
       "        text-align: right;\n",
       "    }\n",
       "</style>\n",
       "<table border=\"1\" class=\"dataframe\">\n",
       "  <thead>\n",
       "    <tr style=\"text-align: right;\">\n",
       "      <th></th>\n",
       "      <th>critic_score</th>\n",
       "      <th>user_score</th>\n",
       "      <th>total_sales</th>\n",
       "      <th>sales_per_year</th>\n",
       "    </tr>\n",
       "  </thead>\n",
       "  <tbody>\n",
       "    <tr>\n",
       "      <th>critic_score</th>\n",
       "      <td>1.000000</td>\n",
       "      <td>0.557654</td>\n",
       "      <td>0.406469</td>\n",
       "      <td>0.387845</td>\n",
       "    </tr>\n",
       "    <tr>\n",
       "      <th>user_score</th>\n",
       "      <td>0.557654</td>\n",
       "      <td>1.000000</td>\n",
       "      <td>-0.031957</td>\n",
       "      <td>-0.039419</td>\n",
       "    </tr>\n",
       "    <tr>\n",
       "      <th>total_sales</th>\n",
       "      <td>0.406469</td>\n",
       "      <td>-0.031957</td>\n",
       "      <td>1.000000</td>\n",
       "      <td>0.893522</td>\n",
       "    </tr>\n",
       "    <tr>\n",
       "      <th>sales_per_year</th>\n",
       "      <td>0.387845</td>\n",
       "      <td>-0.039419</td>\n",
       "      <td>0.893522</td>\n",
       "      <td>1.000000</td>\n",
       "    </tr>\n",
       "  </tbody>\n",
       "</table>\n",
       "</div>"
      ],
      "text/plain": [
       "                critic_score  user_score  total_sales  sales_per_year\n",
       "critic_score        1.000000    0.557654     0.406469        0.387845\n",
       "user_score          0.557654    1.000000    -0.031957       -0.039419\n",
       "total_sales         0.406469   -0.031957     1.000000        0.893522\n",
       "sales_per_year      0.387845   -0.039419     0.893522        1.000000"
      ]
     },
     "execution_count": 70,
     "metadata": {},
     "output_type": "execute_result"
    }
   ],
   "source": [
    "# Matriz de correlación de plataforma PS4\n",
    "df_rd_ps4.loc[:,['critic_score','user_score','total_sales','sales_per_year']].corr()"
   ]
  },
  {
   "cell_type": "markdown",
   "metadata": {},
   "source": [
    "**Para confirmar o rechazar la correlación entre la columna critic_score y total_sales, de la plataforma PS4, se hace una prueba de coeficiente de correlación de Pearson y se obtiene el valor p.**\n",
    "\n",
    "**Hipotesis nula: no hay correlación entre las calificaciones de los críticos y las ventas totales de los juegos.**\n",
    "\n",
    "**Hipótesis alterna: si hay correlación entre las calificaciones de los críticos y las ventas totales de los juegos.**\n",
    "\n",
    "**alpha = 5%**"
   ]
  },
  {
   "cell_type": "code",
   "execution_count": 71,
   "metadata": {},
   "outputs": [
    {
     "name": "stdout",
     "output_type": "stream",
     "text": [
      "Correlación Pearson: coeficiente = 0.406, p-value =2.3015406728057746e-11\n",
      "Se rechaza la hipótesis nula\n"
     ]
    }
   ],
   "source": [
    "# Cálculo de correlación y significancia\n",
    "r, p = st.pearsonr(df_rd_ps4.query('critic_score.isna() == False')['critic_score'], df_rd_ps4.query(\n",
    "                                    'critic_score.isna() == False')['total_sales'])\n",
    "r = round(r,3)\n",
    "print(f\"Correlación Pearson: coeficiente = {r}, p-value ={p}\")\n",
    "\n",
    "alpha=0.05\n",
    "if p < alpha: print(\"Se rechaza la hipótesis nula\") \n",
    "else: print(\"No se rechaza la hipótesis nula\")  "
   ]
  },
  {
   "cell_type": "markdown",
   "metadata": {},
   "source": [
    "**El análisis anterior muestra que no hay evidencias de que las columnas critic_score y total_sales no esten relacionadas en cuanto a los ingresos de la plataforma PS4.**\n",
    "\n",
    "**Tomando en cuenta los datos de todas las plataformas y especificamente los de X360 y PS4, se obtuvo que en todos los casos las calificaciones de los usuarios no afectan los ingresos totales pero las de los profesionales si.**"
   ]
  },
  {
   "cell_type": "markdown",
   "metadata": {},
   "source": [
    "#### Ventas del mismo juego en distintas plataformas"
   ]
  },
  {
   "cell_type": "markdown",
   "metadata": {},
   "source": [
    "**Se analizan las ventas del mismo juego en distintas plataformas.**"
   ]
  },
  {
   "cell_type": "code",
   "execution_count": 72,
   "metadata": {},
   "outputs": [
    {
     "data": {
      "text/html": [
       "<div>\n",
       "<style scoped>\n",
       "    .dataframe tbody tr th:only-of-type {\n",
       "        vertical-align: middle;\n",
       "    }\n",
       "\n",
       "    .dataframe tbody tr th {\n",
       "        vertical-align: top;\n",
       "    }\n",
       "\n",
       "    .dataframe thead th {\n",
       "        text-align: right;\n",
       "    }\n",
       "</style>\n",
       "<table border=\"1\" class=\"dataframe\">\n",
       "  <thead>\n",
       "    <tr style=\"text-align: right;\">\n",
       "      <th></th>\n",
       "      <th>name</th>\n",
       "      <th>platform</th>\n",
       "      <th>year_of_release</th>\n",
       "      <th>genre</th>\n",
       "      <th>na_sales</th>\n",
       "      <th>eu_sales</th>\n",
       "      <th>jp_sales</th>\n",
       "      <th>other_sales</th>\n",
       "      <th>critic_score</th>\n",
       "      <th>user_score</th>\n",
       "      <th>rating</th>\n",
       "      <th>total_sales</th>\n",
       "      <th>sales_per_year</th>\n",
       "    </tr>\n",
       "  </thead>\n",
       "  <tbody>\n",
       "    <tr>\n",
       "      <th>23</th>\n",
       "      <td>Grand Theft Auto V</td>\n",
       "      <td>X360</td>\n",
       "      <td>2013</td>\n",
       "      <td>Action</td>\n",
       "      <td>9.66</td>\n",
       "      <td>5.14</td>\n",
       "      <td>0.06</td>\n",
       "      <td>1.41</td>\n",
       "      <td>97.0</td>\n",
       "      <td>8.1</td>\n",
       "      <td>M</td>\n",
       "      <td>16.27</td>\n",
       "      <td>4.07</td>\n",
       "    </tr>\n",
       "    <tr>\n",
       "      <th>29</th>\n",
       "      <td>Call of Duty: Modern Warfare 3</td>\n",
       "      <td>X360</td>\n",
       "      <td>2011</td>\n",
       "      <td>Shooter</td>\n",
       "      <td>9.04</td>\n",
       "      <td>4.24</td>\n",
       "      <td>0.13</td>\n",
       "      <td>1.32</td>\n",
       "      <td>88.0</td>\n",
       "      <td>3.4</td>\n",
       "      <td>M</td>\n",
       "      <td>14.73</td>\n",
       "      <td>2.46</td>\n",
       "    </tr>\n",
       "    <tr>\n",
       "      <th>35</th>\n",
       "      <td>Call of Duty: Black Ops II</td>\n",
       "      <td>X360</td>\n",
       "      <td>2012</td>\n",
       "      <td>Shooter</td>\n",
       "      <td>8.25</td>\n",
       "      <td>4.24</td>\n",
       "      <td>0.07</td>\n",
       "      <td>1.12</td>\n",
       "      <td>83.0</td>\n",
       "      <td>4.8</td>\n",
       "      <td>M</td>\n",
       "      <td>13.68</td>\n",
       "      <td>2.74</td>\n",
       "    </tr>\n",
       "    <tr>\n",
       "      <th>60</th>\n",
       "      <td>Call of Duty: Ghosts</td>\n",
       "      <td>X360</td>\n",
       "      <td>2013</td>\n",
       "      <td>Shooter</td>\n",
       "      <td>6.73</td>\n",
       "      <td>2.56</td>\n",
       "      <td>0.04</td>\n",
       "      <td>0.91</td>\n",
       "      <td>73.0</td>\n",
       "      <td>2.6</td>\n",
       "      <td>M</td>\n",
       "      <td>10.24</td>\n",
       "      <td>2.56</td>\n",
       "    </tr>\n",
       "    <tr>\n",
       "      <th>66</th>\n",
       "      <td>Halo 4</td>\n",
       "      <td>X360</td>\n",
       "      <td>2012</td>\n",
       "      <td>Shooter</td>\n",
       "      <td>6.65</td>\n",
       "      <td>2.28</td>\n",
       "      <td>0.04</td>\n",
       "      <td>0.74</td>\n",
       "      <td>87.0</td>\n",
       "      <td>7.0</td>\n",
       "      <td>M</td>\n",
       "      <td>9.71</td>\n",
       "      <td>1.94</td>\n",
       "    </tr>\n",
       "  </tbody>\n",
       "</table>\n",
       "</div>"
      ],
      "text/plain": [
       "                              name platform  year_of_release    genre  \\\n",
       "23              Grand Theft Auto V     X360             2013   Action   \n",
       "29  Call of Duty: Modern Warfare 3     X360             2011  Shooter   \n",
       "35      Call of Duty: Black Ops II     X360             2012  Shooter   \n",
       "60            Call of Duty: Ghosts     X360             2013  Shooter   \n",
       "66                          Halo 4     X360             2012  Shooter   \n",
       "\n",
       "    na_sales  eu_sales  jp_sales  other_sales  critic_score  user_score  \\\n",
       "23      9.66      5.14      0.06         1.41          97.0         8.1   \n",
       "29      9.04      4.24      0.13         1.32          88.0         3.4   \n",
       "35      8.25      4.24      0.07         1.12          83.0         4.8   \n",
       "60      6.73      2.56      0.04         0.91          73.0         2.6   \n",
       "66      6.65      2.28      0.04         0.74          87.0         7.0   \n",
       "\n",
       "   rating  total_sales  sales_per_year  \n",
       "23      M        16.27            4.07  \n",
       "29      M        14.73            2.46  \n",
       "35      M        13.68            2.74  \n",
       "60      M        10.24            2.56  \n",
       "66      M         9.71            1.94  "
      ]
     },
     "execution_count": 72,
     "metadata": {},
     "output_type": "execute_result"
    }
   ],
   "source": [
    "# Vista previa de los juegos de la plataforma X360\n",
    "df_rd_x360.head()"
   ]
  },
  {
   "cell_type": "code",
   "execution_count": 73,
   "metadata": {},
   "outputs": [
    {
     "data": {
      "text/html": [
       "<div>\n",
       "<style scoped>\n",
       "    .dataframe tbody tr th:only-of-type {\n",
       "        vertical-align: middle;\n",
       "    }\n",
       "\n",
       "    .dataframe tbody tr th {\n",
       "        vertical-align: top;\n",
       "    }\n",
       "\n",
       "    .dataframe thead th {\n",
       "        text-align: right;\n",
       "    }\n",
       "</style>\n",
       "<table border=\"1\" class=\"dataframe\">\n",
       "  <thead>\n",
       "    <tr style=\"text-align: right;\">\n",
       "      <th></th>\n",
       "      <th>name</th>\n",
       "      <th>platform</th>\n",
       "      <th>year_of_release</th>\n",
       "      <th>genre</th>\n",
       "      <th>na_sales</th>\n",
       "      <th>eu_sales</th>\n",
       "      <th>jp_sales</th>\n",
       "      <th>other_sales</th>\n",
       "      <th>critic_score</th>\n",
       "      <th>user_score</th>\n",
       "      <th>rating</th>\n",
       "      <th>total_sales</th>\n",
       "      <th>sales_per_year</th>\n",
       "    </tr>\n",
       "  </thead>\n",
       "  <tbody>\n",
       "    <tr>\n",
       "      <th>31</th>\n",
       "      <td>Call of Duty: Black Ops 3</td>\n",
       "      <td>PS4</td>\n",
       "      <td>2015</td>\n",
       "      <td>Shooter</td>\n",
       "      <td>6.03</td>\n",
       "      <td>5.86</td>\n",
       "      <td>0.36</td>\n",
       "      <td>2.38</td>\n",
       "      <td>NaN</td>\n",
       "      <td>NaN</td>\n",
       "      <td>RP</td>\n",
       "      <td>14.63</td>\n",
       "      <td>7.32</td>\n",
       "    </tr>\n",
       "    <tr>\n",
       "      <th>42</th>\n",
       "      <td>Grand Theft Auto V</td>\n",
       "      <td>PS4</td>\n",
       "      <td>2014</td>\n",
       "      <td>Action</td>\n",
       "      <td>3.96</td>\n",
       "      <td>6.31</td>\n",
       "      <td>0.38</td>\n",
       "      <td>1.97</td>\n",
       "      <td>97.0</td>\n",
       "      <td>8.3</td>\n",
       "      <td>M</td>\n",
       "      <td>12.62</td>\n",
       "      <td>4.21</td>\n",
       "    </tr>\n",
       "    <tr>\n",
       "      <th>77</th>\n",
       "      <td>FIFA 16</td>\n",
       "      <td>PS4</td>\n",
       "      <td>2015</td>\n",
       "      <td>Sports</td>\n",
       "      <td>1.12</td>\n",
       "      <td>6.12</td>\n",
       "      <td>0.06</td>\n",
       "      <td>1.28</td>\n",
       "      <td>82.0</td>\n",
       "      <td>4.3</td>\n",
       "      <td>E</td>\n",
       "      <td>8.58</td>\n",
       "      <td>4.29</td>\n",
       "    </tr>\n",
       "    <tr>\n",
       "      <th>87</th>\n",
       "      <td>Star Wars Battlefront (2015)</td>\n",
       "      <td>PS4</td>\n",
       "      <td>2015</td>\n",
       "      <td>Shooter</td>\n",
       "      <td>2.99</td>\n",
       "      <td>3.49</td>\n",
       "      <td>0.22</td>\n",
       "      <td>1.28</td>\n",
       "      <td>NaN</td>\n",
       "      <td>NaN</td>\n",
       "      <td>RP</td>\n",
       "      <td>7.98</td>\n",
       "      <td>3.99</td>\n",
       "    </tr>\n",
       "    <tr>\n",
       "      <th>92</th>\n",
       "      <td>Call of Duty: Advanced Warfare</td>\n",
       "      <td>PS4</td>\n",
       "      <td>2014</td>\n",
       "      <td>Shooter</td>\n",
       "      <td>2.81</td>\n",
       "      <td>3.48</td>\n",
       "      <td>0.14</td>\n",
       "      <td>1.23</td>\n",
       "      <td>83.0</td>\n",
       "      <td>5.7</td>\n",
       "      <td>M</td>\n",
       "      <td>7.66</td>\n",
       "      <td>2.55</td>\n",
       "    </tr>\n",
       "  </tbody>\n",
       "</table>\n",
       "</div>"
      ],
      "text/plain": [
       "                              name platform  year_of_release    genre  \\\n",
       "31       Call of Duty: Black Ops 3      PS4             2015  Shooter   \n",
       "42              Grand Theft Auto V      PS4             2014   Action   \n",
       "77                         FIFA 16      PS4             2015   Sports   \n",
       "87    Star Wars Battlefront (2015)      PS4             2015  Shooter   \n",
       "92  Call of Duty: Advanced Warfare      PS4             2014  Shooter   \n",
       "\n",
       "    na_sales  eu_sales  jp_sales  other_sales  critic_score  user_score  \\\n",
       "31      6.03      5.86      0.36         2.38           NaN         NaN   \n",
       "42      3.96      6.31      0.38         1.97          97.0         8.3   \n",
       "77      1.12      6.12      0.06         1.28          82.0         4.3   \n",
       "87      2.99      3.49      0.22         1.28           NaN         NaN   \n",
       "92      2.81      3.48      0.14         1.23          83.0         5.7   \n",
       "\n",
       "   rating  total_sales  sales_per_year  \n",
       "31     RP        14.63            7.32  \n",
       "42      M        12.62            4.21  \n",
       "77      E         8.58            4.29  \n",
       "87     RP         7.98            3.99  \n",
       "92      M         7.66            2.55  "
      ]
     },
     "execution_count": 73,
     "metadata": {},
     "output_type": "execute_result"
    }
   ],
   "source": [
    "# Vista previa de los juegos de la plataforma ps4\n",
    "df_rd_ps4.head()"
   ]
  },
  {
   "cell_type": "code",
   "execution_count": 74,
   "metadata": {},
   "outputs": [
    {
     "data": {
      "text/plain": [
       "Call of Duty: Black Ops II        1\n",
       "Call of Duty: Black Ops 3         1\n",
       "Call of Duty: Ghosts              1\n",
       "Call of Duty: Advanced Warfare    1\n",
       "Call of Duty: Modern Warfare 3    1\n",
       "Name: name, dtype: int64"
      ]
     },
     "execution_count": 74,
     "metadata": {},
     "output_type": "execute_result"
    }
   ],
   "source": [
    "# Buscar juegos similares entre las plataformas\n",
    "df_rd_x360[df_rd_x360.name.str.contains('Call of Duty')]['name'].value_counts()"
   ]
  },
  {
   "cell_type": "code",
   "execution_count": 75,
   "metadata": {},
   "outputs": [
    {
     "data": {
      "text/plain": [
       "Call of Duty: Infinite Warfare    1\n",
       "Call of Duty: Advanced Warfare    1\n",
       "Call of Duty: Black Ops 3         1\n",
       "Call of Duty: Ghosts              1\n",
       "Name: name, dtype: int64"
      ]
     },
     "execution_count": 75,
     "metadata": {},
     "output_type": "execute_result"
    }
   ],
   "source": [
    "df_rd_ps4[df_rd_ps4.name.str.contains('Call of Duty')]['name'].value_counts()"
   ]
  },
  {
   "cell_type": "markdown",
   "metadata": {},
   "source": [
    "**Se detectaron dos juegos iguales que se usan en ambas plataformas:**\n",
    "\n",
    "- **Call of Duty: Advanced Warfare**\n",
    "- **Call of Duty: Ghosts**"
   ]
  },
  {
   "cell_type": "code",
   "execution_count": 76,
   "metadata": {},
   "outputs": [
    {
     "data": {
      "text/html": [
       "<div>\n",
       "<style scoped>\n",
       "    .dataframe tbody tr th:only-of-type {\n",
       "        vertical-align: middle;\n",
       "    }\n",
       "\n",
       "    .dataframe tbody tr th {\n",
       "        vertical-align: top;\n",
       "    }\n",
       "\n",
       "    .dataframe thead th {\n",
       "        text-align: right;\n",
       "    }\n",
       "</style>\n",
       "<table border=\"1\" class=\"dataframe\">\n",
       "  <thead>\n",
       "    <tr style=\"text-align: right;\">\n",
       "      <th></th>\n",
       "      <th>name</th>\n",
       "      <th>platform</th>\n",
       "      <th>year_of_release</th>\n",
       "      <th>genre</th>\n",
       "      <th>na_sales</th>\n",
       "      <th>eu_sales</th>\n",
       "      <th>jp_sales</th>\n",
       "      <th>other_sales</th>\n",
       "      <th>critic_score</th>\n",
       "      <th>user_score</th>\n",
       "      <th>rating</th>\n",
       "      <th>total_sales</th>\n",
       "      <th>sales_per_year</th>\n",
       "    </tr>\n",
       "  </thead>\n",
       "  <tbody>\n",
       "    <tr>\n",
       "      <th>92</th>\n",
       "      <td>Call of Duty: Advanced Warfare</td>\n",
       "      <td>PS4</td>\n",
       "      <td>2014</td>\n",
       "      <td>Shooter</td>\n",
       "      <td>2.81</td>\n",
       "      <td>3.48</td>\n",
       "      <td>0.14</td>\n",
       "      <td>1.23</td>\n",
       "      <td>83.0</td>\n",
       "      <td>5.7</td>\n",
       "      <td>M</td>\n",
       "      <td>7.66</td>\n",
       "      <td>2.55</td>\n",
       "    </tr>\n",
       "    <tr>\n",
       "      <th>179</th>\n",
       "      <td>Call of Duty: Advanced Warfare</td>\n",
       "      <td>XOne</td>\n",
       "      <td>2014</td>\n",
       "      <td>Shooter</td>\n",
       "      <td>3.22</td>\n",
       "      <td>1.55</td>\n",
       "      <td>0.01</td>\n",
       "      <td>0.48</td>\n",
       "      <td>81.0</td>\n",
       "      <td>5.4</td>\n",
       "      <td>M</td>\n",
       "      <td>5.26</td>\n",
       "      <td>1.75</td>\n",
       "    </tr>\n",
       "    <tr>\n",
       "      <th>255</th>\n",
       "      <td>Call of Duty: Advanced Warfare</td>\n",
       "      <td>PS3</td>\n",
       "      <td>2014</td>\n",
       "      <td>Shooter</td>\n",
       "      <td>1.56</td>\n",
       "      <td>1.93</td>\n",
       "      <td>0.19</td>\n",
       "      <td>0.68</td>\n",
       "      <td>NaN</td>\n",
       "      <td>4.8</td>\n",
       "      <td>M</td>\n",
       "      <td>4.36</td>\n",
       "      <td>1.45</td>\n",
       "    </tr>\n",
       "    <tr>\n",
       "      <th>263</th>\n",
       "      <td>Call of Duty: Advanced Warfare</td>\n",
       "      <td>X360</td>\n",
       "      <td>2014</td>\n",
       "      <td>Shooter</td>\n",
       "      <td>2.77</td>\n",
       "      <td>1.11</td>\n",
       "      <td>0.00</td>\n",
       "      <td>0.40</td>\n",
       "      <td>NaN</td>\n",
       "      <td>4.9</td>\n",
       "      <td>M</td>\n",
       "      <td>4.28</td>\n",
       "      <td>1.43</td>\n",
       "    </tr>\n",
       "    <tr>\n",
       "      <th>4736</th>\n",
       "      <td>Call of Duty: Advanced Warfare</td>\n",
       "      <td>PC</td>\n",
       "      <td>2014</td>\n",
       "      <td>Shooter</td>\n",
       "      <td>0.15</td>\n",
       "      <td>0.23</td>\n",
       "      <td>0.00</td>\n",
       "      <td>0.03</td>\n",
       "      <td>78.0</td>\n",
       "      <td>4.5</td>\n",
       "      <td>M</td>\n",
       "      <td>0.41</td>\n",
       "      <td>0.14</td>\n",
       "    </tr>\n",
       "  </tbody>\n",
       "</table>\n",
       "</div>"
      ],
      "text/plain": [
       "                                name platform  year_of_release    genre  \\\n",
       "92    Call of Duty: Advanced Warfare      PS4             2014  Shooter   \n",
       "179   Call of Duty: Advanced Warfare     XOne             2014  Shooter   \n",
       "255   Call of Duty: Advanced Warfare      PS3             2014  Shooter   \n",
       "263   Call of Duty: Advanced Warfare     X360             2014  Shooter   \n",
       "4736  Call of Duty: Advanced Warfare       PC             2014  Shooter   \n",
       "\n",
       "      na_sales  eu_sales  jp_sales  other_sales  critic_score user_score  \\\n",
       "92        2.81      3.48      0.14         1.23          83.0        5.7   \n",
       "179       3.22      1.55      0.01         0.48          81.0        5.4   \n",
       "255       1.56      1.93      0.19         0.68           NaN        4.8   \n",
       "263       2.77      1.11      0.00         0.40           NaN        4.9   \n",
       "4736      0.15      0.23      0.00         0.03          78.0        4.5   \n",
       "\n",
       "     rating  total_sales  sales_per_year  \n",
       "92        M         7.66            2.55  \n",
       "179       M         5.26            1.75  \n",
       "255       M         4.36            1.45  \n",
       "263       M         4.28            1.43  \n",
       "4736      M         0.41            0.14  "
      ]
     },
     "execution_count": 76,
     "metadata": {},
     "output_type": "execute_result"
    }
   ],
   "source": [
    "# Vista previa de juego \"Call of Duty: Advanced Warfare\"\n",
    "df_recent_data.query('name == \"Call of Duty: Advanced Warfare\"')"
   ]
  },
  {
   "cell_type": "code",
   "execution_count": 77,
   "metadata": {},
   "outputs": [
    {
     "data": {
      "text/html": [
       "<div>\n",
       "<style scoped>\n",
       "    .dataframe tbody tr th:only-of-type {\n",
       "        vertical-align: middle;\n",
       "    }\n",
       "\n",
       "    .dataframe tbody tr th {\n",
       "        vertical-align: top;\n",
       "    }\n",
       "\n",
       "    .dataframe thead th {\n",
       "        text-align: right;\n",
       "    }\n",
       "</style>\n",
       "<table border=\"1\" class=\"dataframe\">\n",
       "  <thead>\n",
       "    <tr style=\"text-align: right;\">\n",
       "      <th></th>\n",
       "      <th>name</th>\n",
       "      <th>platform</th>\n",
       "      <th>year_of_release</th>\n",
       "      <th>genre</th>\n",
       "      <th>na_sales</th>\n",
       "      <th>eu_sales</th>\n",
       "      <th>jp_sales</th>\n",
       "      <th>other_sales</th>\n",
       "      <th>critic_score</th>\n",
       "      <th>user_score</th>\n",
       "      <th>rating</th>\n",
       "      <th>total_sales</th>\n",
       "      <th>sales_per_year</th>\n",
       "    </tr>\n",
       "  </thead>\n",
       "  <tbody>\n",
       "    <tr>\n",
       "      <th>60</th>\n",
       "      <td>Call of Duty: Ghosts</td>\n",
       "      <td>X360</td>\n",
       "      <td>2013</td>\n",
       "      <td>Shooter</td>\n",
       "      <td>6.73</td>\n",
       "      <td>2.56</td>\n",
       "      <td>0.04</td>\n",
       "      <td>0.91</td>\n",
       "      <td>73.0</td>\n",
       "      <td>2.6</td>\n",
       "      <td>M</td>\n",
       "      <td>10.24</td>\n",
       "      <td>2.56</td>\n",
       "    </tr>\n",
       "    <tr>\n",
       "      <th>69</th>\n",
       "      <td>Call of Duty: Ghosts</td>\n",
       "      <td>PS3</td>\n",
       "      <td>2013</td>\n",
       "      <td>Shooter</td>\n",
       "      <td>4.10</td>\n",
       "      <td>3.63</td>\n",
       "      <td>0.38</td>\n",
       "      <td>1.25</td>\n",
       "      <td>71.0</td>\n",
       "      <td>2.6</td>\n",
       "      <td>M</td>\n",
       "      <td>9.36</td>\n",
       "      <td>2.34</td>\n",
       "    </tr>\n",
       "    <tr>\n",
       "      <th>323</th>\n",
       "      <td>Call of Duty: Ghosts</td>\n",
       "      <td>PS4</td>\n",
       "      <td>2013</td>\n",
       "      <td>Shooter</td>\n",
       "      <td>1.78</td>\n",
       "      <td>1.43</td>\n",
       "      <td>0.05</td>\n",
       "      <td>0.57</td>\n",
       "      <td>78.0</td>\n",
       "      <td>3.7</td>\n",
       "      <td>M</td>\n",
       "      <td>3.83</td>\n",
       "      <td>0.96</td>\n",
       "    </tr>\n",
       "    <tr>\n",
       "      <th>493</th>\n",
       "      <td>Call of Duty: Ghosts</td>\n",
       "      <td>XOne</td>\n",
       "      <td>2013</td>\n",
       "      <td>Shooter</td>\n",
       "      <td>1.88</td>\n",
       "      <td>0.77</td>\n",
       "      <td>0.00</td>\n",
       "      <td>0.27</td>\n",
       "      <td>78.0</td>\n",
       "      <td>4.3</td>\n",
       "      <td>M</td>\n",
       "      <td>2.92</td>\n",
       "      <td>0.73</td>\n",
       "    </tr>\n",
       "    <tr>\n",
       "      <th>2916</th>\n",
       "      <td>Call of Duty: Ghosts</td>\n",
       "      <td>PC</td>\n",
       "      <td>2013</td>\n",
       "      <td>Shooter</td>\n",
       "      <td>0.23</td>\n",
       "      <td>0.41</td>\n",
       "      <td>0.00</td>\n",
       "      <td>0.05</td>\n",
       "      <td>NaN</td>\n",
       "      <td>NaN</td>\n",
       "      <td>RP</td>\n",
       "      <td>0.69</td>\n",
       "      <td>0.17</td>\n",
       "    </tr>\n",
       "    <tr>\n",
       "      <th>5348</th>\n",
       "      <td>Call of Duty: Ghosts</td>\n",
       "      <td>WiiU</td>\n",
       "      <td>2013</td>\n",
       "      <td>Shooter</td>\n",
       "      <td>0.22</td>\n",
       "      <td>0.09</td>\n",
       "      <td>0.01</td>\n",
       "      <td>0.03</td>\n",
       "      <td>69.0</td>\n",
       "      <td>3.4</td>\n",
       "      <td>M</td>\n",
       "      <td>0.35</td>\n",
       "      <td>0.09</td>\n",
       "    </tr>\n",
       "  </tbody>\n",
       "</table>\n",
       "</div>"
      ],
      "text/plain": [
       "                      name platform  year_of_release    genre  na_sales  \\\n",
       "60    Call of Duty: Ghosts     X360             2013  Shooter      6.73   \n",
       "69    Call of Duty: Ghosts      PS3             2013  Shooter      4.10   \n",
       "323   Call of Duty: Ghosts      PS4             2013  Shooter      1.78   \n",
       "493   Call of Duty: Ghosts     XOne             2013  Shooter      1.88   \n",
       "2916  Call of Duty: Ghosts       PC             2013  Shooter      0.23   \n",
       "5348  Call of Duty: Ghosts     WiiU             2013  Shooter      0.22   \n",
       "\n",
       "      eu_sales  jp_sales  other_sales  critic_score user_score rating  \\\n",
       "60        2.56      0.04         0.91          73.0        2.6      M   \n",
       "69        3.63      0.38         1.25          71.0        2.6      M   \n",
       "323       1.43      0.05         0.57          78.0        3.7      M   \n",
       "493       0.77      0.00         0.27          78.0        4.3      M   \n",
       "2916      0.41      0.00         0.05           NaN        NaN     RP   \n",
       "5348      0.09      0.01         0.03          69.0        3.4      M   \n",
       "\n",
       "      total_sales  sales_per_year  \n",
       "60          10.24            2.56  \n",
       "69           9.36            2.34  \n",
       "323          3.83            0.96  \n",
       "493          2.92            0.73  \n",
       "2916         0.69            0.17  \n",
       "5348         0.35            0.09  "
      ]
     },
     "execution_count": 77,
     "metadata": {},
     "output_type": "execute_result"
    }
   ],
   "source": [
    "# Vista previa de juego \"Call of Duty: Ghosts\"\n",
    "df_recent_data.query('name == \"Call of Duty: Ghosts\"')"
   ]
  },
  {
   "cell_type": "markdown",
   "metadata": {},
   "source": [
    "**Tomando como referencia el juego Call of Duty: Advanced Warfare, lanzado en el 2014, las calificaciones de los profesionales más altas las tienen las plataformas PS4 y XOne; asimismo, estas son las que tienen los más altos ingresos historicos y anuales.**\n",
    "\n",
    "**Por el contrario, tomando como referencia el juego Call of Duty: Ghosts, lanzado en el 2013, las calificaciones de los profesionales más altas pertenecen a las plataformas PS4 y XOne; sin embargo los ingresos historicos y anuales más altos pertenecen a PS3 y X360.**\n",
    "\n",
    "**Esta diferencia podría deberse a que la plataforma X360 se lanzó en el 2005 y la XOne en el 2013. A pesar de no tener una calificación significativamente alta, ha tendio más tiempo en el mercado por lo que ha tenido más tiempo para acumular ingresos totales. Cosa que podría suceder también con las plataformas PS3 y PS4.**"
   ]
  },
  {
   "cell_type": "markdown",
   "metadata": {},
   "source": [
    "#### Ventas por género"
   ]
  },
  {
   "cell_type": "markdown",
   "metadata": {},
   "source": [
    "**Se examina la distribución general de las ventas de juegos por género.**"
   ]
  },
  {
   "cell_type": "code",
   "execution_count": 78,
   "metadata": {},
   "outputs": [
    {
     "data": {
      "text/plain": [
       "Action          1269\n",
       "Role-Playing     465\n",
       "Adventure        410\n",
       "Sports           389\n",
       "Misc             375\n",
       "Shooter          329\n",
       "Racing           180\n",
       "Fighting         159\n",
       "Simulation       136\n",
       "Platform         122\n",
       "Strategy         117\n",
       "Puzzle            71\n",
       "Name: genre, dtype: int64"
      ]
     },
     "execution_count": 78,
     "metadata": {},
     "output_type": "execute_result"
    }
   ],
   "source": [
    "# Cantidad de juegos por categoría (datos recientes)\n",
    "df_recent_data['genre'].value_counts().sort_values(ascending=False)"
   ]
  },
  {
   "cell_type": "code",
   "execution_count": 79,
   "metadata": {},
   "outputs": [
    {
     "data": {
      "image/png": "[encoded data removed]",
      "text/plain": [
       "<Figure size 720x216 with 1 Axes>"
      ]
     },
     "metadata": {
      "needs_background": "light"
     },
     "output_type": "display_data"
    }
   ],
   "source": [
    "# Cantidad de juegos por categoría (datos recientes)\n",
    "df_recent_data['genre'].value_counts().sort_values(ascending=False).plot(kind='bar',figsize=(10,3),\n",
    "                                                                         title=\"Cantidad de juegos por categoría\")\n",
    "plt.show()"
   ]
  },
  {
   "cell_type": "code",
   "execution_count": 80,
   "metadata": {},
   "outputs": [
    {
     "data": {
      "text/plain": [
       "genre\n",
       "Action          172.31\n",
       "Shooter         139.89\n",
       "Sports           84.71\n",
       "Role-Playing     81.37\n",
       "Misc             36.03\n",
       "Racing           24.05\n",
       "Platform         23.68\n",
       "Fighting         21.06\n",
       "Adventure        14.74\n",
       "Simulation       13.91\n",
       "Strategy          5.97\n",
       "Puzzle            2.22\n",
       "Name: sales_per_year, dtype: float64"
      ]
     },
     "execution_count": 80,
     "metadata": {},
     "output_type": "execute_result"
    }
   ],
   "source": [
    "# Ingresos históricos por categoría por año\n",
    "df_recent_data.groupby('genre')['sales_per_year'].sum().sort_values(ascending=False)"
   ]
  },
  {
   "cell_type": "code",
   "execution_count": 81,
   "metadata": {},
   "outputs": [
    {
     "data": {
      "image/png": "[encoded data removed]",
      "text/plain": [
       "<Figure size 720x216 with 1 Axes>"
      ]
     },
     "metadata": {
      "needs_background": "light"
     },
     "output_type": "display_data"
    }
   ],
   "source": [
    "# Ingresos históricos por categoría por año\n",
    "df_recent_data.groupby('genre')['sales_per_year'].sum().sort_values(ascending=False).plot(kind='bar',figsize=(10,3),\n",
    "                                                             title=\"Suma de ingresos anuales por categoría\")\n",
    "plt.show()"
   ]
  },
  {
   "cell_type": "code",
   "execution_count": 82,
   "metadata": {},
   "outputs": [
    {
     "data": {
      "text/plain": [
       "genre\n",
       "Shooter         0.425198\n",
       "Sports          0.217763\n",
       "Platform        0.194098\n",
       "Role-Playing    0.174989\n",
       "Action          0.135784\n",
       "Racing          0.133611\n",
       "Fighting        0.132453\n",
       "Simulation      0.102279\n",
       "Misc            0.096080\n",
       "Strategy        0.051026\n",
       "Adventure       0.035951\n",
       "Puzzle          0.031268\n",
       "Name: sales_per_year, dtype: float64"
      ]
     },
     "execution_count": 82,
     "metadata": {},
     "output_type": "execute_result"
    }
   ],
   "source": [
    "# Promedio de ingresos por año\n",
    "df_recent_data.groupby('genre')['sales_per_year'].mean().sort_values(ascending=False)"
   ]
  },
  {
   "cell_type": "code",
   "execution_count": 83,
   "metadata": {},
   "outputs": [
    {
     "data": {
      "image/png": "[encoded data removed]",
      "text/plain": [
       "<Figure size 720x216 with 1 Axes>"
      ]
     },
     "metadata": {
      "needs_background": "light"
     },
     "output_type": "display_data"
    }
   ],
   "source": [
    "# Promedio de ingresos por año\n",
    "df_recent_data.groupby('genre')['sales_per_year'].mean().sort_values(ascending=False).plot(\n",
    "    kind='bar',figsize=(10,3),title=\"Promedio de ingresos anuales por categoría\")\n",
    "plt.show()"
   ]
  },
  {
   "cell_type": "code",
   "execution_count": 84,
   "metadata": {},
   "outputs": [
    {
     "data": {
      "text/plain": [
       "genre\n",
       "Sports          7.60\n",
       "Shooter         7.32\n",
       "Role-Playing    7.14\n",
       "Action          5.26\n",
       "Fighting        2.52\n",
       "Racing          2.36\n",
       "Misc            2.30\n",
       "Platform        1.98\n",
       "Simulation      1.83\n",
       "Adventure       0.94\n",
       "Strategy        0.42\n",
       "Puzzle          0.40\n",
       "Name: sales_per_year, dtype: float64"
      ]
     },
     "execution_count": 84,
     "metadata": {},
     "output_type": "execute_result"
    }
   ],
   "source": [
    "# Ingresos anuales máximos de cada categoría\n",
    "df_recent_data.groupby('genre')['sales_per_year'].max().sort_values(ascending=False)"
   ]
  },
  {
   "cell_type": "markdown",
   "metadata": {},
   "source": [
    "**Históricamente, el género de acción lidera en cantidad y en ingresos anuales. Sin embargo, en ingreso promedio, los juegos de tiro superan por más del doble a los de acción, a pesar de contar con la mitad de títulos. Deportes, tiro y rol encabezan los ingresos anuales máximos, seguidos de acción. Por otro lado, rompecabezas, aventura y estrategia reportan los ingresos más bajos tanto históricamente como en promedios anuales.**"
   ]
  },
  {
   "cell_type": "markdown",
   "metadata": {},
   "source": [
    "#### Ventas por clasificación"
   ]
  },
  {
   "cell_type": "markdown",
   "metadata": {},
   "source": [
    "**Se examina la distribución general de las ventas de juegos por su clasificación ESRB.**"
   ]
  },
  {
   "cell_type": "markdown",
   "metadata": {},
   "source": [
    "**La columna rating cuenta con los siquientes valores:**\n",
    "\n",
    "- **E (todos).**\n",
    "- **EC (mayores de 3 años).**\n",
    "- **E10+ (mayores de 10 años).**\n",
    "- **K-A (mayores de 10 años) dejó de usarse en 1998 y se reemplazó con E10+.**\n",
    "- **T (mayores de 13 años).**\n",
    "- **M (mayores de 17 años).**\n",
    "- **AO (sólo para adultos de 18 años en adelante).**\n",
    "- **RP (pendiente de clasificar).**"
   ]
  },
  {
   "cell_type": "code",
   "execution_count": 85,
   "metadata": {},
   "outputs": [
    {
     "data": {
      "text/plain": [
       "RP      1709\n",
       "M        622\n",
       "E        618\n",
       "T        616\n",
       "E10+     456\n",
       "EC         1\n",
       "Name: rating, dtype: int64"
      ]
     },
     "execution_count": 85,
     "metadata": {},
     "output_type": "execute_result"
    }
   ],
   "source": [
    "# Cantidad de juegos por clasificación (datos recientes)\n",
    "df_recent_data['rating'].value_counts().sort_values(ascending=False)"
   ]
  },
  {
   "cell_type": "code",
   "execution_count": 86,
   "metadata": {},
   "outputs": [
    {
     "data": {
      "image/png": "[encoded data removed]",
      "text/plain": [
       "<Figure size 1440x360 with 2 Axes>"
      ]
     },
     "metadata": {
      "needs_background": "light"
     },
     "output_type": "display_data"
    }
   ],
   "source": [
    "# Ingresos recientes de juegos por año clasificación\n",
    "plt.subplots(figsize=(20, 5)) \n",
    "df_recent_data.groupby('rating')['total_sales'].mean().sort_values(ascending=False).plot(\n",
    "    kind='bar', ax= plt.subplot(1,2,1))\n",
    "plt.title('Recent sales grouped by clasification - mean')\n",
    "\n",
    "df_recent_data.groupby('rating')['total_sales'].median().sort_values(ascending=False).plot(\n",
    "    kind='bar', ax= plt.subplot(1,2,2))\n",
    "plt.title('Recent sales grouped by clasification - median')\n",
    "\n",
    "plt.show()"
   ]
  },
  {
   "cell_type": "markdown",
   "metadata": {},
   "source": [
    "**En los últimos años, en promedio la categoría con mayores ingresos es la de M (mayores de 17 años), seguida por la E (todos).**\n",
    "\n",
    "**Sin embargo, al ver las medianas, la de mayor es EC (mayores de 3 años) seguida por M.**"
   ]
  },
  {
   "cell_type": "markdown",
   "metadata": {},
   "source": [
    "### Perfil de usuario por región"
   ]
  },
  {
   "cell_type": "markdown",
   "metadata": {},
   "source": [
    "**A continuación, se analizan las diferencias entre regiones determinando:**\n",
    "\n",
    "- **Las cinco plataformas principales por región.**\n",
    "- **Los cinco géneros principales.**\n",
    "- **Las ventas en base a las clasificaciones de ESRB.**\n",
    "- **Las variaciones en sus cuotas de mercado de una región a otra.**"
   ]
  },
  {
   "cell_type": "markdown",
   "metadata": {},
   "source": [
    "#### Región NA (Norteamérica)"
   ]
  },
  {
   "cell_type": "markdown",
   "metadata": {},
   "source": [
    "**Se buscan las cinco plataformas principales de la región NA.**"
   ]
  },
  {
   "cell_type": "markdown",
   "metadata": {},
   "source": [
    "##### Plataformas Principales"
   ]
  },
  {
   "cell_type": "code",
   "execution_count": 87,
   "metadata": {},
   "outputs": [
    {
     "name": "stdout",
     "output_type": "stream",
     "text": [
      "5 Plataformas principales, de años recientes, con mayor suma de ingresos históricos:\n"
     ]
    },
    {
     "data": {
      "text/plain": [
       "platform\n",
       "X360    226.80\n",
       "PS3     168.26\n",
       "PS4     108.74\n",
       "XOne     93.12\n",
       "3DS      82.65\n",
       "Name: na_sales, dtype: float64"
      ]
     },
     "execution_count": 87,
     "metadata": {},
     "output_type": "execute_result"
    }
   ],
   "source": [
    "# Plataformas principales - suma de ingresos historicos\n",
    "print('5 Plataformas principales, de años recientes, con mayor suma de ingresos históricos:')\n",
    "df_recent_data.groupby('platform')['na_sales'].sum().sort_values(ascending=False).head(5)"
   ]
  },
  {
   "cell_type": "code",
   "execution_count": 88,
   "metadata": {},
   "outputs": [
    {
     "name": "stdout",
     "output_type": "stream",
     "text": [
      "year of release of the first game released in the platform X360 : 2005\n",
      "year of release of the first game released in the platform PS3 : 2006\n",
      "year of release of the first game released in the platform PS4 : 2013\n",
      "year of release of the first game released in the platform XOne : 2013\n",
      "year of release of the first game released in the platform 3DS : 2011\n"
     ]
    }
   ],
   "source": [
    "for plat in ['X360','PS3','PS4','XOne','3DS']:\n",
    "    print('year of release of the first game released in the platform',plat,':'\n",
    "          ,df.query('platform == @plat')['year_of_release'].min())"
   ]
  },
  {
   "cell_type": "markdown",
   "metadata": {},
   "source": [
    "**La plataforma X360 lidera en ingresos recientes y es la más antigua en el mercado. La suma de ingresos suele corresponder con el año de lanzamiento de cada plataforma, con la única excepción de la 3DS.**"
   ]
  },
  {
   "cell_type": "markdown",
   "metadata": {},
   "source": [
    "##### Géneros Principales"
   ]
  },
  {
   "cell_type": "markdown",
   "metadata": {},
   "source": [
    "**Se buscan los cinco géneros principales de la región NA.**"
   ]
  },
  {
   "cell_type": "code",
   "execution_count": 93,
   "metadata": {},
   "outputs": [
    {
     "name": "stdout",
     "output_type": "stream",
     "text": [
      "5 plataformas principales, de años recientes, con mayor suma de ingresos históricos:\n"
     ]
    },
    {
     "data": {
      "text/plain": [
       "platform\n",
       "X360    226.80\n",
       "PS3     168.26\n",
       "PS4     108.74\n",
       "XOne     93.12\n",
       "3DS      82.65\n",
       "Name: na_sales, dtype: float64"
      ]
     },
     "execution_count": 93,
     "metadata": {},
     "output_type": "execute_result"
    }
   ],
   "source": [
    "# Plataformas principales - suma de ingresos historicos\n",
    "print('5 plataformas principales, de años recientes, con mayor suma de ingresos históricos:')\n",
    "df_recent_data.groupby('platform')['na_sales'].sum().sort_values(ascending=False).head(5)"
   ]
  },
  {
   "cell_type": "code",
   "execution_count": 91,
   "metadata": {},
   "outputs": [
    {
     "name": "stdout",
     "output_type": "stream",
     "text": [
      "5 géneros principales, de años recientes, con mayor promedio de ingresos históricos:\n"
     ]
    },
    {
     "data": {
      "text/plain": [
       "genre\n",
       "Shooter     0.590973\n",
       "Platform    0.313770\n",
       "Sports      0.279434\n",
       "Fighting    0.198931\n",
       "Misc        0.185840\n",
       "Name: na_sales, dtype: float64"
      ]
     },
     "execution_count": 91,
     "metadata": {},
     "output_type": "execute_result"
    }
   ],
   "source": [
    "# Géneros principales - promedio de ingresos historicos\n",
    "print('5 géneros principales, de años recientes, con mayor promedio de ingresos históricos:')\n",
    "df_recent_data.groupby('genre')['na_sales'].mean().sort_values(ascending=False).head(5)"
   ]
  },
  {
   "cell_type": "markdown",
   "metadata": {},
   "source": [
    "**Al igual que las ventas por género globales, el género principal de la región NA es Shooter. También coinciden los generos platform y Sports en los primeros 5 pero en distinto orden.**"
   ]
  },
  {
   "cell_type": "markdown",
   "metadata": {},
   "source": [
    "##### Ventas en base a la clasificacion ESRB"
   ]
  },
  {
   "cell_type": "markdown",
   "metadata": {},
   "source": [
    "**Se analiza si las clasificaciones ESRB afectan las ventas de la region NA.**\n",
    "\n",
    "**Al igual que en el análisis de clasificación ESRB global, no se toma en cuenta la clasificación AO ni K-A.**"
   ]
  },
  {
   "cell_type": "code",
   "execution_count": 94,
   "metadata": {},
   "outputs": [
    {
     "data": {
      "image/png": "[encoded data removed]",
      "text/plain": [
       "<Figure size 1440x360 with 2 Axes>"
      ]
     },
     "metadata": {
      "needs_background": "light"
     },
     "output_type": "display_data"
    }
   ],
   "source": [
    "# Ingresos recientes de juegos por año clasificación sin AO ni K-A\n",
    "plt.subplots(figsize=(20, 5)) \n",
    "df_recent_data.groupby('rating')['na_sales'].mean().sort_values(ascending=False).plot(\n",
    "    kind='bar', ax= plt.subplot(1,2,1))\n",
    "plt.title('Recent NA Region sales grouped by clasification - mean')\n",
    "\n",
    "df_recent_data.groupby('rating')['na_sales'].median().sort_values(ascending=False).plot(\n",
    "    kind='bar', ax= plt.subplot(1,2,2))\n",
    "plt.title('Recent NA Region sales grouped by clasification - median')\n",
    "\n",
    "plt.show()"
   ]
  },
  {
   "cell_type": "markdown",
   "metadata": {},
   "source": [
    "**En sintonía con el análisis global, la clasificación M (mayores de 17 años) tiene el mayor ingreso promedio, mientras que EC (mayores de 3 años) presenta la mediana más alta. Las demás medianas no varían significativamente, excepto por RP que es 0.**"
   ]
  },
  {
   "cell_type": "markdown",
   "metadata": {},
   "source": [
    "#### Región EU (Europa)"
   ]
  },
  {
   "cell_type": "markdown",
   "metadata": {},
   "source": [
    "##### Plataformas Principales"
   ]
  },
  {
   "cell_type": "markdown",
   "metadata": {},
   "source": [
    "**Se buscan las cinco plataformas principales de la región EU.**"
   ]
  },
  {
   "cell_type": "code",
   "execution_count": 95,
   "metadata": {},
   "outputs": [
    {
     "name": "stdout",
     "output_type": "stream",
     "text": [
      "5 Plataformas principales, de años recientes, con mayor suma de ingresos históricos:\n"
     ]
    },
    {
     "data": {
      "text/plain": [
       "platform\n",
       "PS3     163.10\n",
       "PS4     141.09\n",
       "X360    117.10\n",
       "3DS      61.27\n",
       "PC       56.70\n",
       "Name: eu_sales, dtype: float64"
      ]
     },
     "execution_count": 95,
     "metadata": {},
     "output_type": "execute_result"
    }
   ],
   "source": [
    "# Plataformas principales - suma de ingresos historicos\n",
    "print('5 Plataformas principales, de años recientes, con mayor suma de ingresos históricos:')\n",
    "df_recent_data.groupby('platform')['eu_sales'].sum().sort_values(ascending=False).head(5)"
   ]
  },
  {
   "cell_type": "code",
   "execution_count": 96,
   "metadata": {},
   "outputs": [
    {
     "name": "stdout",
     "output_type": "stream",
     "text": [
      "year of release of the first game released in the platform PS3 : 2006\n",
      "year of release of the first game released in the platform PS4 : 2013\n",
      "year of release of the first game released in the platform X360 : 2005\n",
      "year of release of the first game released in the platform 3DS : 2011\n",
      "year of release of the first game released in the platform PC : 1985\n"
     ]
    }
   ],
   "source": [
    "for plat in ['PS3','PS4','X360','3DS','PC']:\n",
    "    print('year of release of the first game released in the platform',plat,':'\n",
    "          ,df.query('platform == @plat')['year_of_release'].min())"
   ]
  },
  {
   "cell_type": "markdown",
   "metadata": {},
   "source": [
    "**En esta región, PS3 y PS4 lideran en ingresos, pero la PS4, siendo más reciente, podría superar a la PS3 en el futuro.**\n",
    "\n",
    "**Sorprendentemente, los juegos de PC están entre los cinco primeros. Aunque esta plataforma se originó en 1985, su diversidad y actualizaciones constantes la mantienen relevante.**"
   ]
  },
  {
   "cell_type": "markdown",
   "metadata": {},
   "source": [
    "##### Géneros Principales"
   ]
  },
  {
   "cell_type": "markdown",
   "metadata": {},
   "source": [
    "**Se buscan los cinco géneros principales de la región EU.**"
   ]
  },
  {
   "cell_type": "code",
   "execution_count": 97,
   "metadata": {},
   "outputs": [
    {
     "name": "stdout",
     "output_type": "stream",
     "text": [
      "5 géneros principales, de años recientes, con mayor promedio de ingresos históricos:\n"
     ]
    },
    {
     "data": {
      "text/plain": [
       "genre\n",
       "Shooter     0.449909\n",
       "Platform    0.246475\n",
       "Sports      0.227455\n",
       "Racing      0.225444\n",
       "Action      0.156911\n",
       "Name: eu_sales, dtype: float64"
      ]
     },
     "execution_count": 97,
     "metadata": {},
     "output_type": "execute_result"
    }
   ],
   "source": [
    "# Géneros principales - promedio de ingresos historicos\n",
    "print('5 géneros principales, de años recientes, con mayor promedio de ingresos históricos:')\n",
    "df_recent_data.groupby('genre')['eu_sales'].mean().sort_values(ascending=False).head(5)"
   ]
  },
  {
   "cell_type": "markdown",
   "metadata": {},
   "source": [
    "**El género dominante en esta región es \"Shooter\". Los géneros que coinciden con el análisis global son \"Platform\", \"Sports\" y \"Action\". Aunque \"Racing\" no está entre los primeros cinco a nivel global, ocupa el sexto lugar.**"
   ]
  },
  {
   "cell_type": "markdown",
   "metadata": {},
   "source": [
    "##### Ventas en base a la clasificacion ESRB"
   ]
  },
  {
   "cell_type": "markdown",
   "metadata": {},
   "source": [
    "**Se analiza si las clasificaciones ESRB afectan las ventas de la region EU.**"
   ]
  },
  {
   "cell_type": "code",
   "execution_count": 98,
   "metadata": {},
   "outputs": [
    {
     "data": {
      "image/png": "[encoded data removed]",
      "text/plain": [
       "<Figure size 1440x360 with 2 Axes>"
      ]
     },
     "metadata": {
      "needs_background": "light"
     },
     "output_type": "display_data"
    }
   ],
   "source": [
    "# Ingresos recientes de juegos por año clasificación sin AO ni K-A\n",
    "plt.subplots(figsize=(20, 5)) \n",
    "df_recent_data.groupby('rating')['eu_sales'].mean().sort_values(ascending=False).plot(\n",
    "    kind='bar', ax= plt.subplot(1,2,1))\n",
    "plt.title('Recent EU Region sales grouped by clasification - mean')\n",
    "\n",
    "df_recent_data.groupby('rating')['eu_sales'].median().sort_values(ascending=False).plot(\n",
    "    kind='bar', ax= plt.subplot(1,2,2))\n",
    "plt.title('Recent EU Region sales grouped by clasification - median')\n",
    "\n",
    "plt.show()"
   ]
  },
  {
   "cell_type": "markdown",
   "metadata": {},
   "source": [
    "**Al igual que en el análisis global, en promedio la clasificación M (mayores de 17 años) es la de mayor ingresos.**\n",
    "\n",
    "**Asimismo, la mediana mayor es la de la clasificación M. El resto de las clasificaciones muestran una diferencia significativa con la clasificación de mayor ingreso.**"
   ]
  },
  {
   "cell_type": "markdown",
   "metadata": {},
   "source": [
    "#### Región JP (Japón)"
   ]
  },
  {
   "cell_type": "markdown",
   "metadata": {},
   "source": [
    "##### Plataformas Principales"
   ]
  },
  {
   "cell_type": "markdown",
   "metadata": {},
   "source": [
    "**Se buscan las cinco plataformas principales de la región JP.**"
   ]
  },
  {
   "cell_type": "code",
   "execution_count": 99,
   "metadata": {},
   "outputs": [
    {
     "name": "stdout",
     "output_type": "stream",
     "text": [
      "5 Plataformas principales, de años recientes, con mayor promedio de ingresos históricos:\n"
     ]
    },
    {
     "data": {
      "text/plain": [
       "platform\n",
       "3DS     0.196523\n",
       "WiiU    0.088503\n",
       "PSP     0.077051\n",
       "PS3     0.069760\n",
       "PSV     0.050909\n",
       "Name: jp_sales, dtype: float64"
      ]
     },
     "execution_count": 99,
     "metadata": {},
     "output_type": "execute_result"
    }
   ],
   "source": [
    "# Plataformas principales - promedio de ingresos historicos\n",
    "print('5 Plataformas principales, de años recientes, con mayor promedio de ingresos históricos:')\n",
    "df_recent_data.groupby('platform')['jp_sales'].mean().sort_values(ascending=False).head(5)"
   ]
  },
  {
   "cell_type": "code",
   "execution_count": 100,
   "metadata": {},
   "outputs": [
    {
     "name": "stdout",
     "output_type": "stream",
     "text": [
      "5 Plataformas principales, de años recientes, con mayor suma de ingresos históricos:\n"
     ]
    },
    {
     "data": {
      "text/plain": [
       "platform\n",
       "3DS    100.62\n",
       "PS3     49.39\n",
       "PSP     24.04\n",
       "PSV     21.84\n",
       "PS4     15.96\n",
       "Name: jp_sales, dtype: float64"
      ]
     },
     "execution_count": 100,
     "metadata": {},
     "output_type": "execute_result"
    }
   ],
   "source": [
    "# Plataformas principales - suma de ingresos historicos\n",
    "print('5 Plataformas principales, de años recientes, con mayor suma de ingresos históricos:')\n",
    "df_recent_data.groupby('platform')['jp_sales'].sum().sort_values(ascending=False).head(5)"
   ]
  },
  {
   "cell_type": "markdown",
   "metadata": {},
   "source": [
    "**Al analizar las plataformas principales de la región JP se observa que las principales, con la suma de ingresos mayores, pertenecen a la familia de Sony (PSs) a excepción de la 3DS.**"
   ]
  },
  {
   "cell_type": "markdown",
   "metadata": {},
   "source": [
    "##### Géneros Principales"
   ]
  },
  {
   "cell_type": "markdown",
   "metadata": {},
   "source": [
    "**Se buscan los cinco géneros principales de la región JP.**"
   ]
  },
  {
   "cell_type": "code",
   "execution_count": 101,
   "metadata": {},
   "outputs": [
    {
     "name": "stdout",
     "output_type": "stream",
     "text": [
      "5 géneros principales, de años recientes, con mayor promedio de ingresos históricos:\n"
     ]
    },
    {
     "data": {
      "text/plain": [
       "genre\n",
       "Role-Playing    0.171763\n",
       "Platform        0.099426\n",
       "Simulation      0.085588\n",
       "Fighting        0.077862\n",
       "Action          0.050134\n",
       "Name: jp_sales, dtype: float64"
      ]
     },
     "execution_count": 101,
     "metadata": {},
     "output_type": "execute_result"
    }
   ],
   "source": [
    "# Géneros principales - promedio de ingresos historicos\n",
    "print('5 géneros principales, de años recientes, con mayor promedio de ingresos históricos:')\n",
    "df_recent_data.groupby('genre')['jp_sales'].mean().sort_values(ascending=False).head(5)"
   ]
  },
  {
   "cell_type": "code",
   "execution_count": 102,
   "metadata": {},
   "outputs": [
    {
     "name": "stdout",
     "output_type": "stream",
     "text": [
      "géneros de años recientes, con menor promedio de ingresos históricos:\n"
     ]
    },
    {
     "data": {
      "text/plain": [
       "genre\n",
       "Shooter      0.036231\n",
       "Racing       0.031333\n",
       "Adventure    0.029439\n",
       "Sports       0.028509\n",
       "Name: jp_sales, dtype: float64"
      ]
     },
     "execution_count": 102,
     "metadata": {},
     "output_type": "execute_result"
    }
   ],
   "source": [
    "# Géneros principales - promedio de ingresos historicos\n",
    "print('géneros de años recientes, con menor promedio de ingresos históricos:')\n",
    "df_recent_data.groupby('genre')['jp_sales'].mean().sort_values(ascending=False).tail(4)"
   ]
  },
  {
   "cell_type": "markdown",
   "metadata": {},
   "source": [
    "**A diferencia de las otras dos regiones, en Jápón el género principal es Role-Playing y el género Shooter esta entre los últimos. Los principales géneros de esta región que coinciden con los globales son el ya mencionado Role-Playing, Action y Platform.**"
   ]
  },
  {
   "cell_type": "markdown",
   "metadata": {},
   "source": [
    "##### Ventas en base a la clasificacion ESRB"
   ]
  },
  {
   "cell_type": "markdown",
   "metadata": {},
   "source": [
    "**Se analiza si las clasificaciones ESRB afectan las ventas de la region JP.**"
   ]
  },
  {
   "cell_type": "code",
   "execution_count": 103,
   "metadata": {},
   "outputs": [
    {
     "data": {
      "image/png": "[encoded data removed]",
      "text/plain": [
       "<Figure size 1440x360 with 2 Axes>"
      ]
     },
     "metadata": {
      "needs_background": "light"
     },
     "output_type": "display_data"
    }
   ],
   "source": [
    "# Ingresos recientes de juegos por año clasificación sin AO ni K-A\n",
    "plt.subplots(figsize=(20, 5)) \n",
    "df_recent_data.groupby('rating')['jp_sales'].mean().sort_values(ascending=False).plot(\n",
    "    kind='bar', ax= plt.subplot(1,2,1))\n",
    "plt.title('Recent JP Region sales grouped by clasification - mean')\n",
    "\n",
    "df_recent_data.groupby('rating')['jp_sales'].median().sort_values(ascending=False).plot(\n",
    "    kind='bar', ax= plt.subplot(1,2,2))\n",
    "plt.title('Recent JP Region sales grouped by clasification - median')\n",
    "\n",
    "plt.show()"
   ]
  },
  {
   "cell_type": "markdown",
   "metadata": {},
   "source": [
    "**A diferencia de las otras regiones, la clasificación principal de Japón es RP (pendiente de clasificar).**\n",
    "\n",
    "**Asimismo, al evaluar las medianas todas se ubican en ceros a excepción de RP.**"
   ]
  },
  {
   "cell_type": "markdown",
   "metadata": {},
   "source": [
    "### Cuota de mercado entre regiónes"
   ]
  },
  {
   "cell_type": "code",
   "execution_count": 104,
   "metadata": {},
   "outputs": [
    {
     "data": {
      "text/plain": [
       "platform\n",
       "PS3     445.57\n",
       "X360    380.38\n",
       "PS4     314.14\n",
       "Name: total_sales, dtype: float64"
      ]
     },
     "execution_count": 104,
     "metadata": {},
     "output_type": "execute_result"
    }
   ],
   "source": [
    "# Plataformas principales recientes\n",
    "df_recent_data.groupby('platform')['total_sales'].sum().sort_values(ascending=False).head(3)"
   ]
  },
  {
   "cell_type": "markdown",
   "metadata": {},
   "source": [
    "**Las plataformas principales con mayor suma de ingresos históricos son:**\n",
    "\n",
    "- **PS3**\n",
    "- **X360**\n",
    "- **PS4**\n",
    "\n",
    "**La plataforma x360, que esta entre las plataformas más rentables, esta entre las principales de las regiones NA y EU pero no de JP.**"
   ]
  },
  {
   "cell_type": "code",
   "execution_count": 105,
   "metadata": {},
   "outputs": [
    {
     "name": "stdout",
     "output_type": "stream",
     "text": [
      "Variación en cuota de mercado entre regiónes de la plataforma PS3\n",
      "na_sales 8.611 %\n",
      "eu_sales 8.347 %\n",
      "jp_sales 2.527 %\n"
     ]
    }
   ],
   "source": [
    "# Ingresos totales recientes\n",
    "total_income = df_recent_data['total_sales'].sum()\n",
    "\n",
    "# Ingresos por plataforma de los últimos 10 años\n",
    "df_recent_data_ps3 = df_recent_data.query('platform == \"PS3\"')\n",
    "df_recent_data_x360 = df_recent_data.query('platform == \"X360\"')\n",
    "df_recent_data_ps4 = df_recent_data.query('platform == \"PS4\"')\n",
    "\n",
    "# Variaciones en sus cuotas de mercado de una región a otra de plataforma PS3\n",
    "print('Variación en cuota de mercado entre regiónes de la plataforma PS3')\n",
    "for region in ['na_sales', 'eu_sales', 'jp_sales']:\n",
    "    print(region,  round(df_recent_data_ps3[region].sum() /total_income*100,3)  ,'%')"
   ]
  },
  {
   "cell_type": "code",
   "execution_count": 106,
   "metadata": {},
   "outputs": [
    {
     "name": "stdout",
     "output_type": "stream",
     "text": [
      "Variación en cuota de mercado entre regiónes de la plataforma X360\n",
      "na_sales 11.606 %\n",
      "eu_sales 5.992 %\n",
      "jp_sales 0.171 %\n"
     ]
    }
   ],
   "source": [
    "# Variaciones en sus cuotas de mercado de una región a otra de plataforma X360\n",
    "print('Variación en cuota de mercado entre regiónes de la plataforma X360')\n",
    "for region in ['na_sales', 'eu_sales', 'jp_sales']:\n",
    "    print(region,  round(df_recent_data_x360[region].sum() /total_income*100,3)  ,'%')"
   ]
  },
  {
   "cell_type": "code",
   "execution_count": 107,
   "metadata": {},
   "outputs": [
    {
     "name": "stdout",
     "output_type": "stream",
     "text": [
      "Variación en cuota de mercado entre regiónes de la plataforma PS4\n",
      "na_sales 5.565 %\n",
      "eu_sales 7.22 %\n",
      "jp_sales 0.817 %\n"
     ]
    }
   ],
   "source": [
    "# Variaciones en sus cuotas de mercado de una región a otra de plataforma PS4\n",
    "print('Variación en cuota de mercado entre regiónes de la plataforma PS4')\n",
    "for region in ['na_sales', 'eu_sales', 'jp_sales']:\n",
    "    print(region,  round(df_recent_data_ps4[region].sum() /total_income*100,3)  ,'%')"
   ]
  },
  {
   "cell_type": "markdown",
   "metadata": {},
   "source": [
    "**Al analizar las cuotas de mercado de las plataformas principales por region se observa que:**\n",
    "\n",
    "- **En general, la región NA tiene las cuotas más altas, seguida de la región EU, dejando al final a la JP.**\n",
    "- **La cuota más alta es de los ingresos de la región NA con la plataforma X360.**\n",
    "- **La cuota más baja es de los ingresos de la región JP con la plataforma X360.**\n",
    "\n",
    "**Cabe mencionar que las plataformas principales de la región JP son las PSs y aún asi, estas tienen cuotas bajas en está región.**"
   ]
  },
  {
   "cell_type": "markdown",
   "metadata": {},
   "source": [
    "## Pruebas de hipótesis"
   ]
  },
  {
   "cell_type": "markdown",
   "metadata": {},
   "source": [
    "**A continuación se prueban las siguientes hipótesis:**\n",
    "\n",
    "- **Las calificaciones promedio de los usuarios de las plataformas Xbox One y PC son las mismas.**\n",
    "- **Las calificaciones promedio de los usuarios de los géneros de Acción y Deportes son diferentes.**"
   ]
  },
  {
   "cell_type": "markdown",
   "metadata": {},
   "source": [
    "### Hipótesis de calificaciones promedio para Xbox One y PC"
   ]
  },
  {
   "cell_type": "markdown",
   "metadata": {},
   "source": [
    "**Se corrobora que la distribucion de ambas muestras sea normal.**\n",
    "\n",
    "**Hipótesis nula: Los datos siguen una distribución normal.**\n",
    "\n",
    "**Hipótesis alterna: Los datos no siguen una distribución normal.**\n",
    "\n",
    "**Se establece el umbral alfa en 5%**"
   ]
  },
  {
   "cell_type": "code",
   "execution_count": 108,
   "metadata": {},
   "outputs": [
    {
     "name": "stdout",
     "output_type": "stream",
     "text": [
      "Variable user_score de plataforma XOne:\n",
      "ShapiroResult(statistic=0.955055296421051, pvalue=1.524856543255737e-05)\n",
      "Se rechaza la hipótesis nula\n",
      "\n",
      "Variable user_score de plataforma PC:\n",
      "ShapiroResult(statistic=0.9421188235282898, pvalue=1.3285270661356208e-09)\n",
      "Se rechaza la hipótesis nula\n"
     ]
    }
   ],
   "source": [
    "# Comprobación de distribución normal\n",
    "user_score_xo = df_recent_data.query(\n",
    "'platform == \"XOne\" and user_score != \"tbd\" and user_score.isna() == False'\n",
    "                                                                    )['user_score'].astype('float')\n",
    "user_score_pc = df_recent_data.query(\n",
    "    'platform == \"PC\" and user_score != \"tbd\" and user_score.isna() == False'\n",
    "                                                                    )['user_score'].astype('float')\n",
    "\n",
    "alpha = 0.05 # nivel de significancia estadística crítica\n",
    "\n",
    "# Normalidad de los residuos Shapiro-Wilk test Xone\n",
    "shapiro_test = st.shapiro(user_score_xo)\n",
    "print('Variable user_score de plataforma XOne:')\n",
    "print(shapiro_test)\n",
    "\n",
    "if shapiro_test[1] < alpha: print(\"Se rechaza la hipótesis nula\")\n",
    "else: print(\"No se rechaza la hipótesis nula\")\n",
    "print()\n",
    "\n",
    "# Normalidad de los residuos Shapiro-Wilk test PC\n",
    "shapiro_test = st.shapiro(user_score_pc)\n",
    "print('Variable user_score de plataforma PC:')\n",
    "print(shapiro_test)\n",
    "\n",
    "if shapiro_test[1] < alpha: print(\"Se rechaza la hipótesis nula\")\n",
    "else: print(\"No se rechaza la hipótesis nula\")"
   ]
  },
  {
   "cell_type": "code",
   "execution_count": 109,
   "metadata": {},
   "outputs": [
    {
     "data": {
      "image/png": "[encoded data removed]",
      "text/plain": [
       "<Figure size 1440x360 with 2 Axes>"
      ]
     },
     "metadata": {
      "needs_background": "light"
     },
     "output_type": "display_data"
    }
   ],
   "source": [
    "# Graficar datos\n",
    "plt.subplots(figsize=(20, 5)) \n",
    "user_score_xo.plot(kind='hist', ax= plt.subplot(1,2,1),bins=50)\n",
    "plt.title('XOne histogram',fontsize = 18)\n",
    "\n",
    "user_score_pc.plot(kind='hist', ax= plt.subplot(1,2,2),bins=50)\n",
    "plt.title('PC histogram',fontsize = 18)\n",
    "plt.show()"
   ]
  },
  {
   "cell_type": "markdown",
   "metadata": {},
   "source": [
    "**Hay evidencias para descartar que los datos de ambas variables se distribuyen de forma normal; dado que la distribución no se aleja mucho de la normalidad, se continua el análisis tomando en cuenta este hecho.**"
   ]
  },
  {
   "cell_type": "code",
   "execution_count": 110,
   "metadata": {},
   "outputs": [
    {
     "name": "stdout",
     "output_type": "stream",
     "text": [
      "Prueba de varianzas iguales:\n",
      "LeveneResult(statistic=5.516327585628806, pvalue=0.019238606822499546)\n",
      "Se rechaza la hipótesis nula\n",
      "\n"
     ]
    }
   ],
   "source": [
    "# Varianza de las muestras - prueba de levene\n",
    "levene_test = st.levene (user_score_xo, user_score_pc, center = 'median') \n",
    "print('Prueba de varianzas iguales:')\n",
    "print(levene_test)\n",
    "\n",
    "if levene_test[1] < alpha: print(\"Se rechaza la hipótesis nula\")\n",
    "else: print(\"No se rechaza la hipótesis nula\")\n",
    "print()"
   ]
  },
  {
   "cell_type": "markdown",
   "metadata": {},
   "source": [
    "**Se continua con la prueba de hipótesis aplicando un T-test de varianzas distintas.**\n",
    "\n",
    "**Hipótesis nula: Las calificaciones promedio de los usuarios de las plataformas Xbox One y PC son iguales.**\n",
    "\n",
    "**Hipótesis alternativa: Las calificaciones promedio de los usuarios de las plataformas Xbox One y PC son diferentes.**\n",
    "\n",
    "**Se establece el umbral alfa en 5%**"
   ]
  },
  {
   "cell_type": "code",
   "execution_count": 111,
   "metadata": {},
   "outputs": [
    {
     "name": "stdout",
     "output_type": "stream",
     "text": [
      "p-value:  0.6130712247638477\n",
      "No se rechaza la hipótesis nula\n"
     ]
    }
   ],
   "source": [
    "# Si el valor p es menor que alfa, se rechaza la hipótesis\n",
    "results = st.ttest_ind(user_score_xo, user_score_pc,equal_var=False)\n",
    "print('p-value: ', results.pvalue)\n",
    "\n",
    "if results.pvalue < alpha:\n",
    "    print(\"Se rechaza la hipótesis nula\")\n",
    "else:\n",
    "    print(\"No se rechaza la hipótesis nula\") "
   ]
  },
  {
   "cell_type": "markdown",
   "metadata": {},
   "source": [
    "**No se rechaza la hipótesis nula por lo que no se tiene evidencia suficiente para decir que las calificaciones calificaciones promedio de las plataformas Xbox One y PC son diferentes.**"
   ]
  },
  {
   "cell_type": "markdown",
   "metadata": {},
   "source": [
    "### Hipótesis de calificaciones promedio para los géneros acción y deportes"
   ]
  },
  {
   "cell_type": "markdown",
   "metadata": {},
   "source": [
    "**Se corrobora que la distribucion de ambas muestras sea normal.**\n",
    "\n",
    "**Hipótesis nula: Los datos siguen una distribución normal.**\n",
    "\n",
    "**Hipótesis alterna: Los datos no siguen una distribución normal.**\n",
    "\n",
    "**Se establece el umbral alfa en 5%**"
   ]
  },
  {
   "cell_type": "code",
   "execution_count": 112,
   "metadata": {},
   "outputs": [
    {
     "name": "stdout",
     "output_type": "stream",
     "text": [
      "Variable user_score del género acción:\n",
      "ShapiroResult(statistic=0.9310101270675659, pvalue=6.254849286294867e-17)\n",
      "Se rechaza la hipótesis nula\n",
      "\n",
      "Variable user_score del género deportes:\n",
      "ShapiroResult(statistic=0.9578661918640137, pvalue=1.335329216090031e-06)\n",
      "Se rechaza la hipótesis nula\n"
     ]
    }
   ],
   "source": [
    "# Comprobación de distribución normal\n",
    "user_score_ac = df_recent_data.query(\n",
    "    'genre == \"Action\" and user_score != \"tbd\" and user_score.isna() == False'\n",
    "                                                                        )['user_score'].astype('float')\n",
    "user_score_dp = df_recent_data.query(\n",
    "    'genre == \"Sports\" and user_score != \"tbd\" and user_score.isna() == False'\n",
    "                                                                        )['user_score'].astype('float')\n",
    "\n",
    "# Normalidad de los residuos Shapiro-Wilk test Xone\n",
    "shapiro_test = st.shapiro(user_score_ac)\n",
    "print('Variable user_score del género acción:')\n",
    "print(shapiro_test)\n",
    "\n",
    "if shapiro_test[1] < alpha: print(\"Se rechaza la hipótesis nula\")\n",
    "else: print(\"No se rechaza la hipótesis nula\")\n",
    "print()\n",
    "\n",
    "# Normalidad de los residuos Shapiro-Wilk test PC\n",
    "shapiro_test = st.shapiro(user_score_dp)\n",
    "print('Variable user_score del género deportes:')\n",
    "print(shapiro_test)\n",
    "\n",
    "if shapiro_test[1] < alpha: print(\"Se rechaza la hipótesis nula\")\n",
    "else: print(\"No se rechaza la hipótesis nula\")"
   ]
  },
  {
   "cell_type": "markdown",
   "metadata": {},
   "source": [
    "**No hay evidencias para descartar que los datos de ambas variables se distribuyen de forma normal; se continua el análisis.**"
   ]
  },
  {
   "cell_type": "code",
   "execution_count": 113,
   "metadata": {},
   "outputs": [
    {
     "name": "stdout",
     "output_type": "stream",
     "text": [
      "Prueba de varianzas iguales:\n",
      "LeveneResult(statistic=18.398485636804207, pvalue=1.9840382117903915e-05)\n",
      "Se rechaza la hipótesis nula\n",
      "\n"
     ]
    }
   ],
   "source": [
    "# Varianza de las muestras - prueba de levene\n",
    "levene_test = st.levene (user_score_ac, user_score_dp, center = 'median') \n",
    "print('Prueba de varianzas iguales:')\n",
    "print(levene_test)\n",
    "\n",
    "if levene_test[1] < alpha: print(\"Se rechaza la hipótesis nula\")\n",
    "else: print(\"No se rechaza la hipótesis nula\")\n",
    "print()"
   ]
  },
  {
   "cell_type": "markdown",
   "metadata": {},
   "source": [
    "**Se continua con la prueba de hipótesis aplicando un T-test de varianzas distintas.**\n",
    "\n",
    "**Hipótesis nula: Las calificaciones promedio de los usuarios de los géneros de Acción y Deportes son iguales.**\n",
    "\n",
    "**Hipótesis alternativa: Las calificaciones promedio de los usuarios de los géneros de Acción y Deportes son diferentes.**\n",
    "\n",
    "**Se establece el umbral alfa en 5%**"
   ]
  },
  {
   "cell_type": "code",
   "execution_count": 114,
   "metadata": {},
   "outputs": [
    {
     "name": "stdout",
     "output_type": "stream",
     "text": [
      "p-value:  8.285648549432565e-19\n",
      "Se rechaza la hipótesis nula\n"
     ]
    }
   ],
   "source": [
    "# Si el valor p es menor que alfa, se rechaza la hipótesis\n",
    "results = st.ttest_ind(user_score_ac, user_score_dp,equal_var=False)\n",
    "print('p-value: ', results.pvalue)\n",
    "\n",
    "if results.pvalue < alpha:\n",
    "    print(\"Se rechaza la hipótesis nula\")\n",
    "else:\n",
    "    print(\"No se rechaza la hipótesis nula\") "
   ]
  },
  {
   "cell_type": "markdown",
   "metadata": {},
   "source": [
    "**No existe evidencia para afirmar que las calificaciones promedio de los usuarios de los géneros de Acción y Deportes son iguales.**"
   ]
  },
  {
   "cell_type": "markdown",
   "metadata": {},
   "source": [
    "## Conclusión"
   ]
  },
  {
   "cell_type": "markdown",
   "metadata": {},
   "source": [
    "### Información analizada"
   ]
  },
  {
   "cell_type": "markdown",
   "metadata": {},
   "source": [
    "**Inicialmente se tenían 16715 filas de datos pero se eliminaron y modificaron ciertas filas.**\n",
    "\n",
    "- **Las columnas \"name\" y \"genre\" tenían menos del 1% de valores faltantes y \"year_of_release\" un 1.61%. Estas filas se eliminaron debido a su insignificancia.**\n",
    "- **Las columnas \"critic_score\" y \"user_score\" tenían ausencias del 50.62% y 39.52% respectivamente. Debido a su importancia, se mantuvieron intactas.**\n",
    "- **A las ausencias en la columna \"rating\" (39.94%), se les asignó el valor RP (Rating Pending).**\n",
    "\n",
    "**Se crearon columnas adicionales para facilitar el análisis como:**\n",
    "\n",
    "- **\"total_sales\" para las ventas totales por juego.**\n",
    "- **\"sales_per_year\" para el promedio anual de ventas por juego.**"
   ]
  },
  {
   "cell_type": "markdown",
   "metadata": {},
   "source": [
    "### Conclusiones globales"
   ]
  },
  {
   "cell_type": "markdown",
   "metadata": {},
   "source": [
    "**Se identificaron los siguientes patrones para determinar si un juego tiene éxito o no:**\n",
    "\n",
    "- **Aunque el año de lanzamiento no es crucial, la cantidad de juegos lanzados en un año sí es. Más juegos en el mercado dispersan los ingresos.**\n",
    "\n",
    "- **A pesar de que nuevas plataformas emergen aproximadamente cada 6 años, las anteriores aún generan ingresos. Las más rentables recientemente incluyen: PS2, X360, PS3, Wii y DS.**\n",
    "\n",
    "- **Las reseñas profesionales impactan positivamente las ventas, mientras que las opiniones de los usuarios no parecen influir. Dado que hay ausencias del 50.62% y 39.52% en las calificaciones de profesionales y usuarios respectivamente, esta observación no es definitiva.**\n",
    "\n",
    "- **El género es relevante en los ingresos. El género de acción lidera en número e ingresos históricos, mientras que el género de tiro tiene el promedio de ingresos más alto. Para maximizar ingresos, se beneficiaría de más juegos de tiro anuales.**\n",
    "\n",
    "- **Los géneros más lucrativos son: tiro, juegos de rol, acción y deportes, mientras que rompecabezas, aventura y estrategia generan menos.**\n",
    "\n",
    "- **La clasificación M (mayores de 17 años) lidera en ingresos históricos promedio.**"
   ]
  },
  {
   "cell_type": "markdown",
   "metadata": {},
   "source": [
    "### Conclusiones por región"
   ]
  },
  {
   "cell_type": "markdown",
   "metadata": {},
   "source": [
    "**Al analizar las 3 regiones se identificaron los siguientes patrones:**\n",
    "\n",
    "**Región NA (Norteamérica)**\n",
    "\n",
    "- **Plataformas top: X360, PS3, PS4, XOne, 3DS.**\n",
    "- **Géneros principales: Shooter, Platform, Sports, Racing, Action.**\n",
    "- **Clasificación ESRB más rentable: M (mayores de 17 años), aunque EC (mayores de 3 años) tiene la mediana de ingresos más alta. RP tiene una mediana de 0.**\n",
    "\n",
    "\n",
    "**Región EU (Europa)**\n",
    "\n",
    "- **Plataformas top: PS3, PS4, X360, 3DS, PC.**\n",
    "- **Géneros principales: Shooter, Platform, Sports, Racing, Action.**\n",
    "- **Clasificación ESRB más rentable: M (mayores de 17 años) domina tanto en promedio como en mediana.**\n",
    "\n",
    "\n",
    "**Región JP (Japón)**\n",
    "\n",
    "- **Plataformas top: 3DS, WiiU, PSP, PS3, PSV.**\n",
    "- **Géneros principales: Role-Playing, Platform, Simulation, Fighting, Action. El género Shooter es poco popular aquí.**\n",
    "- **Clasificación ESRB más rentable: RP (pendiente de clasificar), con la mayoría de las medianas en cero.**\n",
    "\n",
    "\n",
    "**En resumen, NA y EU tienen patrones similares, mientras que JP se diferencia en plataformas, géneros y clasificaciones ESRB.**"
   ]
  }
 ],
 "metadata": {
  "kernelspec": {
   "display_name": "Python 3 (ipykernel)",
   "language": "python",
   "name": "python3"
  },
  "language_info": {
   "codemirror_mode": {
    "name": "ipython",
    "version": 3
   },
   "file_extension": ".py",
   "mimetype": "text/x-python",
   "name": "python",
   "nbconvert_exporter": "python",
   "pygments_lexer": "ipython3",
   "version": "3.9.5"
  },
  "toc": {
   "base_numbering": 1,
   "nav_menu": {},
   "number_sections": true,
   "sideBar": true,
   "skip_h1_title": true,
   "title_cell": "Table of Contents",
   "title_sidebar": "Contents",
   "toc_cell": false,
   "toc_position": {
    "height": "calc(100% - 180px)",
    "left": "10px",
    "top": "150px",
    "width": "287.513px"
   },
   "toc_section_display": true,
   "toc_window_display": true
  }
 },
 "nbformat": 4,
 "nbformat_minor": 2
}
