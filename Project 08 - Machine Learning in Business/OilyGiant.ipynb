{
 "cells": [
  {
   "cell_type": "markdown",
   "metadata": {},
   "source": [
    "# Índice"
   ]
  },
  {
   "cell_type": "markdown",
   "metadata": {},
   "source": [
    "1\\. [Introducción](#introduccion)\\\n",
    "    1.1\\. [Objetivos](#objetivos)\\\n",
    "2\\. [Datos y librerías](#datosylibrerias)\\\n",
    "    &nbsp;&nbsp;&nbsp;&nbsp;2.1 [Librerías](#librerias)\\\n",
    "    &nbsp;&nbsp;&nbsp;&nbsp;2.2\\. [Datos](#datos)\\\n",
    "    &nbsp;&nbsp;&nbsp;&nbsp;2.3\\. [Conociendo los datos](#conociendolosdatos)\\\n",
    "        &nbsp;&nbsp;&nbsp;&nbsp;&nbsp;&nbsp;&nbsp;&nbsp;2.3.1\\. [df0](#df0)\\\n",
    "        &nbsp;&nbsp;&nbsp;&nbsp;&nbsp;&nbsp;&nbsp;&nbsp;2.3.2\\. [df1](#df1)\\\n",
    "        &nbsp;&nbsp;&nbsp;&nbsp;&nbsp;&nbsp;&nbsp;&nbsp;2.3.3\\. [df2](#df2)\\\n",
    "    &nbsp;&nbsp;&nbsp;&nbsp;2.4\\. [Limpieza de datos](#limpiezadedatos)\\\n",
    "3\\. [Primer modelo](primermodelo)\\\n",
    "    &nbsp;&nbsp;&nbsp;&nbsp;3.1\\. [Comparación](#comparacion)\\\n",
    "4\\. [Cálculo de ganancias](#calculodeganancias)\\\n",
    "    &nbsp;&nbsp;&nbsp;&nbsp;4.1\\. [Variables importantes](#variablesimportantes)\\\n",
    "    &nbsp;&nbsp;&nbsp;&nbsp;4.2\\. [Costo por pozo](#costoporpozo)\\\n",
    "    &nbsp;&nbsp;&nbsp;&nbsp;4.3\\. [Ganancias](#ganancias)\\\n",
    "5\\. [Conclusión general](#conclusiongeneral)"
   ]
  },
  {
   "cell_type": "markdown",
   "metadata": {},
   "source": [
    "<a id=\"introduccion\"></a>\n",
    "## Introducción"
   ]
  },
  {
   "cell_type": "markdown",
   "metadata": {},
   "source": [
    "Este proyecto tiene como objetivo ayudar a la compañía minera OilyGiant a identificar la ubicación óptima para la instalación de un nuevo pozo minero. Contamos con datos de múltiples reservas distribuidas en tres regiones.\n",
    "\n",
    "Mediante el uso de un modelo predictivo basado en regresión lineal, analizaremos estos datos para determinar la ubicación más favorable para la instalación del nuevo pozo. Este análisis nos permitirá calcular las potenciales ganancias y evaluar los riesgos asociados a cada ubicación y región."
   ]
  },
  {
   "cell_type": "markdown",
   "metadata": {},
   "source": [
    "<a id=\"objetivos\"></a>\n",
    "### Objetivos"
   ]
  },
  {
   "cell_type": "markdown",
   "metadata": {},
   "source": [
    "- Identificar la región que promete las mayores ganancias proyectadas.\n",
    "- Evaluar los riesgos y beneficios asociados a los pozos y regiones."
   ]
  },
  {
   "cell_type": "markdown",
   "metadata": {},
   "source": [
    "<a id=\"datosylibrerias\"></a>\n",
    "## Datos y librerías"
   ]
  },
  {
   "cell_type": "markdown",
   "metadata": {},
   "source": [
    "<a id=\"librerias\"></a>\n",
    "### Librerías"
   ]
  },
  {
   "cell_type": "code",
   "execution_count": 76,
   "metadata": {},
   "outputs": [],
   "source": [
    "import pandas as pd\n",
    "from scipy import stats as st\n",
    "\n",
    "from numpy.random import RandomState\n",
    "\n",
    "from sklearn.linear_model import LogisticRegression \n",
    "from sklearn.linear_model import LinearRegression\n",
    "from sklearn.metrics import accuracy_score\n",
    "from sklearn.metrics import recall_score\n",
    "from sklearn.metrics import roc_auc_score\n",
    "from sklearn.metrics import mean_squared_error\n",
    "from sklearn.model_selection import train_test_split\n",
    "from sklearn.preprocessing import LabelEncoder"
   ]
  },
  {
   "cell_type": "markdown",
   "metadata": {},
   "source": [
    "<a id=\"datos\"></a>\n",
    "### Datos"
   ]
  },
  {
   "cell_type": "code",
   "execution_count": 77,
   "metadata": {},
   "outputs": [],
   "source": [
    "try:\n",
    "    df0 = pd.read_csv('C:/Users/Alejandro/Downloads/geo_data_0.csv')\n",
    "except:\n",
    "    df0 = pd.read_csv('/datasets/geo_data_0.csv')\n",
    "try:\n",
    "    df1 = pd.read_csv('C:/Users/Alejandro/Downloads/geo_data_1.csv')\n",
    "except:\n",
    "    df1 = pd.read_csv('/datasets/geo_data_1.csv')\n",
    "try:\n",
    "    df2 = pd.read_csv('C:/Users/Alejandro/Downloads/geo_data_2.csv')\n",
    "except:\n",
    "    df2 = pd.read_csv('/datasets/geo_data_2.csv')"
   ]
  },
  {
   "cell_type": "markdown",
   "metadata": {},
   "source": [
    "<a id=\"conociendolosdatos\"></a>\n",
    "### Conociendo los datos"
   ]
  },
  {
   "cell_type": "markdown",
   "metadata": {},
   "source": [
    "Para analizar estos datos, es fundamental comprender su estructura. Dado que la mayoría de los datos son numéricos, utilizaremos los métodos describe, info y head. Estos nos permitirán explorar las primeras filas de cada DataFrame, así como sus columnas, tipos de datos y distribución estadística."
   ]
  },
  {
   "cell_type": "markdown",
   "metadata": {},
   "source": [
    "<a id=\"df0\"></a>\n",
    "#### df0"
   ]
  },
  {
   "cell_type": "code",
   "execution_count": 78,
   "metadata": {},
   "outputs": [
    {
     "name": "stdout",
     "output_type": "stream",
     "text": [
      "<class 'pandas.core.frame.DataFrame'>\n",
      "RangeIndex: 100000 entries, 0 to 99999\n",
      "Data columns (total 5 columns):\n",
      " #   Column   Non-Null Count   Dtype  \n",
      "---  ------   --------------   -----  \n",
      " 0   id       100000 non-null  object \n",
      " 1   f0       100000 non-null  float64\n",
      " 2   f1       100000 non-null  float64\n",
      " 3   f2       100000 non-null  float64\n",
      " 4   product  100000 non-null  float64\n",
      "dtypes: float64(4), object(1)\n",
      "memory usage: 3.8+ MB\n"
     ]
    }
   ],
   "source": [
    "df0.info()"
   ]
  },
  {
   "cell_type": "code",
   "execution_count": 79,
   "metadata": {},
   "outputs": [
    {
     "data": {
      "text/html": [
       "<div>\n",
       "<style scoped>\n",
       "    .dataframe tbody tr th:only-of-type {\n",
       "        vertical-align: middle;\n",
       "    }\n",
       "\n",
       "    .dataframe tbody tr th {\n",
       "        vertical-align: top;\n",
       "    }\n",
       "\n",
       "    .dataframe thead th {\n",
       "        text-align: right;\n",
       "    }\n",
       "</style>\n",
       "<table border=\"1\" class=\"dataframe\">\n",
       "  <thead>\n",
       "    <tr style=\"text-align: right;\">\n",
       "      <th></th>\n",
       "      <th>id</th>\n",
       "      <th>f0</th>\n",
       "      <th>f1</th>\n",
       "      <th>f2</th>\n",
       "      <th>product</th>\n",
       "    </tr>\n",
       "  </thead>\n",
       "  <tbody>\n",
       "    <tr>\n",
       "      <th>0</th>\n",
       "      <td>txEyH</td>\n",
       "      <td>0.705745</td>\n",
       "      <td>-0.497823</td>\n",
       "      <td>1.221170</td>\n",
       "      <td>105.280062</td>\n",
       "    </tr>\n",
       "    <tr>\n",
       "      <th>1</th>\n",
       "      <td>2acmU</td>\n",
       "      <td>1.334711</td>\n",
       "      <td>-0.340164</td>\n",
       "      <td>4.365080</td>\n",
       "      <td>73.037750</td>\n",
       "    </tr>\n",
       "    <tr>\n",
       "      <th>2</th>\n",
       "      <td>409Wp</td>\n",
       "      <td>1.022732</td>\n",
       "      <td>0.151990</td>\n",
       "      <td>1.419926</td>\n",
       "      <td>85.265647</td>\n",
       "    </tr>\n",
       "    <tr>\n",
       "      <th>3</th>\n",
       "      <td>iJLyR</td>\n",
       "      <td>-0.032172</td>\n",
       "      <td>0.139033</td>\n",
       "      <td>2.978566</td>\n",
       "      <td>168.620776</td>\n",
       "    </tr>\n",
       "    <tr>\n",
       "      <th>4</th>\n",
       "      <td>Xdl7t</td>\n",
       "      <td>1.988431</td>\n",
       "      <td>0.155413</td>\n",
       "      <td>4.751769</td>\n",
       "      <td>154.036647</td>\n",
       "    </tr>\n",
       "  </tbody>\n",
       "</table>\n",
       "</div>"
      ],
      "text/plain": [
       "      id        f0        f1        f2     product\n",
       "0  txEyH  0.705745 -0.497823  1.221170  105.280062\n",
       "1  2acmU  1.334711 -0.340164  4.365080   73.037750\n",
       "2  409Wp  1.022732  0.151990  1.419926   85.265647\n",
       "3  iJLyR -0.032172  0.139033  2.978566  168.620776\n",
       "4  Xdl7t  1.988431  0.155413  4.751769  154.036647"
      ]
     },
     "execution_count": 79,
     "metadata": {},
     "output_type": "execute_result"
    }
   ],
   "source": [
    "df0.head()"
   ]
  },
  {
   "cell_type": "code",
   "execution_count": 80,
   "metadata": {},
   "outputs": [
    {
     "data": {
      "text/html": [
       "<div>\n",
       "<style scoped>\n",
       "    .dataframe tbody tr th:only-of-type {\n",
       "        vertical-align: middle;\n",
       "    }\n",
       "\n",
       "    .dataframe tbody tr th {\n",
       "        vertical-align: top;\n",
       "    }\n",
       "\n",
       "    .dataframe thead th {\n",
       "        text-align: right;\n",
       "    }\n",
       "</style>\n",
       "<table border=\"1\" class=\"dataframe\">\n",
       "  <thead>\n",
       "    <tr style=\"text-align: right;\">\n",
       "      <th></th>\n",
       "      <th>f0</th>\n",
       "      <th>f1</th>\n",
       "      <th>f2</th>\n",
       "      <th>product</th>\n",
       "    </tr>\n",
       "  </thead>\n",
       "  <tbody>\n",
       "    <tr>\n",
       "      <th>count</th>\n",
       "      <td>100000.000000</td>\n",
       "      <td>100000.000000</td>\n",
       "      <td>100000.000000</td>\n",
       "      <td>100000.000000</td>\n",
       "    </tr>\n",
       "    <tr>\n",
       "      <th>mean</th>\n",
       "      <td>0.500419</td>\n",
       "      <td>0.250143</td>\n",
       "      <td>2.502647</td>\n",
       "      <td>92.500000</td>\n",
       "    </tr>\n",
       "    <tr>\n",
       "      <th>std</th>\n",
       "      <td>0.871832</td>\n",
       "      <td>0.504433</td>\n",
       "      <td>3.248248</td>\n",
       "      <td>44.288691</td>\n",
       "    </tr>\n",
       "    <tr>\n",
       "      <th>min</th>\n",
       "      <td>-1.408605</td>\n",
       "      <td>-0.848218</td>\n",
       "      <td>-12.088328</td>\n",
       "      <td>0.000000</td>\n",
       "    </tr>\n",
       "    <tr>\n",
       "      <th>25%</th>\n",
       "      <td>-0.072580</td>\n",
       "      <td>-0.200881</td>\n",
       "      <td>0.287748</td>\n",
       "      <td>56.497507</td>\n",
       "    </tr>\n",
       "    <tr>\n",
       "      <th>50%</th>\n",
       "      <td>0.502360</td>\n",
       "      <td>0.250252</td>\n",
       "      <td>2.515969</td>\n",
       "      <td>91.849972</td>\n",
       "    </tr>\n",
       "    <tr>\n",
       "      <th>75%</th>\n",
       "      <td>1.073581</td>\n",
       "      <td>0.700646</td>\n",
       "      <td>4.715088</td>\n",
       "      <td>128.564089</td>\n",
       "    </tr>\n",
       "    <tr>\n",
       "      <th>max</th>\n",
       "      <td>2.362331</td>\n",
       "      <td>1.343769</td>\n",
       "      <td>16.003790</td>\n",
       "      <td>185.364347</td>\n",
       "    </tr>\n",
       "  </tbody>\n",
       "</table>\n",
       "</div>"
      ],
      "text/plain": [
       "                  f0             f1             f2        product\n",
       "count  100000.000000  100000.000000  100000.000000  100000.000000\n",
       "mean        0.500419       0.250143       2.502647      92.500000\n",
       "std         0.871832       0.504433       3.248248      44.288691\n",
       "min        -1.408605      -0.848218     -12.088328       0.000000\n",
       "25%        -0.072580      -0.200881       0.287748      56.497507\n",
       "50%         0.502360       0.250252       2.515969      91.849972\n",
       "75%         1.073581       0.700646       4.715088     128.564089\n",
       "max         2.362331       1.343769      16.003790     185.364347"
      ]
     },
     "execution_count": 80,
     "metadata": {},
     "output_type": "execute_result"
    }
   ],
   "source": [
    "df0.describe()"
   ]
  },
  {
   "cell_type": "markdown",
   "metadata": {},
   "source": [
    "<a id=\"df1\"></a>\n",
    "#### df1"
   ]
  },
  {
   "cell_type": "code",
   "execution_count": 81,
   "metadata": {},
   "outputs": [
    {
     "name": "stdout",
     "output_type": "stream",
     "text": [
      "<class 'pandas.core.frame.DataFrame'>\n",
      "RangeIndex: 100000 entries, 0 to 99999\n",
      "Data columns (total 5 columns):\n",
      " #   Column   Non-Null Count   Dtype  \n",
      "---  ------   --------------   -----  \n",
      " 0   id       100000 non-null  object \n",
      " 1   f0       100000 non-null  float64\n",
      " 2   f1       100000 non-null  float64\n",
      " 3   f2       100000 non-null  float64\n",
      " 4   product  100000 non-null  float64\n",
      "dtypes: float64(4), object(1)\n",
      "memory usage: 3.8+ MB\n"
     ]
    }
   ],
   "source": [
    "df1.info()"
   ]
  },
  {
   "cell_type": "code",
   "execution_count": 82,
   "metadata": {},
   "outputs": [
    {
     "data": {
      "text/html": [
       "<div>\n",
       "<style scoped>\n",
       "    .dataframe tbody tr th:only-of-type {\n",
       "        vertical-align: middle;\n",
       "    }\n",
       "\n",
       "    .dataframe tbody tr th {\n",
       "        vertical-align: top;\n",
       "    }\n",
       "\n",
       "    .dataframe thead th {\n",
       "        text-align: right;\n",
       "    }\n",
       "</style>\n",
       "<table border=\"1\" class=\"dataframe\">\n",
       "  <thead>\n",
       "    <tr style=\"text-align: right;\">\n",
       "      <th></th>\n",
       "      <th>id</th>\n",
       "      <th>f0</th>\n",
       "      <th>f1</th>\n",
       "      <th>f2</th>\n",
       "      <th>product</th>\n",
       "    </tr>\n",
       "  </thead>\n",
       "  <tbody>\n",
       "    <tr>\n",
       "      <th>0</th>\n",
       "      <td>kBEdx</td>\n",
       "      <td>-15.001348</td>\n",
       "      <td>-8.276000</td>\n",
       "      <td>-0.005876</td>\n",
       "      <td>3.179103</td>\n",
       "    </tr>\n",
       "    <tr>\n",
       "      <th>1</th>\n",
       "      <td>62mP7</td>\n",
       "      <td>14.272088</td>\n",
       "      <td>-3.475083</td>\n",
       "      <td>0.999183</td>\n",
       "      <td>26.953261</td>\n",
       "    </tr>\n",
       "    <tr>\n",
       "      <th>2</th>\n",
       "      <td>vyE1P</td>\n",
       "      <td>6.263187</td>\n",
       "      <td>-5.948386</td>\n",
       "      <td>5.001160</td>\n",
       "      <td>134.766305</td>\n",
       "    </tr>\n",
       "    <tr>\n",
       "      <th>3</th>\n",
       "      <td>KcrkZ</td>\n",
       "      <td>-13.081196</td>\n",
       "      <td>-11.506057</td>\n",
       "      <td>4.999415</td>\n",
       "      <td>137.945408</td>\n",
       "    </tr>\n",
       "    <tr>\n",
       "      <th>4</th>\n",
       "      <td>AHL4O</td>\n",
       "      <td>12.702195</td>\n",
       "      <td>-8.147433</td>\n",
       "      <td>5.004363</td>\n",
       "      <td>134.766305</td>\n",
       "    </tr>\n",
       "  </tbody>\n",
       "</table>\n",
       "</div>"
      ],
      "text/plain": [
       "      id         f0         f1        f2     product\n",
       "0  kBEdx -15.001348  -8.276000 -0.005876    3.179103\n",
       "1  62mP7  14.272088  -3.475083  0.999183   26.953261\n",
       "2  vyE1P   6.263187  -5.948386  5.001160  134.766305\n",
       "3  KcrkZ -13.081196 -11.506057  4.999415  137.945408\n",
       "4  AHL4O  12.702195  -8.147433  5.004363  134.766305"
      ]
     },
     "execution_count": 82,
     "metadata": {},
     "output_type": "execute_result"
    }
   ],
   "source": [
    "df1.head()"
   ]
  },
  {
   "cell_type": "code",
   "execution_count": 83,
   "metadata": {},
   "outputs": [
    {
     "data": {
      "text/html": [
       "<div>\n",
       "<style scoped>\n",
       "    .dataframe tbody tr th:only-of-type {\n",
       "        vertical-align: middle;\n",
       "    }\n",
       "\n",
       "    .dataframe tbody tr th {\n",
       "        vertical-align: top;\n",
       "    }\n",
       "\n",
       "    .dataframe thead th {\n",
       "        text-align: right;\n",
       "    }\n",
       "</style>\n",
       "<table border=\"1\" class=\"dataframe\">\n",
       "  <thead>\n",
       "    <tr style=\"text-align: right;\">\n",
       "      <th></th>\n",
       "      <th>f0</th>\n",
       "      <th>f1</th>\n",
       "      <th>f2</th>\n",
       "      <th>product</th>\n",
       "    </tr>\n",
       "  </thead>\n",
       "  <tbody>\n",
       "    <tr>\n",
       "      <th>count</th>\n",
       "      <td>100000.000000</td>\n",
       "      <td>100000.000000</td>\n",
       "      <td>100000.000000</td>\n",
       "      <td>100000.000000</td>\n",
       "    </tr>\n",
       "    <tr>\n",
       "      <th>mean</th>\n",
       "      <td>1.141296</td>\n",
       "      <td>-4.796579</td>\n",
       "      <td>2.494541</td>\n",
       "      <td>68.825000</td>\n",
       "    </tr>\n",
       "    <tr>\n",
       "      <th>std</th>\n",
       "      <td>8.965932</td>\n",
       "      <td>5.119872</td>\n",
       "      <td>1.703572</td>\n",
       "      <td>45.944423</td>\n",
       "    </tr>\n",
       "    <tr>\n",
       "      <th>min</th>\n",
       "      <td>-31.609576</td>\n",
       "      <td>-26.358598</td>\n",
       "      <td>-0.018144</td>\n",
       "      <td>0.000000</td>\n",
       "    </tr>\n",
       "    <tr>\n",
       "      <th>25%</th>\n",
       "      <td>-6.298551</td>\n",
       "      <td>-8.267985</td>\n",
       "      <td>1.000021</td>\n",
       "      <td>26.953261</td>\n",
       "    </tr>\n",
       "    <tr>\n",
       "      <th>50%</th>\n",
       "      <td>1.153055</td>\n",
       "      <td>-4.813172</td>\n",
       "      <td>2.011479</td>\n",
       "      <td>57.085625</td>\n",
       "    </tr>\n",
       "    <tr>\n",
       "      <th>75%</th>\n",
       "      <td>8.621015</td>\n",
       "      <td>-1.332816</td>\n",
       "      <td>3.999904</td>\n",
       "      <td>107.813044</td>\n",
       "    </tr>\n",
       "    <tr>\n",
       "      <th>max</th>\n",
       "      <td>29.421755</td>\n",
       "      <td>18.734063</td>\n",
       "      <td>5.019721</td>\n",
       "      <td>137.945408</td>\n",
       "    </tr>\n",
       "  </tbody>\n",
       "</table>\n",
       "</div>"
      ],
      "text/plain": [
       "                  f0             f1             f2        product\n",
       "count  100000.000000  100000.000000  100000.000000  100000.000000\n",
       "mean        1.141296      -4.796579       2.494541      68.825000\n",
       "std         8.965932       5.119872       1.703572      45.944423\n",
       "min       -31.609576     -26.358598      -0.018144       0.000000\n",
       "25%        -6.298551      -8.267985       1.000021      26.953261\n",
       "50%         1.153055      -4.813172       2.011479      57.085625\n",
       "75%         8.621015      -1.332816       3.999904     107.813044\n",
       "max        29.421755      18.734063       5.019721     137.945408"
      ]
     },
     "execution_count": 83,
     "metadata": {},
     "output_type": "execute_result"
    }
   ],
   "source": [
    "df1.describe()"
   ]
  },
  {
   "cell_type": "markdown",
   "metadata": {},
   "source": [
    "<a id=\"df2\"></a>\n",
    "#### df2"
   ]
  },
  {
   "cell_type": "code",
   "execution_count": 84,
   "metadata": {},
   "outputs": [
    {
     "name": "stdout",
     "output_type": "stream",
     "text": [
      "<class 'pandas.core.frame.DataFrame'>\n",
      "RangeIndex: 100000 entries, 0 to 99999\n",
      "Data columns (total 5 columns):\n",
      " #   Column   Non-Null Count   Dtype  \n",
      "---  ------   --------------   -----  \n",
      " 0   id       100000 non-null  object \n",
      " 1   f0       100000 non-null  float64\n",
      " 2   f1       100000 non-null  float64\n",
      " 3   f2       100000 non-null  float64\n",
      " 4   product  100000 non-null  float64\n",
      "dtypes: float64(4), object(1)\n",
      "memory usage: 3.8+ MB\n"
     ]
    }
   ],
   "source": [
    "df2.info()"
   ]
  },
  {
   "cell_type": "code",
   "execution_count": 85,
   "metadata": {},
   "outputs": [
    {
     "data": {
      "text/html": [
       "<div>\n",
       "<style scoped>\n",
       "    .dataframe tbody tr th:only-of-type {\n",
       "        vertical-align: middle;\n",
       "    }\n",
       "\n",
       "    .dataframe tbody tr th {\n",
       "        vertical-align: top;\n",
       "    }\n",
       "\n",
       "    .dataframe thead th {\n",
       "        text-align: right;\n",
       "    }\n",
       "</style>\n",
       "<table border=\"1\" class=\"dataframe\">\n",
       "  <thead>\n",
       "    <tr style=\"text-align: right;\">\n",
       "      <th></th>\n",
       "      <th>id</th>\n",
       "      <th>f0</th>\n",
       "      <th>f1</th>\n",
       "      <th>f2</th>\n",
       "      <th>product</th>\n",
       "    </tr>\n",
       "  </thead>\n",
       "  <tbody>\n",
       "    <tr>\n",
       "      <th>0</th>\n",
       "      <td>fwXo0</td>\n",
       "      <td>-1.146987</td>\n",
       "      <td>0.963328</td>\n",
       "      <td>-0.828965</td>\n",
       "      <td>27.758673</td>\n",
       "    </tr>\n",
       "    <tr>\n",
       "      <th>1</th>\n",
       "      <td>WJtFt</td>\n",
       "      <td>0.262778</td>\n",
       "      <td>0.269839</td>\n",
       "      <td>-2.530187</td>\n",
       "      <td>56.069697</td>\n",
       "    </tr>\n",
       "    <tr>\n",
       "      <th>2</th>\n",
       "      <td>ovLUW</td>\n",
       "      <td>0.194587</td>\n",
       "      <td>0.289035</td>\n",
       "      <td>-5.586433</td>\n",
       "      <td>62.871910</td>\n",
       "    </tr>\n",
       "    <tr>\n",
       "      <th>3</th>\n",
       "      <td>q6cA6</td>\n",
       "      <td>2.236060</td>\n",
       "      <td>-0.553760</td>\n",
       "      <td>0.930038</td>\n",
       "      <td>114.572842</td>\n",
       "    </tr>\n",
       "    <tr>\n",
       "      <th>4</th>\n",
       "      <td>WPMUX</td>\n",
       "      <td>-0.515993</td>\n",
       "      <td>1.716266</td>\n",
       "      <td>5.899011</td>\n",
       "      <td>149.600746</td>\n",
       "    </tr>\n",
       "  </tbody>\n",
       "</table>\n",
       "</div>"
      ],
      "text/plain": [
       "      id        f0        f1        f2     product\n",
       "0  fwXo0 -1.146987  0.963328 -0.828965   27.758673\n",
       "1  WJtFt  0.262778  0.269839 -2.530187   56.069697\n",
       "2  ovLUW  0.194587  0.289035 -5.586433   62.871910\n",
       "3  q6cA6  2.236060 -0.553760  0.930038  114.572842\n",
       "4  WPMUX -0.515993  1.716266  5.899011  149.600746"
      ]
     },
     "execution_count": 85,
     "metadata": {},
     "output_type": "execute_result"
    }
   ],
   "source": [
    "df2.head()"
   ]
  },
  {
   "cell_type": "code",
   "execution_count": 86,
   "metadata": {},
   "outputs": [
    {
     "data": {
      "text/html": [
       "<div>\n",
       "<style scoped>\n",
       "    .dataframe tbody tr th:only-of-type {\n",
       "        vertical-align: middle;\n",
       "    }\n",
       "\n",
       "    .dataframe tbody tr th {\n",
       "        vertical-align: top;\n",
       "    }\n",
       "\n",
       "    .dataframe thead th {\n",
       "        text-align: right;\n",
       "    }\n",
       "</style>\n",
       "<table border=\"1\" class=\"dataframe\">\n",
       "  <thead>\n",
       "    <tr style=\"text-align: right;\">\n",
       "      <th></th>\n",
       "      <th>f0</th>\n",
       "      <th>f1</th>\n",
       "      <th>f2</th>\n",
       "      <th>product</th>\n",
       "    </tr>\n",
       "  </thead>\n",
       "  <tbody>\n",
       "    <tr>\n",
       "      <th>count</th>\n",
       "      <td>100000.000000</td>\n",
       "      <td>100000.000000</td>\n",
       "      <td>100000.000000</td>\n",
       "      <td>100000.000000</td>\n",
       "    </tr>\n",
       "    <tr>\n",
       "      <th>mean</th>\n",
       "      <td>0.002023</td>\n",
       "      <td>-0.002081</td>\n",
       "      <td>2.495128</td>\n",
       "      <td>95.000000</td>\n",
       "    </tr>\n",
       "    <tr>\n",
       "      <th>std</th>\n",
       "      <td>1.732045</td>\n",
       "      <td>1.730417</td>\n",
       "      <td>3.473445</td>\n",
       "      <td>44.749921</td>\n",
       "    </tr>\n",
       "    <tr>\n",
       "      <th>min</th>\n",
       "      <td>-8.760004</td>\n",
       "      <td>-7.084020</td>\n",
       "      <td>-11.970335</td>\n",
       "      <td>0.000000</td>\n",
       "    </tr>\n",
       "    <tr>\n",
       "      <th>25%</th>\n",
       "      <td>-1.162288</td>\n",
       "      <td>-1.174820</td>\n",
       "      <td>0.130359</td>\n",
       "      <td>59.450441</td>\n",
       "    </tr>\n",
       "    <tr>\n",
       "      <th>50%</th>\n",
       "      <td>0.009424</td>\n",
       "      <td>-0.009482</td>\n",
       "      <td>2.484236</td>\n",
       "      <td>94.925613</td>\n",
       "    </tr>\n",
       "    <tr>\n",
       "      <th>75%</th>\n",
       "      <td>1.158535</td>\n",
       "      <td>1.163678</td>\n",
       "      <td>4.858794</td>\n",
       "      <td>130.595027</td>\n",
       "    </tr>\n",
       "    <tr>\n",
       "      <th>max</th>\n",
       "      <td>7.238262</td>\n",
       "      <td>7.844801</td>\n",
       "      <td>16.739402</td>\n",
       "      <td>190.029838</td>\n",
       "    </tr>\n",
       "  </tbody>\n",
       "</table>\n",
       "</div>"
      ],
      "text/plain": [
       "                  f0             f1             f2        product\n",
       "count  100000.000000  100000.000000  100000.000000  100000.000000\n",
       "mean        0.002023      -0.002081       2.495128      95.000000\n",
       "std         1.732045       1.730417       3.473445      44.749921\n",
       "min        -8.760004      -7.084020     -11.970335       0.000000\n",
       "25%        -1.162288      -1.174820       0.130359      59.450441\n",
       "50%         0.009424      -0.009482       2.484236      94.925613\n",
       "75%         1.158535       1.163678       4.858794     130.595027\n",
       "max         7.238262       7.844801      16.739402     190.029838"
      ]
     },
     "execution_count": 86,
     "metadata": {},
     "output_type": "execute_result"
    }
   ],
   "source": [
    "df2.describe()"
   ]
  },
  {
   "cell_type": "markdown",
   "metadata": {},
   "source": [
    "<a id=\"limpiezadedatos\"></a>\n",
    "### Limpieza de datos"
   ]
  },
  {
   "cell_type": "markdown",
   "metadata": {},
   "source": [
    "Es habitual encontrarnos con datos faltantes o incorrectos en nuestros conjuntos de datos. En este caso, tenemos una columna que no aporta información y podría confundir a nuestro modelo. Para evitar este problema, eliminaremos la columna \"id\" de cada DataFrame.\n",
    "\n",
    "Además, vamos a agrupar los DataFrames en una lista. Esto nos permitirá optimizar el espacio y hacer que el código sea más eficiente. Es importante tener en cuenta que solo realizaremos cambios en esta lista, los DataFrames originales permanecerán intactos."
   ]
  },
  {
   "cell_type": "code",
   "execution_count": 87,
   "metadata": {},
   "outputs": [],
   "source": [
    "dfs = [df0, df1, df2]"
   ]
  },
  {
   "cell_type": "code",
   "execution_count": 88,
   "metadata": {},
   "outputs": [],
   "source": [
    "for df in range(len(dfs)):\n",
    "    dfs[df] = dfs[df].drop('id', axis=1)"
   ]
  },
  {
   "cell_type": "markdown",
   "metadata": {},
   "source": [
    "Revisamos uno de los DataFrames para confirmar el cambio que realizamos."
   ]
  },
  {
   "cell_type": "code",
   "execution_count": 89,
   "metadata": {},
   "outputs": [
    {
     "name": "stdout",
     "output_type": "stream",
     "text": [
      "<class 'pandas.core.frame.DataFrame'>\n",
      "RangeIndex: 100000 entries, 0 to 99999\n",
      "Data columns (total 4 columns):\n",
      " #   Column   Non-Null Count   Dtype  \n",
      "---  ------   --------------   -----  \n",
      " 0   f0       100000 non-null  float64\n",
      " 1   f1       100000 non-null  float64\n",
      " 2   f2       100000 non-null  float64\n",
      " 3   product  100000 non-null  float64\n",
      "dtypes: float64(4)\n",
      "memory usage: 3.1 MB\n"
     ]
    }
   ],
   "source": [
    "dfs[0].info()"
   ]
  },
  {
   "cell_type": "markdown",
   "metadata": {},
   "source": [
    "<a id=\"primermodelo\"></a>\n",
    "## Primer modelo"
   ]
  },
  {
   "cell_type": "markdown",
   "metadata": {},
   "source": [
    "Los datos se dividirán en un 75% para entrenamiento y un 25% para validación. Este proceso se realizará para cada DataFrame con el que estamos trabajando.\n",
    "\n",
    "Los datos de cada región están ordenados de la misma manera, con tres columnas que serán nuestros atributos (f0, f1 y f2). Aunque desconocemos el significado de estas columnas, tanto nosotros como el modelo predictivo consideramos que son datos importantes y relevantes para el análisis.\n",
    "\n",
    "Por otro lado, la columna \"product\" será nuestro objetivo (target)."
   ]
  },
  {
   "cell_type": "code",
   "execution_count": 90,
   "metadata": {},
   "outputs": [],
   "source": [
    "rs = RandomState(54321) # Fijemos una semilla"
   ]
  },
  {
   "cell_type": "code",
   "execution_count": 91,
   "metadata": {},
   "outputs": [
    {
     "name": "stdout",
     "output_type": "stream",
     "text": [
      "Región 0\n",
      "Promedio de las reservas: 92.50000000000001\n",
      "RECM: 37.68341093860808\n",
      "\n",
      "Región 1\n",
      "Promedio de las reservas: 68.82500000000002\n",
      "RECM: 0.8885222400411976\n",
      "\n",
      "Región 2\n",
      "Promedio de las reservas: 95.00000000000004\n",
      "RECM: 40.136726733973994\n",
      "\n"
     ]
    }
   ],
   "source": [
    "targets = [] # Donde juntaremos los target de validación\n",
    "preds = [] # Donde juntaremos las predicciones de validación\n",
    "\n",
    "for i in range(len(dfs)):\n",
    "    df_train, df_valid = train_test_split(dfs[i], test_size=0.25, random_state=rs) # Dividmos los datos\n",
    "    features_train = df_train.drop(['product'], axis=1) # Creamos features de entrenamiento\n",
    "    target_train = df_train['product'] # Creamos targets de entrenamiento\n",
    "    features_valid = df_valid.drop(['product'], axis=1) # Creamos features de validación\n",
    "    target_valid = df_valid['product'] # Creamos target de validación\n",
    "    \n",
    "    reg = LinearRegression() # Creamos la regresión\n",
    "    reg.fit(features_train, target_train) # Entrenamos a la regresión\n",
    "\n",
    "    pred = reg.predict(features_valid) # Hacemos predicciones con el modelo\n",
    "    ecm = mean_squared_error(target_valid, pred) # Calculamos el ECM\n",
    "    recm = ecm**0.5 # Calculamos el RECM\n",
    "    mean = dfs[i]['product'].mean() # Calculamos el promedio\n",
    "    \n",
    "    # Agregamos las informaciones a las listas externas\n",
    "    targets.append(target_valid.reset_index(drop=True))\n",
    "    preds.append(pd.Series(pred))\n",
    "    \n",
    "    # Imprimimos los resultados\n",
    "    print('Región', i)\n",
    "    print('Promedio de las reservas:', mean)\n",
    "    print('RECM:', recm)\n",
    "    print()"
   ]
  },
  {
   "cell_type": "markdown",
   "metadata": {},
   "source": [
    "<a id=\"comparacion\"></a>\n",
    "### Comparación"
   ]
  },
  {
   "cell_type": "markdown",
   "metadata": {},
   "source": [
    "¿Es posible? El modelo de la región 1 tuvo un RECM menor a 1, cercano al valor ideal de 0. Esto sugiere que todas sus predicciones fueron casi exactas.\n",
    "\n",
    "Al parecer, la región 1 ha logrado predecir la cantidad de producto en los pozos de manera casi perfecta. Verificaremos si esto se mantiene cuando evaluemos los modelos.\n",
    "\n",
    "En las otras dos regiones, encontramos valores de RECM mayores a 22. Esto indica que los modelos no son capaces de realizar predicciones tan precisas, y las predicciones suelen tener errores de más de 22 unidades de producto."
   ]
  },
  {
   "cell_type": "markdown",
   "metadata": {},
   "source": [
    "<a id=\"calculodeganancias\"></a>\n",
    "## Cálculo de ganacias"
   ]
  },
  {
   "cell_type": "markdown",
   "metadata": {},
   "source": [
    "Vamos a proceder con el cálculo de las posibles ganancias que la compañía podría obtener. Para esto, estableceremos algunas condiciones bajo las cuales trabajaremos.\n",
    "\n",
    "Condiciones:\n",
    "\n",
    "- Durante la exploración de la región, se realizará un estudio de 500 puntos, de los cuales se seleccionarán los mejores 200 puntos para el cálculo del beneficio.\n",
    "- El presupuesto destinado al desarrollo de 200 pozos petroleros es de 100 millones de dólares.\n",
    "- Cada barril de materias primas genera ingresos por un total de 4.5 USD. Por lo tanto, el ingreso por unidad de producto es de 4500 dólares (el volumen de reservas está expresado en miles de barriles).\n",
    "- Después de la evaluación de riesgos, solo se mantendrán las regiones con riesgo de pérdidas inferior al 2.5%. Entre las regiones que cumplen con este criterio, se seleccionará aquella que tenga el beneficio promedio más alto."
   ]
  },
  {
   "cell_type": "markdown",
   "metadata": {},
   "source": [
    "<a id=\"variablesimportantes\"></a>\n",
    "### Variables importantes"
   ]
  },
  {
   "cell_type": "markdown",
   "metadata": {},
   "source": [
    "Además de las condiciones establecidas para el cálculo, es necesario identificar y aislar las variables necesarias para llevar a cabo el análisis. Para cada región, necesitaremos conocer la cantidad de producto por pozo, ordenada en orden descendente, con el fin de considerar únicamente los mejores 200 pozos. También calcularemos la cantidad de producto necesaria para establecer un pozo sin pérdidas y la compararemos con la cantidad promedio de producto por pozo en cada región."
   ]
  },
  {
   "cell_type": "code",
   "execution_count": 92,
   "metadata": {},
   "outputs": [],
   "source": [
    "# Variables generales\n",
    "costo_pozo = 100000000/200 # Costo de 200 pozos dividido por pozos\n",
    "ingreso_producto = 4500 # Ingreso por unidad de producto\n",
    "riesgo_max = 0.025 # 2.5%\n",
    "\n",
    "# Región 0\n",
    "product_0 = df0.loc[:,'product'].sort_values(ascending=False)\n",
    "mean_0 = product_0.mean()\n",
    "\n",
    "# Región 1\n",
    "product_1 = df1.loc[:,'product'].sort_values(ascending=False)\n",
    "mean_1 = product_1.mean()\n",
    "\n",
    "# Regiön 2\n",
    "product_2 = df2.loc[:,'product'].sort_values(ascending=False)\n",
    "mean_2 = product_2.mean()"
   ]
  },
  {
   "cell_type": "markdown",
   "metadata": {},
   "source": [
    "<a id=\"costoporpozo\"></a>\n",
    "### Costo por pozo"
   ]
  },
  {
   "cell_type": "markdown",
   "metadata": {},
   "source": [
    "Ahora que disponemos de las variables necesarias, procederemos a calcular la cantidad de producto necesaria para instalar un pozo sin pérdidas."
   ]
  },
  {
   "cell_type": "code",
   "execution_count": 93,
   "metadata": {},
   "outputs": [
    {
     "name": "stdout",
     "output_type": "stream",
     "text": [
      "Cantidad de producto necesario en un pozo: 111.11111111111111\n",
      "\n",
      "Producto promedio en región 0: 92.50000000000001\n",
      "Producto promedio en región 1: 68.825\n",
      "Producto promedio en región 2: 95.0\n"
     ]
    }
   ],
   "source": [
    "print('Cantidad de producto necesario en un pozo:', costo_pozo/ingreso_producto)\n",
    "print()\n",
    "print('Producto promedio en región 0:', mean_0)\n",
    "print('Producto promedio en región 1:', mean_1)\n",
    "print('Producto promedio en región 2:', mean_2)"
   ]
  },
  {
   "cell_type": "markdown",
   "metadata": {},
   "source": [
    "Como podemos observar, un pozo requiere una cantidad de producto mayor al promedio encontrado en cualquier región para alcanzar el punto mínimo donde se eliminen los gastos y comiencen a generarse ganancias. Este hecho confirma la importancia de seleccionar únicamente los pozos con la mayor cantidad de producto disponible. Por curiosidad, examinemos la cantidad de producto en los mejores pozos de cada región."
   ]
  },
  {
   "cell_type": "code",
   "execution_count": 94,
   "metadata": {},
   "outputs": [
    {
     "name": "stdout",
     "output_type": "stream",
     "text": [
      "Mayor cantidad de producto en región 0:\n",
      "8826     185.364347\n",
      "99818    185.362690\n",
      "94175    185.355615\n",
      "1925     185.354980\n",
      "45291    185.352015\n",
      "Name: product, dtype: float64\n",
      "\n",
      "Mayor cantidad de producto en región 1:\n",
      "53864    137.945408\n",
      "97083    137.945408\n",
      "88340    137.945408\n",
      "64879    137.945408\n",
      "7288     137.945408\n",
      "Name: product, dtype: float64\n",
      "\n",
      "Mayor cantidad de producto en región 1:\n",
      "79705    190.029838\n",
      "93444    190.013589\n",
      "35099    190.011722\n",
      "21943    190.010982\n",
      "37870    190.010029\n",
      "Name: product, dtype: float64\n",
      "\n"
     ]
    }
   ],
   "source": [
    "print('Mayor cantidad de producto en región 0:')\n",
    "print(product_0.head())\n",
    "print()\n",
    "print('Mayor cantidad de producto en región 1:')\n",
    "print(product_1.head())\n",
    "print()\n",
    "print('Mayor cantidad de producto en región 1:')\n",
    "print(product_2.head())\n",
    "print()"
   ]
  },
  {
   "cell_type": "markdown",
   "metadata": {},
   "source": [
    "Una posible explicación para que el modelo de la región 1 haya podido alcanzar un RECM de 0 podría ser que los valores dentro de esta región se encuentran dentro de un rango más estrecho en comparación con las otras dos regiones. Tanto el promedio como el producto de los pozos más grandes de esta región son notablemente menores en comparación con las otras dos regiones."
   ]
  },
  {
   "cell_type": "markdown",
   "metadata": {},
   "source": [
    "<a id=\"ganancias\"></a>\n",
    "### Ganancias"
   ]
  },
  {
   "cell_type": "markdown",
   "metadata": {},
   "source": [
    "Desarrolla una función para calcular las ganancias generadas por un conjunto de pozos de petróleo seleccionados y modela las predicciones:\n",
    "\n",
    "- 4.1. Selecciona los pozos con los valores más altos de predicciones.\n",
    "- 4.2. Resume el volumen objetivo de reservas de acuerdo con estas predicciones.\n",
    "- 4.3. Presenta los hallazgos: sugiere una región para el desarrollo de pozos petroleros y justifica la elección. Calcula el beneficio por el volumen de reservas obtenido.\n",
    "\n",
    "Ahora que tenemos la cantidad mínima necesaria para que un pozo sea viable, podemos iniciar el cálculo de las ganancias totales basadas en los mejores pozos. Para ello, solo consideraremos los 200 pozos con el mayor producto predicho de cada muestra de 500 pozos.\n",
    "\n",
    "Por lo tanto, es crucial ordenar estos datos y calcular las posibles ganancias a obtener. Comencemos por desarrollar la función que llevará a cabo este proceso. Posteriormente, obtendremos las predicciones y aplicaremos la función."
   ]
  },
  {
   "cell_type": "code",
   "execution_count": 95,
   "metadata": {},
   "outputs": [],
   "source": [
    "def revenue(target, product, count):\n",
    "    prod_sorted = product.sort_values(ascending=False) \n",
    "    selected = target[prod_sorted.index][:count] \n",
    "    return 4500 *sum(selected)-100000000"
   ]
  },
  {
   "cell_type": "code",
   "execution_count": 96,
   "metadata": {},
   "outputs": [
    {
     "name": "stdout",
     "output_type": "stream",
     "text": [
      "Región 0\n",
      "Ganancia promedio: 4128884.9328680914\n",
      "Riesgo de perdida: 0.068\n",
      "Rango de confianza desde -1031901.464448056 hasta 9768852.938127648\n",
      "\n",
      "Región 1\n",
      "Ganancia promedio: 4907373.115252653\n",
      "Riesgo de perdida: 0.011\n",
      "Rango de confianza desde 602181.185877391 hasta 9022825.697601425\n",
      "\n",
      "Región 2\n",
      "Ganancia promedio: 3379517.6657345025\n",
      "Riesgo de perdida: 0.123\n",
      "Rango de confianza desde -2154139.9047276992 hasta 8988732.3884589\n",
      "\n"
     ]
    }
   ],
   "source": [
    "num_bootstrap = 1000\n",
    "n = 0\n",
    "for tar, pred in zip(targets, preds):\n",
    "    profits = []\n",
    "    for i in range(num_bootstrap):\n",
    "        #hacer muestro con remplazo por el tamaño de muestra sugerido en el target y con la misma semilla del principio\n",
    "        target_subsample = pd.Series(tar).sample(n=500, replace=True, random_state=rs)\n",
    "        #utilizar el índice de este muestreo para las predicciones\n",
    "        pred_subsample = pred[target_subsample.index]\n",
    "        #calcular el profit con la función de arriba y agregarlo a la lista vacía\n",
    "        profits.append(revenue(target_subsample, pred_subsample, 200))\n",
    "    #transformar la lista de profits en una serie\n",
    "    profits = pd.Series(profits)\n",
    "    #calcular la media\n",
    "    mean = profits.mean()\n",
    "    #obtener intervalos de confianza\n",
    "    trust_down = profits.quantile(0.025)\n",
    "    trust_up = profits.quantile(0.975)\n",
    "    #calcular la media de los datos negativos de la serie\n",
    "    loss = (profits < 0).mean()\n",
    "    \n",
    "    print('Región', n)\n",
    "    print('Ganancia promedio:', mean)\n",
    "    print('Riesgo de perdida:', loss)\n",
    "    print('Rango de confianza desde', trust_down, 'hasta', trust_up)\n",
    "    print()\n",
    "    n += 1"
   ]
  },
  {
   "cell_type": "markdown",
   "metadata": {},
   "source": [
    "<a id=\"conclusiongeneral\"></a>\n",
    "## Conclusión general"
   ]
  },
  {
   "cell_type": "markdown",
   "metadata": {},
   "source": [
    "Al concluir este proyecto, hemos recopilado la información necesaria para seleccionar la mejor región donde instalar los extractores de petróleo y así obtener la mayor ganancia con el menor riesgo posible. La región 1 emerge como la opción más adecuada para este propósito. Podemos respaldar esta decisión con dos argumentos sólidos.\n",
    "\n",
    "En primer lugar, al observar la certeza de las predicciones en la sección 4, notamos que las predicciones para la región 1 fueron casi perfectas según la métrica RECM. Aunque también observamos que el promedio de producto por pozo en la región 1 es el más bajo entre las regiones analizadas, la alta certeza en la cantidad de producto pronosticada nos indica un menor riesgo para futuras operaciones en esta región.\n",
    "\n",
    "En segundo lugar, en la sección 5, observamos que la región 1 promete generar las mayores ganancias. Las ganancias esperadas en esta región son más del doble de las pronosticadas para la región 0, que ocupa el segundo lugar. Además, vale la pena mencionar que la región 2 anticipa grandes pérdidas si se intenta extraer el producto de sus pozos. Considerando los altos promedios de producto que tienen las regiones 0 y 2, es probable que esto se deba a algunos pocos pozos específicos con una cantidad muy alta de producto. Identificar estos pozos podría ser un objetivo para investigaciones futuras.\n",
    "\n",
    "Con la información disponible, la instalación de los nuevos extractores de petróleo en la región 1 parece ser la mejor opción. En esta región, podemos maximizar las ganancias mientras minimizamos los riesgos."
   ]
  }
 ],
 "metadata": {
  "kernelspec": {
   "display_name": "Python 3 (ipykernel)",
   "language": "python",
   "name": "python3"
  },
  "language_info": {
   "codemirror_mode": {
    "name": "ipython",
    "version": 3
   },
   "file_extension": ".py",
   "mimetype": "text/x-python",
   "name": "python",
   "nbconvert_exporter": "python",
   "pygments_lexer": "ipython3",
   "version": "3.9.19"
  },
  "toc": {
   "base_numbering": 1,
   "nav_menu": {},
   "number_sections": true,
   "sideBar": true,
   "skip_h1_title": true,
   "title_cell": "Table of Contents",
   "title_sidebar": "Contents",
   "toc_cell": false,
   "toc_position": {},
   "toc_section_display": true,
   "toc_window_display": false
  }
 },
 "nbformat": 4,
 "nbformat_minor": 2
}
